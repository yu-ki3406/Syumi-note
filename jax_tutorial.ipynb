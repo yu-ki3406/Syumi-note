{
 "cells": [
  {
   "cell_type": "code",
   "execution_count": 1,
   "id": "71463c59-e3ea-4d07-8f37-ada0822260f1",
   "metadata": {},
   "outputs": [],
   "source": [
    "import jax.numpy as jnp\n",
    "f = lambda x: jnp.abs(x) + jnp.sin(x)\n"
   ]
  },
  {
   "cell_type": "code",
   "execution_count": 2,
   "id": "543a6599-6cb3-4ab2-8082-c03b1698655f",
   "metadata": {},
   "outputs": [],
   "source": [
    "from jax import grad"
   ]
  },
  {
   "cell_type": "code",
   "execution_count": 3,
   "id": "6d6be60c-28c5-4a0c-b87f-721c94e52140",
   "metadata": {},
   "outputs": [],
   "source": [
    "df = grad(f)"
   ]
  },
  {
   "cell_type": "code",
   "execution_count": 4,
   "id": "862a90dd-69e0-4903-b5ff-8f53fbbd3363",
   "metadata": {},
   "outputs": [
    {
     "name": "stderr",
     "output_type": "stream",
     "text": [
      "2023-02-04 07:39:43.802730: W external/org_tensorflow/tensorflow/compiler/xla/service/platform_util.cc:200] unable to create StreamExecutor for CUDA:0: failed initializing StreamExecutor for CUDA device ordinal 0: INTERNAL: failed call to cuDevicePrimaryCtxRetain: CUDA_ERROR_OUT_OF_MEMORY: out of memory; total memory reported: 15634661376\n",
      "WARNING:absl:No GPU/TPU found, falling back to CPU. (Set TF_CPP_MIN_LOG_LEVEL=0 and rerun for more info.)\n"
     ]
    },
    {
     "data": {
      "text/plain": [
       "DeviceArray(1.5403023, dtype=float32, weak_type=True)"
      ]
     },
     "execution_count": 4,
     "metadata": {},
     "output_type": "execute_result"
    }
   ],
   "source": [
    "df(1.)"
   ]
  },
  {
   "cell_type": "code",
   "execution_count": 7,
   "id": "98fd8796-4656-4444-ad37-e4779e336aff",
   "metadata": {},
   "outputs": [],
   "source": [
    "#この引数をスカラーから行列にしたい"
   ]
  },
  {
   "cell_type": "code",
   "execution_count": 10,
   "id": "d90d8c69-3589-4b5f-962d-0c5859240f2a",
   "metadata": {},
   "outputs": [],
   "source": [
    "xv = jnp.linspace(-10,10,100)"
   ]
  },
  {
   "cell_type": "code",
   "execution_count": 11,
   "id": "687ea005-5a19-44e1-838c-7c7906982b0e",
   "metadata": {},
   "outputs": [],
   "source": [
    "from jax import vmap"
   ]
  },
  {
   "cell_type": "code",
   "execution_count": 12,
   "id": "d19c9760-e77f-4bd4-886d-ab720c75a848",
   "metadata": {},
   "outputs": [],
   "source": [
    "dfv = vmap(grad(f))\n"
   ]
  },
  {
   "cell_type": "code",
   "execution_count": 13,
   "id": "d6ecddc4-6dde-48ec-bad7-e873a8934466",
   "metadata": {},
   "outputs": [
    {
     "data": {
      "text/plain": [
       "DeviceArray([-1.83907151e+00, -1.93116498e+00, -1.98538423e+00,\n",
       "             -1.99952459e+00, -1.97301078e+00, -1.90692091e+00,\n",
       "             -1.80394387e+00, -1.66826701e+00, -1.50540996e+00,\n",
       "             -1.32199538e+00, -1.12548494e+00, -9.23869789e-01,\n",
       "             -7.25351453e-01, -5.38004160e-01, -3.69447410e-01,\n",
       "             -2.26538241e-01, -1.15088105e-01, -3.96304727e-02,\n",
       "             -3.23444605e-03, -7.38042593e-03, -5.18995523e-02,\n",
       "             -1.34981871e-01, -2.53246844e-01, -4.01885211e-01,\n",
       "             -5.74851394e-01, -7.65109062e-01, -9.64921534e-01,\n",
       "             -1.16615975e+00, -1.36064065e+00, -1.54045248e+00,\n",
       "             -1.69828224e+00, -1.82771051e+00, -1.92347252e+00,\n",
       "             -1.98167408e+00, -1.99994719e+00, -1.97754896e+00,\n",
       "             -1.91539025e+00, -1.81599975e+00, -1.68341899e+00,\n",
       "             -1.52304196e+00, -1.34139049e+00, -1.14585316e+00,\n",
       "             -9.44383979e-01, -7.45176435e-01, -5.56334496e-01,\n",
       "             -3.85536492e-01, -2.39732206e-01, -1.24849975e-01,\n",
       "             -4.55633402e-02, -5.09721041e-03,  1.99490285e+00,\n",
       "              1.95443666e+00,  1.87514997e+00,  1.76026809e+00,\n",
       "              1.61446309e+00,  1.44366598e+00,  1.25482357e+00,\n",
       "              1.05561650e+00,  8.54146779e-01,  6.58609986e-01,\n",
       "              4.76958215e-01,  3.16581011e-01,  1.84000611e-01,\n",
       "              8.46098661e-02,  2.24511027e-02,  5.28097153e-05,\n",
       "              1.83260441e-02,  7.65271783e-02,  1.72289371e-01,\n",
       "              3.01717758e-01,  4.59547102e-01,  6.39359355e-01,\n",
       "              8.33839774e-01,  1.03507853e+00,  1.23488998e+00,\n",
       "              1.42514861e+00,  1.59811449e+00,  1.74675274e+00,\n",
       "              1.86501813e+00,  1.94810009e+00,  1.99261951e+00,\n",
       "              1.99676561e+00,  1.96036959e+00,  1.88491166e+00,\n",
       "              1.77346182e+00,  1.63055253e+00,  1.46199584e+00,\n",
       "              1.27464807e+00,  1.07613075e+00,  8.74515474e-01,\n",
       "              6.78004622e-01,  4.94590044e-01,  3.31733763e-01,\n",
       "              1.96056724e-01,  9.30790901e-02,  2.69892812e-02,\n",
       "              4.75466251e-04,  1.46156549e-02,  6.88350797e-02,\n",
       "              1.60928488e-01], dtype=float32)"
      ]
     },
     "execution_count": 13,
     "metadata": {},
     "output_type": "execute_result"
    }
   ],
   "source": [
    "dfv(xv)"
   ]
  },
  {
   "cell_type": "code",
   "execution_count": 14,
   "id": "1788a508-1d85-419b-9e7e-d13c791f1679",
   "metadata": {},
   "outputs": [],
   "source": [
    "import matplotlib.pyplot as plt"
   ]
  },
  {
   "cell_type": "code",
   "execution_count": 16,
   "id": "8c318449-4808-476f-85e1-3bb6e10a1a3b",
   "metadata": {},
   "outputs": [
    {
     "data": {
      "text/plain": [
       "<matplotlib.legend.Legend at 0x7f47f09af7d0>"
      ]
     },
     "execution_count": 16,
     "metadata": {},
     "output_type": "execute_result"
    },
    {
     "data": {
      "image/png": "[encoded data removed]",
      "text/plain": [
       "<Figure size 432x288 with 1 Axes>"
      ]
     },
     "metadata": {
      "needs_background": "light"
     },
     "output_type": "display_data"
    }
   ],
   "source": [
    "plt.plot(xv,f(xv),label='f(x)')\n",
    "plt.plot(xv,dfv(xv),label=\"f_dash(x)\")\n",
    "plt.xlabel('x')\n",
    "plt.legend()"
   ]
  },
  {
   "cell_type": "code",
   "execution_count": 18,
   "id": "9b4100af-a362-4078-a2c4-d8d684055333",
   "metadata": {},
   "outputs": [
    {
     "data": {
      "text/plain": [
       "DeviceArray(0.40824828, dtype=float32, weak_type=True)"
      ]
     },
     "execution_count": 18,
     "metadata": {},
     "output_type": "execute_result"
    }
   ],
   "source": [
    "g = lambda x,y,z: jnp.sqrt(x**2+2*y**2+3*z**2)\n",
    "dgdx = grad(g,argnums=0)\n",
    "dgdx(1.,1.,1.)"
   ]
  },
  {
   "cell_type": "code",
   "execution_count": 19,
   "id": "c2c0bd9d-1475-4f05-93e6-cf57af285fa3",
   "metadata": {},
   "outputs": [],
   "source": [
    "dgdr = grad(g,argnums=(0,1,2))"
   ]
  },
  {
   "cell_type": "code",
   "execution_count": 20,
   "id": "a85955ae-9243-4890-8b8f-69655d6642ba",
   "metadata": {},
   "outputs": [
    {
     "data": {
      "text/plain": [
       "(DeviceArray(0.40824828, dtype=float32, weak_type=True),\n",
       " DeviceArray(0.81649655, dtype=float32, weak_type=True),\n",
       " DeviceArray(1.2247448, dtype=float32, weak_type=True))"
      ]
     },
     "execution_count": 20,
     "metadata": {},
     "output_type": "execute_result"
    }
   ],
   "source": [
    "dgdr(1.,1.,1.)"
   ]
  },
  {
   "cell_type": "code",
   "execution_count": 21,
   "id": "ead1c89e-4d00-45b5-bfe4-14c177cebdfd",
   "metadata": {},
   "outputs": [],
   "source": [
    "xv = jnp.linspace(-10,10,100)"
   ]
  },
  {
   "cell_type": "code",
   "execution_count": 24,
   "id": "eda3171a-46d3-476d-a07f-566f0aa29e21",
   "metadata": {},
   "outputs": [],
   "source": [
    "dgdrv = vmap(grad(g,argnums=(0,1,2)),(0,None,None),0)"
   ]
  },
  {
   "cell_type": "code",
   "execution_count": 25,
   "id": "07ca3d71-13da-43ca-b67b-8ada4248087b",
   "metadata": {},
   "outputs": [
    {
     "data": {
      "text/plain": [
       "(DeviceArray([-0.97590005, -0.9749335 , -0.9739083 , -0.97281986,\n",
       "              -0.9716629 , -0.97043157, -0.9691194 , -0.9677196 ,\n",
       "              -0.966224  , -0.96462417, -0.96291   , -0.9610708 ,\n",
       "              -0.95909417, -0.95696664, -0.9546729 , -0.9521952 ,\n",
       "              -0.94951445, -0.9466081 , -0.9434511 , -0.9400147 ,\n",
       "              -0.9362662 , -0.9321681 , -0.9276773 , -0.92274445,\n",
       "              -0.91731215, -0.9113145 , -0.90467465, -0.89730316,\n",
       "              -0.88909614, -0.8799316 , -0.86966735, -0.8581362 ,\n",
       "              -0.845142  , -0.8304548 , -0.8138053 , -0.7948786 ,\n",
       "              -0.77330893, -0.7486742 , -0.72049356, -0.6882287 ,\n",
       "              -0.65129256, -0.60906863, -0.5609486 , -0.50638884,\n",
       "              -0.44499433, -0.37662163, -0.3014975 , -0.22031564,\n",
       "              -0.13429159, -0.04512728,  0.04512701,  0.13429159,\n",
       "               0.22031564,  0.3014973 ,  0.37662187,  0.44499415,\n",
       "               0.50638884,  0.5609485 ,  0.60906863,  0.65129244,\n",
       "               0.6882287 ,  0.72049356,  0.7486741 ,  0.7733089 ,\n",
       "               0.7948786 ,  0.8138053 ,  0.8304548 ,  0.8451419 ,\n",
       "               0.8581361 ,  0.86966735,  0.8799316 ,  0.88909614,\n",
       "               0.89730316,  0.90467465,  0.9113145 ,  0.91731215,\n",
       "               0.92274445,  0.9276773 ,  0.9321681 ,  0.9362662 ,\n",
       "               0.94001466,  0.94345105,  0.9466081 ,  0.94951445,\n",
       "               0.9521952 ,  0.9546729 ,  0.95696664,  0.9590942 ,\n",
       "               0.9610707 ,  0.96290994,  0.96462417,  0.966224  ,\n",
       "               0.9677196 ,  0.9691195 ,  0.97043157,  0.9716629 ,\n",
       "               0.97281986,  0.9739083 ,  0.9749335 ,  0.97590005],            dtype=float32),\n",
       " DeviceArray([0.19518001, 0.19900705, 0.20298299, 0.20711647, 0.21141675,\n",
       "              0.21589378, 0.22055821, 0.22542176, 0.23049681, 0.23579702,\n",
       "              0.24133693, 0.2471325 , 0.25320086, 0.25956082, 0.26623273,\n",
       "              0.27323863, 0.28060278, 0.2883514 , 0.2965132 , 0.3051195 ,\n",
       "              0.31420454, 0.32380578, 0.3339638 , 0.34472337, 0.35613295,\n",
       "              0.36824542, 0.38111827, 0.39481336, 0.40939775, 0.42494258,\n",
       "              0.44152343, 0.45921883, 0.47810885, 0.49827293, 0.5197853 ,\n",
       "              0.5427102 , 0.5670932 , 0.59294987, 0.620251  , 0.6489013 ,\n",
       "              0.6787153 , 0.7093859 , 0.7404521 , 0.7712693 , 0.8009894 ,\n",
       "              0.828568  , 0.85280675, 0.8724499 , 0.8863253 , 0.893516  ,\n",
       "              0.893516  , 0.8863253 , 0.8724499 , 0.8528068 , 0.8285679 ,\n",
       "              0.80098945, 0.7712693 , 0.7404522 , 0.7093859 , 0.67871535,\n",
       "              0.64890134, 0.620251  , 0.5929499 , 0.56709325, 0.54271024,\n",
       "              0.5197853 , 0.49827287, 0.47810888, 0.45921883, 0.44152343,\n",
       "              0.42494264, 0.40939775, 0.3948134 , 0.38111827, 0.36824548,\n",
       "              0.35613295, 0.3447234 , 0.33396384, 0.32380578, 0.3142046 ,\n",
       "              0.30511954, 0.2965132 , 0.2883514 , 0.28060275, 0.27323863,\n",
       "              0.26623273, 0.25956082, 0.25320086, 0.2471325 , 0.24133693,\n",
       "              0.23579702, 0.23049681, 0.22542177, 0.22055824, 0.21589378,\n",
       "              0.21141675, 0.20711647, 0.202983  , 0.19900705, 0.19518001],            dtype=float32, weak_type=True),\n",
       " DeviceArray([0.29277003, 0.29851058, 0.30447447, 0.3106747 , 0.31712514,\n",
       "              0.32384068, 0.3308373 , 0.33813262, 0.3457452 , 0.3536955 ,\n",
       "              0.36200538, 0.37069875, 0.37980127, 0.38934124, 0.3993491 ,\n",
       "              0.40985793, 0.42090416, 0.43252707, 0.4447698 , 0.45767927,\n",
       "              0.4713068 , 0.48570865, 0.5009457 , 0.5170851 , 0.5341994 ,\n",
       "              0.55236816, 0.5716774 , 0.59222007, 0.61409664, 0.63741386,\n",
       "              0.66228515, 0.68882823, 0.71716326, 0.7474094 , 0.7796779 ,\n",
       "              0.8140653 , 0.8506398 , 0.8894248 , 0.9303765 , 0.97335196,\n",
       "              1.018073  , 1.0640788 , 1.1106782 , 1.156904  , 1.2014841 ,\n",
       "              1.242852  , 1.2792101 , 1.3086748 , 1.3294879 , 1.340274  ,\n",
       "              1.340274  , 1.3294879 , 1.3086748 , 1.2792102 , 1.2428519 ,\n",
       "              1.2014842 , 1.156904  , 1.1106782 , 1.0640788 , 1.0180731 ,\n",
       "              0.973352  , 0.9303765 , 0.8894249 , 0.8506399 , 0.81406534,\n",
       "              0.7796779 , 0.7474093 , 0.7171633 , 0.68882823, 0.66228515,\n",
       "              0.637414  , 0.61409664, 0.59222007, 0.5716774 , 0.5523682 ,\n",
       "              0.5341994 , 0.5170851 , 0.50094575, 0.48570865, 0.47130692,\n",
       "              0.45767933, 0.4447698 , 0.43252707, 0.42090413, 0.40985793,\n",
       "              0.3993491 , 0.38934124, 0.37980127, 0.37069875, 0.36200538,\n",
       "              0.3536955 , 0.3457452 , 0.33813265, 0.33083737, 0.32384068,\n",
       "              0.31712514, 0.3106747 , 0.3044745 , 0.29851058, 0.29277003],            dtype=float32, weak_type=True))"
      ]
     },
     "execution_count": 25,
     "metadata": {},
     "output_type": "execute_result"
    }
   ],
   "source": [
    "dgdrv(xv,1.,1.)"
   ]
  },
  {
   "cell_type": "code",
   "execution_count": 32,
   "id": "be5ca605-4d88-44c6-99c7-1ad9e5d2c2fa",
   "metadata": {},
   "outputs": [],
   "source": [
    "f = lambda x,y: jnp.dot(x **2 ,y)"
   ]
  },
  {
   "cell_type": "code",
   "execution_count": 33,
   "id": "dfe8d131-89be-4c64-8700-d33678645dfd",
   "metadata": {},
   "outputs": [],
   "source": [
    "x = jnp.linspace(0,1,11)\n",
    "y = jnp.linspace(1,2,11)"
   ]
  },
  {
   "cell_type": "code",
   "execution_count": 34,
   "id": "255280d8-727d-4625-ac50-2b7d3367a639",
   "metadata": {},
   "outputs": [
    {
     "data": {
      "text/plain": [
       "DeviceArray(6.875, dtype=float32)"
      ]
     },
     "execution_count": 34,
     "metadata": {},
     "output_type": "execute_result"
    }
   ],
   "source": [
    "f(x,y)"
   ]
  },
  {
   "cell_type": "code",
   "execution_count": 35,
   "id": "43ee069d-3fee-4a74-9c52-89349694246e",
   "metadata": {},
   "outputs": [],
   "source": [
    "X = jnp.linspace(0,1,55).reshape(5,11)"
   ]
  },
  {
   "cell_type": "code",
   "execution_count": 42,
   "id": "ac898403-203a-4de4-9e50-0c656519561b",
   "metadata": {},
   "outputs": [
    {
     "data": {
      "text/plain": [
       "DeviceArray([[0.        , 0.04074074, 0.08888889, 0.14444444, 0.20740743,\n",
       "              0.2777778 , 0.35555556, 0.44074073, 0.5333333 , 0.6333334 ,\n",
       "              0.7407408 ],\n",
       "             [0.4074074 , 0.4888889 , 0.5777778 , 0.67407405, 0.77777785,\n",
       "              0.8888889 , 1.0074074 , 1.1333334 , 1.2666667 , 1.4074075 ,\n",
       "              1.5555556 ],\n",
       "             [0.8148148 , 0.9370371 , 1.0666667 , 1.2037036 , 1.3481482 ,\n",
       "              1.5       , 1.6592592 , 1.825926  , 2.        , 2.1814816 ,\n",
       "              2.3703704 ],\n",
       "             [1.2222222 , 1.3851851 , 1.5555557 , 1.7333333 , 1.9185187 ,\n",
       "              2.1111112 , 2.3111112 , 2.5185187 , 2.7333333 , 2.9555557 ,\n",
       "              3.1851852 ],\n",
       "             [1.6296296 , 1.8333334 , 2.0444446 , 2.2629628 , 2.488889  ,\n",
       "              2.7222223 , 2.9629629 , 3.2111113 , 3.4666667 , 3.7296298 ,\n",
       "              4.        ]], dtype=float32)"
      ]
     },
     "execution_count": 42,
     "metadata": {},
     "output_type": "execute_result"
    }
   ],
   "source": [
    "vmap(grad(f,argnums=0),(0,None))(X,y)"
   ]
  },
  {
   "cell_type": "code",
   "execution_count": 41,
   "id": "ecf7a870-a515-46de-96b0-f44c183a1368",
   "metadata": {},
   "outputs": [
    {
     "data": {
      "text/plain": [
       "DeviceArray([[0.        , 0.04074074, 0.08888889, 0.14444444, 0.20740743,\n",
       "              0.2777778 , 0.35555556, 0.44074073, 0.5333333 , 0.6333334 ,\n",
       "              0.7407408 ],\n",
       "             [0.4074074 , 0.4888889 , 0.5777778 , 0.67407405, 0.77777785,\n",
       "              0.8888889 , 1.0074074 , 1.1333334 , 1.2666667 , 1.4074075 ,\n",
       "              1.5555556 ],\n",
       "             [0.8148148 , 0.9370371 , 1.0666667 , 1.2037036 , 1.3481482 ,\n",
       "              1.5       , 1.6592592 , 1.825926  , 2.        , 2.1814816 ,\n",
       "              2.3703704 ],\n",
       "             [1.2222222 , 1.3851851 , 1.5555557 , 1.7333333 , 1.9185187 ,\n",
       "              2.1111112 , 2.3111112 , 2.5185187 , 2.7333333 , 2.9555557 ,\n",
       "              3.1851852 ],\n",
       "             [1.6296296 , 1.8333334 , 2.0444446 , 2.2629628 , 2.488889  ,\n",
       "              2.7222223 , 2.9629629 , 3.2111113 , 3.4666667 , 3.7296298 ,\n",
       "              4.        ]], dtype=float32)"
      ]
     },
     "execution_count": 41,
     "metadata": {},
     "output_type": "execute_result"
    }
   ],
   "source": [
    "vmap(grad(f,argnums=0),(0,None),0)(X,y)"
   ]
  },
  {
   "cell_type": "code",
   "execution_count": 43,
   "id": "d5e62f58-eef7-43b3-968a-efc8b9e0e1f2",
   "metadata": {},
   "outputs": [],
   "source": [
    "u = lambda x: jnp.log(1.0 + x)"
   ]
  },
  {
   "cell_type": "code",
   "execution_count": 44,
   "id": "604806c4-ef3b-4502-a462-717d23810c45",
   "metadata": {},
   "outputs": [],
   "source": [
    "def ARA(xarr):\n",
    "    den = vmap(grad(grad(u)))\n",
    "    bun = vmap(grad(u))\n",
    "    return -den(xarr)/bun(xarr)"
   ]
  },
  {
   "cell_type": "code",
   "execution_count": 45,
   "id": "96611fd7-a45a-419c-a682-ee7ae7413878",
   "metadata": {},
   "outputs": [],
   "source": [
    "def RRA(xarr):\n",
    "    den = vmap(grad(grad(u)))\n",
    "    bun = vmap(grad(u))\n",
    "    return -den(xarr) / bun(xarr) * xarr"
   ]
  },
  {
   "cell_type": "code",
   "execution_count": 46,
   "id": "ad923e56-6cfb-455d-891d-414b0fc72cb2",
   "metadata": {},
   "outputs": [],
   "source": [
    "x = jnp.linspace(0,3,100)"
   ]
  },
  {
   "cell_type": "code",
   "execution_count": 47,
   "id": "c96b617b-fba2-4510-825a-471f8d376333",
   "metadata": {},
   "outputs": [
    {
     "data": {
      "text/plain": [
       "(0.0, 3.0)"
      ]
     },
     "execution_count": 47,
     "metadata": {},
     "output_type": "execute_result"
    },
    {
     "data": {
      "image/png": "[encoded data removed]",
      "text/plain": [
       "<Figure size 432x288 with 1 Axes>"
      ]
     },
     "metadata": {
      "needs_background": "light"
     },
     "output_type": "display_data"
    }
   ],
   "source": [
    "plt.plot(x,u(x),label='f(x)')\n",
    "plt.plot(x,ARA(x),label='ARA')\n",
    "plt.plot(x,RRA(x),label='RRA')\n",
    "plt.legend()\n",
    "plt.xlabel('x')\n",
    "plt.xlim(0.,3.)\n",
    "plt.ylim(0,3)"
   ]
  },
  {
   "cell_type": "code",
   "execution_count": 48,
   "id": "3635bf0a-c22d-462e-892e-39e26aefa456",
   "metadata": {},
   "outputs": [],
   "source": [
    "from jax.lax import scan\n",
    "from jax import grad"
   ]
  },
  {
   "cell_type": "code",
   "execution_count": 49,
   "id": "159c5b2f-03ec-41ff-a81a-59b8bd030d8f",
   "metadata": {},
   "outputs": [],
   "source": [
    "def f(x,null):\n",
    "    x = 1.0/(1.0 + x)\n",
    "    return x,null"
   ]
  },
  {
   "cell_type": "code",
   "execution_count": 50,
   "id": "4cbddf98-22c1-4d17-b431-661bb7551530",
   "metadata": {},
   "outputs": [],
   "source": [
    "def g(x0):\n",
    "    x,null = scan(f,x0,None,3)\n",
    "    return x"
   ]
  },
  {
   "cell_type": "code",
   "execution_count": 51,
   "id": "0d7b7a47-70cc-41f6-bbbe-19b731f9cde5",
   "metadata": {},
   "outputs": [],
   "source": [
    "from jax import vmap\n",
    "from jax import jit\n",
    "h = jit(vmap(grad(g)))\n",
    "xarr = jnp.linspace(0,1,100)\n",
    "harr = h(xarr)"
   ]
  },
  {
   "cell_type": "code",
   "execution_count": 52,
   "id": "eb46f224-9cb3-4b41-94b5-4b251405bfa7",
   "metadata": {},
   "outputs": [],
   "source": [
    "def g(y,x):\n",
    "    y = y*x + 1.0/x\n",
    "    return y,None\n"
   ]
  },
  {
   "cell_type": "code",
   "execution_count": 53,
   "id": "23ce47f9-6c06-46e7-9766-d90bca831fa3",
   "metadata": {},
   "outputs": [],
   "source": [
    "@jit\n",
    "def f(xs):\n",
    "    y0 = 1.0\n",
    "    y,null = scan(g,y0,xs)\n",
    "    return y\n"
   ]
  },
  {
   "cell_type": "code",
   "execution_count": 54,
   "id": "05252c35-b941-44df-a4c1-af1b7b110fdc",
   "metadata": {},
   "outputs": [],
   "source": [
    "from functools import partial"
   ]
  },
  {
   "cell_type": "code",
   "execution_count": 55,
   "id": "8aead114-e22b-4512-861f-257308c5d372",
   "metadata": {},
   "outputs": [],
   "source": [
    "class fcjax:\n",
    "    def __init__(self,c,n):\n",
    "        self.c = c\n",
    "        self.n = n\n",
    "        \n",
    "    def f(self,x,null):\n",
    "        x = self.c/(self.c + x)\n",
    "        return x,null\n",
    "    \n",
    "    @partial(jit,static_argnums=(0,))\n",
    "    def g(self,x0):\n",
    "        x,null = scan(f,x0,None,self.n)\n",
    "        return x\n",
    "    \n",
    "    @partial(jit,static_argnums=(0,))\n",
    "    def h(self,x0):\n",
    "        hh = vmap(grad(self.g))\n",
    "        return hh(x0)\n",
    "    \n",
    "    \n",
    "    "
   ]
  },
  {
   "cell_type": "code",
   "execution_count": null,
   "id": "1e9841f2-9dde-4b36-a493-ca64795f042d",
   "metadata": {},
   "outputs": [],
   "source": []
  }
 ],
 "metadata": {
  "environment": {
   "kernel": "python3",
   "name": "jax-gpu.0-3-14.m96",
   "type": "gcloud",
   "uri": "gcr.io/deeplearning-platform-release/jax-gpu.0-3-14:m96"
  },
  "kernelspec": {
   "display_name": "Python 3",
   "language": "python",
   "name": "python3"
  },
  "language_info": {
   "codemirror_mode": {
    "name": "ipython",
    "version": 3
   },
   "file_extension": ".py",
   "mimetype": "text/x-python",
   "name": "python",
   "nbconvert_exporter": "python",
   "pygments_lexer": "ipython3",
   "version": "3.7.12"
  }
 },
 "nbformat": 4,
 "nbformat_minor": 5
}
