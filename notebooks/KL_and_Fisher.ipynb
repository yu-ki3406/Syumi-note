{
 "cells": [
  {
   "attachments": {},
   "cell_type": "markdown",
   "metadata": {},
   "source": [
    "# KLダイバージェンスの近似\n",
    "\n",
    "---"
   ]
  },
  {
   "attachments": {},
   "cell_type": "markdown",
   "metadata": {},
   "source": [
    "今回はKLダイバージェンスをテイラー展開して，フィッシャー情報量行列で近似するということをやっていきます．\n",
    "\n",
    "これはどんな時に使われるのかというと，代表例としては[TRPO(Trust Region Policy Optimization)](https://arxiv.org/abs/1502.05477)ですね．\n",
    "\n",
    "TRPOでは制約付き最適化をするのですが，その時の制約としては以下のようなものです．\n",
    "\n",
    "$$\n",
    "D_{K L}\\left(\\pi_{\\theta_{old}} \\| \\pi_\\theta\\right) \\leq \\delta\n",
    "$$"
   ]
  },
  {
   "attachments": {},
   "cell_type": "markdown",
   "metadata": {},
   "source": [
    "$\\theta$は更新する目的変数で，$\\theta_{old}$は更新する前の目的変数の値で，$\\sigma$は閾値です．\n",
    "\n",
    "従来の最適化では，目的変数を$L(\\theta)$とするし，制約条件の式を$C(\\theta)$とすると，ラグランジュの未定乗数法で次のようにすればいいことを考えます．\n",
    "\n",
    "$$\n",
    "L(\\theta) - \\lambda C(\\theta)\n",
    "$$\n",
    "\n",
    "上の式を微分して解くのが一般的ですが，今回はパラメータ同士が独立ではないため，解くのがとても難しくなります．\n",
    "\n",
    "そこでKLダイバージェンスをテイラー展開し，近似することでラグランジュ未定乗数法を使えるようにするのが目的です．"
   ]
  },
  {
   "attachments": {},
   "cell_type": "markdown",
   "metadata": {},
   "source": [
    "---\n",
    "\n",
    "早速，KLダイバージェンスをテイラー展開してみましょう．\n",
    "\n",
    "まずテイラー展開とは次のようなものでしたね．\n",
    "\n",
    "**テイラー展開**\n",
    "\n",
    "関数$f(x)$を$x=a$周りで，展開する時のテイラー展開は\n",
    "\n",
    "$$\n",
    "f(x)=f(a)+f^{\\prime}(a)(x-a)+\\frac{f^{\\prime \\prime}(a)}{2 !}(x-a)^2+\\frac{f^{\\prime \\prime \\prime}(a)}{3 !}(x-a)^3+\\cdots\n",
    "$$\n",
    "\n"
   ]
  },
  {
   "attachments": {},
   "cell_type": "markdown",
   "metadata": {},
   "source": [
    "これに沿って，KLダイバージェンスのテイラー展開をしてみましょう．\n",
    "\n",
    "フィッシャ情報量行列を$H$とします．\n",
    "\n",
    "$$\n",
    "D_{K L}\\left(\\pi_{\\theta_{old}} \\| \\pi_\\theta\\right) \\simeq D_{K L}\\left(\\pi_{\\theta_{old}} \\| \\pi_{\\theta_{old}}\\right)+\\left.\\nabla_\\theta D_{K L}\\left(\\pi_{\\theta_{old}} \\| \\pi_\\theta\\right)\\right|_{\\theta_{old}} ^{\\top}\\left(\\theta-\\theta_{old}\\right)+\\frac{1}{2}\\left(\\theta-\\theta_{old}\\right)^{\\top} H\\left(\\theta-\\theta_{old}\\right)\n",
    "$$"
   ]
  },
  {
   "attachments": {},
   "cell_type": "markdown",
   "metadata": {},
   "source": [
    "右辺の1項目は0になることは分かりますね．\n",
    "\n",
    "そして，2項目も0になります．\n",
    "\n",
    "確認してみましょう．\n",
    "\n",
    "---\n",
    "\n",
    "**右辺の2項目が0になる理由**"
   ]
  },
  {
   "attachments": {},
   "cell_type": "markdown",
   "metadata": {},
   "source": []
  },
  {
   "cell_type": "code",
   "execution_count": 1,
   "metadata": {},
   "outputs": [
    {
     "name": "stdout",
     "output_type": "stream",
     "text": [
      "フィッシャー情報量行列は[[7.5     0.     ]\n",
      " [0.      1.09375]]\n",
      "KL divergence:  0.04063719565666954\n",
      "KL divergenceをフィッシャ情報行列で近似した値は0.042968749999999986\n",
      "それらの差は-0.002331554343330447\n"
     ]
    }
   ],
   "source": [
    "import numpy as np\n",
    "\n",
    "def KL_divergence(p, q):\n",
    "    p = np.asarray(p)\n",
    "    q = np.asarray(q)\n",
    "    return np.sum(np.where(p != 0, p * np.log2(p / q), 0))\n",
    "\n",
    "p = np.array([0.3,0.7])\n",
    "q = np.array([0.2, 0.8])\n",
    "\n",
    "\n",
    "def fisher_information(p, q):\n",
    "    n = len(p)\n",
    "    fisher_matrix = np.zeros((n, n))\n",
    "    \n",
    "    for i in range(n):\n",
    "        for j in range(n):\n",
    "            if i == j:\n",
    "                fisher_matrix[i, j] = p[i] / q[i]**2\n",
    "            else:\n",
    "                fisher_matrix[i, j] = 0\n",
    "    \n",
    "    return fisher_matrix\n",
    "\n",
    "\n",
    "\n",
    "\n",
    "\n",
    "\n",
    "print(f'フィッシャー情報量行列は{fisher_information(p, q)}')\n",
    "print(\"KL divergence: \", KL_divergence(p, q))\n",
    "print(f'KL divergenceをフィッシャ情報行列で近似した値は{1/2 * ((p-q) @ fisher_information(p, q).T @ (p-q))}')\n",
    "print(f'それらの差は{KL_divergence(p, q) - 1/2 * ((p-q) @ fisher_information(p, q).T @ (p-q))}')"
   ]
  },
  {
   "attachments": {},
   "cell_type": "markdown",
   "metadata": {},
   "source": [
    "うまく近似できてそうですね．\n"
   ]
  },
  {
   "attachments": {},
   "cell_type": "markdown",
   "metadata": {},
   "source": []
  }
 ],
 "metadata": {
  "kernelspec": {
   "display_name": "syumi-note",
   "language": "python",
   "name": "python3"
  },
  "language_info": {
   "codemirror_mode": {
    "name": "ipython",
    "version": 3
   },
   "file_extension": ".py",
   "mimetype": "text/x-python",
   "name": "python",
   "nbconvert_exporter": "python",
   "pygments_lexer": "ipython3",
   "version": "3.9.0"
  },
  "orig_nbformat": 4,
  "vscode": {
   "interpreter": {
    "hash": "bf02f90440595f5968a48e039387c923c9e6f6584bb1d7920e7063fafb8317aa"
   }
  }
 },
 "nbformat": 4,
 "nbformat_minor": 2
}
