{
 "cells": [
  {
   "attachments": {},
   "cell_type": "markdown",
   "metadata": {},
   "source": [
    "$$ D_{KL}(p||q) ≈ D_{KL}(\\hat{p}||\\hat{q}) + \\frac{1}{2}(p - \\hat{p})^T I(\\hat{p}) (p - \\hat{p}) $$\n"
   ]
  },
  {
   "cell_type": "code",
   "execution_count": 28,
   "metadata": {},
   "outputs": [
    {
     "name": "stdout",
     "output_type": "stream",
     "text": [
      "KL divergence:  0.02816755759528336\n",
      "Fisher Information Matrix: \n",
      " [[ 6.  0.]\n",
      " [ 0. 56.]]\n"
     ]
    }
   ],
   "source": [
    "import numpy as np\n",
    "from scipy.stats import entropy\n",
    "\n",
    "import numpy as np\n",
    "\n",
    "def KL_divergence(p, q):\n",
    "    p = np.asarray(p)\n",
    "    q = np.asarray(q)\n",
    "    return np.sum(np.where(p != 0, p * np.log(p / q), 0))\n",
    "\n",
    "p = np.array([0.3,0.7])\n",
    "q = np.array([0.2, 0.8])\n",
    "\n",
    "print(\"KL divergence: \", KL_divergence(p, q))\n",
    "\n",
    "\n",
    "\n",
    "def fisher_information_matrix(p, q):\n",
    "    return np.matrix(np.diag(np.array([p[i] * q[i] / (p[i] - q[i]) ** 2 for i in range(len(p))])))\n",
    "\n",
    "\n",
    "\n",
    "print(\"Fisher Information Matrix: \\n\", fisher_information_matrix(p, q))\n"
   ]
  },
  {
   "cell_type": "code",
   "execution_count": 29,
   "metadata": {},
   "outputs": [
    {
     "data": {
      "text/plain": [
       "matrix([[-0.31]])"
      ]
     },
     "execution_count": 29,
     "metadata": {},
     "output_type": "execute_result"
    }
   ],
   "source": [
    "-1/2 * ((p-q) @ fisher_information_matrix(p, q).T @ (p-q))"
   ]
  },
  {
   "cell_type": "code",
   "execution_count": null,
   "metadata": {},
   "outputs": [],
   "source": []
  }
 ],
 "metadata": {
  "kernelspec": {
   "display_name": "syumi-note",
   "language": "python",
   "name": "python3"
  },
  "language_info": {
   "codemirror_mode": {
    "name": "ipython",
    "version": 3
   },
   "file_extension": ".py",
   "mimetype": "text/x-python",
   "name": "python",
   "nbconvert_exporter": "python",
   "pygments_lexer": "ipython3",
   "version": "3.9.0 (default, Nov 15 2020, 06:25:35) \n[Clang 10.0.0 ]"
  },
  "orig_nbformat": 4,
  "vscode": {
   "interpreter": {
    "hash": "bf02f90440595f5968a48e039387c923c9e6f6584bb1d7920e7063fafb8317aa"
   }
  }
 },
 "nbformat": 4,
 "nbformat_minor": 2
}
