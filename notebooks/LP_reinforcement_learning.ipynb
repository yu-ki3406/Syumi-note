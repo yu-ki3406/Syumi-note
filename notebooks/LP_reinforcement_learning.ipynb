{
 "cells": [
  {
   "attachments": {},
   "cell_type": "markdown",
   "metadata": {},
   "source": [
    "# 強化学習の線形計画法"
   ]
  },
  {
   "attachments": {},
   "cell_type": "markdown",
   "metadata": {},
   "source": [
    "---"
   ]
  },
  {
   "attachments": {},
   "cell_type": "markdown",
   "metadata": {},
   "source": [
    "まず，線形計画法の主問題を考えるため，重要な命題を示します．\n",
    "\n",
    "**命題1**\n",
    "\n",
    "ある有界な関数 $v:S \\rightarrow \\mathbb{R}$ 次の定理を満たすとき，$v$ は最適価値関数 $V^*$ の上界となる．\n",
    "$$\n",
    "v(s) \\geq\\left(B_* v\\right)(s), \\quad \\forall s \\in \\mathcal{S}\n",
    "$$\n",
    "\n",
    "この命題から分かることは，$\\mathbb{V}$を価値関数の集合とすると，上の最小となる $v(s)$ を求めることができれば\n",
    "\n",
    "$$\n",
    "\\min_{v \\in \\mathbb{V}} v(s) \\approx \\left(B_* v\\right)(s), \\quad \\forall s \\in \\mathcal{S}\n",
    "$$\n",
    "\n",
    "のように成り立ち，解けそうですね．\n",
    "\n",
    "---\n",
    "\n",
    "早速，このことを考えて主問題を定義していきます．\n",
    "\n",
    "$$\n",
    "\\begin{cases}\\text { Minimize } & \\sum_{s \\in \\mathcal{S}} w(s) v(s) \\\\ \\text { subject to } & v(s) \\geq g(s, a)+\\gamma \\sum_{s^{\\prime} \\in \\mathcal{S}} p_{\\mathrm{T}}\\left(s^{\\prime} \\mid s, a\\right) v\\left(s^{\\prime}\\right), \\forall(s, a) \\in \\mathcal{S} \\times \\mathcal{A}\\end{cases}\n",
    "$$\n",
    "\n",
    "制約条件はベルマン作用素を $v$ に適応した時を考えています．\n"
   ]
  },
  {
   "attachments": {},
   "cell_type": "markdown",
   "metadata": {},
   "source": [
    "---"
   ]
  },
  {
   "attachments": {},
   "cell_type": "markdown",
   "metadata": {},
   "source": [
    "下に動的計画法と線形計画法と比べ，線形計画法が本当に正しいかコードで試していきます．"
   ]
  },
  {
   "cell_type": "code",
   "execution_count": 50,
   "metadata": {},
   "outputs": [],
   "source": [
    "import numpy as np\n",
    "from typing import NamedTuple\n",
    "\n",
    "S = 10 # number of states\n",
    "A = 3 # number of actions\n",
    "S_set = np.arange(S) # set of states\n",
    "A_set = np.arange(A) # set of actions \n",
    "gamma = 0.8 #diconnect factor\n",
    "\n",
    "rew = np.random.rand(S,A)\n",
    "\n",
    "P = np.random.rand(S*A,S)\n",
    "P = P/np.sum(P,axis=-1,keepdims=True)\n",
    "P = P.reshape(S,A,S)\n",
    "\n",
    "np.testing.assert_almost_equal(np.sum(P,axis=-1),1) # check if P is a valid probability matrix\n",
    "\n",
    "class MDP(NamedTuple):\n",
    "    S_set: np.ndarray\n",
    "    A_set: np.ndarray\n",
    "    P: np.ndarray\n",
    "    rew: np.ndarray\n",
    "    gamma: float\n",
    "    horizon: int\n",
    "\n",
    "    @property\n",
    "    def S(self):\n",
    "        return len(self.S_set)\n",
    "\n",
    "    @property\n",
    "    def A(self):\n",
    "        return len(self.A_set)\n",
    "\n",
    "\n",
    "horizon = int(1/(1-gamma))\n",
    "mdp = MDP(S_set,A_set,P,rew,gamma,horizon)\n",
    "\n",
    "\n"
   ]
  },
  {
   "cell_type": "code",
   "execution_count": 53,
   "metadata": {},
   "outputs": [
    {
     "name": "stdout",
     "output_type": "stream",
     "text": [
      "[2.5476143 2.7145994 2.505139  2.6437848 2.8991792 2.4747338 2.6252167\n",
      " 2.6725256 2.858446  2.7959125]\n"
     ]
    }
   ],
   "source": [
    "import jax\n",
    "import jax.numpy as jnp\n",
    "\n",
    "\n",
    "# caluculate optimal Q function with DP\n",
    "def _compute_optimal_V(mdp: MDP, S: int, A: int):\n",
    "\n",
    "    def backup(optimal_Q):\n",
    "        max_Q = optimal_Q.max(axis=1)\n",
    "        next_v = mdp.P @ max_Q\n",
    "        return mdp.rew + mdp.gamma * next_v\n",
    "    optimal_Q = jnp.zeros((S, A))\n",
    "    body_fn = lambda i,Q: backup(Q)\n",
    "    Q = jax.lax.fori_loop(0,mdp.horizon + 1000,body_fn,optimal_Q)\n",
    "    return Q.max(axis=-1)\n",
    "\n",
    "compute_optimal_V = lambda mdp: _compute_optimal_V(mdp,mdp.S,mdp.A)\n",
    "optimal_V_by_DP = compute_optimal_V(mdp)\n",
    "print(optimal_V_by_DP)"
   ]
  },
  {
   "attachments": {},
   "cell_type": "markdown",
   "metadata": {},
   "source": [
    "**主問題のコード**"
   ]
  },
  {
   "cell_type": "code",
   "execution_count": 54,
   "metadata": {},
   "outputs": [
    {
     "name": "stdout",
     "output_type": "stream",
     "text": [
      "Welcome to the CBC MILP Solver \n",
      "Version: 2.10.3 \n",
      "Build Date: Dec 15 2019 \n",
      "\n",
      "command line - /Users/ichiharayuuseimare/opt/anaconda3/envs/syumi-note/lib/python3.9/site-packages/pulp/solverdir/cbc/osx/64/cbc /var/folders/rn/8ylp503d60g0xr_qm3ghjknr0000gn/T/8677c9b40d1b4f808d07dbcabcb48d74-pulp.mps timeMode elapsed branch printingOptions all solution /var/folders/rn/8ylp503d60g0xr_qm3ghjknr0000gn/T/8677c9b40d1b4f808d07dbcabcb48d74-pulp.sol (default strategy 1)\n",
      "At line 2 NAME          MODEL\n",
      "At line 3 ROWS\n",
      "At line 35 COLUMNS\n",
      "At line 337 RHS\n",
      "At line 368 BOUNDS\n",
      "At line 379 ENDATA\n",
      "Problem MODEL has 30 rows, 10 columns and 300 elements\n",
      "Coin0008I MODEL read with 0 errors\n",
      "Option for timeMode changed from cpu to elapsed\n",
      "Presolve 30 (0) rows, 10 (0) columns and 300 (0) elements\n",
      "Perturbing problem by 0.001% of 1.0424583 - largest nonzero change 0 ( 0%) - largest zero change 0\n",
      "0  Obj 0 Primal inf 127.92729 (30) Dual inf 0.010424483 (1) w.o. free dual inf (0)\n",
      "16  Obj 1.9248724\n",
      "Optimal - objective value 1.9248724\n",
      "Optimal objective 1.924872392 - 16 iterations time 0.002\n",
      "Option for printingOptions changed from normal to all\n",
      "Total time (CPU seconds):       0.00   (Wallclock seconds):       0.01\n",
      "\n",
      "Optimal\n"
     ]
    }
   ],
   "source": [
    "import pulp\n",
    "w = np.random.rand(S)\n",
    "\n",
    "problem = pulp.LpProblem(\"LP_RL\", pulp.LpMinimize)\n",
    "\n",
    "v = [pulp.LpVariable(f'v_{i}') for i in range(mdp.S)]\n",
    "\n",
    "#目的関数\n",
    "for s in range(mdp.S):\n",
    "    problem += w[s] * v[s]\n",
    "\n",
    "#制約関数\n",
    "for s in range(mdp.S):\n",
    "    for a in range(mdp.A):\n",
    "        problem += v[s] >= mdp.rew[s,a] + mdp.gamma * pulp.lpSum([mdp.P[s,a,s_prime]*v[s_prime] for s_prime in range(mdp.S)])\n",
    "\n",
    "status = problem.solve()\n",
    "print(pulp.LpStatus[status])\n"
   ]
  },
  {
   "cell_type": "code",
   "execution_count": 55,
   "metadata": {},
   "outputs": [
    {
     "name": "stdout",
     "output_type": "stream",
     "text": [
      "重み関数を考えた時の動的計画法と線形計画法の差は-1.9073486328125e-06です。\n",
      "動的計画法と線形計画法で解いた答えの違いは2.384185791015625e-07\n"
     ]
    }
   ],
   "source": [
    "DP_fn = optimal_V_by_DP @ w\n",
    "LP_V = np.array([pulp.value(v[s]) for s in range(mdp.S)])\n",
    "LP_w_V = LP_V @ w\n",
    "w_DP_LP = DP_fn - LP_w_V\n",
    "print(f'重み関数を考えた時の動的計画法と線形計画法の差は{w_DP_LP}です。')\n",
    "DP_LP_dif = optimal_V_by_DP - LP_V\n",
    "print(f'動的計画法と線形計画法で解いた答えの違いは{np.max(np.abs(DP_LP_dif))}')"
   ]
  },
  {
   "attachments": {},
   "cell_type": "markdown",
   "metadata": {},
   "source": [
    "微小な差はありますが，大体同じなどで良しとします．"
   ]
  },
  {
   "attachments": {},
   "cell_type": "markdown",
   "metadata": {},
   "source": [
    "---\n",
    "\n",
    "双対問題の定義をしていきます．\n",
    "\n",
    "$$\n",
    "\\left\\{\\begin{aligned}\n",
    "\\text { Maximize } & \\sum_{s \\in \\mathcal{S}} \\sum_{a \\in \\mathcal{A}} x(s, a) g(s, a) \\\\\n",
    "\\text { subject to } & \\sum_{a^{\\prime} \\in \\mathcal{A}} x\\left(s^{\\prime}, a^{\\prime}\\right)-\\gamma \\sum_{s \\in \\mathcal{S}} \\sum_{a \\in \\mathcal{A}} p_{\\mathrm{T}}\\left(s^{\\prime} \\mid s, a\\right) x(s, a)=w\\left(s^{\\prime}\\right), \\quad \\forall s^{\\prime} \\in \\mathcal{S} \\\\\n",
    "& x(s, a) \\geq 0, \\quad \\forall(s, a) \\in \\mathcal{S} \\times \\mathcal{A}\n",
    "\\end{aligned}\\right.\n",
    "$$\n",
    "\n",
    "ここで目的関数の中に $x(s,a)$ が出てきましたね．\n",
    "\n",
    "$x(s,a)$ がどんな特性を持っているのか，簡潔ですが，説明していきます．\n",
    "\n",
    "ここで新しく経験度数関数($\\Phi_w^\\pi: \\mathcal{S} \\times \\mathcal{A} \\rightarrow \\mathbb{R}$)を定義します．\n",
    "\n",
    "$$\n",
    "\\begin{aligned}\n",
    "\\Phi_w^\\pi(s, a) & \\triangleq \\sum_{s_0 \\in \\mathcal{S}} w\\left(s_0\\right) \\mathbb{E}^\\pi\\left[\\sum_{t=0}^\\omega \\gamma^t \\mathbb{I}_{\\left\\{S_t=s\\right\\}} \\mathbb{I}_{\\left\\{A_t=a\\right\\}} \\mid S_0=s_0\\right] \\\\\n",
    "& =\\sum_{s_0 \\in \\mathcal{S}} w\\left(s_0\\right) \\sum_{t=0}^{\\infty} \\gamma^t \\operatorname{Pr}\\left(S_t=s, A_t=a \\mid S_0=s_0, \\mathrm{M}(\\pi)\\right) \\\\\n",
    "& =\\pi(a \\mid s) \\sum_{s_0 \\in \\mathcal{S}} w\\left(s_0\\right) \\sum_{t=0}^{\\infty} \\gamma^t \\operatorname{Pr}\\left(S_t=s \\mid S_0=s_0, \\mathrm{M}(\\pi)\\right)\n",
    "\\end{aligned}\n",
    "$$\n"
   ]
  },
  {
   "attachments": {},
   "cell_type": "markdown",
   "metadata": {},
   "source": [
    "この関数が意味するのは方策$\\pi$を使って，どれだけ，$(s,a)$が訪れられる確率があるかを意味するものです．\n",
    "\n",
    "それを最新の情報に重きを置くように割引しています．\n",
    "\n"
   ]
  },
  {
   "attachments": {},
   "cell_type": "markdown",
   "metadata": {},
   "source": [
    "これを説明した理由は，強化学習の青本のp.70に書いてあるのですが，先ほど定義した$x(s,a)$と経験度数関数が一緒ということが示されているためです．(ちなみに制約条件を使って証明します．)\n",
    "\n",
    "つまり，求められた最適な$x(s,a)$を合っているか確認する方法は経験値度数関数を使えばいいですね．\n",
    "\n"
   ]
  },
  {
   "attachments": {},
   "cell_type": "markdown",
   "metadata": {},
   "source": [
    "---\n",
    "\n",
    "\n",
    "**双対問題のコード**\n",
    "\n"
   ]
  },
  {
   "cell_type": "code",
   "execution_count": 56,
   "metadata": {},
   "outputs": [
    {
     "name": "stdout",
     "output_type": "stream",
     "text": [
      "Welcome to the CBC MILP Solver \n",
      "Version: 2.10.3 \n",
      "Build Date: Dec 15 2019 \n",
      "\n",
      "command line - /Users/ichiharayuuseimare/opt/anaconda3/envs/syumi-note/lib/python3.9/site-packages/pulp/solverdir/cbc/osx/64/cbc /var/folders/rn/8ylp503d60g0xr_qm3ghjknr0000gn/T/44b760207ed14174bd247e6f1ef4b3c7-pulp.mps max timeMode elapsed branch printingOptions all solution /var/folders/rn/8ylp503d60g0xr_qm3ghjknr0000gn/T/44b760207ed14174bd247e6f1ef4b3c7-pulp.sol (default strategy 1)\n",
      "At line 2 NAME          MODEL\n",
      "At line 3 ROWS\n",
      "At line 45 COLUMNS\n",
      "At line 377 RHS\n",
      "At line 418 BOUNDS\n",
      "At line 449 ENDATA\n",
      "Problem MODEL has 40 rows, 30 columns and 330 elements\n",
      "Coin0008I MODEL read with 0 errors\n",
      "Option for timeMode changed from cpu to elapsed\n",
      "Presolve 10 (-30) rows, 30 (0) columns and 300 (-30) elements\n",
      "Perturbing problem by 0.001% of 1.2525913 - largest nonzero change 9.1491621e-05 ( 0.0073041879%) - largest zero change 9.0752983e-05\n",
      "0  Obj -0 Primal inf 85.025053 (10) Dual inf 1.2524988 (1)\n",
      "0  Obj -0 Primal inf 85.025053 (10) Dual inf 1.1676925e+12 (15)\n",
      "15  Obj 2.7044685\n",
      "Optimal - objective value 2.7044685\n",
      "After Postsolve, objective 2.7044685, infeasibilities - dual 0 (0), primal 0 (0)\n",
      "Optimal objective 2.704468471 - 15 iterations time 0.002, Presolve 0.00\n",
      "Option for printingOptions changed from normal to all\n",
      "Total time (CPU seconds):       0.00   (Wallclock seconds):       0.00\n",
      "\n",
      "Optimal\n"
     ]
    }
   ],
   "source": [
    "import pulp\n",
    "\n",
    "dual_problem = pulp.LpProblem(\"Dual_RL\", pulp.LpMaximize)\n",
    "\n",
    "x = pulp.LpVariable.dicts(\"x\", [(s, a) for s in range(S) for a in range(A)])\n",
    "\n",
    "#目的関数\n",
    "for a in range(mdp.A):\n",
    "    for s in range(mdp.S):\n",
    "        dual_problem += mdp.rew[s,a] * x[s,a]\n",
    "\n",
    "#制約関数\n",
    "for s_prime in range(mdp.S):\n",
    "    dual_problem += pulp.lpSum([x[s_prime,a_prime] for a_prime in range(mdp.A)]) - mdp.gamma  * pulp.lpSum([mdp.P[s,a,s_prime]*x[s,a] for s in range(mdp.S) for a in range(mdp.A)]) == w[s_prime]\n",
    "\n",
    "for s in range(mdp.S):\n",
    "    for a in range(mdp.A):\n",
    "        dual_problem += x[s,a] >= 0\n",
    "\n",
    "dual_status = dual_problem.solve()\n",
    "print(pulp.LpStatus[dual_status])\n"
   ]
  },
  {
   "cell_type": "code",
   "execution_count": 59,
   "metadata": {},
   "outputs": [
    {
     "name": "stdout",
     "output_type": "stream",
     "text": [
      "主問題と双対問題の目的関数の値の差は-0.779596072516902です．\n"
     ]
    }
   ],
   "source": [
    "dif = problem.objective.value() - dual_problem.objective.value()\n",
    "\n",
    "print(f'主問題と双対問題の目的関数の値の差は{dif}です．')"
   ]
  }
 ],
 "metadata": {
  "kernelspec": {
   "display_name": "syumi-note",
   "language": "python",
   "name": "python3"
  },
  "language_info": {
   "codemirror_mode": {
    "name": "ipython",
    "version": 3
   },
   "file_extension": ".py",
   "mimetype": "text/x-python",
   "name": "python",
   "nbconvert_exporter": "python",
   "pygments_lexer": "ipython3",
   "version": "3.9.0"
  },
  "orig_nbformat": 4
 },
 "nbformat": 4,
 "nbformat_minor": 2
}
