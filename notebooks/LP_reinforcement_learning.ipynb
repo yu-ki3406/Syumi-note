{
 "cells": [
  {
   "attachments": {},
   "cell_type": "markdown",
   "metadata": {},
   "source": [
    "# 強化学習の線形計画法"
   ]
  },
  {
   "attachments": {},
   "cell_type": "markdown",
   "metadata": {},
   "source": [
    "---"
   ]
  },
  {
   "cell_type": "code",
   "execution_count": null,
   "metadata": {},
   "outputs": [],
   "source": [
    "import numpy as np\n",
    "from typing import NamedTuple\n",
    "\n",
    "S = 10 # number of states\n",
    "A = 3 # number of actions\n",
    "S_set = np.arange(S) # set of states\n",
    "A_set = np.arange(A) # set of actions \n",
    "gamma = 0.8 #diconnect factor\n",
    "\n",
    "rew = np.random.rand(S,A)\n",
    "\n",
    "P = np.random.rand(S*A,S)\n",
    "P = P/np.sum(P,axis=-1,keepdims=True)\n",
    "P = P.reshape(S,A,S)\n",
    "\n",
    "np.testing.assert_almost_equal(np.sum(P,axis=-1),1) # check if P is a valid probability matrix\n",
    "\n",
    "\n"
   ]
  }
 ],
 "metadata": {
  "kernelspec": {
   "display_name": "syumi-note",
   "language": "python",
   "name": "python3"
  },
  "language_info": {
   "name": "python",
   "version": "3.9.0"
  },
  "orig_nbformat": 4
 },
 "nbformat": 4,
 "nbformat_minor": 2
}
