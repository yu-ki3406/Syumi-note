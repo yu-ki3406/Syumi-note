{
 "cells": [
  {
   "attachments": {},
   "cell_type": "markdown",
   "metadata": {},
   "source": [
    "# Optimistic-GMBL\n",
    "\n",
    "---"
   ]
  },
  {
   "cell_type": "code",
   "execution_count": null,
   "metadata": {},
   "outputs": [],
   "source": [
    "# 環境の構築\n",
    "\n",
    "import numpy as np\n",
    "import jax.numpy as jnp\n",
    "from jax.random import PRNGKey\n",
    "import jax\n",
    "from typing import NamedTuple,Optional\n",
    "\n",
    "key = PRNGKey(0)\n",
    "S = 7 #状態空間\n",
    "A = 3 #行動空間\n",
    "S_set = jnp.arange(S)\n",
    "A_set = jnp.arange(A)\n",
    "gamma = 0.9 #割引率\n",
    "\n",
    "#報酬と遷移確率の行列を作る．\n",
    "key,_ = jax.random.split(key)\n",
    "rew = jax.random.uniform(key,shape=(S,A))\n",
    "\n",
    "key,_ = jax.random.split(key)\n",
    "c_i = jax.random.uniform(key,shape=(S,A))\n",
    "c_i = jnp.where(c_i>0.5,1,0)\n",
    "\n",
    "\n",
    "C = 5.0\n",
    "key,_ = jax.random.split(key)\n",
    "P = np.random.rand(S*A,S)\n",
    "P = P / P.sum(axis=-1,keepdims=True)\n",
    "P = P.reshape(S,A,S)\n",
    "np.testing.assert_allclose(P.sum(axis=-1),1.0)\n",
    "P = jnp.array(P)\n",
    "\n",
    "#MDPの作成\n",
    "class MDP(NamedTuple):\n",
    "    S_set: jnp.ndarray\n",
    "    A_set: jnp.ndarray\n",
    "    rew: jnp.ndarray #報酬\n",
    "    P: jnp.ndarray #遷移確率\n",
    "    gamma: float #割引率\n",
    "    H:int #ホライゾン\n",
    "    c_i: jnp.ndarray #制約コスト\n",
    "    C : float #制約コストの上限\n",
    "    optimal_Q:Optional[jnp.ndarray] = None\n",
    "\n",
    "    @property\n",
    "    def S(self):\n",
    "        return len(self.S_set)\n",
    "    \n",
    "    @property\n",
    "    def A(self):\n",
    "        return len(self.A_set)\n",
    "    \n",
    "\n",
    "H = int(1/(1-gamma))\n",
    "mdp = MDP(S_set,A_set,rew,P,gamma,H + 100,c_i,C)\n"
   ]
  },
  {
   "cell_type": "code",
   "execution_count": 2,
   "metadata": {},
   "outputs": [],
   "source": [
    "from functools import partial\n",
    "import chex\n",
    "\n",
    "#制約を考えない時の最適価値関数の計算\n",
    "\n",
    "@partial(jax.jit,static_argnames=('S','A'))\n",
    "def _compute_optimal_Q(mdp:MDP,S:int,A:int):\n",
    "    Q = jnp.zeros((S,A))\n",
    "    def backup(Q):\n",
    "        V = Q.max(axis=-1)\n",
    "        return mdp.rew + mdp.gamma * mdp.P @ V\n",
    "    body_fn = lambda i,Q:backup(Q)\n",
    "    Q = jax.lax.fori_loop(0,mdp.H+100,body_fn,Q)\n",
    "    return Q\n",
    "\n",
    "compute_optimal_Q = lambda mdp: _compute_optimal_Q(mdp,mdp.S,mdp.A)\n",
    "optimal_Q = compute_optimal_Q(mdp)\n",
    "mdp = mdp._replace(optimal_Q=optimal_Q)\n"
   ]
  },
  {
   "cell_type": "code",
   "execution_count": 3,
   "metadata": {},
   "outputs": [],
   "source": [
    "# greedy方策の計算\n",
    "c_index = jnp.where(mdp.c_i==1)\n",
    "index = [(c_index[0][i].item(),c_index[1][i].item()) for i in range(len(c_index[0]))]\n",
    "@jax.jit\n",
    "def get_greedy_con(mdp:MDP, q:jnp.array):\n",
    "    S,A = mdp.S,mdp.A\n",
    "    chex.assert_shape(q,(S,A))\n",
    "    pi_max = jnp.zeros((S,A))\n",
    "    for i in range(len(index)):\n",
    "        q = q.at[index[i]].set(-np.inf)\n",
    "    pi_max = pi_max.at[np.arange(S),q.argmax(axis=1)].set(1)\n",
    "\n",
    "    return pi_max\n"
   ]
  },
  {
   "cell_type": "code",
   "execution_count": 4,
   "metadata": {},
   "outputs": [],
   "source": [
    "# 制約を考えた時の最適価値関数\n",
    "# 今回はviolationが0を想定している．\n",
    "@partial(jax.jit,static_argnames=('S','A'))\n",
    "def _compute_optimal_Q_constrained(mdp:MDP,S:int,A:int):\n",
    "#制約がある状態行動対場所の確認\n",
    "    Q = jnp.zeros((S,A))\n",
    "    def backup(Q):\n",
    "        policy = get_greedy_con(mdp,Q)\n",
    "        return mdp.rew + mdp.gamma * mdp.P @ (policy * Q).sum(axis=-1)\n",
    "    body_fn = lambda i,Q:backup(Q)\n",
    "    Q = jax.lax.fori_loop(0,mdp.H+100,body_fn,Q)\n",
    "    return Q\n",
    "compute_optimal_Q_constrained = lambda mdp: _compute_optimal_Q_constrained(mdp,mdp.S,mdp.A)\n",
    "optimal_Q_constrained = compute_optimal_Q_constrained(mdp)\n",
    "\n",
    "\n"
   ]
  },
  {
   "cell_type": "code",
   "execution_count": 5,
   "metadata": {},
   "outputs": [
    {
     "name": "stdout",
     "output_type": "stream",
     "text": [
      "最適価値関数と制約を考慮した最適価値関数の差:0.9998989105224609\n"
     ]
    }
   ],
   "source": [
    "print(f'最適価値関数と制約を考慮した最適価値関数の差:{(optimal_Q - optimal_Q_constrained).max()}')"
   ]
  },
  {
   "attachments": {},
   "cell_type": "markdown",
   "metadata": {},
   "source": [
    "### Optimistic-GMBL"
   ]
  },
  {
   "cell_type": "code",
   "execution_count": 6,
   "metadata": {},
   "outputs": [],
   "source": [
    "import pulp\n",
    "\n",
    "def Optimistic_GMBL(epsion:float,sigma:float,mdp:MDP):\n",
    "    sigma_p = sigma / 36 * mdp.S**2 * mdp.A * mdp.H\n",
    "    beta = np.sqrt(np.log(4)/2 * sigma_p)\n",
    "\n",
    "    s_a_visit = 256*mdp.S*mdp.H**3/epsion**2*(np.log(36*mdp.S*mdp.A*mdp.H/sigma))\n",
    "    s_a_visit = int(s_a_visit)\n",
    "    transition_prob = np.zeros((mdp.S,mdp.A,mdp.S))\n",
    "    for s in range(mdp.S):\n",
    "        for a in range(mdp.A):\n",
    "            s_dash = np.random.choice(a=mdp.S,size=s_a_visit,p=mdp.P[s,a])\n",
    "            for i in range(mdp.S):\n",
    "                transition_prob[s,a,i] = np.sum(s_dash==i)/s_a_visit\n",
    "    \n",
    "    opt_policy = np.zeros((mdp.S,mdp.H,mdp.A))\n",
    "    #最大化問題の定義\n",
    "    opt_problem = pulp.LpProblem('Optimistic_GMBL',pulp.LpMaximize)\n",
    "    opt_q = np.zeros((mdp.H,mdp.S,mdp.A,mdp.S))\n",
    "    #qの変数の定義\n",
    "    q_keys = [(h,s,a,i) for h in range(mdp.H) for s in range(mdp.S) for a in range(mdp.A) for i in range(mdp.S)]\n",
    "    q_vars = pulp.LpVariable.dicts('q',q_keys,lowBound=0,upBound=1,cat='Continuous')\n",
    "\n",
    "    list_R = [mdp.rew[s][a] for s in range(mdp.S) for a in range(mdp.A)] * mdp.H\n",
    "    list_q = [q_vars[(h,s,a,i)] for h in range(mdp.H) for s in range(mdp.S) for a in range(mdp.A) for i in range(mdp.S)] \n",
    "    #目的関数の定義\n",
    "    opt_problem += pulp.lpDot(list_R,list_q)\n",
    "\n",
    "    #制約条件の定義\n",
    "    # for h in range(mdp.H):\n",
    "    #     for s in range(mdp.S):\n",
    "    #         for a in range(mdp.A):\n",
    "    #             for i in range(mdp.S):\n",
    "    #                 opt_problem += q_vars[(h,s,a,i)] * mdp.c_i[s][a] <= mdp.C\n",
    "    #                 if h != 0:\n",
    "    #                     opt_problem += q_vars[(h,s,a,i)] == q_vars[(h-1,i,a,s)]\n",
    "\n",
    "\n",
    "    opt_problem += pulp.lpSum([q_vars[(h,s,a,i) * mdp.c_i[s][a]] for h in range(mdp.H) for s in range(mdp.S) for a in range(mdp.A) for i in range(mdp.S)]) <= mdp.C\n",
    "\n",
    "    for h in range(1,mdp.H):\n",
    "        opt_problem += pulp.lpSum([q_vars[(h,s,a,i)] for s in range(mdp.S) for a in range(mdp.A) for i in range(mdp.S)]) == pulp.lpSum([q_vars[(h-1,i,a,s)] for s in range(mdp.S) for a in range(mdp.A) for i in range(mdp.S)])\n",
    "\n",
    " \n",
    "    opt_problem += pulp.lpSum([q_vars[(0,0,a,s)] for a in range(mdp.A) for s in range(mdp.S)]) == 1\n",
    "    opt_problem += pulp.lpSum([q_vars[(0,s,a,s_dash)] for s in range(1,mdp.S) for a in range(mdp.A) for s_dash in range(mdp.S)]) == 0\n",
    "\n",
    "    for h in range(1,mdp.H):\n",
    "        for s in range(mdp.S):\n",
    "            for a in range(mdp.A):\n",
    "                for i in range(S):\n",
    "                    opt_problem += q_vars[(h,s,a,i)] - (transition_prob[s,a,i] + beta) * pulp.lpSum([q_vars[(h,s,a,y)] for y in range(mdp.S)]) <= 0\n",
    "                    opt_problem += -q_vars[(h,s,a,i)] + (transition_prob[s,a,i] - beta) * pulp.lpSum([q_vars[(h,s,a,y)] for y in range(mdp.S)]) <= 0      \n",
    "    status = opt_problem.solve()"
   ]
  },
  {
   "cell_type": "code",
   "execution_count": 7,
   "metadata": {},
   "outputs": [
    {
     "ename": "",
     "evalue": "",
     "output_type": "error",
     "traceback": [
      "\u001b[1;31mCanceled future for execute_request message before replies were done"
     ]
    },
    {
     "ename": "",
     "evalue": "",
     "output_type": "error",
     "traceback": [
      "\u001b[1;31mThe Kernel crashed while executing code in the the current cell or a previous cell. Please review the code in the cell(s) to identify a possible cause of the failure. Click <a href='https://aka.ms/vscodeJupyterKernelCrash'>here</a> for more info. View Jupyter <a href='command:jupyter.viewOutput'>log</a> for further details."
     ]
    }
   ],
   "source": [
    "Optimistic_GMBL(0.1,0.1,mdp)"
   ]
  },
  {
   "cell_type": "code",
   "execution_count": null,
   "metadata": {},
   "outputs": [],
   "source": []
  }
 ],
 "metadata": {
  "kernelspec": {
   "display_name": "syumi-note",
   "language": "python",
   "name": "python3"
  },
  "language_info": {
   "codemirror_mode": {
    "name": "ipython",
    "version": 3
   },
   "file_extension": ".py",
   "mimetype": "text/x-python",
   "name": "python",
   "nbconvert_exporter": "python",
   "pygments_lexer": "ipython3",
   "version": "3.9.0"
  },
  "orig_nbformat": 4
 },
 "nbformat": 4,
 "nbformat_minor": 2
}
