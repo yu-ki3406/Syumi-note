{
 "cells": [
  {
   "attachments": {},
   "cell_type": "markdown",
   "metadata": {},
   "source": [
    "# Posterior Sampling (PS)\n",
    "\n",
    "---\n",
    "\n"
   ]
  },
  {
   "attachments": {},
   "cell_type": "markdown",
   "metadata": {},
   "source": [
    "今回はPsoterior Sampling(PS)について解説していきます．\n",
    "\n"
   ]
  },
  {
   "attachments": {},
   "cell_type": "markdown",
   "metadata": {},
   "source": [
    "以下のコードの例は２つのバンディットのアームがあり，最後にPosterior Samplingのアルゴリズムを使って，２つのアームの平均と分散を予測スロちうアルゴリズムんです．\n",
    "\n",
    "下のアルゴリズムでは，各ラウンドごとにアームをそれぞれ引き，報酬が高く得られた方を引くということをやっています．\n",
    "\n",
    "アルゴリズムは以下の流れになります．\n",
    "\n",
    "1. 各ラウンドでそれぞれアームを引く\n",
    "\n",
    "2. 報酬が高い方のアームを選び，そのアームの平均と分散を更新していく．\n",
    "\n"
   ]
  },
  {
   "attachments": {},
   "cell_type": "markdown",
   "metadata": {},
   "source": [
    "---"
   ]
  },
  {
   "cell_type": "code",
   "execution_count": 9,
   "metadata": {},
   "outputs": [
    {
     "name": "stdout",
     "output_type": "stream",
     "text": [
      "Bandit 1 mean estimate:  0.2685841342664545\n",
      "Bandit 1 variance estimate:  0.039850659403966995\n",
      "Bandit 2 mean estimate:  0.8433077775656225\n",
      "Bandit 2 variance estimate:  0.022575731257657772\n",
      "Bandit 1 samples:  2\n",
      "Bandit 2 samples:  98\n"
     ]
    }
   ],
   "source": [
    "import numpy as np\n",
    "\n",
    "\n",
    "#バンディットクラスの定義\n",
    "class Bandit:\n",
    "    def __init__(self,alpha,beta):\n",
    "        self.alpha = alpha\n",
    "        self.beta = beta\n",
    "\n",
    "    def pull(self):\n",
    "        return np.random.beta(self.alpha,self.beta)\n",
    "    \n",
    "\n",
    "\n",
    "#環境の定義\n",
    "class BayesianBandit:\n",
    "    def __init__(self):\n",
    "        self.bandits = [Bandit(2,4),Bandit(5,1)]\n",
    "        self.samples = [0,0]\n",
    "        self.mean_estimates = [0,0]\n",
    "        self.var_estimates = [0,0]\n",
    "\n",
    "\n",
    "    def choose_bandit(self):\n",
    "        posterior_samples = [bandit.pull() for bandit in self.bandits]\n",
    "        bandit_idx = np.argmax(posterior_samples)\n",
    "        self.samples[bandit_idx] += 1\n",
    "\n",
    "        #update mean and variance estimates\n",
    "        reward = self.bandits[bandit_idx].pull()\n",
    "        prev_mean = self.mean_estimates[bandit_idx]\n",
    "        prev_var = self.var_estimates[bandit_idx]\n",
    "\n",
    "        new_mean = (prev_mean * self.samples[bandit_idx] + reward) / (self.samples[bandit_idx] + 1)\n",
    "        new_var = ((prev_var + prev_mean ** 2) * self.samples[bandit_idx] + reward ** 2) / (self.samples[bandit_idx] + 1) - new_mean ** 2\n",
    "\n",
    "        self.mean_estimates[bandit_idx] = new_mean\n",
    "        self.var_estimates[bandit_idx] = new_var\n",
    "\n",
    "        return bandit_idx\n",
    "    \n",
    "\n",
    "bandit = BayesianBandit()\n",
    "\n",
    "for i in range(100):\n",
    "    bandit_idx = bandit.choose_bandit()\n",
    "    \n",
    "print(\"Bandit 1 mean estimate: \", bandit.mean_estimates[0])\n",
    "print(\"Bandit 1 variance estimate: \", bandit.var_estimates[0])\n",
    "print(\"Bandit 2 mean estimate: \", bandit.mean_estimates[1])\n",
    "print(\"Bandit 2 variance estimate: \", bandit.var_estimates[1])\n",
    "\n",
    "print(\"Bandit 1 samples: \", bandit.samples[0])\n",
    "print(\"Bandit 2 samples: \", bandit.samples[1])"
   ]
  },
  {
   "cell_type": "code",
   "execution_count": 12,
   "metadata": {},
   "outputs": [
    {
     "name": "stdout",
     "output_type": "stream",
     "text": [
      "バンディット１の平均と分散: (0.3333333333333333, 0.031746031746031744)\n",
      "バンディット2の平均と分散: (0.8333333333333334, 0.01984126984126984)\n",
      "バンディット1の母平均と標本平均の差は0.0733333333333333\n",
      "バンディット2の母平均と標本平均の差は0.006666666666666599\n",
      "バンディット１の母分散と標本分散の差は0.0017460317460317454\n",
      "バンディット2の母分散と標本分散の差は0.00015873015873016025\n"
     ]
    }
   ],
   "source": [
    "def mean_var(alpha: float, beta: float) :\n",
    "    mean = alpha / (alpha + beta)\n",
    "    var = alpha * beta / ((alpha + beta) ** 2 * (alpha + beta + 1))\n",
    "    return mean, var\n",
    "\n",
    "print(f'バンディット１の平均と分散: {mean_var(2, 4)}')\n",
    "print(f'バンディット2の平均と分散: {mean_var(5, 1)}')\n",
    "print(f'バンディット1の母平均と標本平均の差は{abs(mean_var(2, 4)[0] - 0.26)}')\n",
    "print(f'バンディット2の母平均と標本平均の差は{abs(mean_var(5, 1)[0] - 0.84)}')\n",
    "print(f'バンディット１の母分散と標本分散の差は{abs(mean_var(2, 4)[1] - 0.03)}')\n",
    "print(f'バンディット2の母分散と標本分散の差は{abs(mean_var(5, 1)[1] - 0.02)}')"
   ]
  },
  {
   "cell_type": "code",
   "execution_count": null,
   "metadata": {},
   "outputs": [],
   "source": []
  }
 ],
 "metadata": {
  "kernelspec": {
   "display_name": "syumi-note",
   "language": "python",
   "name": "python3"
  },
  "language_info": {
   "codemirror_mode": {
    "name": "ipython",
    "version": 3
   },
   "file_extension": ".py",
   "mimetype": "text/x-python",
   "name": "python",
   "nbconvert_exporter": "python",
   "pygments_lexer": "ipython3",
   "version": "3.9.0"
  },
  "orig_nbformat": 4
 },
 "nbformat": 4,
 "nbformat_minor": 2
}
