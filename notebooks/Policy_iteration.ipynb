{
 "cells": [
  {
   "attachments": {},
   "cell_type": "markdown",
   "metadata": {},
   "source": [
    "# 方策反復法"
   ]
  },
  {
   "attachments": {},
   "cell_type": "markdown",
   "metadata": {},
   "source": [
    "今回は[森村(2019)](https://www.amazon.co.jp/%E5%BC%B7%E5%8C%96%E5%AD%A6%E7%BF%92-%E6%A9%9F%E6%A2%B0%E5%AD%A6%E7%BF%92%E3%83%97%E3%83%AD%E3%83%95%E3%82%A7%E3%83%83%E3%82%B7%E3%83%A7%E3%83%8A%E3%83%AB%E3%82%B7%E3%83%AA%E3%83%BC%E3%82%BA-%E6%A3%AE%E6%9D%91-%E5%93%B2%E9%83%8E/dp/4065155916/ref=sr_1_3?adgrpid=81262430850&gclid=Cj0KCQjwk7ugBhDIARIsAGuvgPYqZnWcQryNTVWKDJT8whZNJ-h73ZqHT6qF2I9bXprKne2GkLHavEIaArExEALw_wcB&hvadid=649107616291&hvdev=c&hvlocphy=1009180&hvnetw=g&hvqmt=e&hvrand=10477133917986279598&hvtargid=kwd-898864963330&hydadcr=15817_13644392&jp-ad-ap=0&keywords=%E5%BC%B7%E5%8C%96%E5%AD%A6%E7%BF%92+%E6%A3%AE%E6%9D%91&qid=1678699533&sr=8-3)の本のp.63に書いてある方策反復法のコードを書いていきたいと思います．"
   ]
  },
  {
   "attachments": {},
   "cell_type": "markdown",
   "metadata": {},
   "source": [
    "方策反復法は動的計画法による回ほうの一種です．\n",
    "\n",
    "価値反復法では逐次的に価値関数を更新していく流れでしたが，方策反復法では方策を改善していく方法です．\n",
    "\n",
    "そして方策反復法では現在の方策が最適ではない場合，必ず改善されることが保証されています(p.65)．\n",
    "\n",
    "---"
   ]
  },
  {
   "attachments": {},
   "cell_type": "markdown",
   "metadata": {},
   "source": [
    "ここから方策反復法のアルゴリズムについて説明していきます．\n",
    "\n",
    "$S,A,p,g,\\gamma$ をそれぞれ状態の数，行動の数，遷移確率，報酬関数，割引率とします．\n",
    "\n",
    "1. 決定的方策 $\\pi_d : S \\rightarrow A$ 任意に初期化．\n",
    "2. 決定的方策 $\\pi_d$ の価値関数 $V^{\\pi^d}$ を求める．\n",
    "$$\n",
    "V^{\\pi^d}(s) = (B_{\\pi^d}V^{\\pi^d})\n",
    "$$　\n",
    "3. 改善方策 $\\pi^{d^{'}}$ を求める．\n",
    "$$\n",
    "\\pi^{d^{'}}(s) := argmax_{a \\in A}[g(s,a) + \\gamma \\sum_{s^{'}\\in S} p(s^{'} | s,a)V^{\\pi^{d}}(s^{'})]\n",
    "$$\n",
    "4. 収束判定は，もし $\\pi^{d^{'}}(s)$ = $\\pi_d(s)$ なら終了で，それ以外なら $\\pi_d := \\pi^{d^{'}}$ として繰り返す．"
   ]
  },
  {
   "cell_type": "code",
   "execution_count": 39,
   "metadata": {},
   "outputs": [
    {
     "name": "stdout",
     "output_type": "stream",
     "text": [
      "(5, 3)\n",
      "(5, 3, 5)\n"
     ]
    }
   ],
   "source": [
    "import numpy as np\n",
    "from typing import NamedTuple\n",
    "\n",
    "S = 5 #state_size\n",
    "A = 3  #action_size\n",
    "S_array = np.arange(S) #state_set\n",
    "A_array = np.arange(A) #action_set\n",
    "gamma = 0.99 \n",
    "\n",
    "rew = np.random.rand(S,A) * 10 #報酬\n",
    "\n",
    "P = np.random.rand(S*A, S) #遷移確率\n",
    "P = P / np.sum(P,axis=-1,keepdims=True)\n",
    "P = P.reshape(S,A,S)\n",
    "np.testing.assert_almost_equal(P.sum(axis=-1),1) #確率1になっているか確認\n",
    "\n",
    "# MDPの定義\n",
    "\n",
    "class MDP(NamedTuple):\n",
    "    S_array : np.array\n",
    "    A_array : np.array\n",
    "    gamma : float\n",
    "    rew : np.array\n",
    "    P : np.array\n",
    "\n",
    "    @property\n",
    "    def S(self) -> int:\n",
    "        return len(self.S_array)\n",
    "\n",
    "    @property\n",
    "    def A(self) -> int:\n",
    "        return len(self.A_array)\n",
    "\n",
    "mdp = MDP(S_array,A_array,gamma,rew,P)\n",
    "print(mdp.rew.shape)\n",
    "print(mdp.P.shape)"
   ]
  },
  {
   "cell_type": "code",
   "execution_count": 49,
   "metadata": {},
   "outputs": [],
   "source": [
    "import jax\n",
    "import jax.numpy as jnp\n",
    "\n",
    "@jax.jit\n",
    "def policy_iteration(mdp:MDP, v:jnp.ndarray, pi:jnp.ndarray):\n",
    "    v = pi * (mdp.rew + mdp.gamma * mdp.P @ v)\n",
    "    #vの形がS * Aなので\n",
    "    v = v.max(axis = 1,keepdims=False)\n",
    "    v_dash = mdp.rew + mdp.gamma * mdp.P @ v\n",
    "    pi_max = jnp.zeros((S,A))\n",
    "    #現在のベルマン最適方程式を計算\n",
    "    pi_max = pi_max.at[np.arange(S),v_dash.argmax(axis=1)].set(1)\n",
    "\n",
    "    return pi,pi_max,v"
   ]
  },
  {
   "cell_type": "code",
   "execution_count": 55,
   "metadata": {},
   "outputs": [
    {
     "data": {
      "text/plain": [
       "Text(0.5, 0, 'iteration')"
      ]
     },
     "execution_count": 55,
     "metadata": {},
     "output_type": "execute_result"
    },
    {
     "data": {
      "image/png": "[encoded data removed]",
      "text/plain": [
       "<Figure size 640x480 with 1 Axes>"
      ]
     },
     "metadata": {},
     "output_type": "display_data"
    }
   ],
   "source": [
    "import matplotlib.pyplot as plt\n",
    "key = jax.random.PRNGKey(0)\n",
    "\n",
    "S,A = mdp.S, mdp.A\n",
    "pi = jnp.zeros((S,A))\n",
    "#方策は決定的な方策なので，初期化もランダムに決定的な方策にする．\n",
    "random_index = jax.random.choice(key=key,a = mdp.S-1,shape=(S,))\n",
    "pi = pi.at[np.arange(S),random_index].set(1)\n",
    "\n",
    "v_before = jax.random.uniform(key = key,shape = (S,))\n",
    "errors = []\n",
    "\n",
    "for i in range(10000):\n",
    "    pi,pi_max,v_after = policy_iteration(mdp,v_before,pi)\n",
    "    errors.append(np.abs(v_after - v_before).max())\n",
    "    v_before = v_after\n",
    "    if jnp.allclose(pi,pi_max):\n",
    "\n",
    "        print('終了条件')\n",
    "        break\n",
    "\n",
    "    else:\n",
    "        \n",
    "        pi_max = pi\n",
    "\n",
    "\n",
    "\n",
    "plt.plot(errors)\n",
    "plt.ylabel('Bellman_error')\n",
    "plt.xlabel('iteration')"
   ]
  },
  {
   "cell_type": "code",
   "execution_count": null,
   "metadata": {},
   "outputs": [],
   "source": []
  }
 ],
 "metadata": {
  "kernelspec": {
   "display_name": "syumi-note",
   "language": "python",
   "name": "python3"
  },
  "language_info": {
   "codemirror_mode": {
    "name": "ipython",
    "version": 3
   },
   "file_extension": ".py",
   "mimetype": "text/x-python",
   "name": "python",
   "nbconvert_exporter": "python",
   "pygments_lexer": "ipython3",
   "version": "3.9.0"
  },
  "orig_nbformat": 4
 },
 "nbformat": 4,
 "nbformat_minor": 2
}
