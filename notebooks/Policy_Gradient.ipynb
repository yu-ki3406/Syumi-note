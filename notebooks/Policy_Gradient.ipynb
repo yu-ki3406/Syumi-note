{
 "cells": [
  {
   "cell_type": "code",
   "execution_count": 1,
   "metadata": {},
   "outputs": [
    {
     "name": "stderr",
     "output_type": "stream",
     "text": [
      "No GPU/TPU found, falling back to CPU. (Set TF_CPP_MIN_LOG_LEVEL=0 and rerun for more info.)\n"
     ]
    }
   ],
   "source": [
    "import numpy as np\n",
    "from functools import partial\n",
    "from typing import Optional,NamedTuple\n",
    "import jax.numpy as jnp\n",
    "from jax.random import PRNGKey\n",
    "import jax\n",
    "\n",
    "class MDP(NamedTuple):\n",
    "    S_array : jnp.ndarray\n",
    "    A_array : jnp.ndarray\n",
    "    P: jnp.ndarray\n",
    "    rew: jnp.ndarray\n",
    "    gamma : float\n",
    "    H : int\n",
    "    optimal_Q : Optional[jnp.ndarray] = None\n",
    "    robust_optimal_Q : Optional[jnp.ndarray] = None\n",
    "\n",
    "    @property\n",
    "    def S(self):\n",
    "        return len(self.S_array)\n",
    "    \n",
    "    @property\n",
    "    def A(self):\n",
    "        return  len(self.A_array)\n",
    "    \n",
    "\n",
    "S = 5\n",
    "A = 3\n",
    "\n",
    "#報酬と遷移確率の行列を作る．\n",
    "key = PRNGKey(0)\n",
    "key,_ = jax.random.split(key)\n",
    "rew = jax.random.uniform(key,shape=(S,A))\n",
    "\n",
    "\n",
    "P = np.random.rand(S*A, S) #遷移確率\n",
    "P = P / np.sum(P,axis=-1,keepdims=True)\n",
    "P = P.reshape(S,A,S)\n",
    "np.testing.assert_allclose(P.sum(axis=-1),1)\n",
    "# P = jnp.array(P)\n",
    "\n",
    "\n",
    "\n",
    "S_array = jnp.arange(S)\n",
    "A_array = jnp.arange(A)\n",
    "gamma = 0.99\n",
    "horizon = 1 / (1-gamma)\n",
    "horizon = int(horizon)\n",
    "\n",
    "mdp = MDP(S_array,A_array,P,rew,gamma,horizon)"
   ]
  },
  {
   "cell_type": "code",
   "execution_count": 7,
   "metadata": {},
   "outputs": [],
   "source": [
    "from functools import partial\n",
    "\n",
    "#割引状態訪問率\n",
    "@partial(jax.jit,static_argnames=('h'))\n",
    "def compute_discounted_visitation(mdp:MDP,policy:np.ndarray,h:int):\n",
    "    S,A = policy.shape\n",
    "    P = mdp.P.reshape(S*A,S)\n",
    "\n",
    "    visits_dist = jnp.zeros((S,h))\n",
    "    visits_dist = visits_dist.at[0,0].set(1.0) #初期状態分布の挿入\n",
    "\n",
    "    def backup(i,visits_dist):\n",
    "        visit = visits_dist[i]\n",
    "        visit_policy = (visit.reshape(S,1) * policy).reshape(S*A)\n",
    "        next_visit = visits_dist[:,0] + mdp.gamma * visit_policy @ P\n",
    "        visits_dist = visits_dist.at[i+1].set(next_visit)\n",
    "        return visits_dist\n",
    "    visits_dist = jax.lax.fori_loop(0,h-1,backup,visits_dist)\n",
    "\n",
    "    return visits_dist\n",
    "\n",
    "@jax.jit\n",
    "def compute_greedy_policy(Q: np.ndarray):\n",
    "    greedy_policy = jnp.zeros_like(Q)\n",
    "    S, A = Q.shape\n",
    "    greedy_policy = greedy_policy.at[jnp.arange(S), Q.argmax(axis=1)].set(1)\n",
    "    \n",
    "    return greedy_policy\n",
    "\n",
    "\n",
    "\n",
    "@partial(jax.jit, static_argnames=(\"S\", \"A\"))\n",
    "def _compute_optimal_Q(mdp: MDP, S: int, A: int):\n",
    "\n",
    "    def backup(optimal_Q):\n",
    "        greedy_policy = compute_greedy_policy(optimal_Q)\n",
    "        max_Q = (greedy_policy * optimal_Q).sum(axis=1)\n",
    "        next_v = mdp.P @ max_Q\n",
    "        assert next_v.shape == (S, A)\n",
    "        return mdp.rew + mdp.gamma * next_v\n",
    "    \n",
    "    optimal_Q = jnp.zeros((S, A))\n",
    "    body_fn = lambda i, Q: backup(Q)\n",
    "    return jax.lax.fori_loop(0, mdp.horizon, body_fn, optimal_Q)\n",
    "\n",
    "compute_optimal_Q = lambda mdp: _compute_optimal_Q(mdp, mdp.S, mdp.A)\n",
    "@jax.jit\n",
    "def compute_policy_Q(mdp:MDP,policy:np.ndarray):\n",
    "    S,A = policy.shape\n",
    "    \n",
    "    policy_Q = jnp.zeros((S,A))\n",
    "\n",
    "    def backup(policy_Q):\n",
    "        V = (policy * policy_Q).sum(axis=-1)\n",
    "        V = mdp.P @ V\n",
    "\n",
    "        return mdp.rew + mdp.gamma * V\n",
    "    \n",
    "    body_fn = lambda i,Q:backup(Q)\n",
    "    policy_Q = jax.lax.fori_loop(0,mdp.H,body_fn,policy_Q)\n"
   ]
  },
  {
   "attachments": {},
   "cell_type": "markdown",
   "metadata": {},
   "source": [
    "方策を直接パラメータ化する方法と、ソフトマックス関数を使いパラメータ化する方法があるのですが、まずはソフトマックス関数でパラメータ化していきたいと思います。\n",
    "\n",
    "まず、価値関数の勾配は次のように表せます。\n",
    "\n",
    "$$\n",
    "\\nabla_\\theta V^{\\pi_\\theta}\\left(s_0\\right)=\\frac{1}{1-\\gamma} \\mathbb{E}_{s \\sim d_{s_0}^{\\pi_\\theta}} \\mathbb{E}_{a \\sim \\pi_\\theta(\\cdot \\mid s)}\\left[\\nabla_\\theta \\log \\pi_\\theta(a \\mid s) A^{\\pi_\\theta}(s, a)\\right] .\n",
    "$$"
   ]
  },
  {
   "cell_type": "code",
   "execution_count": 29,
   "metadata": {},
   "outputs": [
    {
     "ename": "TypeError",
     "evalue": "Gradient only defined for scalar-output functions. Output had shape: (1,).",
     "output_type": "error",
     "traceback": [
      "\u001b[0;31m---------------------------------------------------------------------------\u001b[0m",
      "\u001b[0;31mTypeError\u001b[0m                                 Traceback (most recent call last)",
      "Cell \u001b[0;32mIn[29], line 25\u001b[0m\n\u001b[1;32m     21\u001b[0m A_array \u001b[39m=\u001b[39m jnp\u001b[39m.\u001b[39mrepeat(A_array, mdp\u001b[39m.\u001b[39mS)\u001b[39m.\u001b[39mreshape(\u001b[39m-\u001b[39m\u001b[39m1\u001b[39m, \u001b[39m1\u001b[39m)\n\u001b[1;32m     23\u001b[0m SA \u001b[39m=\u001b[39m jnp\u001b[39m.\u001b[39mhstack([S_array, A_array])\n\u001b[0;32m---> 25\u001b[0m grad \u001b[39m=\u001b[39m compute_grad_log_pi(theta, S_array,A_array)\n",
      "Cell \u001b[0;32mIn[29], line 14\u001b[0m, in \u001b[0;36mcompute_grad_log_pi\u001b[0;34m(theta, s, a)\u001b[0m\n\u001b[1;32m     12\u001b[0m \u001b[39mdef\u001b[39;00m \u001b[39mcompute_grad_log_pi\u001b[39m(theta, s,a):\n\u001b[0;32m---> 14\u001b[0m     grad_log_pi \u001b[39m=\u001b[39m jax\u001b[39m.\u001b[39;49mvmap(jax\u001b[39m.\u001b[39;49mgrad(log_pi), in_axes\u001b[39m=\u001b[39;49m(\u001b[39mNone\u001b[39;49;00m, \u001b[39m0\u001b[39;49m, \u001b[39m0\u001b[39;49m))(theta, s, a)\n\u001b[1;32m     15\u001b[0m     \u001b[39mreturn\u001b[39;00m grad_log_pi\n",
      "    \u001b[0;31m[... skipping hidden 7 frame]\u001b[0m\n",
      "File \u001b[0;32m~/.conda/envs/syumi-note/lib/python3.9/site-packages/jax/_src/api.py:759\u001b[0m, in \u001b[0;36m_check_scalar\u001b[0;34m(x)\u001b[0m\n\u001b[1;32m    757\u001b[0m \u001b[39mif\u001b[39;00m \u001b[39misinstance\u001b[39m(aval, ShapedArray):\n\u001b[1;32m    758\u001b[0m   \u001b[39mif\u001b[39;00m aval\u001b[39m.\u001b[39mshape \u001b[39m!=\u001b[39m ():\n\u001b[0;32m--> 759\u001b[0m     \u001b[39mraise\u001b[39;00m \u001b[39mTypeError\u001b[39;00m(msg(\u001b[39mf\u001b[39m\u001b[39m\"\u001b[39m\u001b[39mhad shape: \u001b[39m\u001b[39m{\u001b[39;00maval\u001b[39m.\u001b[39mshape\u001b[39m}\u001b[39;00m\u001b[39m\"\u001b[39m))\n\u001b[1;32m    760\u001b[0m \u001b[39melse\u001b[39;00m:\n\u001b[1;32m    761\u001b[0m   \u001b[39mraise\u001b[39;00m \u001b[39mTypeError\u001b[39;00m(msg(\u001b[39mf\u001b[39m\u001b[39m\"\u001b[39m\u001b[39mhad abstract value \u001b[39m\u001b[39m{\u001b[39;00maval\u001b[39m}\u001b[39;00m\u001b[39m\"\u001b[39m))\n",
      "\u001b[0;31mTypeError\u001b[0m: Gradient only defined for scalar-output functions. Output had shape: (1,)."
     ]
    }
   ],
   "source": [
    "key = jax.random.PRNGKey(0)\n",
    "theta = jax.random.uniform(key,shape=(S,A))\n",
    "\n",
    "def log_pi(theta:np.ndarray,s:int,a:int):\n",
    "    return jnp.log(jax.nn.softmax(theta)[s,a])\n",
    "\n",
    "# def compute_grad_log_pi(theta:np.ndarray,s,a):\n",
    "#     # s,a = mdp.S_array,mdp.A_array\n",
    "#     grad_log_pi = jax.vmap(jax.grad(log_pi),in_axes=(None,0,0))(theta,s,a)\n",
    "\n",
    "#     return grad_log_pi\n",
    "def compute_grad_log_pi(theta, s,a):\n",
    "    \n",
    "    grad_log_pi = jax.vmap(jax.grad(log_pi), in_axes=(None, 0, 0))(theta, s, a)\n",
    "    return grad_log_pi\n",
    "\n",
    "S_array = mdp.S_array\n",
    "S_array = jnp.tile(S_array, mdp.A).reshape(-1, 1)\n",
    "\n",
    "A_array = mdp.A_array\n",
    "A_array = jnp.repeat(A_array, mdp.S).reshape(-1, 1)\n",
    "\n",
    "SA = jnp.hstack([S_array, A_array])\n",
    "\n",
    "grad = compute_grad_log_pi(theta, S_array,A_array)"
   ]
  },
  {
   "cell_type": "code",
   "execution_count": 17,
   "metadata": {},
   "outputs": [],
   "source": [
    "S_array = mdp.S_array\n",
    "S_array = jnp.tile(S_array, mdp.A).reshape(-1, 1)"
   ]
  },
  {
   "cell_type": "code",
   "execution_count": 18,
   "metadata": {},
   "outputs": [
    {
     "data": {
      "text/plain": [
       "Array([[0],\n",
       "       [1],\n",
       "       [2],\n",
       "       [3],\n",
       "       [4],\n",
       "       [0],\n",
       "       [1],\n",
       "       [2],\n",
       "       [3],\n",
       "       [4],\n",
       "       [0],\n",
       "       [1],\n",
       "       [2],\n",
       "       [3],\n",
       "       [4]], dtype=int32)"
      ]
     },
     "execution_count": 18,
     "metadata": {},
     "output_type": "execute_result"
    }
   ],
   "source": [
    "S_array"
   ]
  },
  {
   "cell_type": "code",
   "execution_count": 19,
   "metadata": {},
   "outputs": [],
   "source": [
    "A_array = mdp.A_array\n",
    "A_array = jnp.repeat(A_array, mdp.S).reshape(-1, 1)"
   ]
  },
  {
   "cell_type": "code",
   "execution_count": 20,
   "metadata": {},
   "outputs": [
    {
     "data": {
      "text/plain": [
       "Array([[0],\n",
       "       [0],\n",
       "       [0],\n",
       "       [0],\n",
       "       [0],\n",
       "       [1],\n",
       "       [1],\n",
       "       [1],\n",
       "       [1],\n",
       "       [1],\n",
       "       [2],\n",
       "       [2],\n",
       "       [2],\n",
       "       [2],\n",
       "       [2]], dtype=int32)"
      ]
     },
     "execution_count": 20,
     "metadata": {},
     "output_type": "execute_result"
    }
   ],
   "source": [
    "A_array"
   ]
  },
  {
   "cell_type": "code",
   "execution_count": null,
   "metadata": {},
   "outputs": [],
   "source": []
  }
 ],
 "metadata": {
  "kernelspec": {
   "display_name": "syumi-note",
   "language": "python",
   "name": "python3"
  },
  "language_info": {
   "codemirror_mode": {
    "name": "ipython",
    "version": 3
   },
   "file_extension": ".py",
   "mimetype": "text/x-python",
   "name": "python",
   "nbconvert_exporter": "python",
   "pygments_lexer": "ipython3",
   "version": "3.9.0"
  },
  "orig_nbformat": 4
 },
 "nbformat": 4,
 "nbformat_minor": 2
}
