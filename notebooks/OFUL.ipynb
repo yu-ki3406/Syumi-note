{
 "cells": [
  {
   "attachments": {},
   "cell_type": "markdown",
   "metadata": {},
   "source": [
    "**[OFUL](https://yasinov.github.io/linear-bandits-nips2011.pdf)(線形バンディット)**\n",
    "---\n",
    "\n",
    "---"
   ]
  },
  {
   "attachments": {},
   "cell_type": "markdown",
   "metadata": {},
   "source": [
    "今回は線形バンディットのアルゴリズムの一種であるOFULについてのコードなどを書いていきます。\n",
    "\n"
   ]
  },
  {
   "attachments": {},
   "cell_type": "markdown",
   "metadata": {},
   "source": [
    "---"
   ]
  },
  {
   "cell_type": "code",
   "execution_count": 56,
   "metadata": {},
   "outputs": [
    {
     "name": "stdout",
     "output_type": "stream",
     "text": [
      "4\n"
     ]
    }
   ],
   "source": [
    "import numpy as np\n",
    "import numpy.random as npr\n",
    "import scipy.linalg as sla\n",
    "import numpy.linalg as la\n",
    "np.random.seed(0)\n",
    "T = 100\n",
    "d = 5\n",
    "number_of_actions = 10\n",
    "\n",
    "S = 1.0\n",
    "R = 1.0\n",
    "\n",
    "theta_ = npr.normal(0,1,d)\n",
    "theta_ = theta_/la.norm(theta_)\n",
    "optimal_theta = S * theta_\n",
    "\n",
    "#feature of action\n",
    "\n",
    "X = npr.normal(0,1,(T,nuber_of_actions,d))\n",
    "\n",
    "expected_rewards = np.dot(X, optimal_theta)\n",
    "sum_action_rewards = np.zeros(nuber_of_actions)\n",
    "sum_action_rewards = np.sum(expected_rewards, axis=0)\n",
    "best_action = np.argmax(sum_action_rewards)\n",
    "\n",
    "print(best_action)"
   ]
  },
  {
   "cell_type": "code",
   "execution_count": 74,
   "metadata": {},
   "outputs": [],
   "source": [
    "lambda_ = 0.1\n",
    "delta = 1/number_of_actions\n",
    "S_hat = 1.0 \n",
    "R = 1.0#sub-gaussian param\n",
    "\n",
    "xty = np.zeros(d)\n",
    "invvt = np.eye(d)/lambda_\n",
    "logdetv = d * np.log(lambda_)\n",
    "theta_hat = np.zeros(d)\n",
    "Vt = lambda_ * np.eye(d)\n",
    "gamma = 0.1\n",
    "\n",
    "def confidence_set(d,R,lambda_,delta,S_hat,logdetv):\n",
    "    return R * np.sqrt(logdetv - d*np.log(lambda_) + np.log(1/(delta**2))) + np.sqrt(lambda_) * S_hat\n",
    "\n",
    "beta = confidence_set(d,R,lambda_,delta,S_hat,logdetv)\n",
    "\n",
    "\n",
    "for t in range(T):\n",
    "    x = X[t]\n",
    "    obj_function = np.dot(x,theta_hat) + gamma * beta\n",
    "    pull_idx = np.argmax(obj_function)\n",
    "    xt = x[pull_idx,:]\n",
    "    reward = np.dot(xt,optimal_theta) + R * npr.normal(0,5)\n",
    "    \n",
    "    xty+= reward * xt\n",
    "    Vt+= np.outer(xt,xt)\n",
    "    tempval1 = np.dot(invvt,xt)\n",
    "    tempval2 = np.dot(tempval1,xt)\n",
    "    logdetv += np.log(1 + tempval2)\n",
    "    \n",
    "    invvt = la.inv(Vt)\n",
    "    theta_hat = np.dot(invvt,xty)\n",
    "    \n",
    "    beta = confidence_set(d,R,lambda_,delta,S_hat,logdetv)\n",
    "    \n"
   ]
  },
  {
   "cell_type": "code",
   "execution_count": 75,
   "metadata": {},
   "outputs": [
    {
     "name": "stdout",
     "output_type": "stream",
     "text": [
      "[0.30246855 0.33465542 0.14957545 0.51029798 0.26524478]\n",
      "[0.49424072 0.11211344 0.27421644 0.62783889 0.52324025]\n"
     ]
    }
   ],
   "source": [
    "print(theta_hat)\n",
    "\n",
    "print(optimal_theta)"
   ]
  },
  {
   "cell_type": "code",
   "execution_count": 76,
   "metadata": {},
   "outputs": [
    {
     "name": "stdout",
     "output_type": "stream",
     "text": [
      "4\n"
     ]
    }
   ],
   "source": [
    "expected_rewards = np.dot(X, theta_hat)\n",
    "sum_action_rewards = np.zeros(number_of_actions)\n",
    "sum_action_rewards = np.sum(expected_rewards, axis=0)\n",
    "best_action = np.argmax(sum_action_rewards)\n",
    "\n",
    "print(best_action)"
   ]
  },
  {
   "cell_type": "code",
   "execution_count": null,
   "metadata": {},
   "outputs": [],
   "source": []
  }
 ],
 "metadata": {
  "kernelspec": {
   "display_name": "syumi-note",
   "language": "python",
   "name": "python3"
  },
  "language_info": {
   "codemirror_mode": {
    "name": "ipython",
    "version": 3
   },
   "file_extension": ".py",
   "mimetype": "text/x-python",
   "name": "python",
   "nbconvert_exporter": "python",
   "pygments_lexer": "ipython3",
   "version": "3.9.0"
  },
  "orig_nbformat": 4
 },
 "nbformat": 4,
 "nbformat_minor": 2
}
