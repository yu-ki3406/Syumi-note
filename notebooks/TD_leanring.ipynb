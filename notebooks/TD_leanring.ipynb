{
 "cells": [
  {
   "attachments": {},
   "cell_type": "markdown",
   "metadata": {},
   "source": [
    "# TD学習について\n",
    "\n",
    "---"
   ]
  },
  {
   "attachments": {},
   "cell_type": "markdown",
   "metadata": {},
   "source": [
    "今回は強化学習の１種のアルゴリズムであるTD(λ)学習について説明していきます．\n",
    "\n",
    "$\\hat{V}\\left(s_t\\right)$をtステップ目の推定価値関数とします．\n",
    "\n",
    "### TD(0)法\n",
    "\n",
    "TD誤差を次のように設定し，$\\delta:=r_t+\\gamma \\hat{V}\\left(s_{t+1}\\right)-\\hat{V}\\left(s_t\\right)$を使い,$\\hat{V}\\left(s_t\\right)$が次のように更新していきます．\n",
    "\n",
    "$$\n",
    "\\hat{V}\\left(s_t\\right):=\\hat{V}\\left(s_t\\right)+\\alpha_t \\delta\n",
    "$$"
   ]
  },
  {
   "attachments": {},
   "cell_type": "markdown",
   "metadata": {},
   "source": [
    "これをTD(0)法またはTD法と言います．\n",
    "\n",
    "ここからはTD法を一般化したTD(λ)法を解説します．\n",
    "\n",
    "---"
   ]
  },
  {
   "attachments": {},
   "cell_type": "markdown",
   "metadata": {},
   "source": [
    "### TD(λ)法"
   ]
  },
  {
   "attachments": {},
   "cell_type": "markdown",
   "metadata": {},
   "source": [
    "上の例では1ステップ先での予測誤差を使っていますね．\n",
    "\n",
    "ここでnステップ先の予測価値を使ってみましょう．\n",
    "\n",
    "$$\n",
    "c_t^{(n)} \\triangleq r_t+\\gamma r_{t+1}+\\cdots+\\gamma^n \\hat{V}\\left(s_{t+n}\\right)\n",
    "$$\n",
    "\n",
    "上はtからnステップ先の予測価値ですね．\n",
    "\n",
    "この時のTD誤差は次のようになります．\n",
    "$$\n",
    "\\delta_t^{(n)} \\triangleq c_t^{(n)}-\\hat{V}\\left(s_t\\right)=c_t^{(n)}-c_t^{(0)}\n",
    "$$\n"
   ]
  },
  {
   "attachments": {},
   "cell_type": "markdown",
   "metadata": {},
   "source": [
    "ここでさらに一般化して複数ステップでの予測価値を使っていきます．\n",
    "\n",
    "どれほど，長期のステップを重要視するかを調整する新しい割引変数λを導入します．\n",
    "\n",
    "$$\n",
    "c_{t, \\lambda} \\triangleq \\begin{cases}(1-\\lambda) \\sum_{n=1}^{\\infty} \\lambda^{n-1} c_t^{(n)} & (\\lambda \\in[0,1)) \\\\ c_t^{(\\infty)} & (\\lambda=1)\\end{cases}\n",
    "$$"
   ]
  },
  {
   "attachments": {},
   "cell_type": "markdown",
   "metadata": {},
   "source": [
    "このように書くと，TD誤差は次のように書けます．\n",
    "\n",
    "$$\n",
    "\\delta_{t, \\lambda} \\triangleq c_{t, \\lambda}-\\hat{V}\\left(s_t\\right)\n",
    "$$"
   ]
  },
  {
   "attachments": {},
   "cell_type": "markdown",
   "metadata": {},
   "source": [
    "これは**前方観測的なTD(λ)誤差**と言います．\n",
    "\n",
    "λが1に近ければ近いほど，モンテカルロ推定に近くなり，実際の観測する報酬と近いので推定の偏りは小さくなる一方で，推定の分散が大きくなることが知られています．\n",
    "\n",
    "上のTD誤差を使い，新しく予測価値関数の更新則を書き直すと，\n",
    "$$\n",
    "\\hat{V}\\left(s_t\\right):=\\hat{V}\\left(s_t\\right)+\\alpha_t \\delta_{t, \\lambda}\n",
    "$$"
   ]
  },
  {
   "attachments": {},
   "cell_type": "markdown",
   "metadata": {},
   "source": [
    "しかしながら，式を見て分かるように，TD誤差を求めるのに，未来の価値まで観測してから更新しなければならないので，計算に大きなコストが発生しますね，\n",
    "\n",
    "このことからオンライン学習には適していません．\n",
    "\n",
    "---"
   ]
  },
  {
   "attachments": {},
   "cell_type": "markdown",
   "metadata": {},
   "source": [
    "この考えをもう少し，オンライン学習に適した形にしてみましょう.\n",
    "\n",
    "$$\n",
    "\\begin{aligned}\n",
    "\\delta_t \\lambda & (1-\\lambda)\\left(\\sum_{n=1}^{\\infty} \\lambda^{n-1} r_t+\\gamma \\sum_{n=2}^{\\infty} \\lambda^{n-1} r_{t+1}+\\gamma^2 \\sum_{n=3}^{\\infty} \\lambda^{n-1} r_{t+2}+\\cdots\\right) \\\\\n",
    "& +(1-\\lambda)\\left(\\gamma \\hat{V}\\left(s_{t+1}\\right)+\\lambda \\gamma^2 \\hat{V}\\left(s_{t+2}\\right)+\\lambda^2 \\gamma^3 \\hat{V}\\left(s_{t+3}\\right)+\\cdots\\right)-\\hat{V}\\left(s_t\\right) \\\\\n",
    "= & r_t+\\lambda \\gamma r_{t+1}+\\lambda^2 \\gamma^2 r_{t+2}+\\cdots \\\\\n",
    "& +(1-\\lambda)\\left(\\gamma \\hat{V}\\left(s_{t+1}\\right)+\\lambda \\gamma^2 \\hat{V}\\left(s_{t+2}\\right)+\\lambda^2 \\gamma^3 \\hat{V}\\left(s_{t+3}\\right)+\\cdots\\right)-\\hat{V}\\left(s_t\\right) \\\\\n",
    "= & \\left(r_t+\\gamma \\hat{V}\\left(s_{t+1}\\right)-\\hat{V}\\left(s_t\\right)\\right) \\\\\n",
    "& +\\lambda \\gamma\\left(r_{t+1}+\\gamma \\hat{V}\\left(s_{t+2}\\right)-\\hat{V}\\left(s_{t+1}\\right)\\right) \\\\\n",
    "& +\\lambda^2 \\gamma^2\\left(r_{t+2}+\\gamma \\hat{V}\\left(s_{t+3}\\right)-\\hat{V}\\left(s_{t+2}\\right)\\right)+\\cdots\n",
    "\\end{aligned}\n",
    "$$"
   ]
  },
  {
   "attachments": {},
   "cell_type": "markdown",
   "metadata": {},
   "source": [
    "上の式をシグマ和を使って書き直すと，\n",
    "$$\n",
    "\\delta_{t, \\lambda}=\\sum_{n=0}^{\\infty}(\\lambda \\gamma)^n \\delta_{t+n}\n",
    "$$\n",
    "\n",
    "これを任意の時間Tステップ時までと，それ以降のTD誤差に分解すると，\n",
    "\n",
    "$$\n",
    "\\delta_{t, \\lambda}=\\sum_{\\tau=t}^T(\\lambda \\gamma)^{\\tau-t} \\delta_\\tau+\\sum_{\\tau=T+1}^{\\infty}(\\lambda \\gamma)^{\\tau-t} \\delta_\\tau\n",
    "$$"
   ]
  },
  {
   "attachments": {},
   "cell_type": "markdown",
   "metadata": {},
   "source": [
    "右辺の第2項は計算できないですが，第1項目は計算できますね．\n",
    "\n",
    "ここで各状態のトータルの更新量を考えます．\n",
    "\n",
    "ある特定の状態sについて，Tステップまでにsを訪問した時間ステップの集合を$\\mathcal{T}_s \\triangleq\\left\\{t_1, t_2, \\ldots, t_n\\right\\}$とすると，ステップTまでのTD(λ)の誤差の和は次のようになります．\n",
    "\n",
    "$$\n",
    "\\Delta_T(s) \\triangleq \\delta_{t_1, \\lambda}+\\delta_{t_2, \\lambda}+\\cdots+\\delta_{t_n, \\lambda}\n",
    "$$"
   ]
  },
  {
   "attachments": {},
   "cell_type": "markdown",
   "metadata": {},
   "source": [
    "このようにすると計算可能な誤差項は次のようになります．\n",
    "\n",
    "$$\n",
    "\\Delta_T^{\\text {past }}(s) \\triangleq \\sum_{\\tau=t_1}^T(\\lambda \\gamma)^{\\tau-t_1} \\delta_\\tau+\\sum_{\\tau=t_2}^T(\\lambda \\gamma)^{\\tau-t_2} \\delta_\\tau+\\cdots+\\sum_{\\tau=t_n}^T(\\lambda \\gamma)^{\\tau-t_n} \\delta_\\tau\n",
    "$$"
   ]
  },
  {
   "attachments": {},
   "cell_type": "markdown",
   "metadata": {},
   "source": [
    "---\n",
    "\n",
    "ここからコードの説明をしていきます．\n",
    "\n",
    "まず，TD(λ)法のコードを実装する前に，MDPを用意して，そのMDPに対する最適な価値関数を求めます．\n",
    "\n",
    "求めた後に，TD(λ)法で計算した推定価値関数と比較すればいいですね．\n",
    "\n"
   ]
  },
  {
   "cell_type": "code",
   "execution_count": 157,
   "metadata": {},
   "outputs": [],
   "source": [
    "# MDPの構築\n",
    "\n",
    "import numpy as np\n",
    "import jax\n",
    "import jax.numpy as jnp\n",
    "from typing import NamedTuple,Optional\n",
    "np.random.seed(0)\n",
    "\n",
    "S = 5 # 状態数\n",
    "A = 3 # 行動数\n",
    "S_set = jnp.arange(S)\n",
    "A_set = jnp.arange(A)\n",
    "gamma = 0.9 # 割引率\n",
    "\n",
    "rew = np.random.randn(S,A) # 報酬\n",
    "rew = jnp.array(rew)\n",
    "\n",
    "P = np.random.rand(S,A,S) # 遷移確率\n",
    "P = P.reshape(S*A,S)\n",
    "P = P/np.sum(P,axis=1,keepdims=True) # 正規化\n",
    "P = P.reshape(S,A,S)\n",
    "P = jnp.array(P)\n",
    "np.testing.assert_allclose(P.sum(axis=-1), 1, atol=1e-6)\n",
    "\n",
    "class MDP(NamedTuple):\n",
    "    S_set: jnp.ndarray\n",
    "    A_set: jnp.ndarray\n",
    "    rew: jnp.ndarray\n",
    "    P: jnp.ndarray\n",
    "    gamma: float\n",
    "    H: int\n",
    "    optimal_V: Optional[jnp.ndarray] = None\n",
    "\n",
    "    @property\n",
    "    def S(self):\n",
    "        return len(self.S_set)\n",
    "\n",
    "    @property\n",
    "    def A(self):\n",
    "        return len(self.A_set)\n",
    "\n",
    "H = int (1/(1-gamma) + 1000)\n",
    "mdp = MDP(S_set,A_set,rew,P,gamma,H)"
   ]
  },
  {
   "cell_type": "code",
   "execution_count": 158,
   "metadata": {},
   "outputs": [],
   "source": [
    "# 最適な価値関数の計算\n",
    "from functools import partial\n",
    "\n",
    "@partial(jax.jit,static_argnames=('S','A'))\n",
    "def _optimal_Q(S:int,A:int,mdp:MDP):\n",
    "    Q = jnp.zeros((S,A))\n",
    "\n",
    "    def backup(Q):\n",
    "        V = jnp.max(Q,axis=1)\n",
    "        return mdp.rew + mdp.gamma * jnp.dot(mdp.P,V)\n",
    "    \n",
    "    body_fn = lambda i,Q: backup(Q)\n",
    "    return jax.lax.fori_loop(0,mdp.H,body_fn,Q)\n",
    "\n",
    "compute_optimal_Q = lambda mdp : _optimal_Q(mdp.S,mdp.A,mdp)\n",
    "optimal_Q = compute_optimal_Q(mdp)\n",
    "optimal_V = jnp.max(optimal_Q,axis=1)\n",
    "mdp = mdp._replace(optimal_V=optimal_V)"
   ]
  },
  {
   "cell_type": "code",
   "execution_count": 159,
   "metadata": {},
   "outputs": [],
   "source": [
    "\n",
    "def TD_lambda(lam:float,mdp:MDP,T:int,history:np.ndarray,V:jnp.ndarray,alpha:float):\n",
    "    S,A = mdp.S,mdp.A\n",
    "    for s in range(S):\n",
    "        sigma = 0\n",
    "        s_index = np.where(history[:,0] == s)[0]\n",
    "        for s_i in s_index:\n",
    "            for i in range(s_i,T):\n",
    "                sigma += (lam * mdp.gamma) ** i *(history[:,1][s_i+i] + mdp.gamma * V[int(history[:,0][s_i+i+1])] - V[int(history[:,0][s_i+i])])\n",
    "\n",
    "        V[s] = V[s] + alpha * sigma\n",
    "\n",
    "    return V\n"
   ]
  },
  {
   "cell_type": "code",
   "execution_count": 160,
   "metadata": {},
   "outputs": [],
   "source": [
    "T = 20\n",
    "lam = 0.5\n",
    "alpha = 0.3\n",
    "history = np.zeros((H,2))\n",
    "V = np.zeros(mdp.S)\n",
    "s = np.random.choice(mdp.S)\n",
    "for i in range(H):\n",
    "    action = np.random.choice(mdp.A)\n",
    "    reward = mdp.rew[s,action] \n",
    "    # s_next = np.random.choice(mdp.S_set,p=mdp.P[s,action])\n",
    "    s_next = np.random.choice(mdp.S_set,p=[0.2,0.2,0.2,0.2,0.2])\n",
    "    history[i] = [s,reward]\n",
    "    s = s_next\n",
    "    if i+1 > T:\n",
    "        V = TD_lambda(lam,mdp,T,history,V,alpha)\n",
    "\n",
    "V =V.reshape(5,1)\n",
    "optimal_V = optimal_V.reshape(5,1)\n"
   ]
  },
  {
   "cell_type": "code",
   "execution_count": 163,
   "metadata": {},
   "outputs": [
    {
     "data": {
      "image/png": "[encoded data removed]",
      "text/plain": [
       "<Figure size 640x480 with 2 Axes>"
      ]
     },
     "metadata": {},
     "output_type": "display_data"
    }
   ],
   "source": [
    "import matplotlib.pyplot as plt\n",
    "import seaborn as sns\n",
    "\n",
    "sns.heatmap(optimal_V-V)\n",
    "plt.title('optimal_V - TD(λ)V')\n",
    "plt.show()\n"
   ]
  },
  {
   "attachments": {},
   "cell_type": "markdown",
   "metadata": {},
   "source": [
    "収束してそうですね．\n",
    "\n",
    "今回はλと学習率などを固定したので，for文で色々なものを試しても面白そう．"
   ]
  },
  {
   "attachments": {},
   "cell_type": "markdown",
   "metadata": {},
   "source": []
  }
 ],
 "metadata": {
  "kernelspec": {
   "display_name": "syumi-note",
   "language": "python",
   "name": "python3"
  },
  "language_info": {
   "codemirror_mode": {
    "name": "ipython",
    "version": 3
   },
   "file_extension": ".py",
   "mimetype": "text/x-python",
   "name": "python",
   "nbconvert_exporter": "python",
   "pygments_lexer": "ipython3",
   "version": "3.9.0"
  },
  "orig_nbformat": 4
 },
 "nbformat": 4,
 "nbformat_minor": 2
}
