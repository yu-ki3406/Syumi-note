{
 "cells": [
  {
   "attachments": {},
   "cell_type": "markdown",
   "metadata": {},
   "source": [
    "# 期待値と極限の交換について"
   ]
  },
  {
   "attachments": {},
   "cell_type": "markdown",
   "metadata": {},
   "source": [
    "---\n"
   ]
  },
  {
   "attachments": {},
   "cell_type": "markdown",
   "metadata": {},
   "source": [
    "### 単調収束定理(Monotone convergence theorem)"
   ]
  },
  {
   "attachments": {},
   "cell_type": "markdown",
   "metadata": {},
   "source": [
    "まずは、単調収束定理について説明していきます。\n",
    "\n",
    "非負値確率変数列$\\left\\{X_n\\right\\}_{n \\in \\mathbb{N}}$がほとんど確実に単調増加列であるとすると、$n=1,2,...$に対して以下が成り立ちます。\n",
    "\n",
    "$$\n",
    "\\lim _{n \\rightarrow \\infty} \\mathbb{E}\\left[X_n\\right]=\\mathbb{E}\\left[\\lim _{n \\rightarrow \\infty} X_n\\right]\n",
    "$$\n",
    "\n",
    "---"
   ]
  },
  {
   "attachments": {},
   "cell_type": "markdown",
   "metadata": {},
   "source": [
    "#### 証明\n",
    "\n",
    "$X:=\\lim X_n$ a.s.(ほとんど確実に)とおきます。ここで$X(\\omega)=\\infty$(ある$\\omega \\in \\Omega $)を許します。\n",
    "\n",
    "これは単調増加列から明らかですね。\n",
    "\n",
    "$infty$を許すと、極限$X$が存在することが仮定できます。\n",
    "\n",
    "そして、任意の$n$ に対して $X_n \\leq X$ a.s.なので、次のことは明らかとなります。\n",
    "\n",
    "$$\n",
    "\\lim _{n \\rightarrow \\infty} \\mathbb{E}\\left[X_n\\right] \\leq \\mathbb{E}[X]\n",
    "$$\n",
    "\n",
    "---\n",
    "\n",
    "**$\\mathbb{E}[X]<\\infty$の時を考えます。**\n",
    "\n",
    "\n"
   ]
  },
  {
   "attachments": {},
   "cell_type": "markdown",
   "metadata": {},
   "source": [
    "非負値確率変数の期待値の定義により、任意の$\\epsilon>0$に対して、ある離散型確率変数$Y$があり、$Y<X a.s.$となるものが存在し、十分大きなnに対して次のことが成り立つ。\n",
    "\n",
    "$$\n",
    "Y-\\epsilon \\leq X_n \\leq X \\quad \\text { a.s. }\n",
    "$$\n",
    "\n",
    "$$\n",
    "\\mathbb{E}[X]-\\epsilon \\leq \\mathbb{E}[Y]\n",
    "$$"
   ]
  },
  {
   "attachments": {},
   "cell_type": "markdown",
   "metadata": {},
   "source": [
    "この2つの不等式から、次のことが成り立つのは明らかですね。\n",
    "\n",
    "$$\n",
    "\\mathbb{E}[X]-\\epsilon \\leq \\mathbb{E}[Y] \\leq \\mathbb{E}\\left[X_n\\right]+\\epsilon\n",
    "$$"
   ]
  },
  {
   "attachments": {},
   "cell_type": "markdown",
   "metadata": {},
   "source": [
    "このことより、$\\epsilon$は任意で、nを十分大きくすることで、次の不等式が成り立ち、極限と期待値の順序交換が成り立ちます。\n",
    "\n",
    "$$\n",
    "\\mathbb{E}[X] \\leq \\lim _{n \\rightarrow \\infty} \\mathbb{E}\\left[X_n\\right]\n",
    "$$"
   ]
  },
  {
   "attachments": {},
   "cell_type": "markdown",
   "metadata": {},
   "source": [
    "---\n",
    "\n",
    "**$\\mathbb{E}[X]=\\infty$を考えます。**"
   ]
  },
  {
   "attachments": {},
   "cell_type": "markdown",
   "metadata": {},
   "source": [
    "上の場合と同じく、$Y \\leq X$を考えます。\n",
    "\n",
    "Yの期待値を$\\mathbb{E}[Y]>N$に抑えられるとします。\n",
    "\n",
    "Nはある正の数です。\n",
    "\n",
    "前の証明のように進めると、次のことが成り立ちます。\n",
    "\n",
    "$$\n",
    "N<\\mathbb{E}[Y] \\leq \\mathbb{E}\\left[X_n\\right]+\\epsilon\n",
    "$$\n"
   ]
  },
  {
   "attachments": {},
   "cell_type": "markdown",
   "metadata": {},
   "source": [
    "Nは任意の数から$\\infty$を許すので、証明は終わりです。\n",
    "\n",
    "---"
   ]
  },
  {
   "attachments": {},
   "cell_type": "markdown",
   "metadata": {},
   "source": []
  }
 ],
 "metadata": {
  "language_info": {
   "name": "python"
  },
  "orig_nbformat": 4
 },
 "nbformat": 4,
 "nbformat_minor": 2
}
