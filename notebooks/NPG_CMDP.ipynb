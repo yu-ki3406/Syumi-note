{
 "cells": [
  {
   "attachments": {},
   "cell_type": "markdown",
   "metadata": {},
   "source": [
    "# NPG-CMDP"
   ]
  },
  {
   "attachments": {},
   "cell_type": "markdown",
   "metadata": {},
   "source": [
    "---\n"
   ]
  },
  {
   "attachments": {},
   "cell_type": "markdown",
   "metadata": {},
   "source": [
    "今回はこちらの[論文](https://viterbi-web.usc.edu/~mihailo/papers/dinzhabasjovNIPS20.pdf)の紹介をしていきます。\n",
    "\n",
    "まず、制約付きMDPの価値関数の定義をしていきます。\n",
    "\n",
    "$r$は即時報酬、$g$は即時コストとします。\n",
    "\n",
    "$$\n",
    "V_r^\\pi(s):=\\mathbb{E}\\left[\\sum_{t=0}^{\\infty} \\gamma^t r\\left(s_t, a_t\\right) \\mid \\pi, s_0=s\\right] \\text { , } V_g^\\pi(s):=\\mathbb{E}\\left[\\sum_{t=0}^{\\infty} \\gamma^t g\\left(s_t, a_t\\right) \\mid \\pi, s_0=s\\right]\n",
    "$$\n",
    "\n"
   ]
  },
  {
   "attachments": {},
   "cell_type": "markdown",
   "metadata": {},
   "source": [
    "そして、制約付きMDPでは従来の強化学習の価値最大化をもくひょうにしつつ、制約も満たすことを目標とします。\n",
    "\n",
    "式で表すと、以下のようになります。\n",
    "\n",
    "$$\n",
    "\\underset{\\pi \\in \\Pi}{\\operatorname{maximize}} V_r^\\pi(\\rho) \\text { subject to } V_g^\\pi(\\rho) \\geq b\n",
    "$$\n",
    "\n"
   ]
  },
  {
   "attachments": {},
   "cell_type": "markdown",
   "metadata": {},
   "source": [
    "ラグランジュの未定乗数法で表すと、次のようになります。\n",
    "\n",
    "$$\n",
    "\\underset{\\theta \\in \\Theta}{\\operatorname{maximize}} \\underset{\\lambda \\geq 0}{\\operatorname{minimize}} V_L^{\\pi_\\theta, \\lambda}(\\rho):=V_r^{\\pi_\\theta}(\\rho)+\\lambda\\left(V_g^{\\pi_\\theta}(\\rho)-b\\right) \\text {. }\n",
    "$$\n",
    "\n"
   ]
  },
  {
   "attachments": {},
   "cell_type": "markdown",
   "metadata": {},
   "source": [
    "---\n"
   ]
  },
  {
   "attachments": {},
   "cell_type": "markdown",
   "metadata": {},
   "source": [
    "この論文の流れとしては、NPGの考えを使って、パラメータをそれぞれ更新していき、最後にモデルフリー(サンプルを使った)アルゴリズムを提案しています。\n",
    "\n",
    "パラメータの更新則としては、次のようになります。\n",
    "\n",
    "$$\n",
    "\\theta^{(t+1)}=\\theta^{(t)}+\\eta_1 F_\\rho\\left(\\theta^{(t)}\\right)^{\\dagger} \\cdot \\nabla_\\theta V_L^{\\theta^{(t)}, \\lambda^{(t)}}(\\rho) \\text { , } \\lambda^{(t+1)}=\\mathcal{P}_{\\Lambda}\\left(\\lambda^{(t)}-\\eta_2\\left(V_g^{\\theta^{(t)}}(\\rho)-b\\right)\\right)\n",
    "$$\n"
   ]
  },
  {
   "attachments": {},
   "cell_type": "markdown",
   "metadata": {},
   "source": [
    "---\n",
    "\n",
    "まずは、上記の更新方法を使い、MDPが既知で、方策をソフトマックス関数で考えた時の、リグレットと、制約のviolationを以下に示します。\n",
    "\n",
    " $\\frac{1}{T} \\sum_{t=0}\\left(V_r^*(\\rho)-V_r^{(t)}(\\rho)\\right) \\leq \\frac{4}{(1-\\gamma)^2} \\frac{1}{\\sqrt{T}}$ $\\text{,}$ $\\left[\\frac{1}{T} \\sum_{t=0}^{T-1}\\left(b-V_g^{(t)}(\\rho)\\right)\\right] \\leq \\frac{1 / \\xi+4 \\xi}{(1-\\gamma)^2} \\frac{1}{\\sqrt{T}}$."
   ]
  },
  {
   "attachments": {},
   "cell_type": "markdown",
   "metadata": {},
   "source": []
  }
 ],
 "metadata": {
  "kernelspec": {
   "display_name": "syumi-note",
   "language": "python",
   "name": "python3"
  },
  "language_info": {
   "codemirror_mode": {
    "name": "ipython",
    "version": 3
   },
   "file_extension": ".py",
   "mimetype": "text/x-python",
   "name": "python",
   "nbconvert_exporter": "python",
   "pygments_lexer": "ipython3",
   "version": "3.9.0"
  },
  "orig_nbformat": 4
 },
 "nbformat": 4,
 "nbformat_minor": 2
}
