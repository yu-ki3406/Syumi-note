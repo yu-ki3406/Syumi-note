{
 "cells": [
  {
   "cell_type": "code",
   "execution_count": 200,
   "metadata": {},
   "outputs": [
    {
     "name": "stdout",
     "output_type": "stream",
     "text": [
      "(8, 4)\n",
      "(8, 4, 8)\n",
      "8\n"
     ]
    }
   ],
   "source": [
    "import jax\n",
    "\n",
    "import jax.numpy as jnp\n",
    "import numpy as np\n",
    "from typing import NamedTuple,Optional\n",
    "import matplotlib.pyplot as plt\n",
    "np.random.seed(123)\n",
    "S = 8 #state_size\n",
    "A = 4  #action_size\n",
    "S_array = np.arange(S) #state_set\n",
    "A_array = np.arange(A) #action_set\n",
    "gamma = 0.99\n",
    "\n",
    "rew = np.random.rand(S,A) #報酬\n",
    "\n",
    "P = np.random.rand(S,A, S) #遷移確率\n",
    "P = P / np.sum(P,axis=-1,keepdims=True)\n",
    "P = P.reshape(S,A,S)\n",
    "np.testing.assert_almost_equal(P.sum(axis=-1),1) #確率1になっているか確認\n",
    "\n",
    "# MDPの定義\n",
    "\n",
    "class MDP(NamedTuple):\n",
    "    S_array : np.array\n",
    "    A_array : np.array\n",
    "    gamma : float\n",
    "    rew : np.array\n",
    "    P : np.array\n",
    "    horizon : int\n",
    "\n",
    "    @property\n",
    "    def S(self) -> int:\n",
    "        return len(self.S_array)\n",
    "\n",
    "    @property\n",
    "    def A(self) -> int:\n",
    "        return len(self.A_array)\n",
    "\n",
    "horizon = int(1 / (1 - gamma))\n",
    "mdp = MDP(S_array,A_array,gamma,rew,P,horizon)\n",
    "print(mdp.rew.shape)\n",
    "print(mdp.P.shape)\n",
    "print(mdp.S)"
   ]
  },
  {
   "cell_type": "code",
   "execution_count": 209,
   "metadata": {},
   "outputs": [],
   "source": [
    "import numpy as np\n",
    "\n",
    "def quantile_dynamic_programming(theta:np.ndarray, mdp:MDP, gamma:float) -> np.array:\n",
    "    \"\"\"\n",
    "    Quantile Dynamic Programming\n",
    "\n",
    "    Parameters\n",
    "    ----------\n",
    "    theta : np.array\n",
    "        quantile function\n",
    "    mdp : MDP\n",
    "        MDP\n",
    "    gamma : float\n",
    "        discount factor\n",
    "\n",
    "    Returns\n",
    "    -------\n",
    "    theta_prime : np.array\n",
    "        next quantile function\n",
    "\n",
    "    \"\"\"\n",
    "    m = theta.shape[1]\n",
    "\n",
    "    theta_prime = np.zeros_like(theta)\n",
    "\n",
    "    for x in range(mdp.S):\n",
    "        targets = {'outcome': [], 'probability': []}\n",
    "        for x_prime in range(mdp.S):\n",
    "            for j in range(m):\n",
    "                action_index = np.argmax(mdp.rew[x])\n",
    "                new_theta = mdp.rew[x, action_index] + gamma * theta[x_prime, j]\n",
    "                probability = mdp.P[x, action_index, x_prime]\n",
    "                targets['outcome'].append(new_theta)\n",
    "                targets['probability'].append(probability)\n",
    "\n",
    "        #分位点を中心に考えてるので、ソートして累積分布を求められる\n",
    "        sorted_indices = np.argsort(targets['outcome'])\n",
    "        outcomes = np.array(targets['outcome'])[sorted_indices]\n",
    "        probabilities = np.array(targets['probability'])[sorted_indices]\n",
    "\n",
    "        cumulative_probability = 0\n",
    "        for i in range(1, m + 1):\n",
    "            target_index = 0\n",
    "            while cumulative_probability < (2 * i - 1) / 2 :\n",
    "                #i番目の分位を遷移確率が超えるまで足し、その中で超えない最大のindex分位として採用\n",
    "                cumulative_probability += probabilities[target_index]\n",
    "                target_index += 1\n",
    "\n",
    "            q_prime = outcomes[target_index - 1]\n",
    "            theta_prime[x, i - 1] = q_prime\n",
    "\n",
    "    return theta_prime\n",
    "\n"
   ]
  },
  {
   "cell_type": "code",
   "execution_count": 210,
   "metadata": {},
   "outputs": [],
   "source": [
    "def V_Iteration(mdp: MDP):\n",
    "    S,A = mdp.S,mdp.A\n",
    "    Q = np.zeros((S,A))\n",
    "    policy = np.zeros((S,A))\n",
    "    for s in range(S):\n",
    "        for a in range(A):\n",
    "            for s_dash in range(S):\n",
    "                Q[s,a] = mdp.rew[s,a] + mdp.gamma * mdp.P[s,a,s_dash] * np.max(Q[s_dash,:])\n",
    "    V = np.max(Q,axis=-1)\n",
    "    return V"
   ]
  },
  {
   "cell_type": "code",
   "execution_count": 211,
   "metadata": {},
   "outputs": [
    {
     "data": {
      "text/plain": [
       "0.10184606604363478"
      ]
     },
     "execution_count": 211,
     "metadata": {},
     "output_type": "execute_result"
    }
   ],
   "source": [
    "m = 5\n",
    "theta = np.zeros((mdp.S, m))\n",
    "\n",
    "re = quantile_dynamic_programming(theta, mdp, gamma)\n",
    "V_tau = re.sum(axis=-1)/m\n",
    "V = V_Iteration(mdp)\n",
    "np.max(np.abs(V-V_tau))"
   ]
  },
  {
   "cell_type": "code",
   "execution_count": 204,
   "metadata": {},
   "outputs": [
    {
     "data": {
      "text/plain": [
       "0.10184606604363466"
      ]
     },
     "execution_count": 204,
     "metadata": {},
     "output_type": "execute_result"
    }
   ],
   "source": [
    "m = 100\n",
    "theta = np.zeros((mdp.S, m))\n",
    "\n",
    "re = quantile_dynamic_programming(theta, mdp, gamma)\n",
    "V_tau = re.sum(axis=-1)/m\n",
    "V = V_Iteration(mdp)\n",
    "np.max(np.abs(V-V_tau))"
   ]
  },
  {
   "cell_type": "code",
   "execution_count": 205,
   "metadata": {},
   "outputs": [],
   "source": [
    "import matplotlib.pyplot as plt\n",
    "import seaborn as sns\n",
    "def plot_dif_quantile(mdp: MDP, gamma: float, m_list: list):\n",
    "    V = V_Iteration(mdp)\n",
    "    dif_list = []\n",
    "    for m in m_list:\n",
    "        theta = np.zeros((mdp.S, m))\n",
    "        result = quantile_dynamic_programming(theta, mdp, gamma)\n",
    "        result = result.mean(axis=-1)\n",
    "        dif = np.max(np.abs(V - result))\n",
    "        dif_list.append(dif)\n",
    "    plt.figure(figsize=(10, 5))\n",
    "    plt.scatter(m_list, dif_list)\n",
    "    plt.xlabel('m values')\n",
    "    plt.ylabel('Error')\n",
    "    plt.title('Difference from V_Iteration for Different m values')\n",
    "    plt.show()\n",
    "    return dif_list"
   ]
  },
  {
   "cell_type": "code",
   "execution_count": 206,
   "metadata": {},
   "outputs": [
    {
     "data": {
      "image/png": "[encoded data removed]",
      "text/plain": [
       "<Figure size 1000x500 with 1 Axes>"
      ]
     },
     "metadata": {},
     "output_type": "display_data"
    }
   ],
   "source": [
    "gamma = 0.99\n",
    "m_list = [5,10,50,100,1000]\n",
    "dif = plot_dif_quantile(mdp, gamma, m_list)"
   ]
  },
  {
   "cell_type": "code",
   "execution_count": 207,
   "metadata": {},
   "outputs": [
    {
     "data": {
      "text/plain": [
       "[0.10184606604363478,\n",
       " 0.10184606604363478,\n",
       " 0.10184606604363466,\n",
       " 0.10184606604363466,\n",
       " 0.10184606604363466]"
      ]
     },
     "execution_count": 207,
     "metadata": {},
     "output_type": "execute_result"
    }
   ],
   "source": [
    "dif"
   ]
  },
  {
   "cell_type": "code",
   "execution_count": 194,
   "metadata": {},
   "outputs": [
    {
     "data": {
      "text/plain": [
       "-1.1102230246251565e-16"
      ]
     },
     "execution_count": 194,
     "metadata": {},
     "output_type": "execute_result"
    }
   ],
   "source": [
    "dif[0] - dif[3]"
   ]
  },
  {
   "cell_type": "code",
   "execution_count": null,
   "metadata": {},
   "outputs": [],
   "source": []
  }
 ],
 "metadata": {
  "kernelspec": {
   "display_name": "syumi-note",
   "language": "python",
   "name": "python3"
  },
  "language_info": {
   "codemirror_mode": {
    "name": "ipython",
    "version": 3
   },
   "file_extension": ".py",
   "mimetype": "text/x-python",
   "name": "python",
   "nbconvert_exporter": "python",
   "pygments_lexer": "ipython3",
   "version": "3.9.0"
  },
  "orig_nbformat": 4
 },
 "nbformat": 4,
 "nbformat_minor": 2
}
