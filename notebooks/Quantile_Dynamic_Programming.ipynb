{
 "cells": [
  {
   "cell_type": "code",
   "execution_count": 104,
   "metadata": {},
   "outputs": [
    {
     "name": "stdout",
     "output_type": "stream",
     "text": [
      "(10,)\n",
      "(10, 10)\n"
     ]
    }
   ],
   "source": [
    "import jax\n",
    "\n",
    "import jax.numpy as jnp\n",
    "import numpy as np\n",
    "from typing import NamedTuple,Optional\n",
    "import matplotlib.pyplot as plt\n",
    "np.random.seed(0)\n",
    "S = 10 #state_size\n",
    "A = 4  #action_size\n",
    "S_array = np.arange(S) #state_set\n",
    "A_array = np.arange(A) #action_set\n",
    "gamma = 0.9\n",
    "\n",
    "rew = np.random.rand(S) #報酬\n",
    "\n",
    "P = np.random.rand(S, S) #遷移確率\n",
    "P = P / np.sum(P,axis=-1,keepdims=True)\n",
    "P = P.reshape(S,S)\n",
    "np.testing.assert_almost_equal(P.sum(axis=-1),1) #確率1になっているか確認\n",
    "\n",
    "# MDPの定義\n",
    "\n",
    "class MDP(NamedTuple):\n",
    "    S_array : np.array\n",
    "    A_array : np.array\n",
    "    gamma : float\n",
    "    rew : np.array\n",
    "    P : np.array\n",
    "    horizon : int\n",
    "\n",
    "    @property\n",
    "    def S(self) -> int:\n",
    "        return len(self.S_array)\n",
    "\n",
    "    @property\n",
    "    def A(self) -> int:\n",
    "        return len(self.A_array)\n",
    "\n",
    "horizon = int(1 / (1 - gamma))\n",
    "mdp = MDP(S_array,A_array,gamma,rew,P,horizon)\n",
    "print(mdp.rew.shape)\n",
    "print(mdp.P.shape)"
   ]
  },
  {
   "cell_type": "code",
   "execution_count": 131,
   "metadata": {},
   "outputs": [
    {
     "name": "stdout",
     "output_type": "stream",
     "text": [
      "Updated quantile estimates: (10, 100)\n",
      "original value: [0.83751738 1.00389324 0.89146725 0.83358706 0.71235867 0.93459799\n",
      " 0.72629109 1.18047687 1.25236663 3.83441519]\n"
     ]
    }
   ],
   "source": [
    "import numpy as np\n",
    "\n",
    "def quantile_dynamic_programming(theta,  MDP, gamma):\n",
    "    X = len(theta)\n",
    "    m = len(theta[0])\n",
    "\n",
    "    theta_prime = np.zeros_like(theta)\n",
    "\n",
    "    for x in range(MDP.S):\n",
    "        probabilities = []\n",
    "        outcomes = []\n",
    "        for x_prime in range(MDP.S):\n",
    "            for a in range(MDP.A):\n",
    "                for j in range(m):\n",
    "                    theta[x] = MDP.rew[x] + gamma * theta[x_prime, j]\n",
    "                    probability = MDP.P[x,x_prime] / m\n",
    "                    outcomes.append(theta[x])\n",
    "                    probabilities.append(probability)\n",
    "\n",
    "        # Sort targets ascending according to outcomes\n",
    "        # print(targets)\n",
    "        # targets = np.array(targets, dtype=[('outcome', float), ('probability', float)])\n",
    "        # targets = targets.reshape(MDP.S, m)\n",
    "        # print(targets[0])\n",
    "        # print('-----')\n",
    "        # targets.sort(order='outcome')\n",
    "        outcomes = np.array(outcomes)\n",
    "        probabilities = np.array(probabilities)\n",
    "\n",
    "        # Sort targets based on outcomes\n",
    "        sorted_indices = np.argsort(outcomes)\n",
    "        outcomes = outcomes[sorted_indices]\n",
    "        probabilities = probabilities[sorted_indices]\n",
    "\n",
    "        cumulative_probability = 0\n",
    "        for i in range(1, m + 1):\n",
    "            target_index = 0\n",
    "            # print(target_index < len(probabilities) and cumulative_probability < (2 * i - 1) / (2 * m))\n",
    "            while target_index < len(probabilities) and cumulative_probability < (2 * i - 1) / (2 * m):\n",
    "                cumulative_probability += probabilities[target_index][0]\n",
    "                # print(cumulative_probability)\n",
    "                target_index += 1\n",
    "                # print('a')\n",
    "\n",
    "            q_prime = outcomes[target_index - 1]\n",
    "            # print(q_prime[0][2])\n",
    "            theta_prime[x, i - 1] = q_prime[x][i-1]\n",
    "\n",
    "    return theta_prime\n",
    "\n",
    "# Example usage\n",
    "# Set initial parameters\n",
    "m = 100 # Number of quantiles\n",
    "gamma = 0.9  # Discount factor\n",
    "\n",
    "# Dummy quantile estimates\n",
    "theta = np.random.rand(mdp.S, m)\n",
    "\n",
    "# Dummy transition and reward probabilities\n",
    "# transition_probs = {x_prime: {r: 1 / m for r in range(-1, 2)} for x_prime in range(X)}\n",
    "\n",
    "# Dummy interpolation parameters\n",
    "# interpolation_params = np.random.rand(X, m)\n",
    "\n",
    "# Run the quantile dynamic programming algorithm\n",
    "result = quantile_dynamic_programming(theta,mdp,gamma)\n",
    "\n",
    "print(\"Updated quantile estimates:\", result.shape)\n",
    "\n",
    "print(f'original value: {result.mean(axis=-1)}')\n"
   ]
  },
  {
   "cell_type": "code",
   "execution_count": 132,
   "metadata": {},
   "outputs": [],
   "source": [
    "def V_Iteration(mdp: MDP,) -> np.array:\n",
    "    S,A = mdp.S,mdp.A\n",
    "    Q = np.zeros((S,A))\n",
    "    policy = np.zeros((S,A))\n",
    "    for s in range(S):\n",
    "        for a in range(A):\n",
    "            for s_dash in range(S):\n",
    "                Q[s,a] += mdp.rew[s,a] + mdp.gamma * mdp.P[s,a,s_dash] * np.max(Q[s_dash,:])\n",
    "    V = np.max(Q,axis=-1)\n",
    "    return V"
   ]
  },
  {
   "cell_type": "code",
   "execution_count": 133,
   "metadata": {},
   "outputs": [
    {
     "ename": "IndexError",
     "evalue": "too many indices for array: array is 1-dimensional, but 2 were indexed",
     "output_type": "error",
     "traceback": [
      "\u001b[0;31m---------------------------------------------------------------------------\u001b[0m",
      "\u001b[0;31mIndexError\u001b[0m                                Traceback (most recent call last)",
      "Cell \u001b[0;32mIn[133], line 1\u001b[0m\n\u001b[0;32m----> 1\u001b[0m V \u001b[39m=\u001b[39m V_Iteration(mdp)\n",
      "Cell \u001b[0;32mIn[132], line 8\u001b[0m, in \u001b[0;36mV_Iteration\u001b[0;34m(mdp)\u001b[0m\n\u001b[1;32m      6\u001b[0m     \u001b[39mfor\u001b[39;00m a \u001b[39min\u001b[39;00m \u001b[39mrange\u001b[39m(A):\n\u001b[1;32m      7\u001b[0m         \u001b[39mfor\u001b[39;00m s_dash \u001b[39min\u001b[39;00m \u001b[39mrange\u001b[39m(S):\n\u001b[0;32m----> 8\u001b[0m             Q[s,a] \u001b[39m+\u001b[39m\u001b[39m=\u001b[39m mdp\u001b[39m.\u001b[39;49mrew[s,a] \u001b[39m+\u001b[39m mdp\u001b[39m.\u001b[39mgamma \u001b[39m*\u001b[39m mdp\u001b[39m.\u001b[39mP[s,a,s_dash] \u001b[39m*\u001b[39m np\u001b[39m.\u001b[39mmax(Q[s_dash,:])\n\u001b[1;32m      9\u001b[0m V \u001b[39m=\u001b[39m np\u001b[39m.\u001b[39mmax(Q,axis\u001b[39m=\u001b[39m\u001b[39m-\u001b[39m\u001b[39m1\u001b[39m)\n\u001b[1;32m     10\u001b[0m \u001b[39mreturn\u001b[39;00m V\n",
      "\u001b[0;31mIndexError\u001b[0m: too many indices for array: array is 1-dimensional, but 2 were indexed"
     ]
    }
   ],
   "source": [
    "V = V_Iteration(mdp)"
   ]
  },
  {
   "cell_type": "code",
   "execution_count": 134,
   "metadata": {},
   "outputs": [
    {
     "data": {
      "text/plain": [
       "array([ 77.57327773, 102.12569468, 120.96130182, 108.81023858,\n",
       "       122.06164951, 159.31651006, 145.68946077, 153.95669538,\n",
       "       173.9101292 , 207.2481191 ])"
      ]
     },
     "execution_count": 134,
     "metadata": {},
     "output_type": "execute_result"
    }
   ],
   "source": [
    "V - result.mean(axis=-1)"
   ]
  },
  {
   "cell_type": "code",
   "execution_count": 99,
   "metadata": {},
   "outputs": [
    {
     "data": {
      "text/plain": [
       "array([ 78.41079511, 103.12958792, 121.85276907, 109.64382563,\n",
       "       122.77400818, 160.25110804, 146.41575185, 155.13717225,\n",
       "       175.16249583, 211.08253429])"
      ]
     },
     "execution_count": 99,
     "metadata": {},
     "output_type": "execute_result"
    }
   ],
   "source": [
    "V"
   ]
  },
  {
   "cell_type": "code",
   "execution_count": null,
   "metadata": {},
   "outputs": [],
   "source": []
  }
 ],
 "metadata": {
  "kernelspec": {
   "display_name": "syumi-note",
   "language": "python",
   "name": "python3"
  },
  "language_info": {
   "codemirror_mode": {
    "name": "ipython",
    "version": 3
   },
   "file_extension": ".py",
   "mimetype": "text/x-python",
   "name": "python",
   "nbconvert_exporter": "python",
   "pygments_lexer": "ipython3",
   "version": "3.9.0"
  },
  "orig_nbformat": 4
 },
 "nbformat": 4,
 "nbformat_minor": 2
}
