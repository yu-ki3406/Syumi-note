{
 "cells": [
  {
   "attachments": {},
   "cell_type": "markdown",
   "metadata": {},
   "source": [
    "# Explore-Then-Commit Algorithm (ETC)"
   ]
  },
  {
   "attachments": {},
   "cell_type": "markdown",
   "metadata": {},
   "source": [
    "-------"
   ]
  },
  {
   "attachments": {},
   "cell_type": "markdown",
   "metadata": {},
   "source": [
    "#### まずはETCのアルゴリズムを書き, それを説明していきたいと思います．"
   ]
  },
  {
   "attachments": {},
   "cell_type": "markdown",
   "metadata": {},
   "source": [
    "今回はk個のアームがあると想定し, 各アームをm回ずつ選ぶとします，\n",
    "$\\hat{u}_{i}$はt回目までのアームiの平均報酬を表すとします．\n",
    "\n",
    "1. mを入力\n",
    "\n",
    "2. t回目のアクションの選び方は \n",
    "\n",
    "$$A_t = \\left\\{\n",
    "    \\begin{array}{ll}\n",
    "    (t \\bmod k + 1) & (mk \\geq t) \\\\\n",
    "    \\arg\\max_{i}\\hat{u}_{i}(mk) & (mk \\lt t)\n",
    "    \\end{array}\n",
    "\\right.\n",
    "$$"
   ]
  },
  {
   "attachments": {},
   "cell_type": "markdown",
   "metadata": {},
   "source": [
    "##### バンディットにおけるリグレットとは最適なアームの報酬と実際に選んだアームの報酬の差になります．\n",
    "$$\n",
    "Regret = u_{*} - u_{i}\n",
    "$$"
   ]
  },
  {
   "attachments": {},
   "cell_type": "markdown",
   "metadata": {},
   "source": [
    "----"
   ]
  },
  {
   "attachments": {},
   "cell_type": "markdown",
   "metadata": {},
   "source": [
    "##### まずリグレットの定義は"
   ]
  },
  {
   "attachments": {},
   "cell_type": "markdown",
   "metadata": {},
   "source": [
    "\\begin{equation}\n",
    "Regret(T) = \\sum_{t=1}^{T} (\\mu_{*} - \\mu_{a_{t}})\n",
    "\\end{equation}"
   ]
  },
  {
   "attachments": {},
   "cell_type": "markdown",
   "metadata": {},
   "source": [
    "##### i番目のアームを引いたときのRegretを$\\Delta_{i}$で現していきます"
   ]
  },
  {
   "attachments": {},
   "cell_type": "markdown",
   "metadata": {},
   "source": [
    "##### そのように定義すると総回数n回したときのリグレットは下の定数で抑えられます"
   ]
  },
  {
   "attachments": {},
   "cell_type": "markdown",
   "metadata": {},
   "source": [
    "\\begin{equation}\n",
    "Regretbound \\le m \\sum_{i=i}^{k} \\Delta_{i}  + (n - mk) \\sum_{i=i}^{k} \\Delta_{i} exp(\\frac{- m\\Delta_{i}^{2}}{4})\n",
    "\\end{equation}"
   ]
  },
  {
   "attachments": {},
   "cell_type": "markdown",
   "metadata": {},
   "source": [
    "---"
   ]
  },
  {
   "attachments": {},
   "cell_type": "markdown",
   "metadata": {},
   "source": [
    "##### まずETCのアルゴリズムを書いていきます．"
   ]
  },
  {
   "cell_type": "code",
   "execution_count": 9,
   "metadata": {},
   "outputs": [],
   "source": [
    "import numpy as np\n",
    "class ETC:\n",
    "    def __init__(self,n: int, k: int, m: int):\n",
    "        '''\n",
    "        self.cul_reward -> 各アームの累積報酬\n",
    "        self.cul_index -> 各アームの選ばれた数\n",
    "        self.k -> アームの数\n",
    "        self.reward -> 各アームの報酬 \n",
    "        self.regret -> リグレットの大きさ\n",
    "        '''\n",
    "        self.cul_reward = np.zeros(k)\n",
    "        self.cul_index = np.zeros(k)\n",
    "        self.n = n\n",
    "        self.k = k\n",
    "        self.m = m\n",
    "        self.reward = np.random.rand(k)\n",
    "        self.regret = np.zeros(n)\n",
    "    def choose_arm(self,t):\n",
    "        #上で説明した条件式\n",
    "        if t > self.m * self.k:\n",
    "            return np.argmax(self.cul_reward), self.reward[np.argmax(self.cul_reward)]\n",
    "        else:\n",
    "            return t % self.k, self.reward[t % self.k]\n",
    "\n",
    "    def update(self,index,reward,t):\n",
    "        self.cul_index[index] += 1\n",
    "        self.cul_reward[index] += reward\n",
    "        if t == 0:\n",
    "            self.regret[t] = (self.reward[self.opt_arm_reward()] - self.reward[index])\n",
    "        else:\n",
    "            self.regret[t] = (self.reward[self.opt_arm_reward()] - self.reward[index]) + self.regret[t-1]\n",
    "\n",
    "    def opt_arm_reward(self):\n",
    "        #最適のアームを返す\n",
    "        return np.argmax(self.reward)\n",
    "\n"
   ]
  },
  {
   "cell_type": "code",
   "execution_count": 21,
   "metadata": {},
   "outputs": [],
   "source": [
    "n = 50000\n",
    "k = 5\n",
    "m = 5000"
   ]
  },
  {
   "cell_type": "code",
   "execution_count": 22,
   "metadata": {},
   "outputs": [],
   "source": [
    "etc = ETC(n = n,k = k,m=m)"
   ]
  },
  {
   "cell_type": "code",
   "execution_count": 28,
   "metadata": {},
   "outputs": [
    {
     "name": "stderr",
     "output_type": "stream",
     "text": [
      "100%|██████████| 50000/50000 [00:00<00:00, 92993.86it/s] \n"
     ]
    }
   ],
   "source": [
    "from tqdm import tqdm\n",
    "for i in tqdm(range(n)):\n",
    "    \n",
    "    arm,reward = etc.choose_arm(i)\n",
    "    etc.update(arm,reward,i)"
   ]
  },
  {
   "cell_type": "code",
   "execution_count": 29,
   "metadata": {},
   "outputs": [],
   "source": [
    "def regret_bound(regret):\n",
    "    return m * regret + (n - m * k) * regret * np.exp(-m * regret / 4)"
   ]
  },
  {
   "cell_type": "code",
   "execution_count": 30,
   "metadata": {},
   "outputs": [
    {
     "data": {
      "text/plain": [
       "<matplotlib.legend.Legend at 0x7faae42ddd00>"
      ]
     },
     "execution_count": 30,
     "metadata": {},
     "output_type": "execute_result"
    },
    {
     "data": {
      "image/png": "[encoded data removed]",
      "text/plain": [
       "<Figure size 640x480 with 1 Axes>"
      ]
     },
     "metadata": {},
     "output_type": "display_data"
    }
   ],
   "source": [
    "import matplotlib.pyplot as plt\n",
    "x = np.arange(0,n)\n",
    "plt.plot(x,etc.regret,label='regret')\n",
    "plt.plot(x,[etc.regret.sum() for _ in range(n)],label='regret_bound')\n",
    "plt.legend()"
   ]
  },
  {
   "cell_type": "code",
   "execution_count": null,
   "metadata": {},
   "outputs": [],
   "source": []
  }
 ],
 "metadata": {
  "kernelspec": {
   "display_name": "syumi-note",
   "language": "python",
   "name": "python3"
  },
  "language_info": {
   "codemirror_mode": {
    "name": "ipython",
    "version": 3
   },
   "file_extension": ".py",
   "mimetype": "text/x-python",
   "name": "python",
   "nbconvert_exporter": "python",
   "pygments_lexer": "ipython3",
   "version": "3.9.0"
  },
  "orig_nbformat": 4,
  "vscode": {
   "interpreter": {
    "hash": "bf02f90440595f5968a48e039387c923c9e6f6584bb1d7920e7063fafb8317aa"
   }
  }
 },
 "nbformat": 4,
 "nbformat_minor": 2
}
