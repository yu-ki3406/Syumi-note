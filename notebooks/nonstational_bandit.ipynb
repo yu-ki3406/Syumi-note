{
 "cells": [
  {
   "attachments": {},
   "cell_type": "markdown",
   "metadata": {},
   "source": [
    "# 報酬の分布が非定常の時のバンディット問題"
   ]
  },
  {
   "attachments": {},
   "cell_type": "markdown",
   "metadata": {},
   "source": [
    "今日は報酬の分布が非定常な時のバンディットのコードを実装していきます．\n",
    "\n",
    "報酬の分布が定常というのはスロットマシーンなどがあげられます．\n",
    "\n",
    "今回の非定常の報酬の実装は**平均0,標準偏差1**の正規分布から生成される乱数をノイズとして採用します．\n",
    " \n",
    " ---"
   ]
  },
  {
   "attachments": {},
   "cell_type": "markdown",
   "metadata": {},
   "source": [
    "価値を推定するために標本平均を採用すると次の式になります．\n",
    "\n",
    "$Q_{n}$ は $n$ 回目の価値(標本平均), $R_{n}$ は アーム$i$を引いた時の価値とします．"
   ]
  },
  {
   "attachments": {},
   "cell_type": "markdown",
   "metadata": {},
   "source": [
    "$$\n",
    "Q_{n} = \\frac{R_{1} + R_{2} + ... + R_{n}}{n}\n",
    "$$"
   ]
  },
  {
   "attachments": {},
   "cell_type": "markdown",
   "metadata": {},
   "source": [
    "となります．"
   ]
  },
  {
   "attachments": {},
   "cell_type": "markdown",
   "metadata": {},
   "source": [
    "しかしながら, プログラムで書く際にはいちいちこの計算をするのは賢くないので, 次の式を使います．\n",
    "\n",
    "$$\n",
    "Q_{n} = Q_{n-1} + \\frac{1}{n} (R_{n} - Q_{n-1})\n",
    "$$\n",
    "\n",
    "となります．\n",
    "\n",
    "式変形をしているだけなので, 1番最初の式を結果は同じになります．"
   ]
  },
  {
   "attachments": {},
   "cell_type": "markdown",
   "metadata": {},
   "source": [
    "\n",
    "1番最初の式を見ると, 1番新しく得られた報酬と1番古い報酬の重要度を同じ重さで計算していることになります．\n",
    "\n",
    "環境などが変わってしまう場合は, 最新の情報や報酬を重要度が高いですよね．\n",
    "\n",
    "なので, $\\frac{1}{n}$ の代わりに新しい重み $\\alpha$ を採用します．"
   ]
  },
  {
   "attachments": {},
   "cell_type": "markdown",
   "metadata": {},
   "source": [
    "$$\n",
    "Q_{n} = Q_{n-1} + \\alpha (R_{n} - Q_{n-1})\n",
    "$$"
   ]
  },
  {
   "attachments": {},
   "cell_type": "markdown",
   "metadata": {},
   "source": [
    "この式をわかりやすく変形すると\n",
    "\n",
    "$$\n",
    "Q_{n} = \\alpha R_{n} + (1 - \\alpha)Q_{n-1}\n",
    "$$\n",
    "\n",
    "となります，\n",
    "$n = n-1$ の時は\n",
    "\n",
    "$$\n",
    "Q_{n-1} = \\alpha R_{n-1} + (1 - \\alpha)Q_{n-2}\n",
    "$$\n",
    "\n",
    "1番上の式の $Q_{n-1}$ を代入する操作を $n=0$ まで繰り返して再帰的に式を書き換えると,\n",
    "\n",
    "$$\n",
    "Q_{n} = \\alpha R_{n} + \\alpha (1 - \\alpha) R_{n-1} + \\alpha (1 - \\alpha) ^ 2 R_{n-2} + ... + (1 - \\alpha) ^ n Q_{0}\n",
    "$$\n",
    "\n",
    "\n",
    "\n"
   ]
  },
  {
   "attachments": {},
   "cell_type": "markdown",
   "metadata": {},
   "source": [
    "このようにすると古い履歴の報酬から適切な $\\alpha$ (ex. $\\alpha = 0.9$) を設定すれば, うまく減衰することができますね．"
   ]
  },
  {
   "attachments": {},
   "cell_type": "markdown",
   "metadata": {},
   "source": [
    "---"
   ]
  },
  {
   "attachments": {},
   "cell_type": "markdown",
   "metadata": {},
   "source": [
    "早速コードを書いていきましょう．"
   ]
  },
  {
   "cell_type": "code",
   "execution_count": 51,
   "metadata": {},
   "outputs": [],
   "source": [
    "import jax.numpy as jnp\n",
    "import numpy as np\n",
    "import jax\n",
    "\n",
    "\n",
    "#非定常な環境\n",
    "class Bandit_Env:\n",
    "    def __init__(self, arms:int =5):\n",
    "        self.arms = arms\n",
    "        self.rewards = np.random.rand(arms)\n",
    "\n",
    "    #報酬を返す関数\n",
    "    def get_reward(self,arm: int):\n",
    "        reward = self.rewards[arm]\n",
    "        self.rewards += 0.1 * np.random.rand(self.arms)\n",
    "\n",
    "        if reward > np.random.rand():\n",
    "            return 1\n",
    "\n",
    "        else:\n",
    "            return 0"
   ]
  },
  {
   "cell_type": "code",
   "execution_count": 52,
   "metadata": {},
   "outputs": [],
   "source": [
    "epsilon = 0.3\n",
    "arms = 5"
   ]
  },
  {
   "cell_type": "code",
   "execution_count": 53,
   "metadata": {},
   "outputs": [],
   "source": [
    "\n",
    "@jax.jit\n",
    "def update(arm:int ,reward:float, alpha:float,Q_arm:np.ndarray):\n",
    "    \n",
    "    Q_arm = Q_arm.at[arm].add(alpha * (reward - Q_arm[arm]))\n",
    "\n",
    "def choose_arm(epsilon,Q_arm):\n",
    "    if np.random.rand() < epsilon:\n",
    "        return np.random.choice(a =arms,size=1)\n",
    "    else:\n",
    "        return np.argmax(Q_arm)\n",
    "    \n"
   ]
  },
  {
   "cell_type": "code",
   "execution_count": 69,
   "metadata": {},
   "outputs": [
    {
     "data": {
      "image/png": "[encoded data removed]",
      "text/plain": [
       "<Figure size 640x480 with 1 Axes>"
      ]
     },
     "metadata": {},
     "output_type": "display_data"
    }
   ],
   "source": [
    "import matplotlib.pyplot as plt\n",
    "iteration = 10\n",
    "alphas = [0.1,0.3,0.5,0.9]\n",
    "\n",
    "env = Bandit_Env(arms=arms)\n",
    "\n",
    "for alpha_index in range(len(alphas)):\n",
    "    cul_rewards = []\n",
    "    Q_arm = jnp.zeros(arms)\n",
    "    for i in range(iteration):\n",
    "        arm = choose_arm(epsilon,Q_arm)\n",
    "        r = env.get_reward(arm)\n",
    "        cul_rewards.append(r + sum(cul_rewards))\n",
    "        update(arm,r,alphas[alpha_index],Q_arm)\n",
    "    plt.plot(np.arange(iteration),cul_rewards,label= f'alpha = {alphas[alpha_index]}')\n",
    "\n",
    "plt.legend()\n",
    "plt.show()"
   ]
  },
  {
   "cell_type": "code",
   "execution_count": null,
   "metadata": {},
   "outputs": [],
   "source": []
  }
 ],
 "metadata": {
  "kernelspec": {
   "display_name": "syumi-note",
   "language": "python",
   "name": "python3"
  },
  "language_info": {
   "codemirror_mode": {
    "name": "ipython",
    "version": 3
   },
   "file_extension": ".py",
   "mimetype": "text/x-python",
   "name": "python",
   "nbconvert_exporter": "python",
   "pygments_lexer": "ipython3",
   "version": "3.9.0"
  },
  "orig_nbformat": 4
 },
 "nbformat": 4,
 "nbformat_minor": 2
}
