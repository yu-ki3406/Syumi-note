{
 "cells": [
  {
   "attachments": {},
   "cell_type": "markdown",
   "metadata": {},
   "source": [
    "# 最近話題の[JAX](https://jax.readthedocs.io/en/latest/installation.html) の勉強をしているのでこのサイトたち[クイックスタート](https://jax.readthedocs.io/en/latest/notebooks/quickstart.html)と関数について詳しく説明していてくれる[サイト](https://jax.readthedocs.io/en/latest/notebooks/Common_Gotchas_in_JAX.html)を参考に説明していきます．"
   ]
  },
  {
   "attachments": {},
   "cell_type": "markdown",
   "metadata": {},
   "source": [
    "まず, こちらの[サイト]((https://jax.readthedocs.io/en/latest/notebooks/quickstart.html))を参考に説明していきます．\n",
    "\n",
    "JAXはXLAをnumpyのコードを走らせるときやコンパイルする時により早くするために使っています，\n",
    "\n",
    "例えば，乗算, 和算, 減算がある関数内であったときに, XLAなしでこれを使うとそれぞれの計算に一つずつのGPUカーネルを用意し, 計算しますがXLAありで使うとカーネルを一つだけのGPUカーネルで済むことを述べています．"
   ]
  },
  {
   "cell_type": "code",
   "execution_count": 1,
   "metadata": {},
   "outputs": [],
   "source": [
    "import jax.numpy as jnp #numpyと同じようなもの\n",
    "from jax import grad #微分する時とか勾配計算したいとき\n",
    "from jax import jit #コードを早くしたいとき\n",
    "from jax import vmap #ベクトルに変換したいとき\n",
    "from jax import random "
   ]
  },
  {
   "attachments": {},
   "cell_type": "markdown",
   "metadata": {},
   "source": [
    "----"
   ]
  },
  {
   "attachments": {},
   "cell_type": "markdown",
   "metadata": {},
   "source": [
    "numpyではnumpy.random.seed(0)のようなランダムに決めた値でも再現性を持たせるための関数を持ち合わせています．\n",
    "\n",
    "一方, jaxでもそのようなkeyを持ち合わせています．"
   ]
  },
  {
   "cell_type": "code",
   "execution_count": 2,
   "metadata": {},
   "outputs": [
    {
     "name": "stdout",
     "output_type": "stream",
     "text": [
      "[0.35490513 0.60419905 0.4275843  0.23061597 0.32985854 0.43953657\n",
      " 0.25099766 0.27730572 0.7678207  0.71474564]\n",
      "[0.35490513 0.60419905 0.4275843  0.23061597 0.32985854 0.43953657\n",
      " 0.25099766 0.27730572 0.7678207  0.71474564]\n",
      "[0.35490513 0.60419905 0.4275843  0.23061597 0.32985854 0.43953657\n",
      " 0.25099766 0.27730572 0.7678207  0.71474564]\n"
     ]
    }
   ],
   "source": [
    "key = random.PRNGKey(0)\n",
    "x = random.uniform(key,(10,)) #一様分布からランダムな値を取得\n",
    "print(x)\n",
    "print(x)\n",
    "print(x)"
   ]
  },
  {
   "attachments": {},
   "cell_type": "markdown",
   "metadata": {},
   "source": [
    "上の結果を見ればわかるようにしっかりとランダムだが，再現性を持つ関数になっていることがわかりますね．"
   ]
  },
  {
   "attachments": {},
   "cell_type": "markdown",
   "metadata": {},
   "source": [
    "---"
   ]
  },
  {
   "attachments": {},
   "cell_type": "markdown",
   "metadata": {},
   "source": [
    "次に上記で説明したコードを早くするjit(デコレータ)を見ていきましょう.\n"
   ]
  },
  {
   "cell_type": "code",
   "execution_count": 9,
   "metadata": {},
   "outputs": [
    {
     "name": "stdout",
     "output_type": "stream",
     "text": [
      "27.1 µs ± 170 ns per loop (mean ± std. dev. of 7 runs, 10,000 loops each)\n"
     ]
    }
   ],
   "source": [
    "def func(x,a = 2,b = 3):\n",
    "    return jnp.exp(a) + b * jnp.sin(b)\n",
    "\n",
    "x = random.normal(key,(100000,))\n",
    "%timeit func(x).block_until_ready()"
   ]
  },
  {
   "cell_type": "code",
   "execution_count": 10,
   "metadata": {},
   "outputs": [
    {
     "name": "stdout",
     "output_type": "stream",
     "text": [
      "4.7 µs ± 87.5 ns per loop (mean ± std. dev. of 7 runs, 100,000 loops each)\n"
     ]
    }
   ],
   "source": [
    "func_jit = jit(func)\n",
    "%timeit func_jit(x).block_until_ready()"
   ]
  },
  {
   "attachments": {},
   "cell_type": "markdown",
   "metadata": {},
   "source": [
    "一回ごとのループは早くなっていることがわかりますね．\n",
    "\n",
    "しかしながら, jitを適応できない場合もあります．\n",
    "\n",
    "あとで説明するのですが，簡潔に説明すると, 関数内で使う行列の型が引数などになっているときです．"
   ]
  },
  {
   "attachments": {},
   "cell_type": "markdown",
   "metadata": {},
   "source": [
    "----"
   ]
  },
  {
   "attachments": {},
   "cell_type": "markdown",
   "metadata": {},
   "source": [
    "次はgradの説明をしていきます．"
   ]
  },
  {
   "attachments": {},
   "cell_type": "markdown",
   "metadata": {},
   "source": [
    "関数の傾きなどを計算したいときにこの関数は使われます．\n",
    "\n",
    "早速例を見ていきます．"
   ]
  },
  {
   "cell_type": "code",
   "execution_count": 15,
   "metadata": {},
   "outputs": [
    {
     "name": "stdout",
     "output_type": "stream",
     "text": [
      "2.0\n"
     ]
    }
   ],
   "source": [
    "def func_1(x):\n",
    "    return x ** 2 + 3\n",
    "x = 1.0\n",
    "derivative_func = grad(func_1)\n",
    "print(derivative_func(x))"
   ]
  },
  {
   "attachments": {},
   "cell_type": "markdown",
   "metadata": {},
   "source": [
    "func_1は $x ^ 2 + 3$ なので微分は $2x$ なので $x = 1$ の傾きは2.0であってますね．\n",
    "\n",
    "機械学習の世界では行列にたいての傾きなどを求めたい時が多々あるのでその例を見てみましょう．\n",
    "\n",
    "なので,次はxにベクトルを入れてみましょう．"
   ]
  },
  {
   "cell_type": "code",
   "execution_count": 16,
   "metadata": {},
   "outputs": [
    {
     "ename": "TypeError",
     "evalue": "Gradient only defined for scalar-output functions. Output had shape: (3,).",
     "output_type": "error",
     "traceback": [
      "\u001b[0;31m---------------------------------------------------------------------------\u001b[0m",
      "\u001b[0;31mTypeError\u001b[0m                                 Traceback (most recent call last)",
      "Cell \u001b[0;32mIn[16], line 5\u001b[0m\n\u001b[1;32m      3\u001b[0m x \u001b[39m=\u001b[39m jnp\u001b[39m.\u001b[39marange(\u001b[39m3.\u001b[39m)\n\u001b[1;32m      4\u001b[0m derivative_func \u001b[39m=\u001b[39m grad(func_1)\n\u001b[0;32m----> 5\u001b[0m \u001b[39mprint\u001b[39m(derivative_func(x))\n",
      "    \u001b[0;31m[... skipping hidden 4 frame]\u001b[0m\n",
      "File \u001b[0;32m~/opt/anaconda3/envs/syumi-note/lib/python3.9/site-packages/jax/_src/api.py:1136\u001b[0m, in \u001b[0;36m_check_scalar\u001b[0;34m(x)\u001b[0m\n\u001b[1;32m   1134\u001b[0m \u001b[39mif\u001b[39;00m \u001b[39misinstance\u001b[39m(aval, ShapedArray):\n\u001b[1;32m   1135\u001b[0m   \u001b[39mif\u001b[39;00m aval\u001b[39m.\u001b[39mshape \u001b[39m!=\u001b[39m ():\n\u001b[0;32m-> 1136\u001b[0m     \u001b[39mraise\u001b[39;00m \u001b[39mTypeError\u001b[39;00m(msg(\u001b[39mf\u001b[39m\u001b[39m\"\u001b[39m\u001b[39mhad shape: \u001b[39m\u001b[39m{\u001b[39;00maval\u001b[39m.\u001b[39mshape\u001b[39m}\u001b[39;00m\u001b[39m\"\u001b[39m))\n\u001b[1;32m   1137\u001b[0m \u001b[39melse\u001b[39;00m:\n\u001b[1;32m   1138\u001b[0m   \u001b[39mraise\u001b[39;00m \u001b[39mTypeError\u001b[39;00m(msg(\u001b[39mf\u001b[39m\u001b[39m\"\u001b[39m\u001b[39mhad abstract value \u001b[39m\u001b[39m{\u001b[39;00maval\u001b[39m}\u001b[39;00m\u001b[39m\"\u001b[39m))\n",
      "\u001b[0;31mTypeError\u001b[0m: Gradient only defined for scalar-output functions. Output had shape: (3,)."
     ]
    }
   ],
   "source": [
    "def func_1(x):\n",
    "    return x ** 2 + 3\n",
    "x = jnp.arange(3.)\n",
    "derivative_func = grad(func_1)\n",
    "print(derivative_func(x))\n"
   ]
  },
  {
   "attachments": {},
   "cell_type": "markdown",
   "metadata": {},
   "source": [
    "エラーが出てしまいますね．\n",
    "\n",
    "メッセージを見てみると, 勾配はスカラー値じゃないとできないよと言っています．\n",
    "\n",
    "そこで1番最初に紹介したvmapを適応してみます．"
   ]
  },
  {
   "cell_type": "code",
   "execution_count": 21,
   "metadata": {},
   "outputs": [
    {
     "name": "stdout",
     "output_type": "stream",
     "text": [
      "[0. 2. 4.]\n"
     ]
    }
   ],
   "source": [
    "def func_1(x):\n",
    "    return x ** 2 + 3\n",
    "x = jnp.arange(3.)\n",
    "derivative_func = vmap(grad(func_1))\n",
    "print(derivative_func(x))"
   ]
  },
  {
   "attachments": {},
   "cell_type": "markdown",
   "metadata": {},
   "source": [
    "うまくいきましたね．\n",
    "このような使い方もvmapはできます．\n",
    "\n",
    "vmapの他の例も見てみましょう．"
   ]
  },
  {
   "cell_type": "code",
   "execution_count": 28,
   "metadata": {},
   "outputs": [
    {
     "name": "stdout",
     "output_type": "stream",
     "text": [
      "(150, 100) (10, 100)\n",
      "(10, 100)\n"
     ]
    }
   ],
   "source": [
    "mat = random.normal(key, (150,100))\n",
    "batched_x = random.normal(key, (10,100))\n",
    "\n",
    "def apply_matrix(v):\n",
    "    return mat @ v\n",
    "\n",
    "print(mat.shape,batched_x.shape)"
   ]
  },
  {
   "cell_type": "code",
   "execution_count": 31,
   "metadata": {},
   "outputs": [
    {
     "name": "stdout",
     "output_type": "stream",
     "text": [
      "Naively batched\n",
      "1.68 ms ± 10.5 µs per loop (mean ± std. dev. of 7 runs, 1,000 loops each)\n"
     ]
    }
   ],
   "source": [
    "def naively_batched_apply_matrix(v_batched):\n",
    "  return jnp.stack([apply_matrix(v) for v in v_batched]) # for loopでvの型は100なので行列計算できる．\n",
    "\n",
    "print('Naively batched')\n",
    "%timeit naively_batched_apply_matrix(batched_x).block_until_ready()"
   ]
  },
  {
   "attachments": {},
   "cell_type": "markdown",
   "metadata": {},
   "source": [
    "上の計算は書くのが面倒な上に遅いので，vmapを使うと次のように書き換えられます．"
   ]
  },
  {
   "cell_type": "code",
   "execution_count": 34,
   "metadata": {},
   "outputs": [
    {
     "name": "stdout",
     "output_type": "stream",
     "text": [
      "Auto-vectorized with vmap\n",
      "19.6 µs ± 137 ns per loop (mean ± std. dev. of 7 runs, 100,000 loops each)\n"
     ]
    }
   ],
   "source": [
    "@jit\n",
    "def vmap_batch_matrix(v_batched):\n",
    "    return vmap(apply_matrix)(v_batched)\n",
    "\n",
    "print('Auto-vectorized with vmap')\n",
    "%timeit vmap_batch_matrix(batched_x).block_until_ready()"
   ]
  },
  {
   "cell_type": "code",
   "execution_count": null,
   "metadata": {},
   "outputs": [],
   "source": []
  }
 ],
 "metadata": {
  "kernelspec": {
   "display_name": "syumi-note",
   "language": "python",
   "name": "python3"
  },
  "language_info": {
   "codemirror_mode": {
    "name": "ipython",
    "version": 3
   },
   "file_extension": ".py",
   "mimetype": "text/x-python",
   "name": "python",
   "nbconvert_exporter": "python",
   "pygments_lexer": "ipython3",
   "version": "3.9.0"
  },
  "orig_nbformat": 4
 },
 "nbformat": 4,
 "nbformat_minor": 2
}
