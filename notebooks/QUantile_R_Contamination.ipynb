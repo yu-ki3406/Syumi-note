{
 "cells": [
  {
   "cell_type": "code",
   "execution_count": 1,
   "metadata": {},
   "outputs": [],
   "source": [
    "import numpy as np\n",
    "\n",
    "def quantile_V(theta, m, alpha, gamma, s, s_dash, r):\n",
    "    # サンプル数を指定した一様分布からサンプリングする関数\n",
    "    # T回の更新を実施\n",
    "\n",
    "        # 各Quantileインデックスに対する更新\n",
    "    for i in range(1,m+1):\n",
    "        tau_i = (2*i - 1) / (2*m)\n",
    "        update = alpha * (tau_i - (1 / m) * np.sum(theta[s, i] - r - gamma * theta[s_dash, :] < 0))\n",
    "        theta_prime = theta[s, i] + update\n",
    "        theta[s, i] = theta_prime\n",
    "\n",
    "    # 最終的な結果として各状態におけるQuantile推定値の平均を返す\n",
    "    return np.mean(theta, axis=-1)"
   ]
  },
  {
   "cell_type": "code",
   "execution_count": 2,
   "metadata": {},
   "outputs": [],
   "source": [
    "import numpy as np\n",
    "S = 16 #状態数\n",
    "A = 4 #行動数\n",
    "seed = 42\n",
    "np.random.seed(seed)\n",
    "import gymnasium as gym\n",
    "\n",
    "rew = np.zeros((S,A))\n",
    "rew[14,1] = 1.0\n",
    "rew[14,2] = 1.0\n",
    "rew[14,3] = 1.0\n",
    "# print(np.sum(P, axis=2))\n",
    "policy = np.ones((S,A))\n",
    "policy = policy / A # uniform policy\n",
    "epsilon = [3/10,4/10,5/10,6/10,7/10,8/10,9/10,1.0]\n",
    "def create_env(epsilon):\n",
    "    env = gym.make('FrozenLake-v1', desc=None, map_name=\"4x4\", is_slippery=True)\n",
    "    P = np.zeros((S,A,S))\n",
    "    epsilon = epsilon\n",
    "    for s in range(S):\n",
    "        for a in range(A):\n",
    "            Ps_dash = env.P[s]\n",
    "            Psa_dash = Ps_dash[a]\n",
    "            if a == 1:\n",
    "                selected_elements = [item[1] for item in Psa_dash]\n",
    "                index = [index for index, value in enumerate(selected_elements) if value == s+a+3]\n",
    "                if not index:\n",
    "                    index = [index for index, value in enumerate(selected_elements) if value ==s]\n",
    "            elif a== 0 or a== 2:\n",
    "                selected_elements = [item[1] for item in Psa_dash]\n",
    "                index = [index for index, value in enumerate(selected_elements) if value == s+a-1]\n",
    "                if not index:\n",
    "                    index = [index for index, value in enumerate(selected_elements) if value ==s]\n",
    "            elif a== 3:\n",
    "                selected_elements = [item[1] for item in Psa_dash]\n",
    "                index = [index for index, value in enumerate(selected_elements) if value == s+a-7]\n",
    "                if not index:\n",
    "                    index = [index for index, value in enumerate(selected_elements) if value ==s]\n",
    "            # Psa_dash = Ps_dash[a]\n",
    "            # print(len(Psa_dash))\n",
    "            if len(Psa_dash) != 1:\n",
    "                for t in range(len(Psa_dash)):\n",
    "                    if index:\n",
    "                        if t == index[0]:\n",
    "                            P_ = epsilon\n",
    "                            s_dash = Psa_dash[t][1]\n",
    "                            P[s,a,s_dash] += P_\n",
    "                            # print('a')\n",
    "                        else:\n",
    "                            P_ = (1-epsilon) / 2\n",
    "                            s_dash = Psa_dash[t][1]\n",
    "                            P[s,a,s_dash] += P_\n",
    "                            # print('aaa')\n",
    "            else:\n",
    "                for t in range(len(Psa_dash)):\n",
    "                    P_ = Psa_dash[t][0]\n",
    "                    s_dash = Psa_dash[t][1]\n",
    "                    P[s,a,s_dash] += P_\n",
    "    return P\n",
    "\n",
    "from typing import NamedTuple, Optional\n",
    "class MDP(NamedTuple):\n",
    "    S_array: np.array  # 状態空間\n",
    "    A_array: np.array  # 行動空間\n",
    "    gamma: float  # 割引率\n",
    "    horizon: int  #ホライゾン\n",
    "    rew: float  # 報酬関数\n",
    "    P: float  # 遷移確率\n",
    "    optimal_Q: Optional[np.ndarray] = None  # 最適Q値\n",
    "    robust_optimal_Q: Optional[np.ndarray] = None  # ロバスト最適Q値\n",
    "    optimal_policy: Optional[np.ndarray] = None  # 最適方策\n",
    "\n",
    "    @property\n",
    "    def S(self) -> int:  # 状態空間のサイズ\n",
    "        return len(self.S_array)\n",
    "\n",
    "    @property\n",
    "    def A(self) -> int:  # 行動空間のサイズ\n",
    "        return len(self.A_array)\n",
    "\n",
    "rew = np.zeros((S,A))\n",
    "rew[14,1] = 1.0\n",
    "rew[14,2] = 1.0\n",
    "rew[14,3] = 1.0\n",
    "\n",
    "# np.testing.assert_almost_equal(np.sum(P, axis=2), np.ones((S,A)))\n",
    "# print(np.sum(P, axis=2))\n",
    "policy = np.ones((S,A))\n",
    "policy = policy / A # uniform policy\n",
    "P = np.zeros((S,A,S))\n",
    "\n",
    "S_array = np.arange(S)\n",
    "A_array = np.arange(A)\n",
    "gamma = 0.9\n",
    "horizon = 1000\n",
    "#MDPを作成\n",
    "mdp = MDP(S_array, A_array, gamma, horizon, rew, P)"
   ]
  },
  {
   "cell_type": "code",
   "execution_count": 3,
   "metadata": {},
   "outputs": [],
   "source": [
    "def Sample_Collect(iteration,train_p,seed):\n",
    "    np.random.seed(seed)\n",
    "    steps = 0\n",
    "    P = create_env(train_p)\n",
    "    env_d = gym.make('FrozenLake-v1', desc=None, map_name=\"4x4\", is_slippery=False)\n",
    "    S,A = env_d.observation_space.n,env_d.action_space.n\n",
    "    policy_b = np.ones((S,A))/A\n",
    "        # steps = 0\n",
    "    sample_list = {'state':[],'action':[],'reward':[],'next_state':[],'done':[],'done_':[]}\n",
    "    while True:\n",
    "        if steps >=iteration:\n",
    "            break\n",
    "        s = env_d.reset()[0]\n",
    "        for _ in range(horizon):\n",
    "            a = np.random.choice(a=4,size=1,p=policy_b[s])[0]\n",
    "            steps +=1\n",
    "            s_dash = np.random.choice(a=16,size=1,p=P[s,a])[0]\n",
    "            if s_dash == s - 1:  # 左に移動した場合\n",
    "                a = 0  # 行動0を返す\n",
    "            elif s_dash == s + 4:  # 下に移動した場合\n",
    "                a = 1  # 行動1を返す\n",
    "            elif s_dash == s + 1:  # 右に移動した場合\n",
    "                a = 2  # 行動2を返す\n",
    "            elif s_dash == s - 4:  # 上に移動した場合\n",
    "                a = 3  # 行動3を返す\n",
    "            s_,r,d,d_,_ = env_d.step(a)\n",
    "            sample_list['state'].append(s)\n",
    "            sample_list['action'].append(a)\n",
    "            sample_list['reward'].append(r)\n",
    "            sample_list['next_state'].append(s_)\n",
    "            sample_list['done'].append(d)\n",
    "            sample_list['done_'].append(d_)\n",
    "            s = s_\n",
    "                # print(i)\n",
    "            if d or d_:\n",
    "                    # print('a')\n",
    "                break\n",
    "    return sample_list"
   ]
  },
  {
   "cell_type": "code",
   "execution_count": 107,
   "metadata": {},
   "outputs": [],
   "source": [
    "sample = Sample_Collect(2500,0.5,123)"
   ]
  },
  {
   "cell_type": "code",
   "execution_count": 108,
   "metadata": {},
   "outputs": [],
   "source": [
    "def R_Contamination_Online(R,learning_rate,gamma,test_eps,iteration,sample_list,seed):\n",
    "    np.random.seed(seed)\n",
    "    env = gym.make('FrozenLake-v1', desc=None, map_name=\"4x4\", is_slippery=False)\n",
    "    S,A = env.observation_space.n,env.action_space.n\n",
    "    P = create_env(test_eps)\n",
    "    Q = np.zeros((S,A))\n",
    "    indexes = [5,7,11,12,15]\n",
    "    rewards = []\n",
    "    for i in range(iteration):\n",
    "        s,a,s_dash,r,d = sample_list['state'][i],sample_list['action'][i],sample_list['next_state'][i],sample_list['reward'][i],sample_list['done'][i]\n",
    "        V = np.max(Q,axis=-1)\n",
    "        delate_V  = np.delete(V,indexes)\n",
    "        Q[s,a] = (1-learning_rate) * Q[s,a] + learning_rate  * (r + (1-int(d)) * gamma * R * np.min(delate_V) + (1-int(d))*gamma * (1-R) * V[s_dash])\n",
    "        S = env.reset()[0]\n",
    "        for _ in range(100):\n",
    "            A = np.argmax(Q[S])\n",
    "            S_DASH = np.random.choice(a=16,size=1,p=P[S,A])[0]\n",
    "            if S_DASH == S - 1:  # 左に移動した場合\n",
    "                A = 0  # 行動0を返す\n",
    "            elif S_DASH == S + 4:  # 下に移動した場合\n",
    "                A = 1  # 行動1を返す\n",
    "            elif S_DASH == S + 1:  # 右に移動した場合\n",
    "                A = 2  # 行動2を返す\n",
    "            elif S_DASH == S - 4:  # 上に移動した場合\n",
    "                A = 3  # 行動3を返す\n",
    "            S_,R,D,D_,_ = env.step(A)\n",
    "            S = S_\n",
    "            # if R != 0.0:\n",
    "            #     print('a')\n",
    "            # print(steps)\n",
    "            if D or D_:\n",
    "                rewards.append(R)\n",
    "                # print(R)\n",
    "                break\n",
    "    return rewards,Q"
   ]
  },
  {
   "cell_type": "code",
   "execution_count": 109,
   "metadata": {},
   "outputs": [],
   "source": [
    "from tqdm import tqdm\n",
    "def R_Contamination_Online_Quantile(R,learning_rate,gamma,test_eps,iteration,sample_list,seed,m):\n",
    "    np.random.seed(seed)\n",
    "    env = gym.make('FrozenLake-v1', desc=None, map_name=\"4x4\", is_slippery=False)\n",
    "    S,A = env.observation_space.n,env.action_space.n\n",
    "    P = create_env(test_eps)\n",
    "    Q = np.zeros((S,A))\n",
    "    indexes = [5,7,11,12,15]\n",
    "    rewards = []\n",
    "    theta = np.zeros((S,m))\n",
    "    # print(theta.shape)\n",
    "    for j in tqdm(range(iteration)):\n",
    "        s,a,s_dash,r,d = sample_list['state'][j],sample_list['action'][j],sample_list['next_state'][j],sample_list['reward'][j],sample_list['done'][j]\n",
    "        for i in range(1,m+1):\n",
    "            tau_i = (2*i - 1) / (2*m)\n",
    "            # update = learning_rate * (tau_i - (1 / m) * np.sum(theta[s, i-1] - r - (1-int(d))*gamma * theta[s_dash, :] < 0))\n",
    "            min_theta = np.delete(theta,indexes,axis=0)\n",
    "            # print(np.min(min_theta,axis=0))\n",
    "            # update = learning_rate * (tau_i - (1 / m) * np.sum(r+(1-int(d)) * gamma*R* np.min(min_theta,axis=0) + (1-int(d))*gamma*(1-R) * theta[s_dash, :] - theta[s,i-1] < 0))\n",
    "            update = learning_rate * (1/m) * np.sum(tau_i - (r+(1-int(d)) * gamma*R* np.min(min_theta,axis=0) + (1-int(d))*gamma*(1-R) * theta[s_dash, :] - theta[s,i-1] < 0),axis=-1)\n",
    "            theta_prime = (1- learning_rate) * theta[s, i-1] + update\n",
    "            theta[s, i-1] = theta_prime\n",
    "        V = np.mean(theta, axis=-1)\n",
    "        delate_V  = np.delete(V,indexes)\n",
    "        Q[s,a] = (1-learning_rate) * Q[s,a] + learning_rate  * (r + (1-int(d))*gamma * V[s_dash])\n",
    "        # Q[s,a] = r + (1-int(d))*gamma * V[s_dash]\n",
    "        S = env.reset()[0]\n",
    "        for _ in range(100):\n",
    "            A = np.argmax(Q[S])\n",
    "            S_DASH = np.random.choice(a=16,size=1,p=P[S,A])[0]\n",
    "            if S_DASH == S - 1:  # 左に移動した場合\n",
    "                A = 0  # 行動0を返す\n",
    "            elif S_DASH == S + 4:  # 下に移動した場合\n",
    "                A = 1  # 行動1を返す\n",
    "            elif S_DASH == S + 1:  # 右に移動した場合\n",
    "                A = 2  # 行動2を返す\n",
    "            elif S_DASH == S - 4:  # 上に移動した場合\n",
    "                A = 3  # 行動3を返す\n",
    "            S_,R,D,D_,_ = env.step(A)\n",
    "            S = S_\n",
    "            # if R != 0.0:\n",
    "            #     print('a')\n",
    "            # print(steps)\n",
    "            if D or D_:\n",
    "                rewards.append(R)\n",
    "                # print(R)\n",
    "                break\n",
    "    return rewards,Q"
   ]
  },
  {
   "cell_type": "code",
   "execution_count": 110,
   "metadata": {},
   "outputs": [],
   "source": [
    "from tqdm import tqdm\n",
    "def quantile_TD(R,learning_rate,gamma,test_eps,iteration,sample_list,seed,m):\n",
    "    np.random.seed(seed)\n",
    "    env = gym.make('FrozenLake-v1', desc=None, map_name=\"4x4\", is_slippery=False)\n",
    "    S_size,A_size = env.observation_space.n,env.action_space.n\n",
    "    P = create_env(test_eps)\n",
    "    Q = np.zeros((S_size,A_size))\n",
    "    indexes = [5,7,11,12,15]\n",
    "    rewards = []\n",
    "    theta = np.zeros((S_size,A_size,m))\n",
    "    theta_prime = np.zeros(m)\n",
    "    # min_theta = np.delete(theta,indexes,axis=0)\n",
    "    # print(theta.shape)\n",
    "    for k in tqdm(range(iteration)):\n",
    "        s,a,s_dash,r,d,d_ = sample_list['state'][k],sample_list['action'][k],sample_list['next_state'][k],sample_list['reward'][k],sample_list['done'][k],sample_list['done_'][k]\n",
    "        for i in range(1,m+1):\n",
    "            tau_i = (2*i - 1) / (2*m)\n",
    "            min_theta = np.delete(theta,indexes,axis=0)\n",
    "            theta_prime[i-1] = theta[s,a,i-1]\n",
    "            for j in range(1,m+1):\n",
    "                if d==True or d_==True:\n",
    "                    g = r\n",
    "                else:\n",
    "                    Q_dash = np.mean(theta,axis=-1)\n",
    "                    a_ = np.argmax(Q_dash[s_dash])\n",
    "                    # g = r + gamma * theta[s_dash,a_,j-1]\n",
    "                    g = r + gamma * R * min_theta[:,:,j-1].min().min() + gamma * (1-R) * theta[s_dash,a_,j-1]\n",
    "                    # print(min_theta.min().min())\n",
    "                theta_prime[i-1] = theta_prime[i-1] + (learning_rate/m) * (tau_i - (g - theta[s,a,i-1] < 0))\n",
    "                # r+(1-int(d)) * gamma*R* np.min(min_theta,axis=0) + (1-int(d))*gamma*(1-R) * theta[s_dash, :] - theta[s,i-1] < 0\n",
    "        for i in range(1,m+1):\n",
    "            theta[s,a,i-1] = theta_prime[i-1]\n",
    "        Q = np.mean(theta, axis=-1)\n",
    "        # Q[s,a] = (1-learning_rate) * Q[s,a] + learning_rate  * (r + (1-int(d))*gamma * V[s_dash])\n",
    "        S = env.reset()[0]\n",
    "        for _ in range(100):\n",
    "            A = np.argmax(Q[S])\n",
    "            S_DASH = np.random.choice(a=16,size=1,p=P[S,A])[0]\n",
    "            if S_DASH == S - 1:  # 左に移動した場合\n",
    "                A = 0  # 行動0を返す\n",
    "            elif S_DASH == S + 4:  # 下に移動した場合\n",
    "                A = 1  # 行動1を返す\n",
    "            elif S_DASH == S + 1:  # 右に移動した場合\n",
    "                A = 2  # 行動2を返す\n",
    "            elif S_DASH == S - 4:  # 上に移動した場合\n",
    "                A = 3  # 行動3を返す\n",
    "            S_,R,D,D_,_ = env.step(A)\n",
    "            S = S_\n",
    "            # if R != 0.0:\n",
    "            #     print('a')\n",
    "            # print(steps)\n",
    "            if D or D_:\n",
    "                rewards.append(R)\n",
    "                # print(R)\n",
    "                break\n",
    "    return rewards,Q"
   ]
  },
  {
   "cell_type": "code",
   "execution_count": 111,
   "metadata": {},
   "outputs": [],
   "source": [
    "def calculate_average_rewards(rewards):\n",
    "    # 累積報酬の計算\n",
    "    cumulative_rewards = np.cumsum(rewards)\n",
    "\n",
    "    average_rewards = cumulative_rewards / np.arange(1, len(rewards) + 1)\n",
    "\n",
    "    return average_rewards"
   ]
  },
  {
   "cell_type": "code",
   "execution_count": 127,
   "metadata": {},
   "outputs": [],
   "source": [
    "R = 0.3\n",
    "learning_rate = 0.8\n",
    "gamma = 0.9\n",
    "test_eps = 0.8\n",
    "iteration = len(sample['state'])\n",
    "tau = 50\n",
    "eta = 0.5\n",
    "m = 10"
   ]
  },
  {
   "cell_type": "code",
   "execution_count": 128,
   "metadata": {},
   "outputs": [
    {
     "name": "stderr",
     "output_type": "stream",
     "text": [
      "100%|██████████| 2503/2503 [00:04<00:00, 528.82it/s]\n"
     ]
    }
   ],
   "source": [
    "rewards,Q = quantile_TD(R,learning_rate,gamma,test_eps,iteration,sample,123,m)"
   ]
  },
  {
   "cell_type": "code",
   "execution_count": 129,
   "metadata": {},
   "outputs": [
    {
     "data": {
      "text/plain": [
       "array([-0.072,  0.008, -0.248, -0.224])"
      ]
     },
     "execution_count": 129,
     "metadata": {},
     "output_type": "execute_result"
    }
   ],
   "source": [
    "Q[0]"
   ]
  },
  {
   "cell_type": "code",
   "execution_count": 130,
   "metadata": {},
   "outputs": [
    {
     "data": {
      "text/plain": [
       "[]"
      ]
     },
     "execution_count": 130,
     "metadata": {},
     "output_type": "execute_result"
    }
   ],
   "source": [
    "rewards[3000:3008]"
   ]
  },
  {
   "cell_type": "code",
   "execution_count": 131,
   "metadata": {},
   "outputs": [
    {
     "data": {
      "text/plain": [
       "[<matplotlib.lines.Line2D at 0x1e666c09370>]"
      ]
     },
     "execution_count": 131,
     "metadata": {},
     "output_type": "execute_result"
    },
    {
     "data": {
      "image/png": "[encoded data removed]",
      "text/plain": [
       "<Figure size 640x480 with 1 Axes>"
      ]
     },
     "metadata": {},
     "output_type": "display_data"
    }
   ],
   "source": [
    "import matplotlib.pyplot as plt\n",
    "ave_reward = calculate_average_rewards(rewards)\n",
    "plt.plot(ave_reward)"
   ]
  },
  {
   "cell_type": "code",
   "execution_count": 132,
   "metadata": {},
   "outputs": [
    {
     "data": {
      "text/plain": [
       "array([0.        , 0.        , 0.        , ..., 0.23790484, 0.23820943,\n",
       "       0.23811426])"
      ]
     },
     "execution_count": 132,
     "metadata": {},
     "output_type": "execute_result"
    }
   ],
   "source": [
    "ave_reward"
   ]
  },
  {
   "cell_type": "code",
   "execution_count": 178,
   "metadata": {},
   "outputs": [
    {
     "ename": "KeyboardInterrupt",
     "evalue": "",
     "output_type": "error",
     "traceback": [
      "\u001b[0;31m---------------------------------------------------------------------------\u001b[0m",
      "\u001b[0;31mKeyboardInterrupt\u001b[0m                         Traceback (most recent call last)",
      "Cell \u001b[0;32mIn[178], line 18\u001b[0m\n\u001b[1;32m      8\u001b[0m A \u001b[39m=\u001b[39m np\u001b[39m.\u001b[39margmax(Q[S])\n\u001b[1;32m      9\u001b[0m \u001b[39m# S_DASH = np.random.choice(a=16,size=1,p=P[S,A])[0]\u001b[39;00m\n\u001b[1;32m     10\u001b[0m \u001b[39m# if S_DASH == S - 1:  # 左に移動した場合\u001b[39;00m\n\u001b[1;32m     11\u001b[0m \u001b[39m#     A = 0  # 行動0を返す\u001b[39;00m\n\u001b[0;32m   (...)\u001b[0m\n\u001b[1;32m     16\u001b[0m \u001b[39m# elif S_DASH == S - 4:  # 上に移動した場合\u001b[39;00m\n\u001b[1;32m     17\u001b[0m \u001b[39m#     A = 3  # 行動3を返す\u001b[39;00m\n\u001b[0;32m---> 18\u001b[0m S_,R,D,D_,_ \u001b[39m=\u001b[39m env\u001b[39m.\u001b[39;49mstep(A)\n\u001b[1;32m     19\u001b[0m S \u001b[39m=\u001b[39m S_\n\u001b[1;32m     20\u001b[0m         \u001b[39m# if R != 0.0:\u001b[39;00m\n\u001b[1;32m     21\u001b[0m         \u001b[39m#     print('a')\u001b[39;00m\n\u001b[1;32m     22\u001b[0m         \u001b[39m# print(steps)\u001b[39;00m\n",
      "File \u001b[0;32m~/.conda/envs/syumi-note/lib/python3.9/site-packages/gymnasium/wrappers/time_limit.py:57\u001b[0m, in \u001b[0;36mTimeLimit.step\u001b[0;34m(self, action)\u001b[0m\n\u001b[1;32m     46\u001b[0m \u001b[39mdef\u001b[39;00m \u001b[39mstep\u001b[39m(\u001b[39mself\u001b[39m, action):\n\u001b[1;32m     47\u001b[0m \u001b[39m    \u001b[39m\u001b[39m\"\"\"Steps through the environment and if the number of steps elapsed exceeds ``max_episode_steps`` then truncate.\u001b[39;00m\n\u001b[1;32m     48\u001b[0m \n\u001b[1;32m     49\u001b[0m \u001b[39m    Args:\u001b[39;00m\n\u001b[0;32m   (...)\u001b[0m\n\u001b[1;32m     55\u001b[0m \n\u001b[1;32m     56\u001b[0m \u001b[39m    \"\"\"\u001b[39;00m\n\u001b[0;32m---> 57\u001b[0m     observation, reward, terminated, truncated, info \u001b[39m=\u001b[39m \u001b[39mself\u001b[39;49m\u001b[39m.\u001b[39;49menv\u001b[39m.\u001b[39;49mstep(action)\n\u001b[1;32m     58\u001b[0m     \u001b[39mself\u001b[39m\u001b[39m.\u001b[39m_elapsed_steps \u001b[39m+\u001b[39m\u001b[39m=\u001b[39m \u001b[39m1\u001b[39m\n\u001b[1;32m     60\u001b[0m     \u001b[39mif\u001b[39;00m \u001b[39mself\u001b[39m\u001b[39m.\u001b[39m_elapsed_steps \u001b[39m>\u001b[39m\u001b[39m=\u001b[39m \u001b[39mself\u001b[39m\u001b[39m.\u001b[39m_max_episode_steps:\n",
      "File \u001b[0;32m~/.conda/envs/syumi-note/lib/python3.9/site-packages/gymnasium/wrappers/order_enforcing.py:56\u001b[0m, in \u001b[0;36mOrderEnforcing.step\u001b[0;34m(self, action)\u001b[0m\n\u001b[1;32m     54\u001b[0m \u001b[39mif\u001b[39;00m \u001b[39mnot\u001b[39;00m \u001b[39mself\u001b[39m\u001b[39m.\u001b[39m_has_reset:\n\u001b[1;32m     55\u001b[0m     \u001b[39mraise\u001b[39;00m ResetNeeded(\u001b[39m\"\u001b[39m\u001b[39mCannot call env.step() before calling env.reset()\u001b[39m\u001b[39m\"\u001b[39m)\n\u001b[0;32m---> 56\u001b[0m \u001b[39mreturn\u001b[39;00m \u001b[39mself\u001b[39;49m\u001b[39m.\u001b[39;49menv\u001b[39m.\u001b[39;49mstep(action)\n",
      "File \u001b[0;32m~/.conda/envs/syumi-note/lib/python3.9/site-packages/gymnasium/wrappers/env_checker.py:51\u001b[0m, in \u001b[0;36mPassiveEnvChecker.step\u001b[0;34m(self, action)\u001b[0m\n\u001b[1;32m     49\u001b[0m     \u001b[39mreturn\u001b[39;00m env_step_passive_checker(\u001b[39mself\u001b[39m\u001b[39m.\u001b[39menv, action)\n\u001b[1;32m     50\u001b[0m \u001b[39melse\u001b[39;00m:\n\u001b[0;32m---> 51\u001b[0m     \u001b[39mreturn\u001b[39;00m \u001b[39mself\u001b[39;49m\u001b[39m.\u001b[39;49menv\u001b[39m.\u001b[39;49mstep(action)\n",
      "File \u001b[0;32m~/.conda/envs/syumi-note/lib/python3.9/site-packages/gymnasium/envs/toy_text/frozen_lake.py:308\u001b[0m, in \u001b[0;36mFrozenLakeEnv.step\u001b[0;34m(self, a)\u001b[0m\n\u001b[1;32m    305\u001b[0m \u001b[39mself\u001b[39m\u001b[39m.\u001b[39mlastaction \u001b[39m=\u001b[39m a\n\u001b[1;32m    307\u001b[0m \u001b[39mif\u001b[39;00m \u001b[39mself\u001b[39m\u001b[39m.\u001b[39mrender_mode \u001b[39m==\u001b[39m \u001b[39m\"\u001b[39m\u001b[39mhuman\u001b[39m\u001b[39m\"\u001b[39m:\n\u001b[0;32m--> 308\u001b[0m     \u001b[39mself\u001b[39;49m\u001b[39m.\u001b[39;49mrender()\n\u001b[1;32m    309\u001b[0m \u001b[39mreturn\u001b[39;00m (\u001b[39mint\u001b[39m(s), r, t, \u001b[39mFalse\u001b[39;00m, {\u001b[39m\"\u001b[39m\u001b[39mprob\u001b[39m\u001b[39m\"\u001b[39m: p})\n",
      "File \u001b[0;32m~/.conda/envs/syumi-note/lib/python3.9/site-packages/gymnasium/envs/toy_text/frozen_lake.py:338\u001b[0m, in \u001b[0;36mFrozenLakeEnv.render\u001b[0;34m(self)\u001b[0m\n\u001b[1;32m    336\u001b[0m     \u001b[39mreturn\u001b[39;00m \u001b[39mself\u001b[39m\u001b[39m.\u001b[39m_render_text()\n\u001b[1;32m    337\u001b[0m \u001b[39melse\u001b[39;00m:  \u001b[39m# self.render_mode in {\"human\", \"rgb_array\"}:\u001b[39;00m\n\u001b[0;32m--> 338\u001b[0m     \u001b[39mreturn\u001b[39;00m \u001b[39mself\u001b[39;49m\u001b[39m.\u001b[39;49m_render_gui(\u001b[39mself\u001b[39;49m\u001b[39m.\u001b[39;49mrender_mode)\n",
      "File \u001b[0;32m~/.conda/envs/syumi-note/lib/python3.9/site-packages/gymnasium/envs/toy_text/frozen_lake.py:432\u001b[0m, in \u001b[0;36mFrozenLakeEnv._render_gui\u001b[0;34m(self, mode)\u001b[0m\n\u001b[1;32m    430\u001b[0m     pygame\u001b[39m.\u001b[39mevent\u001b[39m.\u001b[39mpump()\n\u001b[1;32m    431\u001b[0m     pygame\u001b[39m.\u001b[39mdisplay\u001b[39m.\u001b[39mupdate()\n\u001b[0;32m--> 432\u001b[0m     \u001b[39mself\u001b[39;49m\u001b[39m.\u001b[39;49mclock\u001b[39m.\u001b[39;49mtick(\u001b[39mself\u001b[39;49m\u001b[39m.\u001b[39;49mmetadata[\u001b[39m\"\u001b[39;49m\u001b[39mrender_fps\u001b[39;49m\u001b[39m\"\u001b[39;49m])\n\u001b[1;32m    433\u001b[0m \u001b[39melif\u001b[39;00m mode \u001b[39m==\u001b[39m \u001b[39m\"\u001b[39m\u001b[39mrgb_array\u001b[39m\u001b[39m\"\u001b[39m:\n\u001b[1;32m    434\u001b[0m     \u001b[39mreturn\u001b[39;00m np\u001b[39m.\u001b[39mtranspose(\n\u001b[1;32m    435\u001b[0m         np\u001b[39m.\u001b[39marray(pygame\u001b[39m.\u001b[39msurfarray\u001b[39m.\u001b[39mpixels3d(\u001b[39mself\u001b[39m\u001b[39m.\u001b[39mwindow_surface)), axes\u001b[39m=\u001b[39m(\u001b[39m1\u001b[39m, \u001b[39m0\u001b[39m, \u001b[39m2\u001b[39m)\n\u001b[1;32m    436\u001b[0m     )\n",
      "\u001b[0;31mKeyboardInterrupt\u001b[0m: "
     ]
    }
   ],
   "source": [
    "env = gym.make('FrozenLake-v1', desc=None, map_name=\"4x4\", is_slippery=False,render_mode='human')\n",
    "S,A = env.observation_space.n,env.action_space.n\n",
    "S = env.reset()[0]\n",
    "for _ in range(100):\n",
    "    # if _ == 0:\n",
    "    #     A = 1\n",
    "    # else:\n",
    "    A = np.argmax(Q[S])\n",
    "    # S_DASH = np.random.choice(a=16,size=1,p=P[S,A])[0]\n",
    "    # if S_DASH == S - 1:  # 左に移動した場合\n",
    "    #     A = 0  # 行動0を返す\n",
    "    # elif S_DASH == S + 4:  # 下に移動した場合\n",
    "    #     A = 1  # 行動1を返す\n",
    "    # elif S_DASH == S + 1:  # 右に移動した場合\n",
    "    #     A = 2  # 行動2を返す\n",
    "    # elif S_DASH == S - 4:  # 上に移動した場合\n",
    "    #     A = 3  # 行動3を返す\n",
    "    S_,R,D,D_,_ = env.step(A)\n",
    "    S = S_\n",
    "            # if R != 0.0:\n",
    "            #     print('a')\n",
    "            # print(steps)\n",
    "    if D or D_:\n",
    "                # print(R)\n",
    "        break\n"
   ]
  },
  {
   "cell_type": "code",
   "execution_count": 1,
   "metadata": {},
   "outputs": [
    {
     "ename": "NameError",
     "evalue": "name 'Q' is not defined",
     "output_type": "error",
     "traceback": [
      "\u001b[0;31m---------------------------------------------------------------------------\u001b[0m",
      "\u001b[0;31mNameError\u001b[0m                                 Traceback (most recent call last)",
      "Cell \u001b[0;32mIn[1], line 1\u001b[0m\n\u001b[0;32m----> 1\u001b[0m Q[\u001b[39m0\u001b[39m]\n",
      "\u001b[0;31mNameError\u001b[0m: name 'Q' is not defined"
     ]
    }
   ],
   "source": [
    "Q[0]"
   ]
  },
  {
   "cell_type": "code",
   "execution_count": null,
   "metadata": {},
   "outputs": [],
   "source": []
  }
 ],
 "metadata": {
  "kernelspec": {
   "display_name": "syumi-note",
   "language": "python",
   "name": "python3"
  },
  "language_info": {
   "codemirror_mode": {
    "name": "ipython",
    "version": 3
   },
   "file_extension": ".py",
   "mimetype": "text/x-python",
   "name": "python",
   "nbconvert_exporter": "python",
   "pygments_lexer": "ipython3",
   "version": "3.9.0"
  },
  "orig_nbformat": 4
 },
 "nbformat": 4,
 "nbformat_minor": 2
}
