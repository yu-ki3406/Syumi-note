{
 "cells": [
  {
   "attachments": {},
   "cell_type": "markdown",
   "metadata": {},
   "source": [
    "# Robust MDP"
   ]
  },
  {
   "attachments": {},
   "cell_type": "markdown",
   "metadata": {},
   "source": [
    "---"
   ]
  },
  {
   "attachments": {},
   "cell_type": "markdown",
   "metadata": {},
   "source": [
    "今回はこの[論文](https://arxiv.org/abs/2112.01506)をコードも含めて解説してきます．\n",
    "\n",
    "Robust MDPは従来のMDPと異なる点は，遷移確率行列Pに不確実性を持たせ，現実世界のモデルに適用した時に，シュミレータとのギャップを減らすのがモチベーションでできたMDPです．\n",
    "\n",
    "---"
   ]
  },
  {
   "attachments": {},
   "cell_type": "markdown",
   "metadata": {},
   "source": [
    "### **予備知識**"
   ]
  },
  {
   "attachments": {},
   "cell_type": "markdown",
   "metadata": {},
   "source": [
    "robust MDP は次のMDPを考えます．\n",
    "\n",
    "**$M = (S,A,r,P,\\gamma)$**\n",
    "\n",
    "この時の遷移確率行列は次のような集合で定義されます，\n",
    "\n",
    "$$\n",
    "\\begin{array}{r}\n",
    "\\mathcal{P}=\\otimes \\mathcal{P}_{s, a}, \\text { where, } \\mathcal{P}_{s, a}=\\left\\{P_{s, a} \\in[0,1]^{|S|}:\\right. \\\\\n",
    "\\left.D\\left(P_{s, a}, P_{s, a}^o\\right) \\leq c_r, \\sum_{s^{\\prime} \\in S} P_{s, a}\\left(s^{\\prime}\\right)=1\\right\\}\n",
    "\\end{array}\n",
    "$$\n",
    "\n",
    "ここで$D$は任意の確率間の距離を測れる関数(ex.KL,TV)で,$c_r$は閾値,$P_{s, a}^o$を真の遷移確率行列とします．"
   ]
  },
  {
   "attachments": {},
   "cell_type": "markdown",
   "metadata": {},
   "source": [
    "例えばTotal VariationをDに適用したときの式は次のようになります．\n",
    "\n",
    "$$\n",
    "D_{\\mathrm{tv}}\\left(P_{s, a}, P_{s, a}^o\\right)=(1 / 2)\\left\\|P_{s, a}-P_{s, a}^o\\right\\|_1 .\n",
    "$$"
   ]
  },
  {
   "attachments": {},
   "cell_type": "markdown",
   "metadata": {},
   "source": [
    "そして,次のような記法を考えます．\n",
    "\n",
    "$$\n",
    "\\sigma_B(v)=\\inf \\left\\{u^{\\top} v: u \\in \\mathcal{B}\\right\\}\n",
    "$$\n",
    "\n",
    "上の集合$\\mathcal{B}$は上で考えた不確実な遷移確率行列の集合です．\n",
    "\n",
    "つまり，不確実な遷移確率の集合から1番価値関数を低く推定してくれるPを選ぶということです．\n",
    "\n",
    "この記法を使い，robust MDPの下でのベルマン作用素は次のように定義されます．\n",
    "\n",
    "$$\n",
    "T(V)(s)=\\max _a(r(s, a)+\\gamma \\sigma_{\\mathcal{P}_(s,a)})(V))\n",
    "$$."
   ]
  },
  {
   "attachments": {},
   "cell_type": "markdown",
   "metadata": {},
   "source": [
    "---"
   ]
  },
  {
   "attachments": {},
   "cell_type": "markdown",
   "metadata": {},
   "source": [
    "現実世界では真の遷移確率行列は未知の場合が多いので，モデルベース強化学習の文脈では次のように遷移確率行列を推定します．\n",
    "\n",
    "$$\n",
    "\\widehat{P}_{s, a}^o\\left(s^{\\prime}\\right)=N\\left(s, a, s^{\\prime}\\right) / N(s,a)\n",
    "$$"
   ]
  },
  {
   "attachments": {},
   "cell_type": "markdown",
   "metadata": {},
   "source": [
    "N(s,a)は(s,a)が何回訪れられたかという関数です．\n",
    "\n",
    "上の式を使い，不確実な遷移確率行列の集合の定義式を書き直すと，\n",
    "\n",
    "$$\n",
    "\\begin{gathered}\n",
    "\\widehat{\\mathcal{P}}=\\otimes \\widehat{\\mathcal{P}}_{s, a}, \\text { where, } \\widehat{\\mathcal{P}}_{s, a}=\\left\\{P \\in[0,1]^{\\mathcal{S}}:\\right. \\\\\n",
    "\\left.D\\left(P_{s, a}, \\widehat{P}_{s, a}\\right) \\leq c_r, \\sum P_{s, a}\\left(s^{\\prime}\\right)=1\\right\\}\n",
    "\\end{gathered}\n",
    "$$\n",
    "\n"
   ]
  },
  {
   "attachments": {},
   "cell_type": "markdown",
   "metadata": {},
   "source": [
    "---"
   ]
  },
  {
   "attachments": {},
   "cell_type": "markdown",
   "metadata": {},
   "source": [
    "### **サンプル効率の導出**"
   ]
  },
  {
   "attachments": {},
   "cell_type": "markdown",
   "metadata": {},
   "source": [
    "今回はTotal Variationを使ったものを説明します．\n",
    "\n",
    "まず，経験robust MDPを次のように定義します．\n",
    "\n",
    "**$\\widehat{M} = (S,A,r,\\widehat{P},\\gamma)$**\n",
    "\n",
    "経験robust MDPを適用した価値関数は$\\widehat{V}$のように表記します．"
   ]
  },
  {
   "attachments": {},
   "cell_type": "markdown",
   "metadata": {},
   "source": [
    "robust MDPでの目標は$\\left\\|V^*-V^{\\pi_K}\\right\\|$,が十分小さくなるまでに必要なサンプル数を求めることです．\n",
    "\n",
    "三角不等式を使い，上式を書き直すと，\n",
    "$$\n",
    "\\left\\|V^*-V^{\\pi_K}\\right\\| \\leq\\left\\|V^*-\\widehat{V}^*\\right\\|+\\left\\|\\widehat{V}^*-\\widehat{V}^{\\pi_K}\\right\\|+\\left\\|\\widehat{V}^{\\pi_K}-V^{\\pi_K}\\right\\|,\n",
    "$$"
   ]
  },
  {
   "attachments": {},
   "cell_type": "markdown",
   "metadata": {},
   "source": [
    "\n",
    "式の2項目は$\\gamma$縮小性を使えば，$\\left\\|\\widehat{V}^*-\\widehat{V}^{\\pi_K}\\right\\| \\leq 2 \\gamma^{K+1} /(1-\\gamma)^2$ のように解けます．\n",
    "\n",
    "なので，1項目と3項目を解くことにテクニックが必要です．\n",
    "\n",
    "まず，$V-\\widehat{V}$の項を書き直すと，\n",
    "\n",
    "$\\begin{aligned} & V^\\pi(s)-\\widehat{V}^\\pi(s)=\\gamma \\sigma_{\\mathcal{P}_{x, a}}\\left(V^\\pi\\right)-\\gamma \\sigma_{\\overline{\\mathcal{p}}_{x, a}}\\left(\\widehat{V}^\\pi\\right) \\\\ & =\\gamma\\left(\\sigma_{\\mathcal{P}_{x, a}}\\left(V^\\pi\\right)-\\sigma_{\\mathcal{P}_{x, a}}\\left(\\widehat{V}^\\pi\\right)\\right)+\\gamma\\left(\\sigma_{\\mathcal{P}_{x, a}}\\left(\\widehat{V}^\\pi\\right)-\\sigma_{\\overline{\\mathcal{P}}_{x, a}}\\left(\\widehat{V}^\\pi\\right)\\right)\\end{aligned}$"
   ]
  },
  {
   "attachments": {},
   "cell_type": "markdown",
   "metadata": {},
   "source": [
    "1項目の$\\gamma\\left(\\sigma_{\\mathcal{P}_{s, a}}\\left(V^\\pi\\right)-\\sigma_{\\mathcal{P}_{s, a}}\\left(\\widehat{V}^\\pi\\right)\\right)$は$\\left|\\sigma_{\\mathcal{P}_{s, a}}\\left(V_1\\right)-\\sigma_{\\mathcal{P}_{s, a}}\\left(V_2\\right)\\right| \\leq\\left\\|V_1-V_2\\right\\|$なことが直ちに示せます．\n"
   ]
  },
  {
   "attachments": {},
   "cell_type": "markdown",
   "metadata": {},
   "source": [
    "このことから，2項目の$\\sigma_{\\mathcal{P}_{s, a}}\\left(\\widehat{V}^\\pi\\right)-\\sigma_{\\widehat{\\mathcal{P}}_{s, a}}\\left(\\widehat{V}^\\pi\\right)$を解析することが大切になってきます．\n",
    "\n"
   ]
  },
  {
   "attachments": {},
   "cell_type": "markdown",
   "metadata": {},
   "source": [
    "$\\mathcal{V}=\\left\\{V \\in \\mathbb{R}^{|\\mathcal{S}|}\\right.$ : $\\|V\\| \\leq 1 /(1-\\gamma)\\}$.のような関数のクラスを考え，任意の$(s, a) \\in \\mathcal{S} \\times \\mathcal{A}$  ，$V \\in \\widehat{\\mathcal{V}}$で次のようなことが成り立ちます．\n",
    "$$\n",
    "\\left|\\sigma_{\\hat{\\mathcal{P}}_{s, a}^{\\text {tv }}}(V)-\\sigma_{\\mathcal{P}_{s, a}^{\\text {tv }}}(V)\\right| \\leq 2 \\max _{\\mu \\in \\mathcal{V}}\\left|\\widehat{P}_{s, a} \\mu-P_{s, a}^o \\mu\\right|\n",
    "$$"
   ]
  },
  {
   "attachments": {},
   "cell_type": "markdown",
   "metadata": {},
   "source": [
    "$\\max _{\\mu \\in \\mathcal{V}}\\left|\\widehat{P}_{s, a} \\mu-P_{s, a}^o \\mu\\right|$の項はHoeffidingの不等式と，Covering Numberを使い，次のように抑えられます．\n",
    "\n",
    "$$\n",
    "\\begin{aligned}\n",
    "\\max _{\\mu: 0 \\leq \\mu \\leq V} & \\max _{s, a}\\left|\\widehat{P}_{s, a} \\mu-P_{s, a}^o \\mu\\right| \\leq \\\\\n",
    "& \\frac{1}{1-\\gamma} \\sqrt{\\frac{|\\mathcal{S}|}{2 N} \\log \\left(\\frac{12|\\mathcal{S}||\\mathcal{A}|}{(\\delta \\eta(1-\\gamma))}\\right.}+2 \\eta\n",
    "\\end{aligned}\n",
    "$$"
   ]
  },
  {
   "attachments": {},
   "cell_type": "markdown",
   "metadata": {},
   "source": [
    "上の上界の式を使うと，\n",
    "$$\n",
    "\\begin{aligned}\n",
    "& \\max _{V \\in \\mathcal{V}} \\max _{s, a}\\left|\\sigma_{\\hat{\\mathcal{P}}_{s, a}^{t v}}(V)-\\sigma_{\\mathcal{P}_{s, a}^{t v}}(V)\\right| \\leq C_u^{\\mathrm{tv}}(N, \\eta, \\delta), \\text { where, } \\\\\n",
    "& C_u^{\\mathrm{tv}}(N, \\eta, \\delta)=4 \\eta+ \\\\\n",
    "& \\frac{2}{1-\\gamma} \\sqrt{\\frac{|\\mathcal{S}| \\log (6|\\mathcal{S}||\\mathcal{A}| /(\\delta \\eta(1-\\gamma)))}{2 N}}\n",
    "\\end{aligned}\n",
    "$$"
   ]
  },
  {
   "attachments": {},
   "cell_type": "markdown",
   "metadata": {},
   "source": [
    "このことから，\n",
    "$$\n",
    "\\left\\|V^*-\\widehat{V}^*\\right\\| \\leq \\frac{\\gamma}{(1-\\gamma)} C_u^{\\mathrm{tv}}(N, \\eta, \\delta)\n",
    "$$\n",
    "\n",
    "と分かりましたね．\n",
    "\n",
    "この解析ができれば，他の過程は簡単なので，省略し，結果だけ示すこtにします．\n",
    "\n",
    "最初の目標であった式$|V^*-V^{\\pi_K}|$は次のように書けます．\n",
    "\n",
    "\n",
    "$$\n",
    "\\left\\|V^*-V^{\\pi_k}\\right\\| \\leq \\frac{2 \\gamma^{k+1}}{(1-\\gamma)^2}+\\frac{4 \\gamma}{(1-\\gamma)^2} \\sqrt{\\frac{|\\mathcal{S}| \\log (6|\\mathcal{S}||\\mathcal{A}| /(\\delta \\eta(1-\\gamma)))}{2 N}}+\\frac{8 \\gamma \\eta}{(1-\\gamma)}\n",
    "$$"
   ]
  },
  {
   "attachments": {},
   "cell_type": "markdown",
   "metadata": {},
   "source": [
    "---\n",
    "\n",
    "### **コードを書きます．**"
   ]
  },
  {
   "cell_type": "code",
   "execution_count": 20,
   "metadata": {},
   "outputs": [],
   "source": [
    "import numpy as np\n",
    "from functools import partial\n",
    "from typing import Optional,NamedTuple\n",
    "import jax.numpy as jnp\n",
    "from jax.random import PRNGKey\n",
    "import jax\n",
    "\n",
    "class MDP(NamedTuple):\n",
    "    S_array : jnp.ndarray\n",
    "    A_array : jnp.ndarray\n",
    "    P: jnp.ndarray\n",
    "    rew: jnp.ndarray\n",
    "    gamma : float\n",
    "    H : int\n",
    "    optimal_Q : Optional[jnp.ndarray] = None\n",
    "    robust_optimal_Q : Optional[jnp.ndarray] = None\n",
    "\n",
    "    @property\n",
    "    def S(self):\n",
    "        return len(self.S_array)\n",
    "    \n",
    "    @property\n",
    "    def A(self):\n",
    "        return  len(self.A_array)\n",
    "    \n",
    "\n",
    "S = 5\n",
    "A = 3\n",
    "\n",
    "#報酬と遷移確率の行列を作る．\n",
    "key = PRNGKey(0)\n",
    "key,_ = jax.random.split(key)\n",
    "rew = jax.random.uniform(key,shape=(S,A))\n",
    "\n",
    "\n",
    "P = np.random.rand(S*A, S) #遷移確率\n",
    "P = P / np.sum(P,axis=-1,keepdims=True)\n",
    "P = P.reshape(S,A,S)\n",
    "np.testing.assert_allclose(P.sum(axis=-1),1)\n",
    "# P = jnp.array(P)\n",
    "\n",
    "\n",
    "\n",
    "S_array = jnp.arange(S)\n",
    "A_array = jnp.arange(A)\n",
    "gamma = 0.99\n",
    "horizon = 1 / (1-gamma)\n",
    "horizon = int(horizon)\n",
    "\n",
    "mdp = MDP(S_array,A_array,P,rew,gamma,horizon)\n"
   ]
  },
  {
   "cell_type": "code",
   "execution_count": 21,
   "metadata": {},
   "outputs": [],
   "source": [
    "from functools import partial\n",
    "import chex\n",
    "\n",
    "#最適価値関数の計算\n",
    "\n",
    "@partial(jax.jit,static_argnames=('S','A'))\n",
    "def _compute_optimal_Q(mdp:MDP,S:int,A:int):\n",
    "    Q = jnp.zeros((S,A))\n",
    "    def backup(Q):\n",
    "        V = Q.max(axis=-1)\n",
    "        return mdp.rew + mdp.gamma * mdp.P @ V\n",
    "    body_fn = lambda i,Q:backup(Q)\n",
    "    Q = jax.lax.fori_loop(0,mdp.H+100,body_fn,Q)\n",
    "    return Q\n",
    "\n",
    "compute_optimal_Q = lambda mdp: _compute_optimal_Q(mdp,mdp.S,mdp.A)\n",
    "optimal_Q = compute_optimal_Q(mdp)\n",
    "mdp = mdp._replace(optimal_Q=optimal_Q)"
   ]
  },
  {
   "cell_type": "code",
   "execution_count": 22,
   "metadata": {},
   "outputs": [],
   "source": [
    "#経験遷移確率行列\n",
    "def Calc_Emp_P(mdp:MDP,N:int):\n",
    "    S,A = mdp.S,mdp.A\n",
    "    emp_P = jnp.zeros((S,A,S))\n",
    "    N_s_a = jnp.zeros((S,A))\n",
    "    N_s_a_s = jnp.zeros((S,A,S))\n",
    "\n",
    "    for s in range(S):\n",
    "        for a in range(A):\n",
    "            for _ in range(N):\n",
    "                s_next = np.random.choice(mdp.S,p=mdp.P[s,a])\n",
    "                N_s_a = N_s_a.at[s,a].add(1)\n",
    "                N_s_a_s = N_s_a_s.at[s,a,s_next].add(1)\n",
    "            emp_P = emp_P.at[s,a,:].set(N_s_a_s[s,a,s_next] / N_s_a[s,a])\n",
    "\n"
   ]
  },
  {
   "cell_type": "code",
   "execution_count": 61,
   "metadata": {},
   "outputs": [],
   "source": [
    "def TV(p:jnp.ndarray,p_dash:jnp.ndarray):\n",
    "    return (0.5 * jnp.sum(jnp.abs(p - p_dash))).item()"
   ]
  },
  {
   "cell_type": "code",
   "execution_count": 62,
   "metadata": {},
   "outputs": [],
   "source": [
    "import pulp\n",
    "def Calc_Uncertainty_P(mdp:MDP,emp_P:jnp.ndarray,V:jnp.ndarray,c:float):\n",
    "    S,A = mdp.S,mdp.A\n",
    "    problem = pulp.LpProblem('Uncertainty_P',pulp.LpMinimize)\n",
    "    P_keys = [(s,a,s_next) for s in range(S) for a in range(A) for s_next in range(S)]\n",
    "    P = pulp.LpVariable.dicts('P_keys',P_keys,0,1,cat='Continuous')\n",
    "    problem += pulp.lpSum([pulp.lpSum([pulp.lpSum([P[s,a,s_next] * V[s_next] for s_next in range(S)]) for a in range(A)]) for s in range(S)])\n",
    "\n",
    "    # problem += pulp.lpSum([P[:,:,s_next] for s_next in range(S)]) == 1\n",
    "    # problem += [pulp.lpSum(P[(:,:,s_next)]) for s_next in range(S)] == 1\n",
    "    for s_next in range(S):\n",
    "        problem += pulp.lpSum([P[s,a,s_next] for s in range(S) for a in range(A)]) == 1\n",
    "    # problem += pulp.lpSum(TV(P[s,a,:],emp_P[s,a,:]) <= c for s in range(S) for a in range(A))\n",
    "    for s in range(S):\n",
    "        for a in range(A):\n",
    "            problem += pulp.lpSum(TV(P[s,a,s_next],emp_P[s,a,s_next]) for s_next in range(S)) <= c\n",
    "    problem.solve()\n",
    "    P = jnp.array([[P[s,a,s_next].value() for s_next in range(S)] for a in range(A) for s in range(S)])\n",
    "    P = P.reshape(S,A,S)\n",
    "    return P\n",
    "\n"
   ]
  },
  {
   "cell_type": "code",
   "execution_count": 63,
   "metadata": {},
   "outputs": [
    {
     "ename": "TypeError",
     "evalue": "'NoneType' object is not subscriptable",
     "output_type": "error",
     "traceback": [
      "\u001b[0;31m---------------------------------------------------------------------------\u001b[0m",
      "\u001b[0;31mTypeError\u001b[0m                                 Traceback (most recent call last)",
      "Cell \u001b[0;32mIn[63], line 15\u001b[0m\n\u001b[1;32m     11\u001b[0m         Q \u001b[39m=\u001b[39m mdp\u001b[39m.\u001b[39mrew \u001b[39m+\u001b[39m mdp\u001b[39m.\u001b[39mgamma \u001b[39m*\u001b[39m mdp\u001b[39m.\u001b[39mP \u001b[39m@\u001b[39m V\n\u001b[1;32m     13\u001b[0m     \u001b[39mreturn\u001b[39;00m Q\n\u001b[0;32m---> 15\u001b[0m Q \u001b[39m=\u001b[39m REVI(mdp,\u001b[39m100\u001b[39;49m,\u001b[39m0.1\u001b[39;49m,\u001b[39m100\u001b[39;49m)\n",
      "Cell \u001b[0;32mIn[63], line 9\u001b[0m, in \u001b[0;36mREVI\u001b[0;34m(mdp, N, c, K)\u001b[0m\n\u001b[1;32m      6\u001b[0m \u001b[39mfor\u001b[39;00m _ \u001b[39min\u001b[39;00m \u001b[39mrange\u001b[39m(K):\n\u001b[1;32m      8\u001b[0m     V \u001b[39m=\u001b[39m compute_optimal_Q(mdp)\u001b[39m.\u001b[39mmax(axis\u001b[39m=\u001b[39m\u001b[39m-\u001b[39m\u001b[39m1\u001b[39m)\n\u001b[0;32m----> 9\u001b[0m     P \u001b[39m=\u001b[39m Calc_Uncertainty_P(mdp,emp_P,V,c)\n\u001b[1;32m     10\u001b[0m     mdp \u001b[39m=\u001b[39m mdp\u001b[39m.\u001b[39m_replace(P\u001b[39m=\u001b[39mP)\n\u001b[1;32m     11\u001b[0m     Q \u001b[39m=\u001b[39m mdp\u001b[39m.\u001b[39mrew \u001b[39m+\u001b[39m mdp\u001b[39m.\u001b[39mgamma \u001b[39m*\u001b[39m mdp\u001b[39m.\u001b[39mP \u001b[39m@\u001b[39m V\n",
      "Cell \u001b[0;32mIn[62], line 16\u001b[0m, in \u001b[0;36mCalc_Uncertainty_P\u001b[0;34m(mdp, emp_P, V, c)\u001b[0m\n\u001b[1;32m     14\u001b[0m \u001b[39mfor\u001b[39;00m s \u001b[39min\u001b[39;00m \u001b[39mrange\u001b[39m(S):\n\u001b[1;32m     15\u001b[0m     \u001b[39mfor\u001b[39;00m a \u001b[39min\u001b[39;00m \u001b[39mrange\u001b[39m(A):\n\u001b[0;32m---> 16\u001b[0m         problem \u001b[39m+\u001b[39m\u001b[39m=\u001b[39m pulp\u001b[39m.\u001b[39;49mlpSum(TV(P[s,a,s_next],emp_P[s,a,s_next]) \u001b[39mfor\u001b[39;49;00m s_next \u001b[39min\u001b[39;49;00m \u001b[39mrange\u001b[39;49m(S)) \u001b[39m<\u001b[39m\u001b[39m=\u001b[39m c\n\u001b[1;32m     17\u001b[0m problem\u001b[39m.\u001b[39msolve()\n\u001b[1;32m     18\u001b[0m P \u001b[39m=\u001b[39m jnp\u001b[39m.\u001b[39marray([[P[s,a,s_next]\u001b[39m.\u001b[39mvalue() \u001b[39mfor\u001b[39;00m s_next \u001b[39min\u001b[39;00m \u001b[39mrange\u001b[39m(S)] \u001b[39mfor\u001b[39;00m a \u001b[39min\u001b[39;00m \u001b[39mrange\u001b[39m(A) \u001b[39mfor\u001b[39;00m s \u001b[39min\u001b[39;00m \u001b[39mrange\u001b[39m(S)])\n",
      "File \u001b[0;32m~/opt/anaconda3/envs/syumi-note/lib/python3.9/site-packages/pulp/pulp.py:2281\u001b[0m, in \u001b[0;36mlpSum\u001b[0;34m(vector)\u001b[0m\n\u001b[1;32m   2275\u001b[0m \u001b[39mdef\u001b[39;00m \u001b[39mlpSum\u001b[39m(vector):\n\u001b[1;32m   2276\u001b[0m \u001b[39m    \u001b[39m\u001b[39m\"\"\"\u001b[39;00m\n\u001b[1;32m   2277\u001b[0m \u001b[39m    Calculate the sum of a list of linear expressions\u001b[39;00m\n\u001b[1;32m   2278\u001b[0m \n\u001b[1;32m   2279\u001b[0m \u001b[39m    :param vector: A list of linear expressions\u001b[39;00m\n\u001b[1;32m   2280\u001b[0m \u001b[39m    \"\"\"\u001b[39;00m\n\u001b[0;32m-> 2281\u001b[0m     \u001b[39mreturn\u001b[39;00m LpAffineExpression()\u001b[39m.\u001b[39;49maddInPlace(vector)\n",
      "File \u001b[0;32m~/opt/anaconda3/envs/syumi-note/lib/python3.9/site-packages/pulp/pulp.py:896\u001b[0m, in \u001b[0;36mLpAffineExpression.addInPlace\u001b[0;34m(self, other)\u001b[0m\n\u001b[1;32m    894\u001b[0m         \u001b[39mself\u001b[39m\u001b[39m.\u001b[39maddInPlace(e)\n\u001b[1;32m    895\u001b[0m \u001b[39melif\u001b[39;00m \u001b[39misinstance\u001b[39m(other, \u001b[39mlist\u001b[39m) \u001b[39mor\u001b[39;00m \u001b[39misinstance\u001b[39m(other, Iterable):\n\u001b[0;32m--> 896\u001b[0m     \u001b[39mfor\u001b[39;00m e \u001b[39min\u001b[39;00m other:\n\u001b[1;32m    897\u001b[0m         \u001b[39mself\u001b[39m\u001b[39m.\u001b[39maddInPlace(e)\n\u001b[1;32m    898\u001b[0m \u001b[39melse\u001b[39;00m:\n",
      "Cell \u001b[0;32mIn[62], line 16\u001b[0m, in \u001b[0;36m<genexpr>\u001b[0;34m(.0)\u001b[0m\n\u001b[1;32m     14\u001b[0m \u001b[39mfor\u001b[39;00m s \u001b[39min\u001b[39;00m \u001b[39mrange\u001b[39m(S):\n\u001b[1;32m     15\u001b[0m     \u001b[39mfor\u001b[39;00m a \u001b[39min\u001b[39;00m \u001b[39mrange\u001b[39m(A):\n\u001b[0;32m---> 16\u001b[0m         problem \u001b[39m+\u001b[39m\u001b[39m=\u001b[39m pulp\u001b[39m.\u001b[39mlpSum(TV(P[s,a,s_next],emp_P[s,a,s_next]) \u001b[39mfor\u001b[39;00m s_next \u001b[39min\u001b[39;00m \u001b[39mrange\u001b[39m(S)) \u001b[39m<\u001b[39m\u001b[39m=\u001b[39m c\n\u001b[1;32m     17\u001b[0m problem\u001b[39m.\u001b[39msolve()\n\u001b[1;32m     18\u001b[0m P \u001b[39m=\u001b[39m jnp\u001b[39m.\u001b[39marray([[P[s,a,s_next]\u001b[39m.\u001b[39mvalue() \u001b[39mfor\u001b[39;00m s_next \u001b[39min\u001b[39;00m \u001b[39mrange\u001b[39m(S)] \u001b[39mfor\u001b[39;00m a \u001b[39min\u001b[39;00m \u001b[39mrange\u001b[39m(A) \u001b[39mfor\u001b[39;00m s \u001b[39min\u001b[39;00m \u001b[39mrange\u001b[39m(S)])\n",
      "\u001b[0;31mTypeError\u001b[0m: 'NoneType' object is not subscriptable"
     ]
    }
   ],
   "source": [
    "def REVI(mdp:MDP,N:int,c:float,K:int):\n",
    "    S,A = mdp.S,mdp.A\n",
    "\n",
    "    emp_P = Calc_Emp_P(mdp,N)\n",
    "    Q = jnp.zeros((S,A))\n",
    "    for _ in range(K):\n",
    "\n",
    "        V = compute_optimal_Q(mdp).max(axis=-1)\n",
    "        P = Calc_Uncertainty_P(mdp,emp_P,V,c)\n",
    "        mdp = mdp._replace(P=P)\n",
    "        Q = mdp.rew + mdp.gamma * mdp.P @ V\n",
    "\n",
    "    return Q\n",
    "\n",
    "Q = REVI(mdp,100,0.1,100)"
   ]
  }
 ],
 "metadata": {
  "kernelspec": {
   "display_name": "syumi-note",
   "language": "python",
   "name": "python3"
  },
  "language_info": {
   "codemirror_mode": {
    "name": "ipython",
    "version": 3
   },
   "file_extension": ".py",
   "mimetype": "text/x-python",
   "name": "python",
   "nbconvert_exporter": "python",
   "pygments_lexer": "ipython3",
   "version": "3.9.0"
  },
  "orig_nbformat": 4
 },
 "nbformat": 4,
 "nbformat_minor": 2
}
