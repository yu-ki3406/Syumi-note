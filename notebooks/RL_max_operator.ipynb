{
 "cells": [
  {
   "cell_type": "markdown",
   "metadata": {},
   "source": [
    "# 強化学習におけるmax作用素"
   ]
  },
  {
   "attachments": {},
   "cell_type": "markdown",
   "metadata": {},
   "source": [
    "---"
   ]
  },
  {
   "attachments": {},
   "cell_type": "markdown",
   "metadata": {},
   "source": [
    "今回は強化学習のオフポリシー方策のアルゴリズム(Value Iteration,DQNなど)において使用するmax作用素について説明していきます.\n",
    "\n",
    "またこちらの[論文](https://arxiv.org/pdf/1612.05628)はmax作用素の代わりにmellowmax作用素を使うといいよと言っている論文です．\n",
    "\n",
    "興味があれば読んでみてください．\n",
    "\n",
    "---\n",
    "\n"
   ]
  },
  {
   "attachments": {},
   "cell_type": "markdown",
   "metadata": {},
   "source": [
    "まず，端的に結論から言うと，max作用素を使用することはあまり良くないことが知られています．\n",
    "\n",
    "理由はいくつかあるのですが，現実世界などで強化学習を適用するときなどはノイズが発生し，最適な状態行動対の状態行動価値関数 $Q^*(s,a)$ の値が学習段階で1番ではなく僅差で2番目に大きくなってしまったりすると，わずかながらの差というものを考慮せず間違って最適だとみなされた状態価値関数が正しくない方向に学習を進める場合があります．\n",
    "\n",
    "---\n",
    "\n",
    "例を下で出します．"
   ]
  },
  {
   "attachments": {},
   "cell_type": "markdown",
   "metadata": {},
   "source": [
    "今回は行動が2つ ($a_1,a_2$) があり, $a_1$ を最適な行動とします．"
   ]
  },
  {
   "cell_type": "code",
   "execution_count": 31,
   "metadata": {},
   "outputs": [
    {
     "name": "stdout",
     "output_type": "stream",
     "text": [
      "[array([0.47051402]), array([0.60805247]), array([0.49134326]), array([-0.1]), array([-0.1]), array([1.31126845]), array([1.39920002]), array([1.8423774]), array([0.85378545]), array([-0.1]), array([-0.1]), array([0.16142626]), array([-0.1]), array([1.766909]), array([-0.1]), array([2.10306518]), array([-0.1]), array([0.78028118]), array([-0.1]), array([-0.1]), array([-0.1]), array([0.31939382]), array([-0.1]), array([0.31086027]), array([-0.1]), array([-0.1]), array([1.49029746]), array([-0.1]), array([-0.1]), array([2.11743148]), array([-0.1]), array([0.22579831]), array([0.48219489]), array([0.92778983]), array([1.07248628]), array([0.78105906]), array([3.05746599]), array([-0.1]), array([1.76638646]), array([3.03286043]), array([0.53446343]), array([-0.1]), array([-0.1]), array([-0.1]), array([1.49539233]), array([-0.1]), array([-0.1]), array([-0.1]), array([1.03182613]), array([0.26072107]), array([-0.1]), array([-0.1]), array([1.60264081]), array([0.35774918]), array([0.78655285]), array([0.10061089]), array([0.07534723]), array([0.30112151]), array([1.36508149]), array([0.22882774]), array([1.44816053]), array([0.49133861]), array([0.43719179]), array([0.7105084]), array([0.7596904]), array([-0.1]), array([0.72227816]), array([0.23340119]), array([-0.1]), array([-0.1]), array([-0.1]), array([-0.1]), array([0.73076516]), array([-0.1]), array([0.06130605]), array([0.80689676]), array([0.31030711]), array([-0.1]), array([-0.1]), array([1.95151769]), array([-0.1]), array([-0.1]), array([-0.1]), array([0.27640308]), array([0.63405764]), array([1.78641073]), array([1.17280722]), array([0.02360037]), array([-0.1]), array([-0.05376036]), array([1.30192834]), array([-0.02254204]), array([0.24873489]), array([0.10651135]), array([-0.1]), array([2.07401283]), array([-0.1]), array([0.03803118]), array([-0.1]), array([1.35155157])]\n"
     ]
    },
    {
     "data": {
      "text/plain": [
       "<matplotlib.lines.Line2D at 0x7f7f1104e370>"
      ]
     },
     "execution_count": 31,
     "metadata": {},
     "output_type": "execute_result"
    },
    {
     "data": {
      "image/png": "[encoded data removed]",
      "text/plain": [
       "<Figure size 640x480 with 1 Axes>"
      ]
     },
     "metadata": {},
     "output_type": "display_data"
    }
   ],
   "source": [
    "import matplotlib.pyplot as plt\n",
    "import numpy as np\n",
    "\n",
    "samples = 100\n",
    "action = 2\n",
    "\n",
    "Q_list = []\n",
    "\n",
    "for _ in range(samples):\n",
    "    #平均を0でノイズとして標準誤差を考慮\n",
    "    Q = np.random.randn(action-1)\n",
    "    Q_list.append(max(Q,np.array([-0.1])))\n",
    "print(Q_list)\n",
    "Q_list = np.array(Q_list)\n",
    "plt.hist(Q_list,bins=20)\n",
    "plt.xlabel('Q_value')\n",
    "plt.ylabel('samples')\n",
    "plt.axvline(x=0,color='red')\n",
    "plt.axvline(x=Q_list.mean(),color='green')\n"
   ]
  },
  {
   "attachments": {},
   "cell_type": "markdown",
   "metadata": {},
   "source": [
    "上のアルゴリズムはQ関数が0である時を最適として考えています．\n",
    "\n",
    "標準誤差をノイズとしても考えて100個の $max$ 作用素を使った時の期待値を求めると，本来なら期待値は0になって欲しいのですが，ノイズを考慮して，過大評価していますね．\n",
    "\n",
    "max作用素を使ってしまうと緑の線以外の場所の情報を考慮せずに学習が進んでしまい，ノイズなどが入ると良くないことがわかりますね．"
   ]
  },
  {
   "cell_type": "code",
   "execution_count": null,
   "metadata": {},
   "outputs": [],
   "source": []
  }
 ],
 "metadata": {
  "kernelspec": {
   "display_name": "syumi-note",
   "language": "python",
   "name": "python3"
  },
  "language_info": {
   "codemirror_mode": {
    "name": "ipython",
    "version": 3
   },
   "file_extension": ".py",
   "mimetype": "text/x-python",
   "name": "python",
   "nbconvert_exporter": "python",
   "pygments_lexer": "ipython3",
   "version": "3.9.0"
  },
  "orig_nbformat": 4
 },
 "nbformat": 4,
 "nbformat_minor": 2
}
