{
 "cells": [
  {
   "attachments": {},
   "cell_type": "markdown",
   "metadata": {},
   "source": [
    "# 統計的学習理論\n",
    "\n",
    "---"
   ]
  },
  {
   "attachments": {},
   "cell_type": "markdown",
   "metadata": {},
   "source": [
    "有限な仮説集合を用いた学習についての予測誤差についてこれから解説します．\n",
    "\n",
    "今回は2値判別問題を考え，真のモデルと予測したモデルの誤差はどのくらいの保証がされているのかを説明していきます．\n",
    "\n",
    "次に考えられるモデルの集合を示します．\n",
    "\n",
    "ただし，この集合に真のモデルが入ってるとは限りません．\n",
    "\n",
    "$$\n",
    "\\mathcal{H}=\\left\\{h_1, \\ldots, h_T\\right\\}\n",
    "$$\n",
    "\n",
    "$R_{\\text {err }}\\left(h\\right)$を2値判別問題を考えた時のなんらかの誤差関数の値で，$\\widehat{R}_{\\mathrm{err}}(h)$をその誤差関数のサンプル平均とします．\n",
    "\n",
    "そして，現実的な問題として，大体の状況はサンプル平均の誤差から，そのモデルの良し悪しを決めて，なんらかの問題に適用してますね，\n",
    "\n",
    "式で表すのなら，このようなことです．\n",
    "\n",
    "$$\n",
    "h_S=\\underset{h \\in \\mathcal{H}}{\\operatorname{argmin}} \\widehat{R}_{\\text {err }}(h)\n",
    "$$"
   ]
  },
  {
   "attachments": {},
   "cell_type": "markdown",
   "metadata": {},
   "source": [
    "$R_{\\text {err }}\\left(h_0\\right)$を$H$以外のモデルの集合も考えた，全体の集合からの最適なモデル$h_0$の誤差で，$R_{\\text {err }}\\left(h_{\\mathcal{H}}\\right)$は真の誤差が$H$の集合から1番小さいモデル$h_H$のモデルの誤差とします．$h_s$は上の説明と同じです．\n",
    "\n",
    "そのようなことを考えると，次のような不等式がたてられます．\n",
    "\n",
    "$$\n",
    "\\begin{aligned}\n",
    "& R_{\\text {err }}\\left(h_0\\right) \\leq R_{\\text {err }}\\left(h_{\\mathcal{H}}\\right) \\leq R_{\\mathrm{err}}\\left(h_S\\right) \\\\\n",
    "& \\widehat{R}_{\\mathrm{err}}\\left(h_S\\right) \\leq \\widehat{R}_{\\mathrm{err}}\\left(h_{\\mathcal{H}}\\right) .\n",
    "\\end{aligned}\n",
    "$$"
   ]
  },
  {
   "attachments": {},
   "cell_type": "markdown",
   "metadata": {},
   "source": [
    "そして，私たちが考えなければいけいない式は$R_{\\text {err }}\\left(h_S\\right)-R_{\\text {err }}\\left(h_0)\\right.$ですね．\n",
    "\n",
    "なぜなら，本来の理論的にはサンプル誤差ではなく真の誤差を知りたいからです．\n",
    "\n",
    "上の式は次のように書き換えれます．\n",
    "\n",
    "$$\n",
    "\\begin{aligned}\n",
    "& R_{\\mathrm{err}}\\left(h_S\\right)-R_{\\mathrm{err}}\\left(h_0\\right) \\\\\n",
    "= & R_{\\mathrm{err}}\\left(h_S\\right)-\\widehat{R}_{\\mathrm{err}}\\left(h_S\\right)+\\widehat{R}_{\\mathrm{err}}\\left(h_S\\right)-R_{\\mathrm{err}}\\left(h_{\\mathcal{H}}\\right) \\\\\n",
    "& +R_{\\mathrm{err}}\\left(h_{\\mathcal{H}}\\right)-R_{\\mathrm{err}}\\left(h_0\\right) \\\\\n",
    "\\leq & R_{\\mathrm{err}}\\left(h_S\\right)-\\widehat{R}_{\\mathrm{err}}\\left(h_S\\right)+\\widehat{R}_{\\mathrm{err}}\\left(h_{\\mathcal{H}}\\right)-R_{\\mathrm{err}}\\left(h_{\\mathcal{H}}\\right) \\\\\n",
    "& +R_{\\mathrm{err}}\\left(h_{\\mathcal{H}}\\right)-R_{\\mathrm{err}}\\left(h_0\\right) \\\\\n",
    "\\leq & 2 \\max _{h \\in \\mathcal{H}}\\left|\\widehat{R}_{\\mathrm{err}}(h)-R_{\\mathrm{err}}(h)\\right|+R_{\\mathrm{err}}\\left(h_{\\mathcal{H}}\\right)-R_{\\mathrm{err}}\\left(h_0\\right) .\n",
    "\\end{aligned}\n",
    "$$"
   ]
  },
  {
   "attachments": {},
   "cell_type": "markdown",
   "metadata": {},
   "source": [
    "$2 \\max _{h \\in \\mathcal{H}}\\left|\\widehat{R}_{\\mathrm{err}}(h)-R_{\\mathrm{err}}(h)\\right|$のような式は強化学習のサンプル効率を求める際にも遷移確率などにもこの話は当てはまるのすが，このような標本集団と母集団の関連したしきが出てきたら，集中不等式は使えないかと考えます．\n",
    "\n",
    "今回は，Hoeffdingの不等式を使います．\n",
    "\n",
    "Hoeffdingの不等式は次の[ノートブック](https://github.com/yu-ki3406/Syumi-note/blob/main/notebooks/Hoeffding_inequality.ipynb)を確認してください．\n",
    "\n",
    "$\\epsilon\\in \\mathbb{R}$の任意の数とします．\n"
   ]
  },
  {
   "attachments": {},
   "cell_type": "markdown",
   "metadata": {},
   "source": [
    "Hoeffdingの不等式を考えるために次のような式に書き換えます．\n",
    "\n",
    "$\\begin{aligned} & \\operatorname{Pr}\\left(2 \\max _{h \\in \\mathcal{H}}\\left|\\widehat{R}_{\\mathrm{err}}(h)-R_{\\mathrm{err}}(n)\\right| \\geq \\varepsilon\\right) \\\\ \\leq & \\sum_{h \\in \\mathcal{H}} \\operatorname{Pr}\\left(\\left|\\widehat{R}_{\\mathrm{err}}(h)-R_{\\mathrm{err}}(h)\\right| \\geq \\varepsilon / 2\\right) \\\\ \\leq & \\sum 2 e^{-2 n(\\varepsilon / 2)^2}=2|\\mathcal{H}| e^{-n \\varepsilon^2 / 2}\\end{aligned}$"
   ]
  },
  {
   "attachments": {},
   "cell_type": "markdown",
   "metadata": {},
   "source": [
    "上の式から次のような不等式で抑えることがわかります．\n",
    "\n",
    "$$2 \\max _{h \\in \\mathcal{H}}\\left|R_{\\mathrm{err}}(h)-\\widehat{R}_{\\mathrm{err}}(h)\\right| \\leq \\sqrt{\\frac{2}{n}} \\log \\frac{2|\\mathcal{H}|}{\\delta}$$"
   ]
  },
  {
   "attachments": {},
   "cell_type": "markdown",
   "metadata": {},
   "source": [
    "なので，最初の式を思い出すと，\n",
    "$$R_{\\text {err }}\\left(h_S\\right)-R_{\\mathrm{err}}\\left(h_0\\right) \\leq R_{\\mathrm{err}}\\left(h_{\\mathcal{H}}\\right)-R_{\\mathrm{err}}\\left(h_0\\right)+\\sqrt{\\frac{2}{n} \\log \\frac{2|\\mathcal{H}|}{\\delta}}$$"
   ]
  },
  {
   "attachments": {},
   "cell_type": "markdown",
   "metadata": {},
   "source": [
    "あとは第一項目の式を抑えたいのですが，もし，最適な真のモデルが考えているモデルの集合に入っていて，かつ，サンプル平均の誤差も小さかったら，一項目は0になります．\n"
   ]
  },
  {
   "attachments": {},
   "cell_type": "markdown",
   "metadata": {},
   "source": [
    "しかしながら，感覚的に0でない可能性が高そうですね．\n",
    "\n",
    "つまり，一般的に$R_{\\mathrm{err}}\\left(h_{\\mathcal{H}}\\right)-R_{\\mathrm{err}}\\left(h_0\\right)>0$なりそうです．\n"
   ]
  },
  {
   "attachments": {},
   "cell_type": "markdown",
   "metadata": {},
   "source": [
    "右辺の一項目($R_{\\mathrm{err}}\\left(h_{\\mathcal{H}}\\right)-R_{\\mathrm{err}}\\left(h_0\\right)$)を近似誤差($bias_\\mathcal{H}$)，二項目($\\sqrt{\\frac{2}{n} \\log \\frac{2|\\mathcal{H}|}{\\delta}}$)を推定誤差($var_\\mathcal{H}$)とします．"
   ]
  },
  {
   "attachments": {},
   "cell_type": "markdown",
   "metadata": {},
   "source": [
    "考えるkとはどちらの誤差もできるだけ小さくなってほしいですね．\n",
    "\n",
    "その時考えるのが，考えるモデルの集合の大きさです．\n",
    "\n",
    "一項目はモデルの集合が大きければ大きいほど，最適なモデルも集合の中に入る確率が大きくなるので，できるだけ大きい集合を感あげたほうがいいことはわかりますね．\n",
    "\n",
    "数式で表すと次のような意味です．\n",
    "\n",
    "$\\mathcal{H}_1 \\subset \\mathcal{H}_2 \\subset \\cdots \\subset \\mathcal{H}_M$.\n",
    "\n",
    "bias $_{\\mathcal{H}_1} \\geq$ bias $_{\\mathcal{H}_2} \\geq \\cdots \\geq$ bias $_{\\mathcal{H}_M}$\n",
    "\n",
    "しかしながら，推定誤差を考えるとモデルの集合の大きさに比例して，誤差が大きくなることが，Hoeffdingの不等式からわかります．ユニオンバウンドを取ってるからですね．\n",
    "\n",
    "数式では次のようになります．\n",
    "\n",
    "$\\operatorname{var}_{\\mathcal{H}_1} \\leq \\operatorname{var}_{\\mathcal{H}_2} \\leq \\cdots \\leq \\operatorname{var}_{\\mathcal{H}_M}$\n",
    "\n",
    "この二つの不等式が意味していることは．どちらも最小の誤差を考えるのは難しく，均衡しているちょうど良い誤差のモデルをとらなければならない難しさがあるということを意味しています．\n",
    "\n",
    "---"
   ]
  },
  {
   "cell_type": "markdown",
   "metadata": {},
   "source": []
  }
 ],
 "metadata": {
  "language_info": {
   "name": "python"
  },
  "orig_nbformat": 4
 },
 "nbformat": 4,
 "nbformat_minor": 2
}
