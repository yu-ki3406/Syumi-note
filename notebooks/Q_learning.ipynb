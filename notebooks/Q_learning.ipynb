{
 "cells": [
  {
   "attachments": {},
   "cell_type": "markdown",
   "metadata": {},
   "source": [
    "# 今回は強化学習の1番有名なアルゴリズムのQ学習のコードを書いていきます．\n",
    "\n",
    "今回の環境は強化学習[森村]のP113の環境を参考に実装します，"
   ]
  },
  {
   "cell_type": "code",
   "execution_count": 46,
   "metadata": {},
   "outputs": [],
   "source": [
    "import jax.numpy as jnp\n",
    "import numpy as np\n",
    "S = 3\n",
    "A = 2\n",
    "class Env:\n",
    "    def __init__(self):\n",
    "        self.S = S\n",
    "        self.A = A\n",
    "        self.p = np.zeros((self.S,self.A,self.S))\n",
    "        self.reward = np.zeros((self.S,self.A))\n",
    "        self.state = 0\n",
    "        \n",
    "\n",
    "    def reset(self):\n",
    "        #報酬と遷移確率をそれぞれの行列に埋める．\n",
    "        self.reward[0][0] = 1\n",
    "        self.reward[0][1] = -1\n",
    "        self.reward[1][0] = 1\n",
    "        self.reward[1][1] = -1\n",
    "        self.reward[2][0] = 1\n",
    "        self.reward[2][1] = 12\n",
    "        \n",
    "        self.p[0][0][0] = 1\n",
    "        self.p[0][1][0] = 0.5\n",
    "        self.p[0][1][1] = 0.5\n",
    "        self.p[1][0][0] = 1\n",
    "        self.p[1][1][1] = 0.5\n",
    "        self.p[1][1][2] = 0.5\n",
    "        self.p[2][1][0] = 1\n",
    "        self.p[2][0][1] = 1\n",
    "        return self.state\n",
    "\n",
    "    def act(self,action):\n",
    "     \n",
    "        \n",
    "        reward = self.reward[self.state][action]\n",
    "        \n",
    "        max_index = np.where(self.p[self.state][action] == self.p[self.state][action].max())\n",
    "        self.state = np.random.choice(max_index[0])\n",
    "\n",
    "        return reward,self.state\n"
   ]
  },
  {
   "cell_type": "code",
   "execution_count": 211,
   "metadata": {},
   "outputs": [],
   "source": [
    "Q = np.random.randn(S,A)\n",
    "alpha = 0.5\n",
    "gamma = 0.99\n",
    "epsilon = 0.1\n",
    "def td_error(state,reward,next_state,action,p):\n",
    "    delta = reward + gamma * p * max(Q[next_state]) - Q[state][action]\n",
    "    Q[state][action] += alpha * delta\n",
    "\n",
    "def choose_action(state):\n",
    "    if epsilon >= np.random.uniform():\n",
    "        return np.random.randint(2)\n",
    "    else:\n",
    "        return np.argmax(Q[state])\n"
   ]
  },
  {
   "cell_type": "code",
   "execution_count": 212,
   "metadata": {},
   "outputs": [
    {
     "name": "stderr",
     "output_type": "stream",
     "text": [
      "100%|██████████| 1000/1000 [00:00<00:00, 19536.20it/s]\n"
     ]
    }
   ],
   "source": [
    "from tqdm import tqdm\n",
    "env = Env()\n",
    "state = env.reset()\n",
    "for _ in tqdm(range(1000)):\n",
    "    action = choose_action(state)\n",
    "    reward,next_state = env.act(action)\n",
    "    td_error(state,reward,next_state,action,env.p[state][action][next_state])\n",
    "    state = next_state"
   ]
  },
  {
   "cell_type": "code",
   "execution_count": 213,
   "metadata": {},
   "outputs": [
    {
     "data": {
      "text/plain": [
       "array([[99.10656981, 47.72358013],\n",
       "       [98.74645148, -0.40779235],\n",
       "       [ 0.12285456, -1.51285879]])"
      ]
     },
     "execution_count": 213,
     "metadata": {},
     "output_type": "execute_result"
    }
   ],
   "source": [
    "Q"
   ]
  },
  {
   "cell_type": "code",
   "execution_count": null,
   "metadata": {},
   "outputs": [],
   "source": []
  }
 ],
 "metadata": {
  "kernelspec": {
   "display_name": "syumi-note",
   "language": "python",
   "name": "python3"
  },
  "language_info": {
   "codemirror_mode": {
    "name": "ipython",
    "version": 3
   },
   "file_extension": ".py",
   "mimetype": "text/x-python",
   "name": "python",
   "nbconvert_exporter": "python",
   "pygments_lexer": "ipython3",
   "version": "3.9.0"
  },
  "orig_nbformat": 4,
  "vscode": {
   "interpreter": {
    "hash": "bf02f90440595f5968a48e039387c923c9e6f6584bb1d7920e7063fafb8317aa"
   }
  }
 },
 "nbformat": 4,
 "nbformat_minor": 2
}
