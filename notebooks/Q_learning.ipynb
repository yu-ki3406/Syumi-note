{
 "cells": [
  {
   "attachments": {},
   "cell_type": "markdown",
   "metadata": {},
   "source": [
    "# 今回は強化学習の1番有名なアルゴリズムのQ学習のコードを書いていきます．\n",
    "\n",
    "今回の環境は強化学習[森村]のP113の環境を参考に実装します，"
   ]
  },
  {
   "cell_type": "code",
   "execution_count": 310,
   "metadata": {},
   "outputs": [],
   "source": [
    "import jax.numpy as jnp\n",
    "import numpy as np\n",
    "S = 3\n",
    "A = 2\n",
    "class Env:\n",
    "    def __init__(self):\n",
    "        self.S = S\n",
    "        self.A = A\n",
    "        self.p = np.zeros((self.S,self.A,self.S))\n",
    "        self.reward = np.zeros((self.S,self.A))\n",
    "        self.state = 0\n",
    "        \n",
    "\n",
    "    def reset(self):\n",
    "        #報酬と遷移確率をそれぞれの行列に埋める．\n",
    "        self.reward[0][0] = 1\n",
    "        self.reward[0][1] = -1\n",
    "        self.reward[1][0] = 1\n",
    "        self.reward[1][1] = -1\n",
    "        self.reward[2][0] = 1\n",
    "        self.reward[2][1] = 12\n",
    "        \n",
    "        self.p[0][0][0] = 1\n",
    "        self.p[0][1][0] = 0.5\n",
    "        self.p[0][1][1] = 0.5\n",
    "        self.p[1][0][0] = 1\n",
    "        self.p[1][1][1] = 0.5\n",
    "        self.p[1][1][2] = 0.5\n",
    "        self.p[2][1][0] = 1\n",
    "        self.p[2][0][1] = 1\n",
    "        return self.state\n",
    "\n",
    "    def act(self,action):\n",
    "     \n",
    "        \n",
    "        reward = self.reward[self.state][action]\n",
    "        \n",
    "        max_index = np.where(self.p[self.state][action] == self.p[self.state][action].max())\n",
    "        self.state = np.random.choice(max_index[0])\n",
    "\n",
    "        return reward,self.state\n"
   ]
  },
  {
   "cell_type": "code",
   "execution_count": 329,
   "metadata": {},
   "outputs": [],
   "source": [
    "Q = np.random.randn(S,A)\n",
    "gamma = 0.9\n",
    "def td_error(state,reward,next_state,action,alpha):\n",
    "    delta = reward + gamma * max(Q[next_state]) - Q[state][action]\n",
    "    Q[state][action] += alpha * delta\n",
    "\n",
    "def choose_action(state,epsilon):\n",
    "    if epsilon >= np.random.uniform():\n",
    "        return np.random.randint(2)\n",
    "    else:\n",
    "        return np.argmax(Q[state])\n"
   ]
  },
  {
   "cell_type": "code",
   "execution_count": 330,
   "metadata": {},
   "outputs": [
    {
     "name": "stderr",
     "output_type": "stream",
     "text": [
      "100%|██████████| 10000/10000 [00:00<00:00, 24428.62it/s]\n"
     ]
    }
   ],
   "source": [
    "from tqdm import tqdm\n",
    "env = Env()\n",
    "state = env.reset()\n",
    "for t in tqdm(range(10000)):\n",
    "    alpha_epsilon = 100/(t + 200)\n",
    "    action = choose_action(state,alpha_epsilon)\n",
    "    reward,next_state = env.act(action)\n",
    "    \n",
    "    td_error(state,reward,next_state,action,alpha_epsilon)\n",
    "    state = next_state"
   ]
  },
  {
   "cell_type": "code",
   "execution_count": 331,
   "metadata": {},
   "outputs": [
    {
     "data": {
      "text/plain": [
       "array([[10.        ,  7.99850823],\n",
       "       [ 9.99845124,  2.81181843],\n",
       "       [ 0.41829549, 10.49994979]])"
      ]
     },
     "execution_count": 331,
     "metadata": {},
     "output_type": "execute_result"
    }
   ],
   "source": [
    "Q"
   ]
  },
  {
   "cell_type": "code",
   "execution_count": null,
   "metadata": {},
   "outputs": [],
   "source": []
  }
 ],
 "metadata": {
  "kernelspec": {
   "display_name": "syumi-note",
   "language": "python",
   "name": "python3"
  },
  "language_info": {
   "codemirror_mode": {
    "name": "ipython",
    "version": 3
   },
   "file_extension": ".py",
   "mimetype": "text/x-python",
   "name": "python",
   "nbconvert_exporter": "python",
   "pygments_lexer": "ipython3",
   "version": "3.9.0"
  },
  "orig_nbformat": 4,
  "vscode": {
   "interpreter": {
    "hash": "bf02f90440595f5968a48e039387c923c9e6f6584bb1d7920e7063fafb8317aa"
   }
  }
 },
 "nbformat": 4,
 "nbformat_minor": 2
}
