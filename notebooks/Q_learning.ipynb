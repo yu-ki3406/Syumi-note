{
 "cells": [
  {
   "attachments": {},
   "cell_type": "markdown",
   "metadata": {},
   "source": [
    "# 今回は強化学習の1番有名なアルゴリズムのQ学習のコードを書いていきます．\n",
    "\n",
    "今回の環境は強化学習[森村]のP113の環境を参考に実装します.環境の詳細はそちらで確認してください．\n"
   ]
  },
  {
   "cell_type": "code",
   "execution_count": 1,
   "metadata": {},
   "outputs": [],
   "source": [
    "import numpy as np\n",
    "S = 3\n",
    "A = 2\n",
    "#環境の定義\n",
    "class Env:\n",
    "    def __init__(self):\n",
    "        self.S = S\n",
    "        self.A = A\n",
    "        self.p = np.zeros((self.S,self.A,self.S))\n",
    "        self.reward = np.zeros((self.S,self.A))\n",
    "        self.state = 0\n",
    "        \n",
    "\n",
    "    def reset(self):\n",
    "        #報酬と遷移確率をそれぞれの行列に埋める．\n",
    "        self.reward[0][0] = 1\n",
    "        self.reward[0][1] = -1\n",
    "        self.reward[1][0] = 1\n",
    "        self.reward[1][1] = -1\n",
    "        self.reward[2][0] = 1\n",
    "        self.reward[2][1] = 12\n",
    "        \n",
    "        self.p[0][0][0] = 1\n",
    "        self.p[0][1][0] = 0.5\n",
    "        self.p[0][1][1] = 0.5\n",
    "        self.p[1][0][0] = 1\n",
    "        self.p[1][1][1] = 0.5\n",
    "        self.p[1][1][2] = 0.5\n",
    "        self.p[2][1][0] = 1\n",
    "        self.p[2][0][1] = 1\n",
    "        return self.state\n",
    "\n",
    "    def act(self,action):\n",
    "     \n",
    "        \n",
    "        reward = self.reward[self.state][action]\n",
    "        #遷移確率の上で次の状態を決める\n",
    "        max_index = np.where(self.p[self.state][action] == self.p[self.state][action].max())\n",
    "        self.state = np.random.choice(max_index[0])\n",
    "\n",
    "        return reward,self.state\n"
   ]
  },
  {
   "attachments": {},
   "cell_type": "markdown",
   "metadata": {},
   "source": [
    "### Q値の初期値は**0で初期化**してしまうと，行動を選ぶ際のargmaxのせいで性能があまりよくなくなってしまいます．\n",
    "\n",
    "### 逆にargmaxを利用して，探索のような行動を取らせるためには，**初期値を大きく**取ればいいですね，今回の場合は100で取りました．"
   ]
  },
  {
   "cell_type": "code",
   "execution_count": 2,
   "metadata": {},
   "outputs": [],
   "source": [
    "# Q = np.random.randn(S,A)\n",
    "Q = np.ones((S,A)) * 100\n",
    "# Q = np.zeros((S,A))\n",
    "gamma = 0.9\n",
    "def td_error(state,reward,next_state,action,alpha,p):\n",
    "    delta = reward + gamma * max(Q[next_state]) - Q[state][action]\n",
    "    Q[state][action] += alpha * delta\n",
    "\n",
    "def choose_action(state,epsilon):\n",
    "    if epsilon >= np.random.uniform():\n",
    "        return np.random.randint(2)\n",
    "    else:\n",
    "        return np.argmax(Q[state])\n"
   ]
  },
  {
   "cell_type": "code",
   "execution_count": 3,
   "metadata": {},
   "outputs": [
    {
     "name": "stderr",
     "output_type": "stream",
     "text": [
      "100%|██████████| 10000/10000 [00:00<00:00, 22480.20it/s]\n"
     ]
    }
   ],
   "source": [
    "from tqdm import tqdm\n",
    "env = Env()\n",
    "state = env.reset()\n",
    "for t in tqdm(range(10000)):\n",
    "    alpha_epsilon = 100/(t + 200)\n",
    "    action = choose_action(state,alpha_epsilon)\n",
    "    reward,next_state = env.act(action)\n",
    "    \n",
    "    td_error(state,reward,next_state,action,alpha_epsilon,env.p[state][action][next_state])\n",
    "    state = next_state"
   ]
  },
  {
   "cell_type": "code",
   "execution_count": 4,
   "metadata": {},
   "outputs": [
    {
     "data": {
      "text/plain": [
       "array([[11.5053562 , 12.44632725],\n",
       "       [13.90999102, 16.66323822],\n",
       "       [21.50839579, 23.10513025]])"
      ]
     },
     "execution_count": 4,
     "metadata": {},
     "output_type": "execute_result"
    }
   ],
   "source": [
    "Q"
   ]
  },
  {
   "cell_type": "code",
   "execution_count": 11,
   "metadata": {},
   "outputs": [
    {
     "data": {
      "image/png": "[encoded data removed]",
      "text/plain": [
       "<Figure size 640x480 with 2 Axes>"
      ]
     },
     "metadata": {},
     "output_type": "display_data"
    }
   ],
   "source": [
    "import matplotlib.pyplot as plt\n",
    "import seaborn as sns\n",
    "plt.xlabel(\"action\")\n",
    "plt.ylabel(\"state\")\n",
    "sns.heatmap(Q,annot=True,fmt=\"1.1f\",xticklabels=['action 0','action 1'],yticklabels=['state 0','state 1','state 2'])\n",
    "plt.tight_layout()\n",
    "plt.show()"
   ]
  },
  {
   "attachments": {},
   "cell_type": "markdown",
   "metadata": {},
   "source": [
    "##### 上のヒートマップを見ればわかるように状態0,1では短期的な視点で考えれば行動0の方が報酬が多いですが，行動１の方が価値が高いとなっているので，**長期的な視点での方策が成立**していることがわかりますね．"
   ]
  }
 ],
 "metadata": {
  "kernelspec": {
   "display_name": "syumi-note",
   "language": "python",
   "name": "python3"
  },
  "language_info": {
   "codemirror_mode": {
    "name": "ipython",
    "version": 3
   },
   "file_extension": ".py",
   "mimetype": "text/x-python",
   "name": "python",
   "nbconvert_exporter": "python",
   "pygments_lexer": "ipython3",
   "version": "3.9.0"
  },
  "orig_nbformat": 4,
  "vscode": {
   "interpreter": {
    "hash": "bf02f90440595f5968a48e039387c923c9e6f6584bb1d7920e7063fafb8317aa"
   }
  }
 },
 "nbformat": 4,
 "nbformat_minor": 2
}
