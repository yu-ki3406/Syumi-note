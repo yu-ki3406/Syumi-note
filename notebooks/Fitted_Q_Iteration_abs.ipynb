{
 "cells": [
  {
   "attachments": {},
   "cell_type": "markdown",
   "metadata": {},
   "source": [
    "# Fitted Q Iteration\n",
    "\n",
    "---"
   ]
  },
  {
   "attachments": {},
   "cell_type": "markdown",
   "metadata": {},
   "source": [
    "今回はFQIについて説明していきます。\n",
    "\n",
    "まず、大きなMDP(状態空間などが大きい)を考えるとき、かつMDPが未知のときはTabular 関数を考えるのではなく、何らかのパラメータ($\\theta$)に依存した関数近似を考えます。\n",
    "\n",
    "そのような近似をし、学習した方策$\\pi$の評価を考えてみましょう。\n",
    "\n",
    "目標とする指標は次の式です。\n",
    "\n",
    "$\\pi^hat$は学習した方策とします。\n",
    "\n",
    "$$\n",
    "V(\\hat{\\pi}) \\geq V^{\\star}-\\epsilon\n",
    "$$\n",
    "\n",
    "これが$1-\\delta$の確率で起こることを目標とします。\n",
    "\n"
   ]
  },
  {
   "attachments": {},
   "cell_type": "markdown",
   "metadata": {},
   "source": [
    "---\n",
    "\n",
    "**問題設定**"
   ]
  },
  {
   "attachments": {},
   "cell_type": "markdown",
   "metadata": {},
   "source": [
    "次のような無限ホライゾンの割引付きMDPを考えましょう。\n",
    "\n",
    "$$\n",
    "\\mathcal{M}=\\{\\mathcal{S}, \\mathcal{A}, \\gamma, P, r, \\mu\\}\n",
    "$$\n",
    "\n"
   ]
  },
  {
   "attachments": {},
   "cell_type": "markdown",
   "metadata": {},
   "source": [
    "$\\mu$は初期分布です。\n",
    "\n",
    "ここで、報酬の上限値は[0,1]で抑えられていると仮定します。\n",
    "\n",
    "そのようにすると、価値関数も$V_{\\max }:=1 /(1-\\gamma)$で抑えられます。\n"
   ]
  },
  {
   "attachments": {},
   "cell_type": "markdown",
   "metadata": {},
   "source": [
    "次のような関数(写像)$f: \\mathcal{S} \\times \\mathcal{A} \\mapsto \\mathbb{R}$を考えます。\n",
    "\n",
    "この関数にベルマン作用素を適用すると$T f: \\mathcal{S} \\times \\mathcal{A} \\mapsto \\mathbb{R}$になるとします。\n",
    "\n",
    "そして、ここで、いくつかの仮定をいれます。\n",
    "\n",
    "$f$の関数のクラスの集合は有限の要素かつ指数的に多いとします。\n",
    "\n",
    "ここで、$f$の集合を多く考えても、sample complexityの際にはpolylogだからです。\n",
    "\n",
    "そして、もう一つの仮定は$\\forall f \\in \\mathcal{F}, \\mathcal{T} f \\in \\mathcal{F}$とします。\n",
    "\n",
    "つまり、ベルマン作用素を適用しても関数の空間からは外れないことを意味します。\n",
    "\n",
    "そして、最適なQ関数は$Q^{\\star} \\in \\mathcal{F}$とします。\n"
   ]
  },
  {
   "attachments": {},
   "cell_type": "markdown",
   "metadata": {},
   "source": [
    "---"
   ]
  },
  {
   "attachments": {},
   "cell_type": "markdown",
   "metadata": {},
   "source": [
    "そして、ベルマン作用素を適用したときの関数は次のような式です。\n",
    "\n",
    "$$\n",
    "\\mathcal{T} f(s, a):=r(s, a)+\\gamma \\mathbb{E}_{s^{\\prime} \\sim P(\\cdot \\mid s, a)} \\max _{a^{\\prime} \\in \\mathcal{A}} f\\left(s^{\\prime}, a^{\\prime}\\right)\n",
    "$$"
   ]
  },
  {
   "attachments": {},
   "cell_type": "markdown",
   "metadata": {},
   "source": [
    "そして、このアルゴリズムを学習するときにはあるデータセットをつかって、学習していきます。(オフラインRL)\n",
    "\n",
    "データセットの分布は$\\nu \\in \\Delta(\\mathcal{S} \\times \\mathcal{A})$になっていて、データセットは$\\mathcal{D}:=\\left\\{\\left(s_i, a_i, r_i, s_i^{\\prime}\\right)\\right\\}_{i=1}^n$です。\n",
    "\n",
    "このデータセットのの分布はできるだけUniformな分布が好ましいです。\n",
    "\n"
   ]
  },
  {
   "attachments": {},
   "cell_type": "markdown",
   "metadata": {},
   "source": [
    "---"
   ]
  },
  {
   "attachments": {},
   "cell_type": "markdown",
   "metadata": {},
   "source": [
    "ここで、重要な仮定を２つ導入します。\n",
    "\n",
    "次のような定数Cがどんな方策$\\pi$の下でも存在します。\n",
    "\n",
    "$$\n",
    "\\forall \\pi, s, a: \\frac{d^\\pi(s, a)}{\\nu(s, a)} \\leq C .\n",
    "$$"
   ]
  },
  {
   "attachments": {},
   "cell_type": "markdown",
   "metadata": {},
   "source": [
    "次に関数近似器がどのくらい表現力がベルマン作用素を適用したときにいいのかわかる指標を導入します。\n",
    "\n",
    "$$\n",
    "\\epsilon_{\\text {approx }, \\nu}:=\\max _{f \\in \\mathcal{F}} \\min _{f^{\\prime} \\in \\mathcal{F}}\\left\\|f^{\\prime}-\\mathcal{T} f\\right\\|_{2, \\nu}^2\n",
    "$$"
   ]
  },
  {
   "attachments": {},
   "cell_type": "markdown",
   "metadata": {},
   "source": [
    "上の値が0になるときは、$f^{\\prime}$と$\\mathcal{T}f$が関数集合の$\\mathcal{F}$に入っていると言うことになります。"
   ]
  },
  {
   "attachments": {},
   "cell_type": "markdown",
   "metadata": {},
   "source": []
  }
 ],
 "metadata": {
  "language_info": {
   "name": "python"
  },
  "orig_nbformat": 4
 },
 "nbformat": 4,
 "nbformat_minor": 2
}
