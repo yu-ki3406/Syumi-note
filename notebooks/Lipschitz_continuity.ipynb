{
 "cells": [
  {
   "attachments": {},
   "cell_type": "markdown",
   "metadata": {},
   "source": [
    "# 今回はリプシッツ連続について説明していきます．"
   ]
  },
  {
   "attachments": {},
   "cell_type": "markdown",
   "metadata": {},
   "source": [
    "まずはリプシッツ連続の式の意味を見てみましょう．\n",
    "\n",
    "式の形は\n",
    "ある関数$f$はある定数$k$でx上で (x = {$x_{1}, x_{2}...,x_{n}$}) で次が成り立つとき, リプシッツ連続である．\n",
    "$$\n",
    "|f(x_{1} - f(x_{2}))| \\leq k|x_{1} - x_{2}|\n",
    "$$\n",
    "\n",
    "\n",
    "この式の直感的な意味としては2点間の距離が$f$を作用させることで作用する前の差のk倍より大きならないことを意味しています.\n",
    "\n",
    "これは**最適化問題などである関数が急な勾配になっていないか**や作用させたことにより**縮小するか**などを確認する時に有効です．\n",
    "\n"
   ]
  },
  {
   "cell_type": "code",
   "execution_count": null,
   "metadata": {},
   "outputs": [],
   "source": []
  }
 ],
 "metadata": {
  "kernelspec": {
   "display_name": "syumi-note",
   "language": "python",
   "name": "python3"
  },
  "language_info": {
   "name": "python",
   "version": "3.9.0"
  },
  "orig_nbformat": 4,
  "vscode": {
   "interpreter": {
    "hash": "bf02f90440595f5968a48e039387c923c9e6f6584bb1d7920e7063fafb8317aa"
   }
  }
 },
 "nbformat": 4,
 "nbformat_minor": 2
}
