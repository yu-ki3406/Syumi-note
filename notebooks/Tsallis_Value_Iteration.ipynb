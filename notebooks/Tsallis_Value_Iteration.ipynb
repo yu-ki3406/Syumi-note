{
 "cells": [
  {
   "attachments": {},
   "cell_type": "markdown",
   "metadata": {},
   "source": [
    "# Tsallisエントロピーを用いた価値反復法\n",
    "\n",
    "---"
   ]
  },
  {
   "attachments": {},
   "cell_type": "markdown",
   "metadata": {},
   "source": [
    "今回はこの[論文](https://arxiv.org/pdf/1902.00137.pdf)についてコードも踏まえて解説していきたいと思います。\n",
    "\n",
    "Tsallisエントロピー(TE)はシャノンエントロピーなどを一般化したようなものです。\n",
    "\n",
    "次のq-logarithmを定義します。\n",
    "\n",
    "$$\n",
    "\\ln _q(x) \\triangleq \\begin{cases}\\log (x), & \\text { if } q=1 \\text { and } x>0 \\\\ \\frac{x^q-1}{q-1}, & \\text { if } q \\neq 1 \\text { and } x>0,\\end{cases}\n",
    "$$"
   ]
  },
  {
   "attachments": {},
   "cell_type": "markdown",
   "metadata": {},
   "source": [
    "この$ln_q(x)$はxに関して単調増加です。\n",
    "\n",
    "そしてその勾配は正です。\n",
    "\n",
    "次にTEの定義を示します。\n",
    "\n",
    "$$\n",
    "S_q(P) \\triangleq \\underset{X \\sim P}{\\mathbb{E}}\\left[-\\ln _q(P(X))\\right]\n",
    "$$"
   ]
  },
  {
   "attachments": {},
   "cell_type": "markdown",
   "metadata": {},
   "source": [
    "上のTEは$q>0$のときはconcave関数になり$q\\leq0$のときはconvex関数になります。\n"
   ]
  },
  {
   "attachments": {},
   "cell_type": "markdown",
   "metadata": {},
   "source": [
    "---"
   ]
  },
  {
   "attachments": {},
   "cell_type": "markdown",
   "metadata": {},
   "source": [
    "TEを使った価値反復法は次のような作用素を適用します。\n",
    "\n",
    "$$\n",
    "\\begin{gathered}\n",
    "{\\left[\\mathcal{T}_q F\\right](s, a) \\triangleq \\underset{s^{\\prime} \\sim P}{\\mathbb{E}}\\left[\\mathbf{r}\\left(s, a, s^{\\prime}\\right)+\\gamma V_F(s) \\mid s, a\\right]} \\\\\n",
    "V_F(s) \\triangleq \\underset{a^{\\prime}}{q-\\max }\\left(F\\left(s, a^{\\prime}\\right)\\right) .\n",
    "\\end{gathered}\n",
    "$$"
   ]
  },
  {
   "attachments": {},
   "cell_type": "markdown",
   "metadata": {},
   "source": [
    "$F$は任意の関数として考えているので、一般的な強化学習の場合の行動価値観数としてみなして大丈夫です。\n",
    "\n",
    "ここで、q-maxは次のような定義からなります。"
   ]
  },
  {
   "attachments": {},
   "cell_type": "markdown",
   "metadata": {},
   "source": [
    "$$\n",
    "q-\\max _x(f(x)) \\triangleq \\max _{P \\in \\Delta}\\left[\\underset{X \\sim P}{\\mathbb{E}}[f(X)]+S_q(P)\\right],\n",
    "$$"
   ]
  },
  {
   "attachments": {},
   "cell_type": "markdown",
   "metadata": {},
   "source": [
    "ちなみにq-maxは$max_aQ(s,a)$を取るよりも値が大きくなることが証明されています。"
   ]
  },
  {
   "attachments": {},
   "cell_type": "markdown",
   "metadata": {},
   "source": [
    "---"
   ]
  },
  {
   "attachments": {},
   "cell_type": "markdown",
   "metadata": {},
   "source": [
    "TEは累積報酬和の他にエントロピーも考慮した最大化を目指していいるので、TEで得られて最適方策は基のMDPでの最適方策とは違います。\n",
    "\n",
    "$\\pi^*$を基のMDPでの最適方策、$\\pi_q^*$をTEを考えたときの最適方策とすると、累積報酬和は次のような関係を持ちます。\n",
    "\n"
   ]
  },
  {
   "attachments": {},
   "cell_type": "markdown",
   "metadata": {},
   "source": [
    "$$\n",
    "J\\left(\\pi^{\\star}\\right)+(1-\\gamma)^{-1} \\ln _q(1 /|\\mathcal{A}|) \\leq J\\left(\\pi_q^{\\star}\\right) \\leq J\\left(\\pi^{\\star}\\right)\n",
    "$$"
   ]
  },
  {
   "attachments": {},
   "cell_type": "markdown",
   "metadata": {},
   "source": [
    "---"
   ]
  },
  {
   "attachments": {},
   "cell_type": "markdown",
   "metadata": {},
   "source": [
    "コードに入っていきましょう。\n",
    "\n",
    "qの値の違いでどれだけ価値観数が異なるのか確認していきます。\n"
   ]
  },
  {
   "cell_type": "code",
   "execution_count": 11,
   "metadata": {},
   "outputs": [],
   "source": [
    "import numpy as np\n",
    "from typing import NamedTuple\n",
    "from functools import partial\n",
    "\n",
    "S = 5 # number of states\n",
    "A = 3 # number of actions\n",
    "S_array = np.arange(S)\n",
    "A_array = np.arange(A)\n",
    "\n",
    "gamma = 0.9\n",
    "\n",
    "rew = np.random.rand(S, A) # reward function\n",
    "P = np.random.rand(S*A, S) # transition function\n",
    "P = P / P.sum(axis=-1, keepdims=True) # normalize\n",
    "P = P.reshape(S,A,S)\n",
    "\n",
    "#MDPの定義\n",
    "\n",
    "class MDP(NamedTuple):\n",
    "    S_array : np.ndarray\n",
    "    A_array : np.ndarray\n",
    "    gamma : float\n",
    "    rew : np.ndarray\n",
    "    P : np.ndarray\n",
    "\n",
    "    @property\n",
    "    def S(self):\n",
    "        return len(self.S_array)\n",
    "    \n",
    "    @property\n",
    "    def A(self):\n",
    "        return len(self.A_array)\n",
    "    \n",
    "mdp = MDP(S_array, A_array, gamma, rew, P)\n",
    "\n"
   ]
  },
  {
   "cell_type": "code",
   "execution_count": 63,
   "metadata": {},
   "outputs": [],
   "source": [
    "# q-logarithmの定義\n",
    "def q_logarithm(x,q):\n",
    "    if q == 1.0:\n",
    "        # print('適用')\n",
    "        return np.log(x)\n",
    "    else:\n",
    "        return (x**(q-1)-1)/(q-1)\n",
    "    \n",
    "#Tsallis entropyの定義\n",
    "def Tsallis_entropy(x,q):\n",
    "    ent = -x * q_logarithm(x,q)\n",
    "    return ent\n"
   ]
  },
  {
   "cell_type": "code",
   "execution_count": 72,
   "metadata": {},
   "outputs": [],
   "source": [
    "import jax\n",
    "import jax.numpy as jnp\n",
    "\n",
    "@jax.jit\n",
    "def value_iteration(mdp:MDP, v:jnp.ndarray):\n",
    "    S,A = mdp.S,mdp.A\n",
    "    v = v.max(axis = -1)\n",
    "    v_dash = mdp.rew + mdp.gamma * mdp.P @ v\n",
    "\n",
    "    max_action = jnp.zeros((S,A))\n",
    "    max_action = max_action.at[np.arange(S),v_dash.argmax(axis=1)].set(1)\n",
    "    return max_action * v_dash\n",
    "\n",
    "\n",
    "\n",
    "@partial(jax.jit, static_argnames=('q'))\n",
    "def Tsallis_value_iteration(mdp:MDP, v:jnp.ndarray,q:float):\n",
    "    S,A = mdp.S,mdp.A\n",
    "    v = v.max(axis = -1)\n",
    "    v_dash = mdp.rew + mdp.gamma * mdp.P @ (v + Tsallis_entropy(1/A,q))\n",
    "    max_action = jnp.zeros((S,A))\n",
    "    max_action = max_action.at[np.arange(S),v_dash.argmax(axis=1)].set(1)\n",
    "    return max_action * v_dash\n",
    "\n"
   ]
  },
  {
   "cell_type": "code",
   "execution_count": 73,
   "metadata": {},
   "outputs": [
    {
     "name": "stderr",
     "output_type": "stream",
     "text": [
      "  0%|          | 31/10000 [00:00<00:30, 331.48it/s]\n",
      "  0%|          | 30/10000 [00:00<00:29, 336.33it/s]\n",
      "  0%|          | 29/10000 [00:00<00:30, 323.08it/s]\n",
      "  0%|          | 28/10000 [00:00<00:28, 346.88it/s]\n",
      "  0%|          | 27/10000 [00:00<00:27, 359.01it/s]\n",
      "  0%|          | 26/10000 [00:00<00:28, 354.95it/s]\n"
     ]
    }
   ],
   "source": [
    "from tqdm import tqdm \n",
    "\n",
    "key = jax.random.PRNGKey(0)\n",
    "S,A = mdp.S,mdp.A\n",
    "iteration = 10000\n",
    "epsilon = 0.05\n",
    "v_before = jax.random.uniform(key,shape=(S,A))\n",
    "Q_Ent_list = []\n",
    "\n",
    "q_list = [0.1,0.5,1.0,2.0,3.0,10.0]\n",
    "\n",
    "for q in q_list:\n",
    "    v = v_before\n",
    "    for i in tqdm(range(iteration)):\n",
    "        v_after = Tsallis_value_iteration(mdp,v,q)\n",
    "        if jnp.abs(v_after - v).max() < epsilon:\n",
    "            break\n",
    "        v = v_after\n",
    "    Q_Ent_list.append(v_after)\n",
    "\n",
    "\n"
   ]
  },
  {
   "cell_type": "code",
   "execution_count": 74,
   "metadata": {},
   "outputs": [
    {
     "name": "stderr",
     "output_type": "stream",
     "text": [
      "  0%|          | 26/10000 [00:00<00:35, 279.46it/s]\n"
     ]
    }
   ],
   "source": [
    "import matplotlib.pyplot as plt\n",
    "from tqdm import tqdm\n",
    "\n",
    "key = jax.random.PRNGKey(0)\n",
    "S,A = mdp.S , mdp.A\n",
    "iteration = 10000\n",
    "errors = []\n",
    "epsilon = 0.05 #閾値\n",
    "v_before = jax.random.uniform(key,shape=[S,A])\n",
    "\n",
    "for i in tqdm(range(iteration)):\n",
    "    v_after = value_iteration(mdp,v_before)\n",
    "    error = np.abs(v_after-v_before).max()\n",
    "    #終了条件\n",
    "    if error < epsilon:\n",
    "        break\n",
    "    errors.append(error)\n",
    "    v_before = v_after"
   ]
  },
  {
   "cell_type": "code",
   "execution_count": 104,
   "metadata": {},
   "outputs": [
    {
     "data": {
      "image/png": "[encoded data removed]",
      "text/plain": [
       "<Figure size 640x480 with 1 Axes>"
      ]
     },
     "metadata": {},
     "output_type": "display_data"
    }
   ],
   "source": [
    "import matplotlib.pyplot as plt\n",
    "import seaborn as sns\n",
    "y_data = [(Q_Ent_list[i]-v_after).max() for i in range(len(Q_Ent_list))]\n",
    "y_values = [y.item() for y in y_data]\n",
    "sns.barplot(x=q_list,y=y_values)\n",
    "plt.xlabel(\"Tsallis Entropy\")\n",
    "plt.ylabel(\"difference_V_value\")\n",
    "plt.title(\"difference_V_value with Tsallis Entropy\")\n",
    "plt.show()"
   ]
  },
  {
   "cell_type": "code",
   "execution_count": null,
   "metadata": {},
   "outputs": [],
   "source": []
  }
 ],
 "metadata": {
  "kernelspec": {
   "display_name": "syumi-note",
   "language": "python",
   "name": "python3"
  },
  "language_info": {
   "codemirror_mode": {
    "name": "ipython",
    "version": 3
   },
   "file_extension": ".py",
   "mimetype": "text/x-python",
   "name": "python",
   "nbconvert_exporter": "python",
   "pygments_lexer": "ipython3",
   "version": "3.9.0"
  },
  "orig_nbformat": 4
 },
 "nbformat": 4,
 "nbformat_minor": 2
}
