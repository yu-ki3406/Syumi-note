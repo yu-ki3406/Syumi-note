{
 "cells": [
  {
   "attachments": {},
   "cell_type": "markdown",
   "metadata": {},
   "source": [
    "## KLダイバージェンスの導出\n",
    "\n",
    "---"
   ]
  },
  {
   "attachments": {},
   "cell_type": "markdown",
   "metadata": {},
   "source": [
    "今回は多項分布にstirlingの公式を代入すると、KL距離が自然に現れることを説明します。\n",
    "\n",
    "**Stirlingの公式**"
   ]
  },
  {
   "attachments": {},
   "cell_type": "markdown",
   "metadata": {},
   "source": [
    "階乗をガンマ関数を使って書き直すと、次のことが成り立つ。\n",
    "\n",
    "$$\n",
    "n !=\\Gamma(n+1)=\\int_0^{\\infty} e^{-x} x^n d x=n^n e^{-n} \\sqrt{n} \\int_{-\\sqrt{n}}^{\\infty} e^{-\\sqrt{n} y}(1+y / \\sqrt{n})^n d y\n",
    "$$\n",
    "途中で$x=n+\\sqrt{n} y=n(1+y / \\sqrt{n})$に置換しています。\n"
   ]
  },
  {
   "attachments": {},
   "cell_type": "markdown",
   "metadata": {},
   "source": [
    "そして、一度積分の中の項だけ考えます。\n",
    "\n",
    "logを使って変換すると、次のようなことが求まります。\n",
    "\n",
    "$$\n",
    "\\begin{aligned}\n",
    "\\log \\left(e^{-\\sqrt{n} y}(1+y / \\sqrt{n})^n\\right) & =-\\sqrt{n} y+n \\log (1+y / \\sqrt{n}) \\\\\n",
    "& =-\\sqrt{n} y+n\\left(y / \\sqrt{n}-y^2 /(2 n)+O(1 /(n \\sqrt{n}))\\right) \\\\\n",
    "& =-y^2 / 2+O(1 / \\sqrt{n})\n",
    "\\end{aligned}\n",
    "$$"
   ]
  },
  {
   "attachments": {},
   "cell_type": "markdown",
   "metadata": {},
   "source": [
    "ここで$n \\rightarrow \\infty$を考えると、$\\int_{-\\sqrt{n}}^{\\infty} e^{-\\sqrt{n} y}(1+y / \\sqrt{n})^n d y \\longrightarrow \\int_{-\\infty}^{\\infty} e^{-y^2 / 2} d y=\\sqrt{2 \\pi}$となりますね。"
   ]
  },
  {
   "attachments": {},
   "cell_type": "markdown",
   "metadata": {},
   "source": [
    "よって、次のようなstirlingの公式が得られました。\n",
    "\n",
    "$$\n",
    "n !=n^n e^{-n} \\sqrt{2 \\pi n}(1+o(1))\n",
    "$$\n",
    "\n",
    "$$\n",
    "\\log n !=n \\log n-n+\\frac{1}{2} \\log n+\\log \\sqrt{2 \\pi}+o(1)\n",
    "$$"
   ]
  },
  {
   "attachments": {},
   "cell_type": "markdown",
   "metadata": {},
   "source": [
    "---"
   ]
  },
  {
   "attachments": {},
   "cell_type": "markdown",
   "metadata": {},
   "source": [
    "$q_i \\geqq 0, \\sum_{i=1}^r q_i=1$で一回の試行(事象は独立と仮定)で状態iが確率$q_i$で得られる確率分布を考え、$q=\\left(q_1, \\ldots, q_r\\right)$を母集団分布とします。\n",
    "\n",
    "このような試行をn回繰り返したときの状態iが出た回数を$k_i$と書くことにします。\n",
    "\n",
    "経験分布を考えると、状態iがn回の試行によって出現される経験確率は$\\frac{k_i}{n}$となりますね。\n",
    "\n",
    "では、$n \\rightarrow \\infty$となるときにどのような振る舞いをするのかを確認してみましょう。\n",
    "\n",
    "大数の法則でこの経験分布は母集団分布に等しくなることがわかりますが、違う視点で考えてみたいと思います。\n",
    "\n",
    "---"
   ]
  },
  {
   "attachments": {},
   "cell_type": "markdown",
   "metadata": {},
   "source": [
    "**サンプルサイズを大きくした際の多項分布の挙動**"
   ]
  },
  {
   "attachments": {},
   "cell_type": "markdown",
   "metadata": {},
   "source": [
    "n回の試行で状態iが$k_i$回得られる確率は$\\sum_{i=1}^r k_i=n$のとき、多項分布の公式から$\\frac{n !}{k_{1} ! \\cdots k_{r} !} q_1^{k_1} \\cdots q_r^{k_r}$となります。\n"
   ]
  },
  {
   "attachments": {},
   "cell_type": "markdown",
   "metadata": {},
   "source": [
    "ここで一度$n \\rightarrow \\infty$を仮定して、次のことが成り立つと仮定します。\n",
    "\n",
    "$$\n",
    "k_i=n p_i+O(\\log n)=n p_i\\left(1+O\\left(\\frac{\\log n}{n}\\right)\\right)\n",
    "$$\n",
    "\n"
   ]
  },
  {
   "attachments": {},
   "cell_type": "markdown",
   "metadata": {},
   "source": [
    "上の仮定から$\\log \\left(k_i / n\\right)=\\log p_i+O((\\log n) / n)$も成り立ちますね。\n",
    "\n"
   ]
  },
  {
   "attachments": {},
   "cell_type": "markdown",
   "metadata": {},
   "source": [
    "ここでStirlingの公式と$\\sum_{i=1}^r k_i=n$より次のことがわかりますね。"
   ]
  },
  {
   "attachments": {},
   "cell_type": "markdown",
   "metadata": {},
   "source": [
    "$$\n",
    "\\begin{aligned}\n",
    "& \\log n !=n \\log n-n+O(\\log n)=\\sum_{i=1}^r k_i \\log n-\\sum_{i=1}^r k_i+O(\\log n), \\\\\n",
    "& \\log k_{i} !=k_i \\log k_i-k_i+O\\left(\\log k_i\\right)=k_i \\log k_i-k_i+O(\\log n), \\\\\n",
    "& \\log q_i^{k_i}=k_i \\log q_i .\n",
    "\\end{aligned}\n",
    "$$"
   ]
  },
  {
   "attachments": {},
   "cell_type": "markdown",
   "metadata": {},
   "source": [
    "これを$\\frac{n !}{k_{1} ! \\cdots k_{r} !} q_1^{k_1} \\cdots q_r^{k_r}$の対数に代入すると、\n",
    "\n",
    "$$\n",
    "\\begin{aligned}\n",
    "\\log \\left(\\frac{n !}{k_{1} ! \\cdots k_{r} !} q_1^{k_1} \\cdots q_r^{k_r}\\right) & =-n \\sum_{i=1}^r \\frac{k_i}{n}\\left(\\log \\frac{k_i}{n}-\\log q_i\\right)+O(\\log n) \\\\\n",
    "& =-n \\sum_{i=1}^r p_i\\left(\\log p_i-\\log q_i\\right)+O(\\log n) \\\\\n",
    "& =-n \\sum_{i=1}^r p_i \\log \\frac{p_i}{q_i}+O(\\log n) .\n",
    "\\end{aligned}\n",
    "$$\n",
    "\n",
    "のようになり、KLダイバージェンスが右の項で出てくることがわかりますね。\n",
    "\n"
   ]
  },
  {
   "attachments": {},
   "cell_type": "markdown",
   "metadata": {},
   "source": []
  }
 ],
 "metadata": {
  "language_info": {
   "name": "python"
  },
  "orig_nbformat": 4
 },
 "nbformat": 4,
 "nbformat_minor": 2
}
