{
 "cells": [
  {
   "attachments": {},
   "cell_type": "markdown",
   "metadata": {},
   "source": [
    "# Fitted Q Iteration (FQI)"
   ]
  },
  {
   "attachments": {},
   "cell_type": "markdown",
   "metadata": {},
   "source": [
    "今回はFQIについて解説していきたいと思います．\n",
    "\n",
    "テーブル形式の強化学習を思い出してみると, 状態空間や行動空間が膨大になった時や連続値になった時に学習が困難になってしまいます．\n",
    "\n",
    "そこでテーブル形式の代わりに自由度の低い関数近似器を使い, 学習することを関数近似を用いた強化学習と言います．\n",
    "\n",
    "代表例では**ニューラルネットワーク**がその例ですね．\n",
    "\n",
    "**FQI**はこの関数近似器の一例です．式は下のように書けます．\n",
    "\n",
    "$$\n",
    "Q_w(s,a) := w^T\\phi(s,a)\n",
    "$$\n",
    "\n",
    "重み$w$の更新式はこちらの[資料](https://users.cs.duke.edu/~parr/setn02.pdf)を参照してください．"
   ]
  },
  {
   "attachments": {},
   "cell_type": "markdown",
   "metadata": {},
   "source": [
    "### 早速, コードを書いていきます．"
   ]
  },
  {
   "attachments": {},
   "cell_type": "markdown",
   "metadata": {},
   "source": [
    "#"
   ]
  },
  {
   "cell_type": "code",
   "execution_count": 1,
   "metadata": {},
   "outputs": [
    {
     "name": "stdout",
     "output_type": "stream",
     "text": [
      "(100, 10)\n",
      "(100, 10, 100)\n"
     ]
    }
   ],
   "source": [
    "import jax \n",
    "\n",
    "import jax.numpy as jnp\n",
    "import numpy as np\n",
    "from typing import NamedTuple,Optional\n",
    "import matplotlib.pyplot as plt\n",
    "\n",
    "S = 100 #state_size\n",
    "A = 10  #action_size\n",
    "S_array = np.arange(S) #state_set\n",
    "A_array = np.arange(A) #action_set\n",
    "gamma = 0.99 \n",
    "\n",
    "rew = np.random.rand(S,A) * 10 #報酬\n",
    "\n",
    "P = np.random.rand(S*A, S) #遷移確率\n",
    "P = P / np.sum(P,axis=-1,keepdims=True)\n",
    "P = P.reshape(S,A,S)\n",
    "np.testing.assert_almost_equal(P.sum(axis=-1),1) #確率1になっているか確認\n",
    "\n",
    "# MDPの定義\n",
    "\n",
    "class MDP(NamedTuple):\n",
    "    S_array : np.array\n",
    "    A_array : np.array\n",
    "    gamma : float\n",
    "    rew : np.array\n",
    "    P : np.array\n",
    "    phi : np.array\n",
    "    horizon : int\n",
    "    \n",
    "\n",
    "    @property\n",
    "    def S(self) -> int:\n",
    "        return len(self.S_array)\n",
    "\n",
    "    @property\n",
    "    def A(self) -> int:\n",
    "        return len(self.A_array)\n",
    "d = 5\n",
    "phi = np.random.randn(S,A,d)\n",
    "horizon = int(1 / (1 - gamma))\n",
    "mdp = MDP(S_array,A_array,gamma,rew,P,phi,horizon)\n",
    "w = np.random.randn(d)\n",
    "print(mdp.rew.shape)\n",
    "print(mdp.P.shape)\n"
   ]
  },
  {
   "cell_type": "code",
   "execution_count": 2,
   "metadata": {},
   "outputs": [],
   "source": [
    "@jax.jit\n",
    "def get_greedy(mdp:MDP, q:jnp.array):\n",
    "    S,A = mdp.S,mdp.A\n",
    "    assert q.shape == (S,A)\n",
    "    #行列形式の演算も最適作用素で行いたいので，1番価値が高い,行動の列だけを各状態で１にする．\n",
    "    pi_max = jnp.zeros((S,A))\n",
    "    pi_max = pi_max.at[np.arange(S),q.argmax(axis=1)].set(1)\n",
    "\n",
    "    return pi_max\n",
    "\n",
    "\n",
    "@jax.jit\n",
    "def target_q_get(mdp:MDP, q:np.array):\n",
    "    S,_ = q.shape\n",
    "    greedy_policy = get_greedy(mdp,q)\n",
    "    next_v = np.sum(greedy_policy * q, axis=1).reshape(1, 1, S)\n",
    "    next_v = np.sum(mdp.P * next_v, axis=-1)\n",
    "    return mdp.rew + mdp.gamma * next_v"
   ]
  },
  {
   "cell_type": "code",
   "execution_count": 4,
   "metadata": {},
   "outputs": [
    {
     "data": {
      "text/plain": [
       "[14.670348,\n",
       " 12.648854,\n",
       " 12.43437,\n",
       " 12.412291,\n",
       " 12.410036,\n",
       " 12.409805,\n",
       " 12.409781,\n",
       " 12.40978,\n",
       " 12.40978,\n",
       " 12.40978,\n",
       " 12.40978,\n",
       " 12.40978,\n",
       " 12.40978,\n",
       " 12.40978,\n",
       " 12.40978,\n",
       " 12.40978,\n",
       " 12.40978,\n",
       " 12.40978,\n",
       " 12.40978,\n",
       " 12.40978,\n",
       " 12.40978,\n",
       " 12.40978,\n",
       " 12.40978,\n",
       " 12.40978,\n",
       " 12.40978,\n",
       " 12.40978,\n",
       " 12.40978,\n",
       " 12.40978,\n",
       " 12.40978,\n",
       " 12.40978,\n",
       " 12.40978,\n",
       " 12.40978,\n",
       " 12.40978,\n",
       " 12.40978,\n",
       " 12.40978,\n",
       " 12.40978,\n",
       " 12.40978,\n",
       " 12.40978,\n",
       " 12.40978,\n",
       " 12.40978,\n",
       " 12.40978,\n",
       " 12.40978,\n",
       " 12.40978,\n",
       " 12.40978,\n",
       " 12.40978,\n",
       " 12.40978,\n",
       " 12.40978,\n",
       " 12.40978,\n",
       " 12.40978,\n",
       " 12.40978,\n",
       " 12.40978,\n",
       " 12.40978,\n",
       " 12.40978,\n",
       " 12.40978,\n",
       " 12.40978,\n",
       " 12.40978,\n",
       " 12.40978,\n",
       " 12.40978,\n",
       " 12.40978,\n",
       " 12.40978,\n",
       " 12.40978,\n",
       " 12.40978,\n",
       " 12.40978,\n",
       " 12.40978,\n",
       " 12.40978,\n",
       " 12.40978,\n",
       " 12.40978,\n",
       " 12.40978,\n",
       " 12.40978,\n",
       " 12.40978,\n",
       " 12.40978,\n",
       " 12.40978,\n",
       " 12.40978,\n",
       " 12.40978,\n",
       " 12.40978,\n",
       " 12.40978,\n",
       " 12.40978,\n",
       " 12.40978,\n",
       " 12.40978,\n",
       " 12.40978,\n",
       " 12.40978,\n",
       " 12.40978,\n",
       " 12.40978,\n",
       " 12.40978,\n",
       " 12.40978,\n",
       " 12.40978,\n",
       " 12.40978,\n",
       " 12.40978,\n",
       " 12.40978,\n",
       " 12.40978,\n",
       " 12.40978,\n",
       " 12.40978,\n",
       " 12.40978,\n",
       " 12.40978,\n",
       " 12.40978,\n",
       " 12.40978,\n",
       " 12.40978,\n",
       " 12.40978,\n",
       " 12.40978,\n",
       " 12.40978]"
      ]
     },
     "execution_count": 4,
     "metadata": {},
     "output_type": "execute_result"
    },
    {
     "data": {
      "image/png": "[encoded data removed]",
      "text/plain": [
       "<Figure size 640x480 with 1 Axes>"
      ]
     },
     "metadata": {},
     "output_type": "display_data"
    }
   ],
   "source": [
    "def fitted_q_iteration(mdp: MDP,iteration : int):\n",
    "    d = mdp.phi.shape[-1]\n",
    "    w = np.random.randn(d)\n",
    "    phi = mdp.phi.reshape(S*A, d)\n",
    "    #Q_featureとPhiを行列演算したらQ関数(shape:S * A)\n",
    "    Q_error = []\n",
    "\n",
    "    for _ in range(iteration):\n",
    "        Q = phi @ w\n",
    "        target_Q = target_q_get(mdp=mdp,q=Q.reshape(S,A)).reshape(S * A)\n",
    "        # 重みの更新\n",
    "        w = np.linalg.inv(phi.T @ phi) @ phi.T @ target_Q\n",
    "        Q = mdp.phi @ w\n",
    "        Q_error.append(np.abs(Q - target_Q.reshape(100,10)).max())\n",
    "\n",
    "    plt.plot(Q_error)\n",
    "    plt.xlabel('Iteration')\n",
    "    plt.ylabel('Error')\n",
    "    return Q_error\n",
    "\n",
    "fitted_q_iteration(mdp,100)"
   ]
  },
  {
   "cell_type": "code",
   "execution_count": null,
   "metadata": {},
   "outputs": [],
   "source": []
  }
 ],
 "metadata": {
  "kernelspec": {
   "display_name": "syumi-note",
   "language": "python",
   "name": "python3"
  },
  "language_info": {
   "codemirror_mode": {
    "name": "ipython",
    "version": 3
   },
   "file_extension": ".py",
   "mimetype": "text/x-python",
   "name": "python",
   "nbconvert_exporter": "python",
   "pygments_lexer": "ipython3",
   "version": "3.9.0"
  },
  "orig_nbformat": 4,
  "vscode": {
   "interpreter": {
    "hash": "bf02f90440595f5968a48e039387c923c9e6f6584bb1d7920e7063fafb8317aa"
   }
  }
 },
 "nbformat": 4,
 "nbformat_minor": 2
}
