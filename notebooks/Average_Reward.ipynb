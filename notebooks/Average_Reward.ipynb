{
 "cells": [
  {
   "attachments": {},
   "cell_type": "markdown",
   "metadata": {},
   "source": [
    "**Average Reward**\n",
    "---"
   ]
  },
  {
   "attachments": {},
   "cell_type": "markdown",
   "metadata": {},
   "source": [
    "今回はAvergae RewardにおけるWeakly Communicative MDPの解析に必要な$\\text{span}(v)$の説明をしていきたいと思います。\n",
    "\n",
    "まず、MDPは吸収状態などのトラップがることがしばしば見受けられます。\n",
    "\n",
    "ここから話すことはこの吸収状態などのトラップがないこと仮定します。\n",
    "\n",
    "---\n"
   ]
  },
  {
   "attachments": {},
   "cell_type": "markdown",
   "metadata": {},
   "source": [
    "**diameter**\n",
    "---\n",
    "\n",
    "\n",
    "任意の状態ペア$(s,s^\\prime)$を考えます。\n",
    "\n",
    "$s$を初期状態にして将来的に$s^\\prime$に達する可能性が0ではない方策が存在したらそのMDPはStrongly connected(communicating) MDPといいます。\n",
    "\n",
    "このconnectの強さを測る指標は次に説明するdiameterで測れます。\n",
    "\n",
    "小さければ小さいほど学習が簡単なMDPと直感的にわかります。\n",
    "\n",
    "$$\n",
    "D(M)=\\max _{s \\neq s^{\\prime}} \\min _{\\pi \\in \\Pi_{\\mathrm{DM}}} \\mathbb{E}^\\pi\\left[\\min \\left\\{t \\geq 1: S_t=s\\right\\} \\mid S_1=s^{\\prime}\\right]-1\n",
    "$$"
   ]
  },
  {
   "attachments": {},
   "cell_type": "markdown",
   "metadata": {},
   "source": [
    "ある状態$s^\\prime$から$s$まで最短でいけるような方策を見つけることです。\n",
    "\n",
    "この$D(M)$の下限は$\\log_A(S) - 3$と知られています。"
   ]
  },
  {
   "attachments": {},
   "cell_type": "markdown",
   "metadata": {},
   "source": [
    "---"
   ]
  },
  {
   "attachments": {},
   "cell_type": "markdown",
   "metadata": {},
   "source": [
    "**定義**\n",
    "---"
   ]
  },
  {
   "attachments": {},
   "cell_type": "markdown",
   "metadata": {},
   "source": [
    "ある方策からの長期的な報酬の期待平均(gain)は次の様にかけます。\n",
    "\n",
    "$$\n",
    "\\rho_s^\\pi=\\lim _{n \\rightarrow \\infty} \\frac{1}{n} \\sum_{t=1}^n \\mathbb{E}^\\pi\\left[r_{A_t}\\left(S_t\\right) \\mid S_1=s\\right],\n",
    "$$"
   ]
  },
  {
   "attachments": {},
   "cell_type": "markdown",
   "metadata": {},
   "source": [
    "一般には極限がある必要はないので、次のことも導入します。\n",
    "\n",
    "$$\n",
    "\\bar{\\rho}_s^\\pi=\\limsup _{n \\rightarrow \\infty} \\frac{1}{n} \\sum_{t=1}^n \\mathbb{E}^\\pi\\left[r_{A_t}\\left(S_t\\right) \\mid S_1=s\\right]\n",
    "$$"
   ]
  },
  {
   "attachments": {},
   "cell_type": "markdown",
   "metadata": {},
   "source": [
    "この最適なgainは次の様になりますね。\n",
    "\n",
    "$$\n",
    "\\rho^*=\\max _{s \\in \\mathcal{S}} \\sup _\\pi \\bar{\\rho}_s^\\pi,\n",
    "$$"
   ]
  },
  {
   "attachments": {},
   "cell_type": "markdown",
   "metadata": {},
   "source": [
    "ここで便利なため次の様な記法を導入します。\n",
    "\n",
    "$$\n",
    "P_\\pi\\left(s, s^{\\prime}\\right)=\\sum_{a \\in \\mathcal{A}} \\pi(a \\mid s) P_a\\left(s, s^{\\prime}\\right) \\quad \\text \\quad r_\\pi(s)=\\sum_{a \\in \\mathcal{A}} \\pi(a \\mid s) r_a(s)\n",
    "$$"
   ]
  },
  {
   "attachments": {},
   "cell_type": "markdown",
   "metadata": {},
   "source": [
    "このような記法を使うと上で定義されたgainは次のようにかけます。\n",
    "\n",
    "$$\n",
    "\\rho^\\pi=\\lim _{n \\rightarrow \\infty} \\frac{1}{n} \\sum_{t=1}^n P_\\pi^{t-1} r_\\pi=P_\\pi^* r_\\pi\n",
    "$$"
   ]
  },
  {
   "attachments": {},
   "cell_type": "markdown",
   "metadata": {},
   "source": [
    "そして次のような実際に集められた報酬と上のgainとの差を定義します。\n",
    "\n",
    "これはgainよりどのくらいadvantageが得られているか測れる指標となります。\n",
    "\n",
    "$$\n",
    "v_\\pi^{(k)}=\\sum^k P_\\pi^{t-1}\\left(r_\\pi-\\rho^\\pi\\right)\n",
    "$$"
   ]
  },
  {
   "attachments": {},
   "cell_type": "markdown",
   "metadata": {},
   "source": [
    "この上の指標でも平均を求めます。"
   ]
  },
  {
   "attachments": {},
   "cell_type": "markdown",
   "metadata": {},
   "source": [
    "$$\n",
    "v_\\pi=\\lim _{n \\rightarrow \\infty} \\frac{1}{n} \\sum_{k=1}^n v_\\pi^{(k)}=\\left(\\left(I-P_\\pi+P_\\pi^*\\right)^{-1}-P_\\pi^*\\right) r_\\pi\n",
    "$$"
   ]
  },
  {
   "attachments": {},
   "cell_type": "markdown",
   "metadata": {},
   "source": [
    "これらを使って頑張って変形すると、"
   ]
  },
  {
   "attachments": {},
   "cell_type": "markdown",
   "metadata": {},
   "source": [
    "$$\n",
    "\\rho^\\pi+v_\\pi=r_\\pi+P_\\pi v_\\pi .\n",
    "$$"
   ]
  },
  {
   "attachments": {},
   "cell_type": "markdown",
   "metadata": {},
   "source": []
  }
 ],
 "metadata": {
  "kernelspec": {
   "display_name": "syumi-note",
   "language": "python",
   "name": "python3"
  },
  "language_info": {
   "name": "python",
   "version": "3.9.0"
  },
  "orig_nbformat": 4
 },
 "nbformat": 4,
 "nbformat_minor": 2
}
