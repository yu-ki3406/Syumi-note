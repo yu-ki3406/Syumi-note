{
 "cells": [
  {
   "attachments": {},
   "cell_type": "markdown",
   "metadata": {},
   "source": [
    "# コードの最適化について"
   ]
  },
  {
   "attachments": {},
   "cell_type": "markdown",
   "metadata": {},
   "source": [
    "---"
   ]
  },
  {
   "attachments": {},
   "cell_type": "markdown",
   "metadata": {},
   "source": [
    "今回はコードの最適化について勉強していきます．\n",
    "\n",
    "コードを早くするためには正しいアルゴリズムと適切なデータ構造を選ぶことが重要です．\n",
    "\n",
    "---"
   ]
  },
  {
   "attachments": {},
   "cell_type": "markdown",
   "metadata": {},
   "source": [
    "## コードの複雑度を下げる"
   ]
  },
  {
   "attachments": {},
   "cell_type": "markdown",
   "metadata": {},
   "source": [
    "コードの複雑度を下げることでコードの最適化を施行することができます．"
   ]
  },
  {
   "attachments": {},
   "cell_type": "markdown",
   "metadata": {},
   "source": [
    "一例としては，ループの複雑度を下げることです．\n",
    "\n",
    "また関数の複雑度はビックオー記法を用いることで計算量の大きさを定義することができます．\n",
    "\n",
    "以下に定義を示します．\n",
    "\n",
    "1. $O(1) \\rightarrow$ 定数，入力のサイズに依存しない\n",
    "2. $O(n) \\rightarrow$ nに比例して大きくなす \n",
    "3. $O(n \\log n)\\rightarrow$ 準線形\n",
    "4. $O(n^2) \\rightarrow$ nの二乗に比例"
   ]
  },
  {
   "attachments": {},
   "cell_type": "markdown",
   "metadata": {},
   "source": [
    "例えばpythonのリストを作成し，n個要素がある時，全部の要素を探す操作は$O(n)$ となります．\n",
    "\n",
    "\n",
    "\n",
    "他の例としましては以下のコードも交え説明します．\n",
    "\n",
    "---"
   ]
  },
  {
   "cell_type": "code",
   "execution_count": 1,
   "metadata": {},
   "outputs": [],
   "source": [
    "def function(n):\n",
    "    for i in range(n):\n",
    "        print(n)"
   ]
  },
  {
   "attachments": {},
   "cell_type": "markdown",
   "metadata": {},
   "source": [
    "上の関数は,print関数がn呼ばれているため,計算量は $O(n)$ となります．"
   ]
  },
  {
   "cell_type": "code",
   "execution_count": 5,
   "metadata": {},
   "outputs": [],
   "source": [
    "def function(n):\n",
    "    if n == 'test':\n",
    "        print('test')\n",
    "    else:\n",
    "        for i in range(n):\n",
    "            print(i)"
   ]
  },
  {
   "attachments": {},
   "cell_type": "markdown",
   "metadata": {},
   "source": [
    "上の関数は条件によっては計算量が変わるケースを表しています．\n",
    "\n",
    "もし，nが'test'なら$O(1)$ になりますね．\n",
    "\n",
    "---"
   ]
  },
  {
   "attachments": {},
   "cell_type": "markdown",
   "metadata": {},
   "source": [
    "しかしながら，入力数nを事前に知ってた場合，ビックオー記法だけで判断してしまうと，逆に遅くなる場合があります．\n",
    "\n",
    "例えば，プログラムA,Bがあり，Aは$100n^2$ の操作，Bは$5n^3$ の操作が必要とすると，ビックオー記法で判断すると，Aの方が最適なアルゴリズムとなります，\n",
    "\n",
    "しかし，nが20より大きくなってしまうと，$100n^2 \\leq 5n^3$ となりますね．"
   ]
  }
 ],
 "metadata": {
  "kernelspec": {
   "display_name": "syumi-note",
   "language": "python",
   "name": "python3"
  },
  "language_info": {
   "codemirror_mode": {
    "name": "ipython",
    "version": 3
   },
   "file_extension": ".py",
   "mimetype": "text/x-python",
   "name": "python",
   "nbconvert_exporter": "python",
   "pygments_lexer": "ipython3",
   "version": "3.9.0"
  },
  "orig_nbformat": 4
 },
 "nbformat": 4,
 "nbformat_minor": 2
}
