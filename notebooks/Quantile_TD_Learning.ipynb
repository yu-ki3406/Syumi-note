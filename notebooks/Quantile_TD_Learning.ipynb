{
 "cells": [
  {
   "cell_type": "code",
   "execution_count": 1,
   "metadata": {},
   "outputs": [],
   "source": [
    "import numpy as np\n",
    "\n",
    "def quantile_V(theta, m, alpha, gamma, s, s_dash, r):\n",
    "    # サンプル数を指定した一様分布からサンプリングする関数\n",
    "    # T回の更新を実施\n",
    "\n",
    "        # 各Quantileインデックスに対する更新\n",
    "    for i in range(1,m+1):\n",
    "        tau_i = (2*i - 1) / (2*m)\n",
    "        update = alpha * (tau_i - (1 / m) * np.sum(theta[s, i] - r - gamma * theta[s_dash, :] < 0))\n",
    "        theta_prime = theta[s, i] + update\n",
    "        theta[s, i] = theta_prime\n",
    "\n",
    "    # 最終的な結果として各状態におけるQuantile推定値の平均を返す\n",
    "    return np.mean(theta, axis=-1)"
   ]
  },
  {
   "cell_type": "code",
   "execution_count": 2,
   "metadata": {},
   "outputs": [],
   "source": [
    "import numpy as np\n",
    "S = 16 #状態数\n",
    "A = 4 #行動数\n",
    "seed = 42\n",
    "np.random.seed(seed)\n",
    "import gymnasium as gym\n",
    "\n",
    "rew = np.zeros((S,A))\n",
    "rew[14,1] = 1.0\n",
    "rew[14,2] = 1.0\n",
    "rew[14,3] = 1.0\n",
    "# print(np.sum(P, axis=2))\n",
    "policy = np.ones((S,A))\n",
    "policy = policy / A # uniform policy\n",
    "epsilon = [3/10,4/10,5/10,6/10,7/10,8/10,9/10,1.0]\n",
    "def create_env(epsilon):\n",
    "    env = gym.make('FrozenLake-v1', desc=None, map_name=\"4x4\", is_slippery=True)\n",
    "    P = np.zeros((S,A,S))\n",
    "    epsilon = epsilon\n",
    "    for s in range(S):\n",
    "        for a in range(A):\n",
    "            Ps_dash = env.P[s]\n",
    "            Psa_dash = Ps_dash[a]\n",
    "            if a == 1:\n",
    "                selected_elements = [item[1] for item in Psa_dash]\n",
    "                index = [index for index, value in enumerate(selected_elements) if value == s+a+3]\n",
    "                if not index:\n",
    "                    index = [index for index, value in enumerate(selected_elements) if value ==s]\n",
    "            elif a== 0 or a== 2:\n",
    "                selected_elements = [item[1] for item in Psa_dash]\n",
    "                index = [index for index, value in enumerate(selected_elements) if value == s+a-1]\n",
    "                if not index:\n",
    "                    index = [index for index, value in enumerate(selected_elements) if value ==s]\n",
    "            elif a== 3:\n",
    "                selected_elements = [item[1] for item in Psa_dash]\n",
    "                index = [index for index, value in enumerate(selected_elements) if value == s+a-7]\n",
    "                if not index:\n",
    "                    index = [index for index, value in enumerate(selected_elements) if value ==s]\n",
    "            # Psa_dash = Ps_dash[a]\n",
    "            # print(len(Psa_dash))\n",
    "            if len(Psa_dash) != 1:\n",
    "                for t in range(len(Psa_dash)):\n",
    "                    if index:\n",
    "                        if t == index[0]:\n",
    "                            P_ = epsilon\n",
    "                            s_dash = Psa_dash[t][1]\n",
    "                            P[s,a,s_dash] += P_\n",
    "                            # print('a')\n",
    "                        else:\n",
    "                            P_ = (1-epsilon) / 2\n",
    "                            s_dash = Psa_dash[t][1]\n",
    "                            P[s,a,s_dash] += P_\n",
    "                            # print('aaa')\n",
    "            else:\n",
    "                for t in range(len(Psa_dash)):\n",
    "                    P_ = Psa_dash[t][0]\n",
    "                    s_dash = Psa_dash[t][1]\n",
    "                    P[s,a,s_dash] += P_\n",
    "    return P\n",
    "\n",
    "from typing import NamedTuple, Optional\n",
    "class MDP(NamedTuple):\n",
    "    S_array: np.array  # 状態空間\n",
    "    A_array: np.array  # 行動空間\n",
    "    gamma: float  # 割引率\n",
    "    horizon: int  #ホライゾン\n",
    "    rew: float  # 報酬関数\n",
    "    P: float  # 遷移確率\n",
    "    optimal_Q: Optional[np.ndarray] = None  # 最適Q値\n",
    "    robust_optimal_Q: Optional[np.ndarray] = None  # ロバスト最適Q値\n",
    "    optimal_policy: Optional[np.ndarray] = None  # 最適方策\n",
    "\n",
    "    @property\n",
    "    def S(self) -> int:  # 状態空間のサイズ\n",
    "        return len(self.S_array)\n",
    "\n",
    "    @property\n",
    "    def A(self) -> int:  # 行動空間のサイズ\n",
    "        return len(self.A_array)\n",
    "\n",
    "rew = np.zeros((S,A))\n",
    "rew[14,1] = 1.0\n",
    "rew[14,2] = 1.0\n",
    "rew[14,3] = 1.0\n",
    "\n",
    "# np.testing.assert_almost_equal(np.sum(P, axis=2), np.ones((S,A)))\n",
    "# print(np.sum(P, axis=2))\n",
    "policy = np.ones((S,A))\n",
    "policy = policy / A # uniform policy\n",
    "P = np.zeros((S,A,S))\n",
    "\n",
    "S_array = np.arange(S)\n",
    "A_array = np.arange(A)\n",
    "gamma = 0.9\n",
    "horizon = 1000\n",
    "#MDPを作成\n",
    "mdp = MDP(S_array, A_array, gamma, horizon, rew, P)"
   ]
  },
  {
   "cell_type": "code",
   "execution_count": 3,
   "metadata": {},
   "outputs": [],
   "source": [
    "def Sample_Collect(iteration,train_p,seed):\n",
    "    np.random.seed(seed)\n",
    "    steps = 0\n",
    "    P = create_env(train_p)\n",
    "    env_d = gym.make('FrozenLake-v1', desc=None, map_name=\"4x4\", is_slippery=False)\n",
    "    S,A = env_d.observation_space.n,env_d.action_space.n\n",
    "    policy_b = np.ones((S,A))/A\n",
    "        # steps = 0\n",
    "    sample_list = {'state':[],'action':[],'reward':[],'next_state':[],'done':[],'done_':[]}\n",
    "    while True:\n",
    "        if steps >=iteration:\n",
    "            break\n",
    "        s = env_d.reset()[0]\n",
    "        for _ in range(horizon):\n",
    "            a = np.random.choice(a=4,size=1,p=policy_b[s])[0]\n",
    "            steps +=1\n",
    "            s_dash = np.random.choice(a=16,size=1,p=P[s,a])[0]\n",
    "            if s_dash == s - 1:  # 左に移動した場合\n",
    "                a = 0  # 行動0を返す\n",
    "            elif s_dash == s + 4:  # 下に移動した場合\n",
    "                a = 1  # 行動1を返す\n",
    "            elif s_dash == s + 1:  # 右に移動した場合\n",
    "                a = 2  # 行動2を返す\n",
    "            elif s_dash == s - 4:  # 上に移動した場合\n",
    "                a = 3  # 行動3を返す\n",
    "            s_,r,d,d_,_ = env_d.step(a)\n",
    "            sample_list['state'].append(s)\n",
    "            sample_list['action'].append(a)\n",
    "            sample_list['reward'].append(r)\n",
    "            sample_list['next_state'].append(s_)\n",
    "            sample_list['done'].append(d)\n",
    "            sample_list['done_'].append(d_)\n",
    "            s = s_\n",
    "                # print(i)\n",
    "            if d or d_:\n",
    "                    # print('a')\n",
    "                break\n",
    "    return sample_list"
   ]
  },
  {
   "cell_type": "code",
   "execution_count": 4,
   "metadata": {},
   "outputs": [
    {
     "name": "stderr",
     "output_type": "stream",
     "text": [
      "/users/y-ichihara/.conda/envs/syumi-note/lib/python3.9/site-packages/gymnasium/core.py:297: UserWarning: \u001b[33mWARN: env.P to get variables from other wrappers is deprecated and will be removed in v1.0, to get this variable you can do `env.unwrapped.P` for environment variables or `env.get_attr('P')` that will search the reminding wrappers.\u001b[0m\n",
      "  logger.warn(\n"
     ]
    }
   ],
   "source": [
    "sample = Sample_Collect(3000,0.9,1)"
   ]
  },
  {
   "cell_type": "code",
   "execution_count": 14,
   "metadata": {},
   "outputs": [],
   "source": [
    "from tqdm import tqdm\n",
    "def Quantile_TD_Learning(R,learning_rate,gamma,test_eps,iteration,sample_list,seed,m):\n",
    "    np.random.seed(seed)\n",
    "    env = gym.make('FrozenLake-v1', desc=None, map_name=\"4x4\", is_slippery=False)\n",
    "    S_,A_ = env.observation_space.n,env.action_space.n\n",
    "    P = create_env(test_eps)\n",
    "    Q = np.zeros((S_,A_))\n",
    "    rewards = []\n",
    "    theta = np.zeros((S_,A_,m))\n",
    "    theta_prime = np.zeros((S_,A_,m))\n",
    "    # print(theta.shape)\n",
    "    for t in tqdm(range(iteration)):\n",
    "        # cul = 0\n",
    "        s,a,s_dash,r,d,d_ = sample_list['state'][t],sample_list['action'][t],sample_list['next_state'][t],sample_list['reward'][t],sample_list['done'][t],sample_list['done_'][t]\n",
    "        for i in range(1,m+1):\n",
    "            cul = 0\n",
    "            tau_i = (2*i - 1) / (2*m)\n",
    "            Q = np.mean(theta, axis=-1)\n",
    "            max_a = np.argmax(Q[s_dash])\n",
    "            # update = learning_rate * (tau_i - (1 / m) * np.sum(theta[s, a,i-1] - r - (1-int(d))*(1-int(d_))*gamma * np.mean(theta[s_dash,:, :],axis=1) < 0,axis=-1))\n",
    "            for j in range(1,m+1):\n",
    "                cul += tau_i - (-theta[s, a,i-1] + r + (1-int(d))*(1-int(d_))*gamma * theta[s_dash,max_a,j-1] < 0)\n",
    "            # update = learning_rate *(1/m)*np.sum(tau_i - (-theta[s, a,i-1] + r + (1-int(d))*(1-int(d_))*gamma * theta[s_dash,max_a,:] < 0),axis=-1)\n",
    "            update = learning_rate * (1/m) * cul\n",
    "            theta_prime[s,a,i-1] = theta[s,a, i-1] + update\n",
    "        theta[s,a,:] = theta_prime[s,a,:]\n",
    "        Q = np.mean(theta, axis=-1)\n",
    "        S = env.reset()[0]\n",
    "        for _ in range(100):\n",
    "            A = np.argmax(Q[S])\n",
    "            S_DASH = np.random.choice(a=16,size=1,p=P[S,A])[0]\n",
    "            if S_DASH == S - 1:  # 左に移動した場合\n",
    "                A = 0  # 行動0を返す\n",
    "            elif S_DASH == S + 4:  # 下に移動した場合\n",
    "                A = 1  # 行動1を返す\n",
    "            elif S_DASH == S + 1:  # 右に移動した場合\n",
    "                A = 2  # 行動2を返す\n",
    "            elif S_DASH == S - 4:  # 上に移動した場合\n",
    "                A = 3  # 行動3を返す\n",
    "            S_,R,D,D_,_ = env.step(A)\n",
    "            S = S_\n",
    "            # if R != 0.0:\n",
    "            #     print('a')\n",
    "            # print(steps)\n",
    "            if D or D_:\n",
    "                rewards.append(R)\n",
    "                # print(R)\n",
    "                break\n",
    "    return rewards,Q"
   ]
  },
  {
   "cell_type": "code",
   "execution_count": 55,
   "metadata": {},
   "outputs": [],
   "source": [
    "from tqdm import tqdm\n",
    "def Expectile_TD_Learning(R,learning_rate,gamma,test_eps,iteration,sample_list,seed,m):\n",
    "    np.random.seed(seed)\n",
    "    env = gym.make('FrozenLake-v1', desc=None, map_name=\"4x4\", is_slippery=False)\n",
    "    S_,A_ = env.observation_space.n,env.action_space.n\n",
    "    P = create_env(test_eps)\n",
    "    Q = np.zeros((S_,A_))\n",
    "    rewards = []\n",
    "    theta = np.zeros((S_,A_,m))\n",
    "    theta_prime = np.zeros((S_,A_,m))\n",
    "    # print(theta.shape)\n",
    "    for t in tqdm(range(iteration)):\n",
    "        s,a,s_dash,r,d,d_ = sample_list['state'][t],sample_list['action'][t],sample_list['next_state'][t],sample_list['reward'][t],sample_list['done'][t],sample_list['done_'][t]\n",
    "        for i in range(1,m+1):\n",
    "            cul = 0\n",
    "            tau_i = (2*i - 1) / (2*m)\n",
    "            Q = np.mean(theta, axis=-1)\n",
    "            max_a = np.argmax(Q[s_dash])\n",
    "            # update = learning_rate *(1/m)*np.sum(2*(r + (1-int(d))*(1-int(d_)) * gamma * theta[s_dash,max_a,:] - theta[s,a,i-1]) *(tau_i - (-theta[s, a,i-1] + r + (1-int(d))*(1-int(d_))*gamma * theta[s_dash,max_a,:] < 0)),axis=-1)\n",
    "            for j in range(1,m+1):\n",
    "                cul += 2*np.abs(r + (1-int(d))*(1-int(d_)) * gamma * theta[s_dash,max_a,j-1] - theta[s,a,i-1]) *(tau_i - (-theta[s, a,i-1] + r + (1-int(d))*(1-int(d_))*gamma * theta[s_dash,max_a,j-1] < 0))\n",
    "                update = learning_rate * (1/m) * cul\n",
    "            theta_prime[s,a,i-1] = theta[s,a, i-1] + update \n",
    "        theta[s,a,:] = theta_prime[s,a,:]\n",
    "        Q = np.mean(theta, axis=-1)\n",
    "        # index_i = (m+1)/2\n",
    "        # Q = theta[:,:,-1,index_i-1]\n",
    "        S = env.reset()[0]\n",
    "        for _ in range(100):\n",
    "            A = np.argmax(Q[S])\n",
    "            S_DASH = np.random.choice(a=16,size=1,p=P[S,A])[0]\n",
    "            if S_DASH == S - 1:  # 左に移動した場合\n",
    "                A = 0  # 行動0を返す\n",
    "            elif S_DASH == S + 4:  # 下に移動した場合\n",
    "                A = 1  # 行動1を返す\n",
    "            elif S_DASH == S + 1:  # 右に移動した場合\n",
    "                A = 2  # 行動2を返す\n",
    "            elif S_DASH == S - 4:  # 上に移動した場合\n",
    "                A = 3  # 行動3を返す\n",
    "            S_,R,D,D_,_ = env.step(A)\n",
    "            S = S_\n",
    "            # if R != 0.0:\n",
    "            #     print('a')\n",
    "            # print(steps)\n",
    "            if D or D_:\n",
    "                rewards.append(R)\n",
    "                # print(R)\n",
    "                break\n",
    "    return rewards,Q"
   ]
  },
  {
   "cell_type": "code",
   "execution_count": 56,
   "metadata": {},
   "outputs": [],
   "source": [
    "def calculate_average_rewards(rewards):\n",
    "    # 累積報酬の計算\n",
    "    cumulative_rewards = np.cumsum(rewards)\n",
    "\n",
    "    average_rewards = cumulative_rewards / np.arange(1, len(rewards) + 1)\n",
    "\n",
    "    return average_rewards"
   ]
  },
  {
   "cell_type": "code",
   "execution_count": 57,
   "metadata": {},
   "outputs": [],
   "source": [
    "R = 0.5\n",
    "learning_rate = 0.8\n",
    "gamma = 0.9\n",
    "test_eps = 0.9\n",
    "iteration = len(sample['state'])\n",
    "tau = 50\n",
    "eta = 0.5\n",
    "m = 11"
   ]
  },
  {
   "cell_type": "code",
   "execution_count": 58,
   "metadata": {},
   "outputs": [
    {
     "name": "stderr",
     "output_type": "stream",
     "text": [
      "100%|██████████| 3007/3007 [00:08<00:00, 334.51it/s]\n"
     ]
    }
   ],
   "source": [
    "reward,Q = Expectile_TD_Learning(R,learning_rate,gamma,test_eps,iteration,sample,123,m)"
   ]
  },
  {
   "cell_type": "code",
   "execution_count": 59,
   "metadata": {},
   "outputs": [
    {
     "data": {
      "text/plain": [
       "[<matplotlib.lines.Line2D at 0x7ff3f8700730>]"
      ]
     },
     "execution_count": 59,
     "metadata": {},
     "output_type": "execute_result"
    },
    {
     "data": {
      "image/png": "[encoded data removed]",
      "text/plain": [
       "<Figure size 640x480 with 1 Axes>"
      ]
     },
     "metadata": {},
     "output_type": "display_data"
    }
   ],
   "source": [
    "import matplotlib.pyplot as plt\n",
    "ave_reward = calculate_average_rewards(reward)\n",
    "plt.plot(ave_reward)"
   ]
  },
  {
   "cell_type": "code",
   "execution_count": 60,
   "metadata": {},
   "outputs": [
    {
     "name": "stderr",
     "output_type": "stream",
     "text": [
      "100%|██████████| 3007/3007 [00:05<00:00, 577.67it/s]\n"
     ]
    },
    {
     "data": {
      "text/plain": [
       "[<matplotlib.lines.Line2D at 0x7ff3f866cdc0>]"
      ]
     },
     "execution_count": 60,
     "metadata": {},
     "output_type": "execute_result"
    },
    {
     "data": {
      "image/png": "[encoded data removed]",
      "text/plain": [
       "<Figure size 640x480 with 1 Axes>"
      ]
     },
     "metadata": {},
     "output_type": "display_data"
    }
   ],
   "source": [
    "rewards,_ = Quantile_TD_Learning(R,learning_rate,gamma,test_eps,iteration,sample,123,m)\n",
    "\n",
    "import matplotlib.pyplot as plt\n",
    "ave_rewards = calculate_average_rewards(rewards)\n",
    "plt.plot(ave_rewards)"
   ]
  },
  {
   "cell_type": "code",
   "execution_count": 171,
   "metadata": {},
   "outputs": [
    {
     "data": {
      "text/plain": [
       "array([0.        , 0.        , 0.        , ..., 0.01231281, 0.01230872,\n",
       "       0.01230462])"
      ]
     },
     "execution_count": 171,
     "metadata": {},
     "output_type": "execute_result"
    }
   ],
   "source": [
    "ave_reward"
   ]
  },
  {
   "cell_type": "code",
   "execution_count": 77,
   "metadata": {},
   "outputs": [
    {
     "data": {
      "text/plain": [
       "array([ 2.8    , -3.6    , -0.57536, -2.11288])"
      ]
     },
     "execution_count": 77,
     "metadata": {},
     "output_type": "execute_result"
    }
   ],
   "source": [
    "Q[13]"
   ]
  },
  {
   "cell_type": "code",
   "execution_count": null,
   "metadata": {},
   "outputs": [],
   "source": []
  }
 ],
 "metadata": {
  "kernelspec": {
   "display_name": "syumi-note",
   "language": "python",
   "name": "python3"
  },
  "language_info": {
   "codemirror_mode": {
    "name": "ipython",
    "version": 3
   },
   "file_extension": ".py",
   "mimetype": "text/x-python",
   "name": "python",
   "nbconvert_exporter": "python",
   "pygments_lexer": "ipython3",
   "version": "3.9.0"
  },
  "orig_nbformat": 4
 },
 "nbformat": 4,
 "nbformat_minor": 2
}
