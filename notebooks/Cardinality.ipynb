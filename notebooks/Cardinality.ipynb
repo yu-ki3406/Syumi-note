{
 "cells": [
  {
   "attachments": {},
   "cell_type": "markdown",
   "metadata": {},
   "source": [
    "# 集合の濃度\n",
    "\n",
    "---\n",
    "\n"
   ]
  },
  {
   "attachments": {},
   "cell_type": "markdown",
   "metadata": {},
   "source": [
    "今回は集合の濃度の概念について説明していきます．\n",
    "\n",
    "集合Aを考えた時にAの元の個数をAの濃度と言います．\n",
    "\n",
    "---\n",
    "\n",
    "ここで，対等という概念を示します．\n",
    "\n",
    "集合Aと集合Bが対等であるという(記号では$A ~ B$)ことは，集合Aから集合Bへの全単射になる写像$f$が存在するということである．\n",
    "\n",
    "\n",
    "\n",
    "#### 例\n",
    "\n",
    "$\\mathbb{P}$を正の偶数全体の集合とすると，正の数全体の集合$\\mathbb{N}$は$\\mathbb{P}$と対等である，\n",
    "\n",
    "これは写像$f(n) = 2n$とおけば，全単射となってますね．\n",
    "\n",
    "例から分かるように，ある集合Aをn個からなる有限集合とすれば，対等となる新しい集合Bを考えるときに，Bの元の個数もn個となる必要があります．\n",
    "\n",
    "---\n",
    "\n",
    "しかしながら，次の定理を使えば全単射の存在を示さなくても良いとされています．\n",
    "\n",
    "**Bernsteinの定理**\n",
    "\n",
    "AからBへの単射が存在し，BからAへの単射が存在するとすると，AとBは対等である．\n",
    "\n",
    "これはAからBへの単射をする写像$f$を考えると，逆写像$f^{-1}$は全射になります．\n",
    "\n",
    "BからAへの単射を$g$とすると，逆写像$g^{-1}$は全射になります．\n",
    "\n",
    "この２つのことを使うと，証明できます．\n",
    "\n",
    "\n",
    "\n",
    "\n"
   ]
  },
  {
   "attachments": {},
   "cell_type": "markdown",
   "metadata": {},
   "source": [
    "---\n",
    "\n",
    "上で対等の概念を説明した理由としては，濃度とは次の関係性があります．\n",
    "\n",
    "集合A,Bの濃度を$card A,card B$とすると，\n",
    "\n",
    "$$\n",
    "A \\sim B \\Leftrightarrow card A = card B\n",
    "$$"
   ]
  },
  {
   "attachments": {},
   "cell_type": "markdown",
   "metadata": {},
   "source": [
    "が成り立ちます．"
   ]
  },
  {
   "attachments": {},
   "cell_type": "markdown",
   "metadata": {},
   "source": [
    "---"
   ]
  },
  {
   "attachments": {},
   "cell_type": "markdown",
   "metadata": {},
   "source": [
    "#### 濃度の大小\n",
    "\n",
    "有限集合の濃度については大小の概念が成り立つ．\n",
    "\n",
    "Bを1つの集合として，$B_1$をその部分集合とする.\n",
    "\n",
    "ただし，$B_1$は真部分集合(Bそのものではないということ,$B_1 \\subset{B}$)\n",
    "\n",
    "$$\n",
    "card B_1 \\leq card B\n",
    "$$\n",
    "\n",
    "が成り立つ．"
   ]
  },
  {
   "attachments": {},
   "cell_type": "markdown",
   "metadata": {},
   "source": [
    "真部分集合であるのに$<$ではなく,$\\leq$である理由は例で示したように$P\\subset{N}$であるが，P ~ Nであることからわかります．"
   ]
  },
  {
   "attachments": {},
   "cell_type": "markdown",
   "metadata": {},
   "source": [
    "濃度の大小の定義としては，集合A,Bの濃度を$\\mathbb{m},\\mathbb{n}$とする．\n",
    "\n",
    "AがBのある部分集合と対等であるなら，mはnを超えない.($m \\leq n$)"
   ]
  },
  {
   "attachments": {},
   "cell_type": "markdown",
   "metadata": {},
   "source": []
  }
 ],
 "metadata": {
  "language_info": {
   "name": "python"
  },
  "orig_nbformat": 4
 },
 "nbformat": 4,
 "nbformat_minor": 2
}
