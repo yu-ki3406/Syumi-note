{
 "cells": [
  {
   "attachments": {},
   "cell_type": "markdown",
   "metadata": {},
   "source": [
    "# Moore Penrose Pseudoinverse Matrix (疑似逆行列)\n",
    "\n",
    "---"
   ]
  },
  {
   "attachments": {},
   "cell_type": "markdown",
   "metadata": {},
   "source": [
    "疑似逆行列は逆行列不可の行列をうまく処理して、その逆行列を近似して求めようとする手法です。\n",
    "\n",
    "逆行列可能な逆行列とその疑似逆行列は等しくなります。\n",
    "\n",
    "多くの場合では、行列が正方行列ではない場合が多いです。\n",
    "\n",
    "そのような場合では逆行列を求めるのは不可能ですね。\n",
    "\n",
    "\n",
    "\n",
    "ここから、疑似逆行列の解説に入っていきますが、特異値分解については[このサイト](https://manabitimes.jp/math/1280)に載っています。\n",
    "\n",
    "---"
   ]
  },
  {
   "attachments": {},
   "cell_type": "markdown",
   "metadata": {},
   "source": [
    "次の問題を考えます。\n",
    "\n",
    "$$\n",
    "A x=b\n",
    "$$"
   ]
  },
  {
   "attachments": {},
   "cell_type": "markdown",
   "metadata": {},
   "source": [
    "$A,b$は既知で、$x$を求めたい問題とします。\n",
    "\n",
    "ここで、$A$は逆行列不可の行列とします。\n",
    "\n",
    "まず、Aを次のような形で特異値分解します。\n",
    "\n",
    "$$\n",
    "A=U \\Sigma V^T\n",
    "$$\n",
    "\n",
    "$U,T$は直交行列で、$\\Sigma$は対角行列です。"
   ]
  },
  {
   "attachments": {},
   "cell_type": "markdown",
   "metadata": {},
   "source": [
    "これを使い問題を書き換えます。\n",
    "\n",
    "$$\n",
    "U \\Sigma V^T x=b\n",
    "$$"
   ]
  },
  {
   "attachments": {},
   "cell_type": "markdown",
   "metadata": {},
   "source": [
    "$x=$の形にしたいので、次のような乗算処理を行います。\n",
    "\n",
    "$$\n",
    "V \\Sigma^{-1} U^T U \\Sigma V^T x=V \\Sigma^{-1} U^T b\n",
    "$$\n",
    "\n",
    "$U^T U$や$V V^T$は直交行列から単位行列になります。\n",
    "\n",
    "もし、Aが逆行列可能であるとすると、対角行列の部分も単位行列になります。\n",
    "\n",
    "なので、$x$の近似解は次のようになります。\n",
    "\n",
    "$$\n",
    "\\hat{x}=V \\Sigma^{-1} U^T b\n",
    "$$"
   ]
  },
  {
   "attachments": {},
   "cell_type": "markdown",
   "metadata": {},
   "source": [
    "この式から、Aの疑似逆行列は以下の式になります。\n",
    "\n",
    "$$\n",
    "A^{\\dagger}=V \\Sigma^{-1} U^T\n",
    "$$\n",
    "\n"
   ]
  },
  {
   "attachments": {},
   "cell_type": "markdown",
   "metadata": {},
   "source": [
    "---\n",
    "\n",
    "ここからpythonで求めていきましょう。\n",
    "\n"
   ]
  },
  {
   "cell_type": "code",
   "execution_count": 1,
   "metadata": {},
   "outputs": [
    {
     "name": "stdout",
     "output_type": "stream",
     "text": [
      "[[1 2 3]\n",
      " [4 5 6]]\n",
      "(2, 3)\n"
     ]
    }
   ],
   "source": [
    "import numpy as np\n",
    "\n",
    "A = np.array([[1, 2, 3], [4, 5, 6]])\n",
    "print(A)\n",
    "print(A.shape)"
   ]
  },
  {
   "attachments": {},
   "cell_type": "markdown",
   "metadata": {},
   "source": [
    "この行列は正方行列ではないですね。\n",
    "\n",
    "この疑似逆行列を求めていきます。\n",
    "\n"
   ]
  },
  {
   "attachments": {},
   "cell_type": "markdown",
   "metadata": {},
   "source": [
    "まずはnumpyの関数を使って、特異値分解していきます。\n",
    "\n"
   ]
  },
  {
   "cell_type": "code",
   "execution_count": 14,
   "metadata": {},
   "outputs": [],
   "source": [
    "U,d,VT = np.linalg.svd(A)\n",
    "\n",
    "#U:2x2\n",
    "#d:2x2\n",
    "#VT:3x3\n",
    "\n",
    "#dを使って、対角行列の生成\n",
    "\n",
    "D = np.diag(d)\n",
    "\n",
    "D_inv = np.linalg.inv(D)\n",
    "\n",
    "D_inv = np.concatenate((D_inv, np.zeros((1,2))), axis=0)\n",
    "\n",
    "A_Pinv  = np.dot(VT.T,np.dot(D_inv,U.T))\n",
    "\n"
   ]
  },
  {
   "cell_type": "code",
   "execution_count": 21,
   "metadata": {},
   "outputs": [
    {
     "name": "stdout",
     "output_type": "stream",
     "text": [
      "Aの疑似逆行列は[[-0.94444444  0.44444444]\n",
      " [-0.11111111  0.11111111]\n",
      " [ 0.72222222 -0.22222222]]\n"
     ]
    }
   ],
   "source": [
    "print(f'Aの疑似逆行列は{A_Pinv}')"
   ]
  },
  {
   "cell_type": "code",
   "execution_count": null,
   "metadata": {},
   "outputs": [],
   "source": []
  }
 ],
 "metadata": {
  "kernelspec": {
   "display_name": "syumi-note",
   "language": "python",
   "name": "python3"
  },
  "language_info": {
   "codemirror_mode": {
    "name": "ipython",
    "version": 3
   },
   "file_extension": ".py",
   "mimetype": "text/x-python",
   "name": "python",
   "nbconvert_exporter": "python",
   "pygments_lexer": "ipython3",
   "version": "3.9.0"
  },
  "orig_nbformat": 4
 },
 "nbformat": 4,
 "nbformat_minor": 2
}
