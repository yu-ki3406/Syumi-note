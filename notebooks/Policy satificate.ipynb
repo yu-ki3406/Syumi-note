{
 "cells": [
  {
   "cell_type": "code",
   "execution_count": 84,
   "metadata": {},
   "outputs": [],
   "source": [
    "import numpy as np\n",
    "\n",
    "# MDPの構築\n",
    "from typing import NamedTuple ,Optional\n",
    "np.random.seed(10)\n",
    "\n",
    "S = 6# 状態数\n",
    "A = 3 # 行動数\n",
    "S_set = np.arange(S)\n",
    "A_set = np.arange(A)\n",
    "gamma = 0.9 # 割引率\n",
    "\n",
    "rew = np.random.uniform(0,1,size=(S,A)) # 報酬\n",
    "rew = np.array(rew)\n",
    "\n",
    "P = np.random.rand(S,A,S) # 遷移確率\n",
    "P = P.reshape(S*A,S)\n",
    "P = P/np.sum(P,axis=1,keepdims=True) # 正規化\n",
    "P = P.reshape(S,A,S)\n",
    "np.testing.assert_allclose(P.sum(axis=-1), 1, atol=1e-6)\n",
    "\n",
    "class MDP(NamedTuple):\n",
    "    S_set: np.ndarray\n",
    "    A_set: np.ndarray\n",
    "    rew: np.ndarray\n",
    "    P: np.ndarray\n",
    "    gamma: float\n",
    "    H: int\n",
    "    K:int\n",
    "\n",
    "\n",
    "    optimal_V: Optional[np.ndarray] = None\n",
    "\n",
    "    @property\n",
    "    def S(self):\n",
    "        return len(self.S_set)\n",
    "\n",
    "    @property\n",
    "    def A(self):\n",
    "        return len(self.A_set)\n",
    "\n",
    "H = int (1/(1-gamma) + 20)\n",
    "mdp = MDP(S_set,A_set,rew,P,gamma,H,K=50)"
   ]
  },
  {
   "cell_type": "code",
   "execution_count": 85,
   "metadata": {},
   "outputs": [],
   "source": [
    "def sampler(mdp: MDP, policy,s,h):\n",
    "    \"\"\"状態sで行動aをとり、次の状態と報酬を返す\"\"\"\n",
    "    a = policy[h,s]\n",
    "    a = int(a)\n",
    "    # print(a)\n",
    "    next_s = np.random.choice(mdp.S_set, p=mdp.P[s, a])\n",
    "    rew = mdp.rew[s, a]\n",
    "    return next_s, rew"
   ]
  },
  {
   "cell_type": "code",
   "execution_count": 86,
   "metadata": {},
   "outputs": [],
   "source": [
    "def feature_func(n:int,delta:float,mdp:MDP):\n",
    "    if n == 0:\n",
    "        return 1\n",
    "    return np.min([1,np.sqrt((0.52/n) * (1.4*np.log(np.log(np.max([np.e,n]))) + np.log(26*mdp.S*mdp.A*(mdp.H+1+mdp.S)/delta)))])"
   ]
  },
  {
   "cell_type": "code",
   "execution_count": 87,
   "metadata": {},
   "outputs": [],
   "source": [
    "def V_h_max(h:int,mdp:MDP):\n",
    "    return (mdp.H-h+1)"
   ]
  },
  {
   "cell_type": "code",
   "execution_count": 88,
   "metadata": {},
   "outputs": [],
   "source": [
    "def V_std(P,V):\n",
    "    # return np.sqrt(np.sum(P*V**2,axis=-1) - np.sum(P*V,axis=-1)**2)\n",
    "    # return np.sqrt(np.sum(P*(V-P*V)**2,axis=-1))\n",
    "    # std = np.sqrt(np.sum(P*V**2,axis=-1) - np.sum(2*(P**2) * V**2,axis=-1) + np.sum(P**3 * V**2,axis=-1))\n",
    "    PV = np.sum(P*V,axis=-1)\n",
    "    std = np.sqrt(np.sum(P * (V-PV)**2,axis=-1))\n",
    "    return std"
   ]
  },
  {
   "cell_type": "code",
   "execution_count": 89,
   "metadata": {},
   "outputs": [],
   "source": [
    "def vector_1_norm(V1, V2):\n",
    "    \"\"\"\n",
    "    Calculate the 1-norm of the difference between two vectors V1 and V2.\n",
    "\n",
    "    :param V1: First vector.\n",
    "    :param V2: Second vector.\n",
    "    :return: The 1-norm of the difference between V1 and V2.\n",
    "    \"\"\"\n",
    "    return np.sum(np.abs(V1 - V2))"
   ]
  },
  {
   "cell_type": "code",
   "execution_count": 90,
   "metadata": {},
   "outputs": [],
   "source": [
    "def gzi_upper_(mdp:MDP,h:int,feature_func,n_k,s,a,delta,P_k,V_upper,V_lower):\n",
    "    gzi1 = (V_h_max(h+1,mdp) + 1) *feature_func(n_k[s,a],delta,mdp)\n",
    "    gzi2 = (1 + np.sqrt(12) * np.sqrt(V_std(P_k[s,a],V_upper[h+1]) ** 2 +np.sum(P_k[s,a] * (V_upper[h+1] - V_lower[h+1]) ** 2,axis=-1)) * feature_func(n_k[s,a],delta,mdp)) + 8.13*V_h_max(h+1,mdp) * feature_func(n_k[s,a],delta,mdp) ** 2\n",
    "    gzi3 = (1 + np.sqrt(12) * V_std(P_k[s,a],V_upper[h+1])) * feature_func(n_k[s,a],delta,mdp) + 1/mdp.H * np.sum(P_k[s,a] * (V_upper[h+1] - V_lower[h+1])) + (20.13 * mdp.H * vector_1_norm(V_upper[h+1],V_lower[h+1]) * feature_func(n_k[s,a],delta,mdp)) ** 2\n",
    "    gzi = np.min([gzi1,gzi2,gzi3])\n",
    "    # print(gzi1)\n",
    "    # print(gzi2)\n",
    "    # print(gzi3)\n",
    "    # print(gzi)\n",
    "    # print('---')\n",
    "    return gzi"
   ]
  },
  {
   "cell_type": "code",
   "execution_count": 124,
   "metadata": {},
   "outputs": [],
   "source": [
    "def ORLC(mdp:MDP,delta:float):\n",
    "    np.random.seed(10)\n",
    "    n_k = np.zeros((mdp.S,mdp.A))\n",
    "    n_k_p = np.zeros((mdp.S,mdp.A,mdp.S))\n",
    "    r_hat_k = np.zeros((mdp.S,mdp.A))\n",
    "    r_k = np.zeros((mdp.S,mdp.A))\n",
    "    P_k = np.zeros((mdp.S,mdp.A,mdp.S))\n",
    "    V_lower = np.zeros((mdp.H+1,mdp.S))\n",
    "    Q_lower = np.zeros((mdp.H,mdp.S,mdp.A))\n",
    "    V_upper = np.zeros((mdp.H+1,mdp.S))\n",
    "    Q_upper = np.zeros((mdp.H,mdp.S,mdp.A))\n",
    "    gzi = np.zeros((mdp.H,mdp.S,mdp.A))\n",
    "    policy = np.zeros((mdp.H,mdp.S))\n",
    "    epsilon = np.zeros(mdp.K)\n",
    "    experience = []\n",
    "    V_lower[mdp.H] = 0\n",
    "    V_upper[mdp.H] = 0\n",
    "    for k in range(mdp.K):\n",
    "        for h in reversed(range(mdp.H)):\n",
    "            for s in range(mdp.S):\n",
    "                for a in range(mdp.A):\n",
    "                    if h + 1 == mdp.H:\n",
    "                        gzi[h,s,a] = 45*mdp.S*mdp.H**2 * feature_func(n_k[s,a],delta,mdp) **2\n",
    "                        gzi_upper = gzi_upper_(mdp,h,feature_func,n_k,s,a,delta,P_k,V_upper,V_lower)\n",
    "                        Q_upper[h,s,a] = np.max([0,r_k[s,a] + np.sum(P_k[s,a,:]*V_upper[h+1,:]) + gzi_upper])\n",
    "                        Q_upper[h,s,a] = np.min([V_h_max(h,mdp),Q_upper[h,s,a]])\n",
    "                        Q_lower[h,s,a] = np.max([0,r_k[s,a] + np.sum(P_k[s,a]*V_lower[h+1]) - gzi[h,s,a]])\n",
    "                        Q_lower[h,s,a] = np.min([V_h_max(h,mdp),Q_lower[h,s,a]])\n",
    "                    else:\n",
    "                        gzi[h,s,a] = (1 + np.sqrt(12)*V_std(P_k[s,a],V_upper[h+1]) * feature_func(n_k[s,a],delta,mdp)) + 45*mdp.S*mdp.H**2 * feature_func(n_k[s,a],delta,mdp) **2 + 1/mdp.H *np.sum(P_k[s,a]*(V_upper[h+1] - V_lower[h+1]))\n",
    "                        gzi_upper = gzi_upper_(mdp,h,feature_func,n_k,s,a,delta,P_k,V_upper,V_lower)\n",
    "                        Q_upper[h,s,a] = np.max([0,r_k[s,a] + np.sum(P_k[s,a]*V_upper[h+1]) + gzi_upper])\n",
    "                        Q_upper[h,s,a] = np.min([V_h_max(h,mdp),Q_upper[h,s,a]])\n",
    "                        Q_lower[h,s,a] = np.max([0,r_k[s,a] + np.sum(P_k[s,a]*V_lower[h+1]) - gzi[h,s,a]])\n",
    "                        Q_lower[h,s,a] = np.min([V_h_max(h,mdp),Q_lower[h,s,a]])\n",
    "                        # print(Q_upper[h,s,a])\n",
    "        for h in reversed(range(mdp.H)):\n",
    "            for s in range(mdp.S):\n",
    "                # policy[h-1,s] = np.argmax(Q_upper[h-1,s],axis=-1)\n",
    "                max_value = np.max(Q_upper[h,s],axis=-1)\n",
    "                max_indeices = [i for i,value in enumerate(Q_upper[h,s]) if value == max_value]\n",
    "                a = np.random.choice(max_indeices)\n",
    "                policy[h,s] = a\n",
    "                # print(policy[h,s],a)\n",
    "                V_upper[h,s] = Q_upper[h,s,a]\n",
    "                V_lower[h,s] = Q_lower[h,s,a]\n",
    "        epsilon[k] = np.abs(V_upper[0,0] - V_lower[0,0])\n",
    "        s = 0\n",
    "        # experience = []\n",
    "        for h in range(mdp.H):\n",
    "            s_dash,rew = sampler(mdp,policy,s,h)\n",
    "            # experience.append([s,int(policy[h,s]),rew,s_dash])\n",
    "            n_k[s, a] += 1\n",
    "            n_k_p[s, a, s_dash] += 1\n",
    "            r_hat_k[s, a] += rew\n",
    "            r_k[s,a] = r_hat_k[s,a] / n_k[s,a]\n",
    "                # P_k[s, a, s_dash] = n_k_p[s, a, s_dash] / n_k[s, a]\n",
    "            P_k[s,a,:] = n_k_p[s,a,:] / n_k[s,a]\n",
    "            s=s_dash\n",
    "    return policy,epsilon,Q_upper,Q_lower,V_upper,V_lower,r_k,P_k"
   ]
  },
  {
   "cell_type": "code",
   "execution_count": 125,
   "metadata": {},
   "outputs": [],
   "source": [
    "policy,epsilon,Qu,Ql,Vu,Vl,r,P = ORLC(mdp,0.01)"
   ]
  },
  {
   "cell_type": "code",
   "execution_count": 126,
   "metadata": {},
   "outputs": [
    {
     "data": {
      "text/plain": [
       "array([ 1., 31., 31., 31., 31., 31., 31., 31., 31., 31., 31., 31., 31.,\n",
       "       31., 31., 31., 31., 31., 31., 31., 31., 31., 31., 31., 31., 31.,\n",
       "       31., 31., 31., 31., 31., 31., 31., 31., 31., 31., 31., 31., 31.,\n",
       "       31., 31., 31., 31., 31., 31., 31., 31., 31., 31., 31.])"
      ]
     },
     "execution_count": 126,
     "metadata": {},
     "output_type": "execute_result"
    }
   ],
   "source": [
    "epsilon"
   ]
  },
  {
   "cell_type": "code",
   "execution_count": 127,
   "metadata": {},
   "outputs": [
    {
     "data": {
      "text/plain": [
       "array([[0.77132064, 0.02075195, 0.63364823],\n",
       "       [0.74880388, 0.49850701, 0.22479665],\n",
       "       [0.19806286, 0.76053071, 0.16911084],\n",
       "       [0.08833981, 0.68535982, 0.95339335],\n",
       "       [0.00394827, 0.51219226, 0.81262096],\n",
       "       [0.61252607, 0.72175532, 0.29187607]])"
      ]
     },
     "execution_count": 127,
     "metadata": {},
     "output_type": "execute_result"
    }
   ],
   "source": [
    "mdp.rew"
   ]
  },
  {
   "cell_type": "code",
   "execution_count": 128,
   "metadata": {},
   "outputs": [
    {
     "data": {
      "text/plain": [
       "array([[0.45869818, 0.48844094, 0.42214298],\n",
       "       [0.50306127, 0.49078297, 0.43383418],\n",
       "       [0.38370205, 0.37324716, 0.3699841 ],\n",
       "       [0.5626646 , 0.53359543, 0.51441977],\n",
       "       [0.48524248, 0.46369019, 0.48142501],\n",
       "       [0.5626354 , 0.54145882, 0.53243794]])"
      ]
     },
     "execution_count": 128,
     "metadata": {},
     "output_type": "execute_result"
    }
   ],
   "source": [
    "r"
   ]
  },
  {
   "cell_type": "code",
   "execution_count": 133,
   "metadata": {},
   "outputs": [
    {
     "data": {
      "text/plain": [
       "array([0., 1., 2., 0., 0., 1.])"
      ]
     },
     "execution_count": 133,
     "metadata": {},
     "output_type": "execute_result"
    }
   ],
   "source": [
    "policy[0]"
   ]
  },
  {
   "cell_type": "code",
   "execution_count": 130,
   "metadata": {},
   "outputs": [],
   "source": [
    "def Q_iteration(mdp:MDP):\n",
    "    Q = np.zeros((mdp.S,mdp.A))\n",
    "    for s in range(mdp.S):\n",
    "        for a in range(mdp.A):\n",
    "            Q[s,a] = mdp.rew[s,a] + mdp.gamma * np.sum(mdp.P[s,a,:] * np.max(Q,axis=-1))\n",
    "    return Q\n",
    "Q = Q_iteration(mdp)\n",
    "a_index = np.argmax(Q,axis=-1)\n",
    "\n"
   ]
  },
  {
   "cell_type": "code",
   "execution_count": 131,
   "metadata": {},
   "outputs": [
    {
     "data": {
      "text/plain": [
       "array([2, 0, 1, 2, 2, 1])"
      ]
     },
     "execution_count": 131,
     "metadata": {},
     "output_type": "execute_result"
    }
   ],
   "source": [
    "a_index"
   ]
  },
  {
   "cell_type": "code",
   "execution_count": null,
   "metadata": {},
   "outputs": [],
   "source": []
  }
 ],
 "metadata": {
  "kernelspec": {
   "display_name": "syumi-note",
   "language": "python",
   "name": "python3"
  },
  "language_info": {
   "codemirror_mode": {
    "name": "ipython",
    "version": 3
   },
   "file_extension": ".py",
   "mimetype": "text/x-python",
   "name": "python",
   "nbconvert_exporter": "python",
   "pygments_lexer": "ipython3",
   "version": "3.9.0"
  }
 },
 "nbformat": 4,
 "nbformat_minor": 2
}
