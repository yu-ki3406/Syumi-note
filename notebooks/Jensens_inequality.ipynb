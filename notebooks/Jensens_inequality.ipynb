{
 "cells": [
  {
   "attachments": {},
   "cell_type": "markdown",
   "metadata": {},
   "source": [
    "# イェンセンの不等式\n"
   ]
  },
  {
   "attachments": {},
   "cell_type": "markdown",
   "metadata": {},
   "source": [
    "今回は証明などでよく出てくるイェンセンの不等式の説明をコードを用いながら説明していきます，\n",
    "\n",
    "---\n",
    "\n",
    "\n",
    "イェンセンの不等式凸関数に関する不等式であり，次のような式です．．\n",
    "\n",
    "$f$が上に凸な関数であるとき、$X$が確率変数であるとき、次の不等式が成り立ちます。\n",
    "\n",
    "$$\\mathrm{E}[f(X)] \\le f(\\mathrm{E}[X])$$\n",
    "\n",
    "$\\mathrm{E}$ は期待値です．\n",
    "\n",
    "この不等式は，$f$が上に凸な関数の条件が重要です，\n",
    "\n",
    "つまり，確率変数 $X$ に上に凸な関数を適応してから期待値を取ると，期待値を取ってから関数に適応するより，小さくなると主張しています．\n",
    "\n"
   ]
  },
  {
   "attachments": {},
   "cell_type": "markdown",
   "metadata": {},
   "source": [
    "**もし下に凸な関数について考えると，この不等式は逆になります，**"
   ]
  },
  {
   "attachments": {},
   "cell_type": "markdown",
   "metadata": {},
   "source": [
    "---\n",
    "\n",
    "また補足なのですが，イェンセンの不等式は下のように書き換えても同値であることが知られています，\n",
    "\n",
    "$$f(\\lambda x + (1-\\lambda) y) \\geq \\lambda f(x) + (1-\\lambda) f(y)$$\n",
    "\n",
    "ここで，$x$と$y$は上に凸な関数$f(x)$の定義域内の任意の2つの点であり、$0 \\leq \\lambda \\leq 1$です．"
   ]
  },
  {
   "attachments": {},
   "cell_type": "markdown",
   "metadata": {},
   "source": [
    "---"
   ]
  },
  {
   "attachments": {},
   "cell_type": "markdown",
   "metadata": {},
   "source": [
    "早速コードを見ていきましょう．"
   ]
  },
  {
   "attachments": {},
   "cell_type": "markdown",
   "metadata": {},
   "source": [
    "上に凸な関数 $f$ は $log$ を使い，確率変数 $X$ は(1,10]の離散分布を考えます．"
   ]
  },
  {
   "cell_type": "code",
   "execution_count": 31,
   "metadata": {},
   "outputs": [],
   "source": [
    "import numpy as np\n",
    "import matplotlib.pyplot as plt\n",
    "\n",
    "def jensen_inequality(x:np.ndarray,samples:int):\n",
    "    left_eq = np.sum(np.log(x))/samples #左辺\n",
    "    right_eq = np.log(np.sum(x)/samples) #右辺\n",
    "\n",
    "    if left_eq <= right_eq:\n",
    "        print(f'左辺の値:{left_eq}, 右辺の値:{right_eq}')\n",
    "        print('イェンセンは成り立ちます.')\n",
    "    \n",
    "    else:\n",
    "        print(f'左辺の値:{left_eq}, 右辺の値:{right_eq}') \n",
    "        print('間違っています.')\n",
    "\n",
    "\n"
   ]
  },
  {
   "cell_type": "code",
   "execution_count": 32,
   "metadata": {},
   "outputs": [
    {
     "name": "stdout",
     "output_type": "stream",
     "text": [
      "左辺の値:1.4002646551491298, 右辺の値:1.5973653311998313\n",
      "イェンセンは成り立ちます.\n"
     ]
    }
   ],
   "source": [
    "#実験\n",
    "size = 100\n",
    "x = np.random.randint(low=1,high=10,size=size)\n",
    "jensen_inequality(x,size)"
   ]
  },
  {
   "cell_type": "code",
   "execution_count": null,
   "metadata": {},
   "outputs": [],
   "source": []
  }
 ],
 "metadata": {
  "kernelspec": {
   "display_name": "syumi-note",
   "language": "python",
   "name": "python3"
  },
  "language_info": {
   "codemirror_mode": {
    "name": "ipython",
    "version": 3
   },
   "file_extension": ".py",
   "mimetype": "text/x-python",
   "name": "python",
   "nbconvert_exporter": "python",
   "pygments_lexer": "ipython3",
   "version": "3.9.0"
  },
  "orig_nbformat": 4
 },
 "nbformat": 4,
 "nbformat_minor": 2
}
