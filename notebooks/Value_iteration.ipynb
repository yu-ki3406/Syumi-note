{
 "cells": [
  {
   "attachments": {},
   "cell_type": "markdown",
   "metadata": {},
   "source": [
    "# 価値反復法"
   ]
  },
  {
   "attachments": {},
   "cell_type": "markdown",
   "metadata": {},
   "source": [
    "今日は[森村(2019)](https://www.amazon.co.jp/%E5%BC%B7%E5%8C%96%E5%AD%A6%E7%BF%92-%E6%A9%9F%E6%A2%B0%E5%AD%A6%E7%BF%92%E3%83%97%E3%83%AD%E3%83%95%E3%82%A7%E3%83%83%E3%82%B7%E3%83%A7%E3%83%8A%E3%83%AB%E3%82%B7%E3%83%AA%E3%83%BC%E3%82%BA-%E6%A3%AE%E6%9D%91-%E5%93%B2%E9%83%8E/dp/4065155916/ref=sr_1_3?adgrpid=81262430850&gclid=Cj0KCQjwk7ugBhDIARIsAGuvgPYqZnWcQryNTVWKDJT8whZNJ-h73ZqHT6qF2I9bXprKne2GkLHavEIaArExEALw_wcB&hvadid=649107616291&hvdev=c&hvlocphy=1009180&hvnetw=g&hvqmt=e&hvrand=10477133917986279598&hvtargid=kwd-898864963330&hydadcr=15817_13644392&jp-ad-ap=0&keywords=%E5%BC%B7%E5%8C%96%E5%AD%A6%E7%BF%92+%E6%A3%AE%E6%9D%91&qid=1678699533&sr=8-3)の本のp.56に書いてある価値反復法のコードを書いていきたいと思います．\n"
   ]
  },
  {
   "attachments": {},
   "cell_type": "markdown",
   "metadata": {},
   "source": [
    "価値反復法とは動的計画法による解法の一種です．\n",
    "\n",
    "簡潔に説明するならば，ベルマン最適作用素を状態関数に繰り返し適用することで，最適な価値関数になるということです．これについては[森村(2019)](https://www.amazon.co.jp/%E5%BC%B7%E5%8C%96%E5%AD%A6%E7%BF%92-%E6%A9%9F%E6%A2%B0%E5%AD%A6%E7%BF%92%E3%83%97%E3%83%AD%E3%83%95%E3%82%A7%E3%83%83%E3%82%B7%E3%83%A7%E3%83%8A%E3%83%AB%E3%82%B7%E3%83%AA%E3%83%BC%E3%82%BA-%E6%A3%AE%E6%9D%91-%E5%93%B2%E9%83%8E/dp/4065155916/ref=sr_1_3?adgrpid=81262430850&gclid=Cj0KCQjwk7ugBhDIARIsAGuvgPYqZnWcQryNTVWKDJT8whZNJ-h73ZqHT6qF2I9bXprKne2GkLHavEIaArExEALw_wcB&hvadid=649107616291&hvdev=c&hvlocphy=1009180&hvnetw=g&hvqmt=e&hvrand=10477133917986279598&hvtargid=kwd-898864963330&hydadcr=15817_13644392&jp-ad-ap=0&keywords=%E5%BC%B7%E5%8C%96%E5%AD%A6%E7%BF%92+%E6%A3%AE%E6%9D%91&qid=1678699533&sr=8-3)の命題2.3(p.48)に動的計画法の収束性が書いてあります．"
   ]
  },
  {
   "attachments": {},
   "cell_type": "markdown",
   "metadata": {},
   "source": [
    "---"
   ]
  },
  {
   "attachments": {},
   "cell_type": "markdown",
   "metadata": {},
   "source": [
    "ここから価値反復法のアルゴリズムについて説明していきます．\n",
    "\n",
    "最適方策を$\\pi^*$, 最適価値関数を $V^*$ とし，$S,A,p,g,\\gamma$ をそれぞれ状態の数，行動の数，遷移確率，報酬関数，割引率とします．\n",
    "\n",
    "そして価値反復法では学習を終了する条件として更新前の価値関数と更新後の価値観数の差の $\\max$ が $\\epsilon$ だけ小さくなったら終了するようなものなっています．$\\epsilon\\in(0,\\infty)$."
   ]
  },
  {
   "attachments": {},
   "cell_type": "markdown",
   "metadata": {},
   "source": [
    "1. 価値関数 $V$ を初期化\n",
    "2. 価値観数の更新\n",
    "$$\n",
    "V^{'} := \\max_{a\\in A}[ g(s,a) + \\gamma \\sum_{s^{'}\\in S} p(s^{'}|s,a) v(s^{'}) ]$$\n",
    "3. 終了判定 $\\max_{s \\in S}|V(s) - V^{'}(s)| < \\epsilon$ なら, 最適方策\n",
    "$$\n",
    "\\pi^* := \\argmax_{a\\in A}[ g(s,a) + \\gamma \\sum_{s^{'}\\in S} p(s^{'}|s,a) v(s^{'}) ]\n",
    "$$\n",
    "を求めて終了．終了条件に当てはまらない場合は2から繰り返し．\n"
   ]
  },
  {
   "attachments": {},
   "cell_type": "markdown",
   "metadata": {},
   "source": [
    "---\n",
    "\n",
    "コードを書いていきます．"
   ]
  },
  {
   "cell_type": "code",
   "execution_count": 1,
   "metadata": {},
   "outputs": [
    {
     "name": "stdout",
     "output_type": "stream",
     "text": [
      "(5, 3)\n",
      "(5, 3, 5)\n"
     ]
    }
   ],
   "source": [
    "import numpy as np\n",
    "from typing import NamedTuple\n",
    "\n",
    "S = 5 #state_size\n",
    "A = 3  #action_size\n",
    "S_array = np.arange(S) #state_set\n",
    "A_array = np.arange(A) #action_set\n",
    "gamma = 0.99 \n",
    "\n",
    "rew = np.random.rand(S,A) * 10 #報酬\n",
    "\n",
    "P = np.random.rand(S*A, S) #遷移確率\n",
    "P = P / np.sum(P,axis=-1,keepdims=True)\n",
    "P = P.reshape(S,A,S)\n",
    "np.testing.assert_almost_equal(P.sum(axis=-1),1) #確率1になっているか確認\n",
    "\n",
    "# MDPの定義\n",
    "\n",
    "class MDP(NamedTuple):\n",
    "    S_array : np.array\n",
    "    A_array : np.array\n",
    "    gamma : float\n",
    "    rew : np.array\n",
    "    P : np.array\n",
    "\n",
    "    @property\n",
    "    def S(self) -> int:\n",
    "        return len(self.S_array)\n",
    "\n",
    "    @property\n",
    "    def A(self) -> int:\n",
    "        return len(self.A_array)\n",
    "\n",
    "mdp = MDP(S_array,A_array,gamma,rew,P)\n",
    "print(mdp.rew.shape)\n",
    "print(mdp.P.shape)"
   ]
  },
  {
   "cell_type": "code",
   "execution_count": 21,
   "metadata": {},
   "outputs": [],
   "source": [
    "import jax\n",
    "import jax.numpy as jnp\n",
    "\n",
    "@jax.jit\n",
    "def value_iteration(mdp:MDP, v:jnp.ndarray):\n",
    "    S,A = mdp.S,mdp.A\n",
    "    v = v.max(axis = -1)\n",
    "    v_dash = mdp.rew + mdp.gamma * mdp.P @ v\n",
    "\n",
    "    max_action = jnp.zeros((S,A))\n",
    "    max_action = max_action.at[np.arange(S),v_dash.argmax(axis=1)].set(1)\n",
    "    return max_action * v_dash\n",
    "\n"
   ]
  },
  {
   "cell_type": "code",
   "execution_count": 26,
   "metadata": {},
   "outputs": [
    {
     "name": "stderr",
     "output_type": "stream",
     "text": [
      "  4%|▍         | 433/10000 [00:00<00:01, 6016.88it/s]\n"
     ]
    },
    {
     "data": {
      "text/plain": [
       "Text(0.5, 0, 'iteration')"
      ]
     },
     "execution_count": 26,
     "metadata": {},
     "output_type": "execute_result"
    },
    {
     "data": {
      "image/png": "[encoded data removed]",
      "text/plain": [
       "<Figure size 640x480 with 1 Axes>"
      ]
     },
     "metadata": {},
     "output_type": "display_data"
    }
   ],
   "source": [
    "import matplotlib.pyplot as plt\n",
    "from tqdm import tqdm\n",
    "\n",
    "key = jax.random.PRNGKey(0)\n",
    "S,A = mdp.S , mdp.A\n",
    "iteration = 10000\n",
    "errors = []\n",
    "epsilon = 0.1 #閾値\n",
    "v_before = jax.random.uniform(key,shape=[S,A])\n",
    "\n",
    "for i in tqdm(range(iteration)):\n",
    "    v_after = value_iteration(mdp,v_before)\n",
    "\n",
    "    error = np.abs(v_after-v_before).max()\n",
    "    #終了条件\n",
    "\n",
    "    if error < epsilon:\n",
    "        break\n",
    "\n",
    "    errors.append(error)\n",
    "    # v_afterとv_beforeの型は(5,3)になっているがmax_actionをとっているので，ある一列以外の値は0に抑えられている．\n",
    "    v_before = v_after\n",
    "    \n",
    "plt.plot(errors)\n",
    "plt.ylabel('Error')\n",
    "plt.xlabel('iteration')\n",
    "\n"
   ]
  },
  {
   "attachments": {},
   "cell_type": "markdown",
   "metadata": {},
   "source": [
    "更新前と更新後の価値関数の差によって終了していることがわかりますね．\n",
    "そして，教科書に書かれているのですが，最適価値関数と推定価値関数は終了条件の $\\epsilon$ によって抑えられることがわかっています．"
   ]
  },
  {
   "cell_type": "markdown",
   "metadata": {},
   "source": []
  }
 ],
 "metadata": {
  "kernelspec": {
   "display_name": "syumi-note",
   "language": "python",
   "name": "python3"
  },
  "language_info": {
   "codemirror_mode": {
    "name": "ipython",
    "version": 3
   },
   "file_extension": ".py",
   "mimetype": "text/x-python",
   "name": "python",
   "nbconvert_exporter": "python",
   "pygments_lexer": "ipython3",
   "version": "3.9.0"
  },
  "orig_nbformat": 4
 },
 "nbformat": 4,
 "nbformat_minor": 2
}
