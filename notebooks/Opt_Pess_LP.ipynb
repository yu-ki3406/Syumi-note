{
 "cells": [
  {
   "attachments": {},
   "cell_type": "markdown",
   "metadata": {},
   "source": [
    "**[OptPess-LP](https://arxiv.org/pdf/2106.02684.pdf)**\n",
    "---\n",
    "\n",
    "今回は上記の論文について解説していきます。\n",
    "\n",
    "---"
   ]
  },
  {
   "attachments": {},
   "cell_type": "markdown",
   "metadata": {},
   "source": [
    "CMDPについての論文なのですが、CMDPについての事前知識があると想定して進めます。\n",
    "\n"
   ]
  },
  {
   "attachments": {},
   "cell_type": "markdown",
   "metadata": {},
   "source": [
    "まず、この論文では２つのアルゴリズムについて説明しています。\n",
    "\n",
    "\n",
    "---\n",
    "\n",
    "\n",
    "１つ目は**OptPess-LP**です。\n",
    "\n",
    "このアルゴリズムは制約違反しないような方策を事前知識として既知であると仮定して、Violationのregretを0にしています。\n",
    "\n",
    "そして、コストに関してのregretは$\\tilde{\\mathcal{O}}\\left(\\frac{H^3}{\\tau-c^0} \\sqrt{|\\mathcal{S}|^3|\\mathcal{A}| K}\\right)$を達成しています。\n",
    "\n",
    "Hは1エピソードのステップ数、$\\tau$は制約に関してのパラメータ、$c_0$は制約違反しない安全な方策についてのパラメータです。"
   ]
  },
  {
   "attachments": {},
   "cell_type": "markdown",
   "metadata": {},
   "source": [
    "このコストに関してのリグレットを[他の論文](https://arxiv.org/pdf/2003.02189.pdf)に比べると、H倍大きくなってしまっていますが、制約に関してのViolationは高確率で0を満たしてるので、安全なアルゴリズムを使いたいときはいいよねと主張しています。"
   ]
  },
  {
   "attachments": {},
   "cell_type": "markdown",
   "metadata": {},
   "source": [
    "---\n",
    "\n",
    "問題設定\n",
    "---\n",
    "\n"
   ]
  },
  {
   "attachments": {},
   "cell_type": "markdown",
   "metadata": {},
   "source": []
  }
 ],
 "metadata": {
  "language_info": {
   "name": "python"
  },
  "orig_nbformat": 4
 },
 "nbformat": 4,
 "nbformat_minor": 2
}
