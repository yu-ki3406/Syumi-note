{
 "cells": [
  {
   "attachments": {},
   "cell_type": "markdown",
   "metadata": {},
   "source": [
    "# Natural Policy Gradient (NPG)\n",
    "\n",
    "---\n",
    "\n",
    "今回はNPGの解説を行います．\n"
   ]
  },
  {
   "attachments": {},
   "cell_type": "markdown",
   "metadata": {},
   "source": [
    "まず，以下の最適化問題について考えます．\n",
    "\n",
    "$$\n",
    "V^\\pi(\\rho):=\\mathbb{E}_{x_0 \\sim \\rho}\\left[V^\\pi\\left(s_0\\right)\\right],\n",
    "$$\n",
    "\n",
    "$$\n",
    "\\max _{\\theta \\in \\Theta} V^{\\pi_\\theta}(\\rho) \\text {. }\n",
    "$$"
   ]
  },
  {
   "attachments": {},
   "cell_type": "markdown",
   "metadata": {},
   "source": [
    "ここで$\\rho$は初期状態分布です．\n"
   ]
  },
  {
   "attachments": {},
   "cell_type": "markdown",
   "metadata": {},
   "source": [
    "\n",
    "\n",
    "つまり，上の最適化問題の式がconcaveなら，微分して最大化できるパラメータを求めれば良いとなりますね．\n",
    "\n",
    "なので，まずは価値関数の微分を考えていきます．\n",
    "\n"
   ]
  },
  {
   "attachments": {},
   "cell_type": "markdown",
   "metadata": {},
   "source": [
    "まず，履歴$\\tau$を考えます．\n",
    "\n",
    "その履歴に沿った，方策と確率遷移の同時確率の記法を以下に示します．\n",
    "\n",
    "$$\n",
    "\\operatorname{Pr}_\\mu^\\pi(\\tau)=\\mu\\left(s_0\\right) \\pi\\left(a_0 \\mid s_0\\right) P\\left(s_1 \\mid s_0, a_0\\right) \\pi\\left(a_1 \\mid s_1\\right) \\cdots\n",
    "$$"
   ]
  },
  {
   "attachments": {},
   "cell_type": "markdown",
   "metadata": {},
   "source": [
    "割引総報酬和を次のように定義します．\n",
    "\n",
    "$$\n",
    "R(\\tau):=\\sum_{t=0}^{\\infty} \\gamma^t r\\left(s_t, a_t\\right)\n",
    "$$\n",
    "\n",
    "$$\n",
    "V^{\\pi \\theta}(\\mu)=\\mathbb{E}_{\\tau \\sim \\operatorname{Pr}_\\mu^{\\pi_\\theta}}^{\\pi_\\theta}[R(\\tau)] .\n",
    "$$\n",
    "\n",
    "しかしながら，方策で決定的な場合，微分不可になってしまうので，次のように変換して考えます．\n",
    "\n",
    "$$\n",
    "\\pi_\\theta(a \\mid s)=\\frac{\\exp \\left(\\theta_{s, a}\\right)}{\\sum_{a^{\\prime}} \\exp \\left(\\theta_{s, a^{\\prime}}\\right)},\n",
    "$$"
   ]
  },
  {
   "attachments": {},
   "cell_type": "markdown",
   "metadata": {},
   "source": [
    "---"
   ]
  },
  {
   "attachments": {},
   "cell_type": "markdown",
   "metadata": {},
   "source": [
    "ここでなぜNPGを使わなきゃいけないかというと，価値関数がConvex関数にならないようなMDPが存在するためです．\n",
    "\n",
    "NPGはその凸性を確認しなくてもいいので，便利ですね．\n",
    "\n",
    "しかしながら，上の価値関数の定義からわかるように，モンテカルロのような推定をしていますね．\n",
    "\n",
    "その理由は．勾配を計算するのが難しくなってしまうからです．(勾配方向がわからなくなってしまうため)\n",
    "\n",
    "\n",
    "---"
   ]
  },
  {
   "attachments": {
    "image.png": {
     "image/png": "[encoded data removed]"
    }
   },
   "cell_type": "markdown",
   "metadata": {},
   "source": [
    "次のようなMDPを考えます．\n",
    "\n",
    "![image.png](attachment:image.png)"
   ]
  },
  {
   "attachments": {},
   "cell_type": "markdown",
   "metadata": {},
   "source": [
    "報酬は$s_{H+1}$ に到達した時だけ，発生するとします．\n",
    "\n",
    "この場合，各状態にパラメータを持つとすると最大で，$4^{|S|}$個もち，報酬が発生する確率が稀なため，十分な探索が必要になりかつ，勾配が小さいので，勾配消失の問題になりますね．\n",
    "\n",
    "単のPolicy Gradientの場合，勾配が不安定だと，更新が不安定になります．\n",
    "\n",
    "---"
   ]
  },
  {
   "attachments": {},
   "cell_type": "markdown",
   "metadata": {},
   "source": [
    "上のMDPでは探索が重要ですが，上で示した，ソフトマックスで方策を変換すると，決定的な方策に近づくように急激に更新してしまうため，学習の面ではあまり良くないですね．\n",
    "\n",
    "そこでNPGが考えられる前では，正則化項を入れるという考えになりました．\n",
    "\n",
    "正則化項を入れた新しい目的関数は次のようになります．\n",
    "\n",
    "$$\n",
    "\\begin{aligned}\n",
    "L_\\lambda(\\theta) & :=V^{\\pi_\\theta}(\\mu)-\\lambda \\mathbb{E}_{\\boldsymbol{s} \\sim \\mathrm{Unif}_S}\\left[\\mathrm{KL}\\left(\\text { Unif }_{\\mathcal{A}}, \\pi_\\theta(\\cdot \\mid s)\\right)\\right] \\\\\n",
    "& =V^{\\pi_\\theta}(\\mu)+\\frac{\\lambda}{|\\mathcal{S}||\\mathcal{A}|} \\sum_{\\dot{s}, a} \\log \\pi_\\theta(a \\mid s)+\\lambda \\log |\\mathcal{A}|,\n",
    "\\end{aligned}\n",
    "$$"
   ]
  },
  {
   "attachments": {},
   "cell_type": "markdown",
   "metadata": {},
   "source": [
    "このようにすると，パラメータの更新は次のようになります．\n",
    "\n",
    "$$\n",
    "\\theta^{(t+1)}=\\theta^{(t)}+\\eta \\nabla_\\theta L_\\lambda\\left(\\theta^{(t)}\\right) .\n",
    "$$"
   ]
  },
  {
   "attachments": {},
   "cell_type": "markdown",
   "metadata": {},
   "source": [
    "---"
   ]
  },
  {
   "attachments": {},
   "cell_type": "markdown",
   "metadata": {},
   "source": [
    "KL-距離関数で正則化するというアイデアを活かし，更新の安定性や，収束の速さのどを考慮した方法がNPGになります．\n",
    "\n",
    "以降に出てくるフィッシャー行列はKL-距離関数のテーラー展開の2次近似になります，\n"
   ]
  },
  {
   "attachments": {},
   "cell_type": "markdown",
   "metadata": {},
   "source": [
    "フィッシャー行列の定義は次のようになります．\n",
    "\n",
    "$$\n",
    "\\mathcal{F}_\\rho^\\theta:=\\mathbb{E}_{g \\sim d_\\rho^{\\pi_\\theta}} \\mathbb{E}_{a \\sim \\pi_\\theta(\\cdot \\mid s)}\\left[\\left(\\nabla \\log \\pi_\\theta(a \\mid s)\\right) \\nabla \\log \\pi_\\theta(a \\mid s)^{\\top}\\right]\n",
    "$$\n",
    "\n",
    "パラメータの更新則は次のようになります，\n",
    "\n",
    "$$\n",
    "\\theta^{(t+1)}=\\theta^{(t)}+\\eta F_\\rho\\left(\\theta^{(t)}\\right)^{\\dagger} \\nabla_\\theta V^{(t)}(\\rho)\n",
    "$$"
   ]
  },
  {
   "attachments": {},
   "cell_type": "markdown",
   "metadata": {},
   "source": [
    "フィッシャー情報量の定義は\n",
    "$$\n",
    "\\mathcal{F}_\\rho^\\theta:=\\mathbb{E}_{s \\sim d_\\rho^{\\pi_\\theta}} \\mathbb{E}_{a \\sim \\pi_\\theta(\\cdot \\mid s)}\\left[\\left(\\nabla \\log \\pi_\\theta(a \\mid s)\\right) \\nabla \\log \\pi_\\theta(a \\mid s)^{\\top}\\right]\n",
    "$$"
   ]
  },
  {
   "attachments": {},
   "cell_type": "markdown",
   "metadata": {},
   "source": [
    "上記のフィッシャー情報行列はMoore-Penrose擬似逆を使っています．\n",
    "\n",
    "これを使うことによって状態分布の影響を打ち消し，逆行列の計算が楽になります．\n",
    "\n",
    "逆行列の存在性の有無が確認しなくても良くなります．\n",
    "\n"
   ]
  },
  {
   "attachments": {},
   "cell_type": "markdown",
   "metadata": {},
   "source": [
    "パラメータの更新方法は次のように書き換えられて，方策は次のように変換されます．\n",
    "\n",
    "$$\n",
    "\\theta^{(t+1)}=\\theta^{(t)}+\\frac{\\eta}{1-\\gamma} A^{(t)}+\\eta v \\quad \\text { かつ } \\quad \\pi^{(t+1)}(a \\mid s)=\\pi^{(t)}(a \\mid s) \\frac{\\exp \\left(\\eta A^{(t)}(s, a) /(1-\\gamma)\\right)}{Z_t(s)}\n",
    "$$"
   ]
  },
  {
   "attachments": {},
   "cell_type": "markdown",
   "metadata": {},
   "source": [
    "---\n",
    "\n",
    "**最適な価値関数の計算**"
   ]
  },
  {
   "cell_type": "code",
   "execution_count": 2,
   "metadata": {},
   "outputs": [],
   "source": [
    "# MDPの構築\n",
    "\n",
    "import numpy as np\n",
    "import jax\n",
    "import jax.numpy as jnp\n",
    "from typing import NamedTuple,Optional\n",
    "np.random.seed(10)\n",
    "\n",
    "S = 5 # 状態数\n",
    "A = 3 # 行動数\n",
    "S_set = np.arange(S)\n",
    "A_set = np.arange(A)\n",
    "gamma = 0.9 # 割引率\n",
    "\n",
    "rew = np.random.randn(S,A) # 報酬\n",
    "rew = np.array(rew)\n",
    "\n",
    "P = np.random.rand(S,A,S) # 遷移確率\n",
    "P = P.reshape(S*A,S)\n",
    "P = P/np.sum(P,axis=1,keepdims=True) # 正規化\n",
    "P = P.reshape(S,A,S)\n",
    "np.testing.assert_allclose(P.sum(axis=-1), 1, atol=1e-6)\n",
    "\n",
    "class MDP(NamedTuple):\n",
    "    S_set: np.ndarray\n",
    "    A_set: np.ndarray\n",
    "    rew: np.ndarray\n",
    "    P: np.ndarray\n",
    "    gamma: float\n",
    "    H: int\n",
    "    optimal_V: Optional[np.ndarray] = None\n",
    "\n",
    "    @property\n",
    "    def S(self):\n",
    "        return len(self.S_set)\n",
    "\n",
    "    @property\n",
    "    def A(self):\n",
    "        return len(self.A_set)\n",
    "\n",
    "H = int (1/(1-gamma) + 100)\n",
    "mdp = MDP(S_set,A_set,rew,P,gamma,H)"
   ]
  },
  {
   "cell_type": "code",
   "execution_count": 3,
   "metadata": {},
   "outputs": [],
   "source": [
    "from functools import partial\n",
    "\n",
    "@partial(jax.jit,static_argnames=('S','A'))\n",
    "def _optimal_Q(S:int,A:int,mdp:MDP):\n",
    "    Q = jnp.zeros((S,A))\n",
    "\n",
    "    def backup(Q):\n",
    "        V = jnp.max(Q,axis=1)\n",
    "        return mdp.rew + mdp.gamma * jnp.dot(mdp.P,V)\n",
    "    \n",
    "    body_fn = lambda i,Q: backup(Q)\n",
    "    return jax.lax.fori_loop(0,mdp.H,body_fn,Q)\n",
    "\n",
    "compute_optimal_Q = lambda mdp : _optimal_Q(mdp.S,mdp.A,mdp)\n",
    "optimal_Q = compute_optimal_Q(mdp)\n",
    "optimal_V = np.max(optimal_Q,axis=1)\n",
    "mdp = mdp._replace(optimal_V=optimal_V)"
   ]
  },
  {
   "cell_type": "code",
   "execution_count": 4,
   "metadata": {},
   "outputs": [],
   "source": [
    "@partial(jax.jit,static_argnames=('S','A'))\n",
    "def _comupute_policy_Q(S:int,A:int,mdp:MDP,policy:np.ndarray):\n",
    "    Q = jnp.zeros((S,A))\n",
    "    def backup(Q):\n",
    "        max_Q = (policy * Q).sum(axis=1)\n",
    "        next_v = mdp.P @ max_Q\n",
    "        return mdp.rew + mdp.gamma * next_v\n",
    "    body_fn = lambda i,Q:backup(Q)\n",
    "    return jax.lax.fori_loop(0,mdp.H,body_fn,Q)\n",
    "compute_policy_Q = lambda mdp,policy:_comupute_policy_Q(mdp.S,mdp.A,mdp,policy)\n"
   ]
  },
  {
   "cell_type": "code",
   "execution_count": 19,
   "metadata": {},
   "outputs": [
    {
     "name": "stderr",
     "output_type": "stream",
     "text": [
      "100%|██████████| 100000/100000 [00:20<00:00, 4808.15it/s]"
     ]
    },
    {
     "name": "stdout",
     "output_type": "stream",
     "text": [
      "[[7.9401793 7.8497214 7.780638 ]\n",
      " [7.6949606 7.931794  7.789324 ]\n",
      " [7.7100496 7.9122024 7.825548 ]\n",
      " [7.9252543 7.8050566 7.724204 ]\n",
      " [7.8208895 7.846544  8.025346 ]]\n"
     ]
    },
    {
     "name": "stderr",
     "output_type": "stream",
     "text": [
      "\n"
     ]
    }
   ],
   "source": [
    "from jax import grad\n",
    "from tqdm import tqdm\n",
    "def softmax(x):\n",
    "    e_x = jnp.exp(x - jnp.max(x))\n",
    "    return e_x / jnp.sum(e_x)\n",
    "\n",
    "def compute_policy(policy,advantage,learning_rate):\n",
    "    return policy * softmax(learning_rate * advantage/(1- mdp.gamma))\n",
    "\n",
    "\n",
    "def kl_divergence(p,q):\n",
    "    return jnp.sum(p * jnp.log(p/q))\n",
    "\n",
    "def natural_grad(advantage,learning_rate):\n",
    "\n",
    "\n",
    "    return  learning_rate * advantage / (1-mdp.gamma) + learning_rate * 0.1\n",
    "\n",
    "\n",
    "def natural_policy_gradient(learning_rate, num_iterations):\n",
    "    key = jax.random.PRNGKey(0)\n",
    "    params = jax.random.normal(key, (mdp.S, mdp.A))\n",
    "    Q = np.zeros((mdp.S,mdp.A))\n",
    "    policy = np.zeros_like(Q)\n",
    "    advantage = np.zeros_like(Q)\n",
    "\n",
    "    for _ in tqdm(range(num_iterations)):\n",
    "\n",
    "        policy = compute_policy(policy, advantage, learning_rate) \n",
    "        max_Q = (policy * Q).sum(axis=1)\n",
    "        next_v = mdp.P @ max_Q\n",
    "        Q = mdp.rew + mdp.gamma * next_v\n",
    "\n",
    "        advantage = Q - Q.max(axis=1,keepdims=True)\n",
    "\n",
    "\n",
    "        natural_grads = natural_grad(advantage,learning_rate)\n",
    "        params += natural_grads\n",
    "\n",
    "        \n",
    "\n",
    "    return Q\n",
    "\n",
    "learning_rate = 0.8\n",
    "num_iterations = 100000\n",
    "\n",
    "Q = natural_policy_gradient(learning_rate, num_iterations)\n",
    "\n",
    "print(optimal_Q - Q)"
   ]
  },
  {
   "cell_type": "code",
   "execution_count": 17,
   "metadata": {},
   "outputs": [
    {
     "data": {
      "text/plain": [
       "Array([[9.271766 , 8.565001 , 6.235238 ],\n",
       "       [7.686577 , 8.55313  , 7.069238 ],\n",
       "       [7.975561 , 8.020751 , 7.8298397],\n",
       "       [7.750654 , 8.238083 , 8.927241 ],\n",
       "       [6.855824 , 8.874818 , 8.253976 ]], dtype=float32)"
      ]
     },
     "execution_count": 17,
     "metadata": {},
     "output_type": "execute_result"
    }
   ],
   "source": [
    "optimal_Q\n"
   ]
  },
  {
   "cell_type": "code",
   "execution_count": 18,
   "metadata": {},
   "outputs": [
    {
     "data": {
      "text/plain": [
       "Array([[ 1.3315865 ,  0.715279  , -1.5454003 ],\n",
       "       [-0.00838385,  0.621336  , -0.72008556],\n",
       "       [ 0.26551157,  0.10854852,  0.00429143],\n",
       "       [-0.17460021,  0.4330262 ,  1.2030374 ],\n",
       "       [-0.96506566,  1.028274  ,  0.22863013]], dtype=float32)"
      ]
     },
     "execution_count": 18,
     "metadata": {},
     "output_type": "execute_result"
    }
   ],
   "source": [
    "Q"
   ]
  },
  {
   "cell_type": "code",
   "execution_count": null,
   "metadata": {},
   "outputs": [],
   "source": []
  }
 ],
 "metadata": {
  "kernelspec": {
   "display_name": "syumi-note",
   "language": "python",
   "name": "python3"
  },
  "language_info": {
   "codemirror_mode": {
    "name": "ipython",
    "version": 3
   },
   "file_extension": ".py",
   "mimetype": "text/x-python",
   "name": "python",
   "nbconvert_exporter": "python",
   "pygments_lexer": "ipython3",
   "version": "3.9.0"
  },
  "orig_nbformat": 4
 },
 "nbformat": 4,
 "nbformat_minor": 2
}
