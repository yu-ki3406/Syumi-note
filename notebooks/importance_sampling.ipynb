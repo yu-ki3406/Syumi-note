{
 "cells": [
  {
   "attachments": {},
   "cell_type": "markdown",
   "metadata": {},
   "source": [
    "# 重点サンプリング"
   ]
  },
  {
   "attachments": {},
   "cell_type": "markdown",
   "metadata": {},
   "source": [
    "今回は強化学習でもよく使われている**重点サンプリング**について解説していきたいと思います．\n",
    "\n",
    "重点サンプリングとはある分布の期待値を他の分布でデータをとり，期待値を計算する方法です，\n",
    "\n",
    "ピンと来ないので，詳しい説明をしていきます，\n",
    "\n",
    "---\n",
    "\n",
    "まず，一般的にデータから期待値を推定する方法は，下のような式で書けます．\n",
    "\n",
    "推定する期待値を $E_p[x]$ とする．$x$ は 分布 $p$ に従うとする．\n",
    "\n",
    "サンプルn個を分布 $p$ から抽出する． $(x^{(1)}, x^{(2)},...,x^{(n)})$\n",
    "\n",
    "このサンプルを使って期待値を推定すると\n",
    "$$\n",
    "\\hat E_p[x] = \\frac{x^{(1)} + x^{(2)} + ... + x^{(n)}}{n}\n",
    "$$\n",
    "\n",
    "と書けます．\n",
    "\n",
    "---\n"
   ]
  },
  {
   "attachments": {},
   "cell_type": "markdown",
   "metadata": {},
   "source": [
    "重点サンプリングで考えたい問題は上でサンプリングした $x$ が 分布 $p$ ではなく違う分布 $\\mu$ からサンプリングした時の問題を考えます．\n",
    "\n",
    "ここで先ほど定義した推定期待値を書き換えて, $x$ を $\\mu$ からサンプリングしてきたようにしましょう．\n",
    "\n",
    "$$\n",
    "\\hat E_p[x] = \\sum_{i=1}^{n} x^{(i)} p(x^{(i)}) = \\sum_{i=1}^{n} x^{(i)} \\frac{p(x^{(i)})}{\\mu(x^{(i)})} \\mu(x^{(i)}) = \\hat E_\\mu[x\\frac{p(x)}{\\mu(x)}]\n",
    "$$"
   ]
  },
  {
   "attachments": {},
   "cell_type": "markdown",
   "metadata": {},
   "source": [
    "上の式の書き換えを見ると, 期待値は分布 $\\mu$ から取り出されていますね，\n",
    "\n",
    "期待値を取る値を $\\frac{p(x)}{\\mu(x)}$ で重みづけられた $x$ と考えるとできます．\n",
    "\n",
    "つまり, 求めたい期待値のデータにある重みをつければ違う分布での期待値を取ってもいいと言っていますね．\n",
    "\n",
    "ここから，簡略のため $\\frac{p(x)}{\\mu(x)}$ を $\\rho(x)$ とします．\n",
    "\n",
    "重点サンプリングは次のような解釈を持てますね．\n",
    "\n",
    "推定する期待値を $E_p[x]$ とする. $x$ は分布 $p$ に従うとする．\n",
    "\n",
    "サンプルn個を分布 $\\mu$ から抽出する．$(x^{(1)},x^{(2)},...,x^{(n)})$\n",
    "\n",
    "このサンプルを使って期待値を推定すると\n",
    "$$\n",
    "\\hat E_p[x] = \\frac{\\rho(x^{(1)})x^{(1)} + \\rho(x^{(2)})x^{(2)} + ... + \\rho(x^{(n)})x^{(n)}}{n}\n",
    "$$\n",
    "\n",
    "と書けますね．\n",
    "\n",
    "---\n",
    "\n",
    "ここからコードによる解説に入っていきます．\n",
    "\n",
    "まずは1番最初に説明した，\n",
    "\n",
    "$$\n",
    "\\hat E_p[x] = \\frac{x^{(1)} + x^{(2)} + ... + x^{(n)}}{n}\n",
    "$$\n",
    "\n",
    "を求めていきましょう．\n",
    "\n",
    "\n"
   ]
  },
  {
   "cell_type": "code",
   "execution_count": 24,
   "metadata": {},
   "outputs": [
    {
     "data": {
      "text/plain": [
       "<BarContainer object of 3 artists>"
      ]
     },
     "execution_count": 24,
     "metadata": {},
     "output_type": "execute_result"
    },
    {
     "data": {
      "image/png": "[encoded data removed]",
      "text/plain": [
       "<Figure size 640x480 with 1 Axes>"
      ]
     },
     "metadata": {},
     "output_type": "display_data"
    }
   ],
   "source": [
    "import numpy as np\n",
    "import matplotlib.pyplot as plt\n",
    "\n",
    "x = np.array([1,2,3])\n",
    "p = np.array([0.2,0.3,0.5])\n",
    "\n",
    "plt.xlabel('$\\omega$')\n",
    "plt.ylabel('probablity')\n",
    "plt.ylim(0,1)\n",
    "plt.bar(x,p)\n",
    "\n"
   ]
  },
  {
   "attachments": {},
   "cell_type": "markdown",
   "metadata": {},
   "source": [
    "上の分布からデータを100個取ってきて期待値を求めていきます．"
   ]
  },
  {
   "cell_type": "code",
   "execution_count": 25,
   "metadata": {},
   "outputs": [
    {
     "name": "stdout",
     "output_type": "stream",
     "text": [
      "真の期待値:2.3, 推定期待値:2.3, 分散:0.590\n"
     ]
    }
   ],
   "source": [
    "n = 100\n",
    "samples = []\n",
    "\n",
    "for _ in range(n):\n",
    "    sample = np.random.choice(x,p=p)\n",
    "    samples.append(sample)\n",
    "\n",
    "emprical_E = np.mean(samples)\n",
    "var = np.var(samples)\n",
    "E = 1.0 * 0.2 + 2.0 * 0.3 + 3.0 * 0.5\n",
    "print(f'真の期待値:{E}, 推定期待値:{emprical_E}, 分散:{var:.3f}')\n"
   ]
  },
  {
   "attachments": {},
   "cell_type": "markdown",
   "metadata": {},
   "source": [
    "---\n",
    "\n",
    "次に重点サンプリングを使った例を示していきます．\n",
    "\n"
   ]
  },
  {
   "attachments": {},
   "cell_type": "markdown",
   "metadata": {},
   "source": [
    "$$\n",
    "\\hat E_p[x] = \\sum_{i=1}^{n} x^{(i)} p(x^{(i)}) = \\sum_{i=1}^{n} x^{(i)} \\frac{p(x^{(i)})}{\\mu(x^{(i)})} \\mu(x^{(i)}) = \\hat E_\\mu[x\\frac{p(x)}{\\mu(x)}]\n",
    "$$"
   ]
  },
  {
   "cell_type": "code",
   "execution_count": 26,
   "metadata": {},
   "outputs": [
    {
     "data": {
      "text/plain": [
       "<BarContainer object of 3 artists>"
      ]
     },
     "execution_count": 26,
     "metadata": {},
     "output_type": "execute_result"
    },
    {
     "data": {
      "image/png": "[encoded data removed]",
      "text/plain": [
       "<Figure size 640x480 with 1 Axes>"
      ]
     },
     "metadata": {},
     "output_type": "display_data"
    }
   ],
   "source": [
    "mu = [1/3, 1/3, 1/3]\n",
    "\n",
    "plt.xlabel('$\\omega$')\n",
    "plt.ylabel('probablity')\n",
    "plt.ylim(0,1.0)\n",
    "plt.bar(x,mu)"
   ]
  },
  {
   "attachments": {},
   "cell_type": "markdown",
   "metadata": {},
   "source": [
    "上の分布 $\\mu$ からデータを100個取ってきて, 期待値 $E_p$ を求めていきます．\n"
   ]
  },
  {
   "cell_type": "code",
   "execution_count": 28,
   "metadata": {},
   "outputs": [
    {
     "name": "stdout",
     "output_type": "stream",
     "text": [
      "真の期待値:2.3, 推定期待値:2.2110000000000003, 分散:2.813\n"
     ]
    }
   ],
   "source": [
    "samples = []\n",
    "\n",
    "for _ in range(n):\n",
    "    output = np.random.choice(x,p=mu)\n",
    "    #重み計算\n",
    "    rho = p[output-1] / mu[output-1]\n",
    "    samples.append(output * rho)\n",
    "\n",
    "emprical_E = np.mean(samples)\n",
    "var = np.var(samples)\n",
    "print(f'真の期待値:{E}, 推定期待値:{emprical_E}, 分散:{var:.3f}')\n"
   ]
  },
  {
   "attachments": {},
   "cell_type": "markdown",
   "metadata": {},
   "source": [
    "これが重点サンプリングです．\n",
    "\n",
    "しかしながら，分散がとても大きいですね．\n",
    "\n",
    "この分散を減らす方法はサンプリングする分布を元の分布と近くなれば減ると言われています．\n",
    "\n"
   ]
  },
  {
   "cell_type": "code",
   "execution_count": null,
   "metadata": {},
   "outputs": [],
   "source": []
  }
 ],
 "metadata": {
  "kernelspec": {
   "display_name": "syumi-note",
   "language": "python",
   "name": "python3"
  },
  "language_info": {
   "codemirror_mode": {
    "name": "ipython",
    "version": 3
   },
   "file_extension": ".py",
   "mimetype": "text/x-python",
   "name": "python",
   "nbconvert_exporter": "python",
   "pygments_lexer": "ipython3",
   "version": "3.9.0"
  },
  "orig_nbformat": 4
 },
 "nbformat": 4,
 "nbformat_minor": 2
}
