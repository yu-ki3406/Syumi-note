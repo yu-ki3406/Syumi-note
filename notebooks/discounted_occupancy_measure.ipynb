{
 "cells": [
  {
   "attachments": {},
   "cell_type": "markdown",
   "metadata": {},
   "source": [
    "# 割引状態訪問頻度"
   ]
  },
  {
   "attachments": {},
   "cell_type": "markdown",
   "metadata": {},
   "source": [
    "---\n",
    "\n",
    "今回は割引状態訪問頻度について解説していきたいと思います．\n",
    "\n",
    "まず，割引状態訪問頻度の定義から確認していきます．\n",
    "\n",
    "$$\n",
    "{\\rho}_\\pi(s, a) \\stackrel{\\text { def }}{=} \\sum_{t=0}^{\\infty} \\gamma^t P\\left(s_t=s, a_t=a \\mid \\mu_0, \\pi, \\mathcal{T}\\right)\n",
    "$$"
   ]
  },
  {
   "attachments": {},
   "cell_type": "markdown",
   "metadata": {},
   "source": [
    "この式の意味は，方策$\\pi$でどれだけ(s,a)が訪問されたかについての確率です．\n",
    "\n",
    "例えば，この記法は次のような時に使用されます．\n",
    "\n",
    "無限ホライゾンでの割引報酬和$\\eta(\\pi)$について次のように考えます．\n",
    "\n",
    "$$\n",
    "\\eta(\\pi)=\\mathbb{E}_{s_0, a_0, \\ldots}\\left[\\sum_{t=0}^{\\infty} \\gamma^t r\\left(s_t\\right)\\right]\n",
    "$$\n",
    "\n",
    "これを展開すると，本来はこのような式になります．\n",
    "\n",
    "$$\n",
    "\\eta(\\pi)=\\sum_s \\sum_{t=0}^{\\infty} \\gamma^t P\\left(s_t=s \\mid {\\pi}\\right) \\sum_a {\\pi}(a \\mid s) r(s,a) \\\\\n",
    " =\\sum_s \\sum_a \\rho_{{\\pi}}(s,a) r(s,a)\n",
    "\n",
    "$$\n"
   ]
  },
  {
   "attachments": {},
   "cell_type": "markdown",
   "metadata": {},
   "source": [
    "と書けます．便利ですね，"
   ]
  },
  {
   "attachments": {},
   "cell_type": "markdown",
   "metadata": {},
   "source": [
    "---\n",
    "\n",
    "この状態訪問頻度を動的計画法に適用する際のコードを書いていきます．\n",
    "\n",
    "今回は有限ホライゾンを使うので，割引係数$\\gamma$は考えません．"
   ]
  },
  {
   "cell_type": "code",
   "execution_count": 19,
   "metadata": {},
   "outputs": [
    {
     "name": "stdout",
     "output_type": "stream",
     "text": [
      "状態数： 10\n",
      "行動数： 3\n",
      "ホライゾン： 5\n"
     ]
    }
   ],
   "source": [
    "import jax.numpy as jnp\n",
    "import jax\n",
    "import numpy as np\n",
    "from typing import NamedTuple, Optional\n",
    "from jax.random import PRNGKey\n",
    "\n",
    "key = PRNGKey(0)\n",
    "\n",
    "S = 10  # 状態集合のサイズ\n",
    "A = 3  # 行動集合のサイズ\n",
    "S_set = jnp.arange(S)  # 状態集合\n",
    "A_set = jnp.arange(A)  # 行動集合\n",
    "H = 5  # ホライゾン\n",
    "\n",
    "# 報酬行列を適当に作ります\n",
    "key, _ = jax.random.split(key)\n",
    "rew = jax.random.uniform(key=key, shape=(H, S, A))\n",
    "assert rew.shape == (H, S, A)\n",
    "\n",
    "\n",
    "# 遷移確率行列を適当に作ります\n",
    "key, _ = jax.random.split(key)\n",
    "P = jax.random.uniform(key=key, shape=(H, S*A, S))\n",
    "P = P / jnp.sum(P, axis=-1, keepdims=True)  # 正規化して確率にします\n",
    "P = P.reshape(H, S, A, S)\n",
    "np.testing.assert_allclose(P.sum(axis=-1), 1, atol=1e-6)  # ちゃんと確率行列になっているか確認します\n",
    "\n",
    "\n",
    "# 初期状態分布を適当に作ります\n",
    "key, _ = jax.random.split(key)\n",
    "mu = jax.random.uniform(key, shape=(S,))\n",
    "mu = mu / jnp.sum(mu)\n",
    "np.testing.assert_allclose(mu.sum(axis=-1), 1, atol=1e-6)  # ちゃんと確率行列になっているか確認します\n",
    "\n",
    "\n",
    "# 状態集合, 行動集合, 割引率, 報酬行列, 遷移確率行列が準備できたのでMDPのクラスを作ります\n",
    "\n",
    "class MDP(NamedTuple):\n",
    "    S_set: jnp.array  # 状態集合\n",
    "    A_set: jnp.array  # 行動集合\n",
    "    H: int  # ホライゾン\n",
    "    rew: jnp.array  # 報酬行列\n",
    "    P: jnp.array  # 遷移確率行列\n",
    "    mu: jnp.array  # 初期分布\n",
    "    optimal_Q: Optional[jnp.ndarray] = None  # 最適Q値\n",
    "\n",
    "    @property\n",
    "    def S(self) -> int:  # 状態空間のサイズ\n",
    "        return len(self.S_set)\n",
    "\n",
    "    @property\n",
    "    def A(self) -> int:  # 行動空間のサイズ\n",
    "        return len(self.A_set)\n",
    "\n",
    "\n",
    "mdp = MDP(S_set, A_set, H, rew, P, mu)\n",
    "\n",
    "print(\"状態数：\", mdp.S)\n",
    "print(\"行動数：\", mdp.A)\n",
    "print(\"ホライゾン：\", mdp.H)"
   ]
  },
  {
   "cell_type": "code",
   "execution_count": 28,
   "metadata": {},
   "outputs": [],
   "source": [
    "import jax\n",
    "from functools import partial\n",
    "import jax.numpy as jnp\n",
    "\n",
    "@jax.jit\n",
    "def compute_greedy_policy(Q: jnp.ndarray) -> jnp.ndarray:\n",
    "    '''\n",
    "    Q: (Horizon,State,Action)\n",
    "    greedy_policy: (Horizon,State,Action)\n",
    "    '''\n",
    "    greedy_policy: jnp.ndarray = jnp.zeros_like(Q)\n",
    "    H, S, A = Q.shape\n",
    "\n",
    "    def body_fn(i: int, greedy_policy: jnp.ndarray) -> jnp.ndarray:\n",
    "        greedy_policy = greedy_policy.at[i, jnp.arange(S), Q[i].argmax(axis=-1)].set(1)\n",
    "        return greedy_policy\n",
    "    \n",
    "    greedy_policy = jax.lax.fori_loop(0,H,body_fn,greedy_policy)\n",
    "\n",
    "    return greedy_policy\n",
    "\n",
    "\n",
    "def _compute_optimal_Q(mdp:MDP,H:int,S:int,A:int)->jnp.ndarray:\n",
    "    # Initialize the optimal Q function with zeros\n",
    "    optimal_Q = jnp.zeros((H+1,S,A))\n",
    "\n",
    "    def backup(i,optimal_Q):\n",
    "        # Compute the max Q over actions (S,A) -> (S,)\n",
    "        max_Q = optimal_Q[i+1].max(axis=-1)\n",
    "        # Update the Q function\n",
    "        optimal_Q = optimal_Q.at[i].set(mdp.rew[i] + mdp.P[i] @ max_Q)\n",
    "        return optimal_Q\n",
    "    \n",
    "    # Apply the backup to all times\n",
    "    optimal_Q = jax.lax.fori_loop(0,H+1,backup,optimal_Q)\n",
    "    return optimal_Q[:-1]\n",
    "\n",
    "compute_optimal_Q = lambda mdp: _compute_optimal_Q(mdp,mdp.H,mdp.S,mdp.A)\n",
    "\n",
    "@jax.jit\n",
    "def compute_policy_Q(mdp:MDP,policy:jnp.ndarray) -> jnp.ndarray:\n",
    "    H,S,A = policy.shape\n",
    "\n",
    "    def backup(i,policy_Q):\n",
    "        policy_V = mdp.P[i] @ (policy[i+1] * policy_Q[i+1]).sum(axis=-1)\n",
    "        policy_Q = policy_Q.at[i].set(mdp.rew[i] + policy_V)\n",
    "        return policy_Q\n",
    "    \n",
    "    policy_Q = jnp.zeros((H+1,S,A))\n",
    "    policy_Q = jax.lax.fori_loop(0,H,backup,policy_Q)\n",
    "    return policy_Q[:-1]\n",
    "\n",
    "#Policy_matrix　(H,S,SA) each horizon，state about policy\n",
    "@jax.jit\n",
    "def policy_matrix(policy:jnp.ndarray) -> jnp.ndarray:\n",
    "    H,S,A = policy.shape\n",
    "    policy_matrix = jnp.zeros((H,S,S*A))\n",
    "    for h in range(H):\n",
    "        for s in range(S):\n",
    "            policy_matrix = policy_matrix.at[h,s,s*A:(s+1)*A].set(policy[h,s])\n",
    "\n",
    "    return policy_matrix\n",
    "\n",
    "#Visit_occupancy_measure\n",
    "@jax.jit\n",
    "def compute_policy_visit(mdp:MDP,policy:jnp.ndarray,init_dist:jnp.ndarray) -> jnp.ndarray:\n",
    "    H,S,A = policy.shape\n",
    "    _policy_matrix = policy_matrix(policy)\n",
    "    P = mdp.P.reshape(H,S*A,S)\n",
    "\n",
    "    def body_fn(i,visit):\n",
    "        next_visit = visit[i] @ P[i] @ _policy_matrix[i+1]\n",
    "        visit = visit.at[i+1].set(next_visit)\n",
    "\n",
    "        return visit\n",
    "    \n",
    "    visit = jnp.zeros((H+1,S*A))\n",
    "    visit = visit.at[0].set(init_dist @ _policy_matrix[0])\n",
    "    visit = jax.lax.fori_loop(0,H,body_fn,visit)\n",
    "    visit = visit[:-1].reshape(H,S,A)\n",
    "\n",
    "    return visit\n",
    "\n",
    "\n"
   ]
  },
  {
   "cell_type": "code",
   "execution_count": 39,
   "metadata": {},
   "outputs": [
    {
     "name": "stdout",
     "output_type": "stream",
     "text": [
      "最適Q値と最適方策を使ったQ値の差:0.000\n",
      "訪問頻度によるDPとリターンの差:1.262\n",
      "訪問頻度によるDPとリターンの差:1.468\n",
      "訪問頻度によるDPとリターンの差:0.994\n",
      "訪問頻度によるDPとリターンの差:0.797\n",
      "訪問頻度によるDPとリターンの差:0.455\n"
     ]
    }
   ],
   "source": [
    "optimal_Q = compute_optimal_Q(mdp)\n",
    "optimal_V = optimal_Q.max(axis=-1)\n",
    "optimal_policy = compute_greedy_policy(optimal_Q)\n",
    "optimal_policy_Q = compute_policy_Q(mdp,optimal_policy)\n",
    "mdp = mdp._replace(optimal_Q=optimal_Q)\n",
    "print(f'最適Q値と最適方策を使ったQ値の差:{jnp.abs(optimal_Q - optimal_policy_Q).max():.3f}')\n",
    "\n",
    "occuapancy_measure = compute_policy_visit(mdp,optimal_policy,mu)\n",
    "\n",
    "for h in range(H):\n",
    "    occ_policy = (occuapancy_measure * mdp.rew)[h:].sum(axis=0)\n",
    "    return_DP = (optimal_Q[h] * occ_policy[h]).sum()\n",
    "    # print(return_DP.shape,occ_policy.shape)\n",
    "    print(f'訪問頻度によるDPとリターンの差:{np.abs(occ_policy - return_DP).max():.3f}')"
   ]
  },
  {
   "cell_type": "code",
   "execution_count": 1,
   "metadata": {},
   "outputs": [
    {
     "ename": "ModuleNotFoundError",
     "evalue": "jax requires jaxlib to be installed. See https://github.com/google/jax#installation for installation instructions.",
     "output_type": "error",
     "traceback": [
      "\u001b[1;31m---------------------------------------------------------------------------\u001b[0m",
      "\u001b[1;31mModuleNotFoundError\u001b[0m                       Traceback (most recent call last)",
      "File \u001b[1;32mc:\\Users\\y-ichihara\\anaconda3\\envs\\syumi-note\\lib\\site-packages\\jax-0.4.2-py3.9.egg\\jax\\_src\\lib\\__init__.py:25\u001b[0m\n\u001b[0;32m     24\u001b[0m \u001b[39mtry\u001b[39;00m:\n\u001b[1;32m---> 25\u001b[0m   \u001b[39mimport\u001b[39;00m \u001b[39mjaxlib\u001b[39;00m \u001b[39mas\u001b[39;00m \u001b[39mjaxlib\u001b[39;00m\n\u001b[0;32m     26\u001b[0m \u001b[39mexcept\u001b[39;00m \u001b[39mModuleNotFoundError\u001b[39;00m \u001b[39mas\u001b[39;00m err:\n",
      "\u001b[1;31mModuleNotFoundError\u001b[0m: No module named 'jaxlib'",
      "\nThe above exception was the direct cause of the following exception:\n",
      "\u001b[1;31mModuleNotFoundError\u001b[0m                       Traceback (most recent call last)",
      "Cell \u001b[1;32mIn[1], line 1\u001b[0m\n\u001b[1;32m----> 1\u001b[0m \u001b[39mimport\u001b[39;00m \u001b[39mjax\u001b[39;00m\n",
      "File \u001b[1;32mc:\\Users\\y-ichihara\\anaconda3\\envs\\syumi-note\\lib\\site-packages\\jax-0.4.2-py3.9.egg\\jax\\__init__.py:35\u001b[0m\n\u001b[0;32m     30\u001b[0m \u001b[39mdel\u001b[39;00m _cloud_tpu_init\n\u001b[0;32m     32\u001b[0m \u001b[39m# Confusingly there are two things named \"config\": the module and the class.\u001b[39;00m\n\u001b[0;32m     33\u001b[0m \u001b[39m# We want the exported object to be the class, so we first import the module\u001b[39;00m\n\u001b[0;32m     34\u001b[0m \u001b[39m# to make sure a later import doesn't overwrite the class.\u001b[39;00m\n\u001b[1;32m---> 35\u001b[0m \u001b[39mfrom\u001b[39;00m \u001b[39mjax\u001b[39;00m \u001b[39mimport\u001b[39;00m config \u001b[39mas\u001b[39;00m _config_module\n\u001b[0;32m     36\u001b[0m \u001b[39mdel\u001b[39;00m _config_module\n\u001b[0;32m     38\u001b[0m \u001b[39m# Note: import <name> as <name> is required for names to be exported.\u001b[39;00m\n\u001b[0;32m     39\u001b[0m \u001b[39m# See PEP 484 & https://github.com/google/jax/issues/7570\u001b[39;00m\n",
      "File \u001b[1;32mc:\\Users\\y-ichihara\\anaconda3\\envs\\syumi-note\\lib\\site-packages\\jax-0.4.2-py3.9.egg\\jax\\config.py:17\u001b[0m\n\u001b[0;32m      1\u001b[0m \u001b[39m# Copyright 2018 The JAX Authors.\u001b[39;00m\n\u001b[0;32m      2\u001b[0m \u001b[39m#\u001b[39;00m\n\u001b[0;32m      3\u001b[0m \u001b[39m# Licensed under the Apache License, Version 2.0 (the \"License\");\u001b[39;00m\n\u001b[1;32m   (...)\u001b[0m\n\u001b[0;32m     14\u001b[0m \n\u001b[0;32m     15\u001b[0m \u001b[39m# TODO(phawkins): fix users of this alias and delete this file.\u001b[39;00m\n\u001b[1;32m---> 17\u001b[0m \u001b[39mfrom\u001b[39;00m \u001b[39mjax\u001b[39;00m\u001b[39m.\u001b[39;00m\u001b[39m_src\u001b[39;00m\u001b[39m.\u001b[39;00m\u001b[39mconfig\u001b[39;00m \u001b[39mimport\u001b[39;00m config  \u001b[39m# noqa: F401\u001b[39;00m\n",
      "File \u001b[1;32mc:\\Users\\y-ichihara\\anaconda3\\envs\\syumi-note\\lib\\site-packages\\jax-0.4.2-py3.9.egg\\jax\\_src\\config.py:28\u001b[0m\n\u001b[0;32m     25\u001b[0m \u001b[39mimport\u001b[39;00m \u001b[39mwarnings\u001b[39;00m\n\u001b[0;32m     26\u001b[0m \u001b[39mfrom\u001b[39;00m \u001b[39mtyping\u001b[39;00m \u001b[39mimport\u001b[39;00m Any, List, Callable, Hashable, NamedTuple, Iterator, Optional\n\u001b[1;32m---> 28\u001b[0m \u001b[39mfrom\u001b[39;00m \u001b[39mjax\u001b[39;00m\u001b[39m.\u001b[39;00m\u001b[39m_src\u001b[39;00m \u001b[39mimport\u001b[39;00m lib\n\u001b[0;32m     29\u001b[0m \u001b[39mfrom\u001b[39;00m \u001b[39mjax\u001b[39;00m\u001b[39m.\u001b[39;00m\u001b[39m_src\u001b[39;00m\u001b[39m.\u001b[39;00m\u001b[39mlib\u001b[39;00m \u001b[39mimport\u001b[39;00m jax_jit\n\u001b[0;32m     30\u001b[0m \u001b[39mfrom\u001b[39;00m \u001b[39mjax\u001b[39;00m\u001b[39m.\u001b[39;00m\u001b[39m_src\u001b[39;00m\u001b[39m.\u001b[39;00m\u001b[39mlib\u001b[39;00m \u001b[39mimport\u001b[39;00m transfer_guard_lib\n",
      "File \u001b[1;32mc:\\Users\\y-ichihara\\anaconda3\\envs\\syumi-note\\lib\\site-packages\\jax-0.4.2-py3.9.egg\\jax\\_src\\lib\\__init__.py:27\u001b[0m\n\u001b[0;32m     25\u001b[0m   \u001b[39mimport\u001b[39;00m \u001b[39mjaxlib\u001b[39;00m \u001b[39mas\u001b[39;00m \u001b[39mjaxlib\u001b[39;00m\n\u001b[0;32m     26\u001b[0m \u001b[39mexcept\u001b[39;00m \u001b[39mModuleNotFoundError\u001b[39;00m \u001b[39mas\u001b[39;00m err:\n\u001b[1;32m---> 27\u001b[0m   \u001b[39mraise\u001b[39;00m \u001b[39mModuleNotFoundError\u001b[39;00m(\n\u001b[0;32m     28\u001b[0m     \u001b[39m'\u001b[39m\u001b[39mjax requires jaxlib to be installed. See \u001b[39m\u001b[39m'\u001b[39m\n\u001b[0;32m     29\u001b[0m     \u001b[39m'\u001b[39m\u001b[39mhttps://github.com/google/jax#installation for installation instructions.\u001b[39m\u001b[39m'\u001b[39m\n\u001b[0;32m     30\u001b[0m     ) \u001b[39mfrom\u001b[39;00m \u001b[39merr\u001b[39;00m\n\u001b[0;32m     32\u001b[0m \u001b[39mimport\u001b[39;00m jax\u001b[39m.\u001b[39mversion\n\u001b[0;32m     33\u001b[0m \u001b[39mfrom\u001b[39;00m \u001b[39mjax\u001b[39;00m\u001b[39m.\u001b[39;00m\u001b[39mversion\u001b[39;00m \u001b[39mimport\u001b[39;00m _minimum_jaxlib_version \u001b[39mas\u001b[39;00m _minimum_jaxlib_version_str\n",
      "\u001b[1;31mModuleNotFoundError\u001b[0m: jax requires jaxlib to be installed. See https://github.com/google/jax#installation for installation instructions."
     ]
    }
   ],
   "source": [
    "import jax"
   ]
  },
  {
   "cell_type": "code",
   "execution_count": null,
   "metadata": {},
   "outputs": [],
   "source": []
  }
 ],
 "metadata": {
  "kernelspec": {
   "display_name": "syumi-note",
   "language": "python",
   "name": "python3"
  },
  "language_info": {
   "codemirror_mode": {
    "name": "ipython",
    "version": 3
   },
   "file_extension": ".py",
   "mimetype": "text/x-python",
   "name": "python",
   "nbconvert_exporter": "python",
   "pygments_lexer": "ipython3",
   "version": "3.9.0"
  },
  "orig_nbformat": 4
 },
 "nbformat": 4,
 "nbformat_minor": 2
}
