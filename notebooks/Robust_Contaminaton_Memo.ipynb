{
 "cells": [
  {
   "attachments": {},
   "cell_type": "markdown",
   "metadata": {},
   "source": [
    "# $\\sigma$ - Contaminationモデル"
   ]
  },
  {
   "attachments": {},
   "cell_type": "markdown",
   "metadata": {},
   "source": [
    "---"
   ]
  },
  {
   "attachments": {},
   "cell_type": "markdown",
   "metadata": {},
   "source": [
    "今回はロバストMDPをモデルフリー強化学習をする際に使用する$\\sigma$-Contaminationモデルを簡潔に説明をしていきます。\n",
    "\n",
    "まず、ロバストと呼ばれる手続きは実際の状況が理想化された理論モデルからわずかに逸脱した状況でも、その性能が影響を受けにくいとされています。\n",
    "\n",
    "つまり、少数の観測値が多数の証拠を覆すことは決してないという考えです。\n",
    "\n",
    "しかしながら、同時に異なる意見を持つ少数派は理論モデルの改善において重要な情報源となる可能性もあると述べられています。\n",
    "\n",
    "そして、確率比検定は次の場合だと、ロバストではないと述べられています。\n",
    "\n",
    "あるjで$p_1\\left(x_j\\right) / p_0\\left(x_j\\right)$が0もしくは$\\infty$になる場合は$T(x)=\\prod_1^n p_1\\left(x_j\\right) / p_0\\left(x_j\\right)$が乱れる可能性があると言われています。\n",
    "\n",
    "この対処法は0、$\\infty$に行く場合は、何らかの固定した値で代替します。\n",
    "\n",
    "---"
   ]
  },
  {
   "attachments": {},
   "cell_type": "markdown",
   "metadata": {},
   "source": [
    "次のような問題を考えます。\n",
    "\n",
    "$(x, a)$を可測空間とします。\n",
    "\n",
    "$P_0,P_1$はその上で定義された測度です。\n",
    "\n",
    "この$P_0,P_1$の周りに小さな摂動を入れた確率測度を次のように式に書きます。\n",
    "\n",
    "$$\n",
    "\\mathscr{P}_i=\\left\\{Q \\mid Q=\\left(1-\\epsilon_i\\right) P_i+\\epsilon_i H_i, H_i  \\in \\mathcal{H}\\right\\}, \\quad(i=0,1),\n",
    "$$"
   ]
  },
  {
   "attachments": {},
   "cell_type": "markdown",
   "metadata": {},
   "source": [
    "$\\epsilon_i$は0から1の範囲の固定された数です。"
   ]
  },
  {
   "attachments": {},
   "cell_type": "markdown",
   "metadata": {},
   "source": [
    "$\\mathcal{H}$は可測空間のすべての確率分布クラスです。(この意味がよくわからない)"
   ]
  },
  {
   "attachments": {},
   "cell_type": "markdown",
   "metadata": {},
   "source": []
  }
 ],
 "metadata": {
  "language_info": {
   "name": "python"
  },
  "orig_nbformat": 4
 },
 "nbformat": 4,
 "nbformat_minor": 2
}
