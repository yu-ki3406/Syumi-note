{
 "cells": [
  {
   "attachments": {},
   "cell_type": "markdown",
   "metadata": {},
   "source": [
    "# 強化学習のmelowmaxについて"
   ]
  },
  {
   "attachments": {},
   "cell_type": "markdown",
   "metadata": {},
   "source": [
    "今日はこの[論文](https://arxiv.org/abs/1612.05628)について説明していきます．\n",
    "\n",
    "強化学習の更新式は次のように書かれます．\n",
    "\n",
    "$$\n",
    "Q(s,a) \\leftarrow R(s,a) + \\gamma \\sum_{\\hat{s} \\in S} P(s,a,\\hat{s})\\bigotimes_{\\hat{a}} Q(\\hat{s},\\hat{a})\n",
    "$$"
   ]
  },
  {
   "attachments": {},
   "cell_type": "markdown",
   "metadata": {},
   "source": [
    "ここで, $Q$ は状態行動価値関数で, $R$ は報酬関数, $\\gamma$ は $(0,1]$ で $P$ は確率遷移関数とします.\n",
    "\n",
    "ここで問題となってくるのは, $\\bigotimes$ にどんな作用素を持ってくるのかです．\n",
    "\n",
    "見慣れている形(Q学習など)は $\\max$ をとっていますね．\n",
    "\n",
    "ここで色々な作用素の特徴を上の論文に準じて述べていきます．\n",
    "\n",
    "---"
   ]
  },
  {
   "attachments": {},
   "cell_type": "markdown",
   "metadata": {},
   "source": [
    "ここからは $\\mathbf X = x_1 , ..., x_n$ とします．"
   ]
  },
  {
   "attachments": {},
   "cell_type": "markdown",
   "metadata": {},
   "source": [
    "### $\\max$ 作用素について"
   ]
  },
  {
   "attachments": {},
   "cell_type": "markdown",
   "metadata": {},
   "source": [
    "$$\n",
    "\\max{\\mathbf X} = \\max_{i \\in (x_1,...,x_n)}x_i\n",
    "$$"
   ]
  },
  {
   "attachments": {},
   "cell_type": "markdown",
   "metadata": {},
   "source": [
    "この作用素のメリットとしてはnon-expansionということになります．つまり, ある不動店に収束すると保証されます．\n",
    "\n",
    "デメリットは微分ができない, 最大化する部分以外の要素を無視していることです．\n",
    "\n",
    "しかしながら, 実装の容易さやシンプルであることから重宝されていますね．\n"
   ]
  },
  {
   "attachments": {},
   "cell_type": "markdown",
   "metadata": {},
   "source": [
    "---"
   ]
  },
  {
   "attachments": {},
   "cell_type": "markdown",
   "metadata": {},
   "source": [
    "### mean 作用素について"
   ]
  },
  {
   "attachments": {},
   "cell_type": "markdown",
   "metadata": {},
   "source": [
    "$$\n",
    "mean(\\mathbf{X}) = \\frac{1}{n} \\sum_{i=1}^{n} x_i\n",
    "$$"
   ]
  },
  {
   "attachments": {},
   "cell_type": "markdown",
   "metadata": {},
   "source": [
    "この作用素はメリットとしてはnon-expantionでありながら, 微分可能です．\n",
    "\n",
    "しかしながら, 価値が高いものと低いものの判断が平均によって評価しずらくなってしまいます．\n",
    "\n"
   ]
  },
  {
   "attachments": {},
   "cell_type": "markdown",
   "metadata": {},
   "source": [
    "---"
   ]
  },
  {
   "attachments": {},
   "cell_type": "markdown",
   "metadata": {},
   "source": [
    "### ボルツマン作用素について\n",
    "\n",
    "$$\n",
    "boltz_{\\beta}(\\mathbf{X}) = \\frac{\\sum_{i=1}^{n} x_i e^{\\beta x_i}}{\\sum_{i=1}^{n}e^{\\beta x_i}}\n",
    "$$"
   ]
  },
  {
   "attachments": {},
   "cell_type": "markdown",
   "metadata": {},
   "source": [
    "この作用素は微分可能で, 価値が高いものと低いものの区別もしてくれるようになっていますが, non-expantionでないとが知られています．\n",
    "\n",
    "ちなみに $\\beta \\rightarrow \\infty$ で $\\max$ 作用素, $\\beta \\rightarrow 0$ で　$mean$ 作用素と同じ働きをします．"
   ]
  },
  {
   "attachments": {},
   "cell_type": "markdown",
   "metadata": {},
   "source": [
    "---"
   ]
  },
  {
   "attachments": {},
   "cell_type": "markdown",
   "metadata": {},
   "source": [
    "上の論文ではこのボルツマン作用素に似ているものを考えて, かつnon-expantionである作用素を提案することを目的としています．\n",
    "\n",
    "それが $mellowmax$ です．\n",
    "\n",
    "まず式を確認します．\n",
    "\n",
    "---"
   ]
  },
  {
   "attachments": {},
   "cell_type": "markdown",
   "metadata": {},
   "source": [
    "### $mellowmax$ 作用素について"
   ]
  },
  {
   "attachments": {},
   "cell_type": "markdown",
   "metadata": {},
   "source": [
    "$$\n",
    "mm_\\omega\\mathbf(X) = \\frac{log(\\frac{1}{n} \\sum_{i=1}^{n} e^{\\omega x_i})}{\\omega}\n",
    "$$"
   ]
  },
  {
   "attachments": {},
   "cell_type": "markdown",
   "metadata": {},
   "source": [
    "上の作用素はnon-expantionであることが論文中で示されています．"
   ]
  },
  {
   "attachments": {},
   "cell_type": "markdown",
   "metadata": {},
   "source": [
    "---"
   ]
  },
  {
   "attachments": {},
   "cell_type": "markdown",
   "metadata": {},
   "source": [
    "早速コードを書いていきます．"
   ]
  },
  {
   "cell_type": "code",
   "execution_count": 22,
   "metadata": {},
   "outputs": [
    {
     "name": "stdout",
     "output_type": "stream",
     "text": [
      "(100, 10)\n",
      "(100, 10, 100)\n"
     ]
    }
   ],
   "source": [
    "import numpy as np\n",
    "from typing import NamedTuple\n",
    "\n",
    "S = 100 #state_size\n",
    "A = 10  #action_size\n",
    "S_array = np.arange(S) #state_set\n",
    "A_array = np.arange(A) #action_set\n",
    "gamma = 0.99 \n",
    "\n",
    "rew = np.random.rand(S,A) * 10 #報酬\n",
    "\n",
    "P = np.random.rand(S*A, S) #遷移確率\n",
    "P = P / np.sum(P,axis=-1,keepdims=True)\n",
    "P = P.reshape(S,A,S)\n",
    "np.testing.assert_almost_equal(P.sum(axis=-1),1) #確率1になっているか確認\n",
    "\n",
    "# MDPの定義\n",
    "\n",
    "class MDP(NamedTuple):\n",
    "    S_array : np.array\n",
    "    A_array : np.array\n",
    "    gamma : float\n",
    "    rew : np.array\n",
    "    P : np.array\n",
    "\n",
    "    @property\n",
    "    def S(self) -> int:\n",
    "        return len(self.S_array)\n",
    "\n",
    "    @property\n",
    "    def A(self) -> int:\n",
    "        return len(self.A_array)\n",
    "\n",
    "mdp = MDP(S_array,A_array,gamma,rew,P)\n",
    "print(mdp.rew.shape)\n",
    "print(mdp.P.shape)"
   ]
  },
  {
   "cell_type": "code",
   "execution_count": 23,
   "metadata": {},
   "outputs": [],
   "source": [
    "import jax\n",
    "import jax.numpy as jnp\n",
    "from functools import partial\n",
    "\n",
    "\n",
    "# @partial(jax.jit,static_argnames=('q','beta'))\n",
    "@jax.jit\n",
    "def mellowmax_operator(mdp:MDP, q:np.ndarray, beta:float):\n",
    "    S,A = mdp.S,mdp.A\n",
    "    exp_beta_q = jnp.exp(beta*q - (beta*q).max())\n",
    "    pi = exp_beta_q  / np.sum(exp_beta_q,axis=-1,keepdims=True) \n",
    "    \n",
    "    v = (pi * q).sum(axis=1)\n",
    "    P_v = mdp.P @ v\n",
    "\n",
    "    return mdp.rew + mdp.gamma * P_v\n",
    "\n"
   ]
  },
  {
   "cell_type": "code",
   "execution_count": 24,
   "metadata": {},
   "outputs": [
    {
     "data": {
      "text/plain": [
       "<matplotlib.legend.Legend at 0x7fcf13d90250>"
      ]
     },
     "execution_count": 24,
     "metadata": {},
     "output_type": "execute_result"
    },
    {
     "data": {
      "image/png": "[encoded data removed]",
      "text/plain": [
       "<Figure size 640x480 with 1 Axes>"
      ]
     },
     "metadata": {},
     "output_type": "display_data"
    }
   ],
   "source": [
    "import matplotlib.pyplot as plt\n",
    "key = jax.random.PRNGKey(0)\n",
    "\n",
    "S,A = mdp.S, mdp.A\n",
    "\n",
    "betas = [1,10,15,30,100]\n",
    "for beta in betas:\n",
    "    q_before = jax.random.uniform(key = key,shape = (S,A))\n",
    "    errors = []\n",
    "\n",
    "\n",
    "    \n",
    "\n",
    "    for i in range(1000):\n",
    "        q_after = mellowmax_operator(mdp,q_before,beta)\n",
    "        errors.append(np.abs(q_after - q_before).max())\n",
    "\n",
    "        q_before = q_after\n",
    "    plt.plot(errors,label=f'beta = {beta}')\n",
    "\n",
    "plt.ylabel('Bellman_error')\n",
    "plt.xlabel('iteration')\n",
    "plt.legend()"
   ]
  },
  {
   "attachments": {},
   "cell_type": "markdown",
   "metadata": {},
   "source": [
    "収束していますね．"
   ]
  },
  {
   "cell_type": "code",
   "execution_count": null,
   "metadata": {},
   "outputs": [],
   "source": []
  }
 ],
 "metadata": {
  "kernelspec": {
   "display_name": "syumi-note",
   "language": "python",
   "name": "python3"
  },
  "language_info": {
   "codemirror_mode": {
    "name": "ipython",
    "version": 3
   },
   "file_extension": ".py",
   "mimetype": "text/x-python",
   "name": "python",
   "nbconvert_exporter": "python",
   "pygments_lexer": "ipython3",
   "version": "3.9.0"
  },
  "orig_nbformat": 4
 },
 "nbformat": 4,
 "nbformat_minor": 2
}
