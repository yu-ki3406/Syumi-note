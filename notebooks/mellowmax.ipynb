{
 "cells": [
  {
   "attachments": {},
   "cell_type": "markdown",
   "metadata": {},
   "source": [
    "# 強化学習のmelowmaxについて"
   ]
  },
  {
   "attachments": {},
   "cell_type": "markdown",
   "metadata": {},
   "source": [
    "今日はこの[論文](https://arxiv.org/abs/1612.05628)について説明していきます．\n",
    "\n",
    "強化学習の更新式は次のように書かれます．\n",
    "\n",
    "$$\n",
    "Q(s,a) \\leftarrow R(s,a) + \\gamma \\sum_{\\hat{s} \\in S} P(s,a,\\hat{s})\\bigotimes_{\\hat{a}} Q(\\hat{s},\\hat{a})\n",
    "$$"
   ]
  },
  {
   "attachments": {},
   "cell_type": "markdown",
   "metadata": {},
   "source": [
    "ここで, $Q$ は状態行動価値関数で, $R$ は報酬関数, $\\gamma$ は $(0,1]$ で $P$ は確率遷移関数とします.\n",
    "\n",
    "ここで問題となってくるのは, $\\bigotimes$ にどんな作用素を持ってくるのかです．\n",
    "\n",
    "見慣れている形(Q学習など)は $\\max$ をとっていますね．\n",
    "\n",
    "ここで色々な作用素の特徴を上の論文に準じて述べていきます．\n",
    "\n",
    "---"
   ]
  },
  {
   "attachments": {},
   "cell_type": "markdown",
   "metadata": {},
   "source": [
    "ここからは $\\mathbf X = x_1 , ..., x_n$ とします．"
   ]
  },
  {
   "attachments": {},
   "cell_type": "markdown",
   "metadata": {},
   "source": [
    "### $\\max$ 作用素について"
   ]
  },
  {
   "attachments": {},
   "cell_type": "markdown",
   "metadata": {},
   "source": [
    "$$\n",
    "\\max{\\mathbf X} = \\max_{i \\in (x_1,...,x_n)}x_i\n",
    "$$"
   ]
  },
  {
   "attachments": {},
   "cell_type": "markdown",
   "metadata": {},
   "source": [
    "この作用素のメリットとしてはnon-expansionということになります．つまり, ある不動店に収束すると保証されます．\n",
    "\n",
    "デメリットは微分ができない, 最大化する部分以外の要素を無視していることです．\n",
    "\n",
    "しかしながら, 実装の容易さやシンプルであることから重宝されていますね．\n"
   ]
  },
  {
   "attachments": {},
   "cell_type": "markdown",
   "metadata": {},
   "source": [
    "---"
   ]
  },
  {
   "attachments": {},
   "cell_type": "markdown",
   "metadata": {},
   "source": [
    "### mean 作用素について"
   ]
  },
  {
   "attachments": {},
   "cell_type": "markdown",
   "metadata": {},
   "source": [
    "$$\n",
    "mean(\\mathbf{X}) = \\frac{1}{n} \\sum_{i=1}^{n} x_i\n",
    "$$"
   ]
  },
  {
   "attachments": {},
   "cell_type": "markdown",
   "metadata": {},
   "source": [
    "この作用素はメリットとしてはnon-expantionでありながら, 微分可能です．\n",
    "\n",
    "しかしながら, 価値が高いものと低いものの判断が平均によって評価しずらくなってしまいます．\n",
    "\n"
   ]
  },
  {
   "attachments": {},
   "cell_type": "markdown",
   "metadata": {},
   "source": [
    "---"
   ]
  },
  {
   "attachments": {},
   "cell_type": "markdown",
   "metadata": {},
   "source": [
    "### ボルツマン作用素について\n",
    "\n",
    "$$\n",
    "boltz_{\\beta}(\\mathbf{X}) = \\frac{\\sum_{i=1}^{n} x_i e^{\\beta x_i}}{\\sum_{i=1}^{n}e^{\\beta x_i}}\n",
    "$$"
   ]
  },
  {
   "attachments": {},
   "cell_type": "markdown",
   "metadata": {},
   "source": [
    "この作用素は微分可能で, 価値が高いものと低いものの区別もしてくれるようになっていますが, non-expantionでないとが知られています．\n",
    "\n",
    "ちなみに $\\beta \\rightarrow \\infty$ で $\\max$ 作用素, $\\beta \\rightarrow 0$ で　$mean$ 作用素と同じ働きをします．"
   ]
  },
  {
   "attachments": {},
   "cell_type": "markdown",
   "metadata": {},
   "source": [
    "---"
   ]
  },
  {
   "attachments": {},
   "cell_type": "markdown",
   "metadata": {},
   "source": [
    "上の論文ではこのボルツマン作用素に似ているものを考えて, かつnon-expantionである作用素を提案することを目的としています．\n",
    "\n",
    "それが $mellowmax$ です．\n",
    "\n",
    "まず式を確認します．\n",
    "\n",
    "---"
   ]
  },
  {
   "attachments": {},
   "cell_type": "markdown",
   "metadata": {},
   "source": [
    "### $mellowmax$ 作用素について"
   ]
  },
  {
   "attachments": {},
   "cell_type": "markdown",
   "metadata": {},
   "source": [
    "$$\n",
    "mm_\\omega\\mathbf(X) = \\frac{log(\\frac{1}{n} \\sum_{i=1}^{n} e^{\\omega x_i})}{\\omega}\n",
    "$$"
   ]
  },
  {
   "attachments": {},
   "cell_type": "markdown",
   "metadata": {},
   "source": [
    "上の作用素はnon-expantionであることが論文中で示されています．"
   ]
  }
 ],
 "metadata": {
  "language_info": {
   "name": "python"
  },
  "orig_nbformat": 4
 },
 "nbformat": 4,
 "nbformat_minor": 2
}
